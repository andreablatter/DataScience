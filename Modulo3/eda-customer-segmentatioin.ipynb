{
 "cells": [
  {
   "cell_type": "markdown",
   "metadata": {},
   "source": [
    "# ****============ CUSTOMER SEGMENTATION =============****\n",
    "\n",
    "En este cuaderno, exportaré datos e intentaré segmentar a los clientes en un mercado de Brasil utilizando el método de análisis RFM. El objetivo de este proyecto es ayudar al equipo de marketing a determinar su mercado objetivo para ser más específico. Dividiré este cuaderno en las siguientes etapas:\n",
    "\n",
    "    Contexto\n",
    "    Preprocesamiento de datos\n",
    "    Modelado\n",
    "    Conclusión\n",
    "\n",
    "Este cuaderno no es demasiado profundo para discutir la teoría, pero daré razones por las cuales hice estos pasos. ¡Empecemos!\n",
    "1. CONTEXTO\n",
    "\n",
    "Este conjunto de datos es Olist, el mercado más grande de Brasil. Esta información se recopiló en el período 2016-2018. Olist conecta a pequeñas empresas de todo Brasil para ingresar a sus redes de manera muy sencilla simplemente mediante un contrato. Estos empresarios pueden vender sus productos a través de la plataforma Olist y enviarlos directamente a sus clientes con correos que han trabajado igual que Olist.\n",
    "\n",
    "Después de que el cliente compre su producto a Olist, el vendedor recibirá una notificación para cumplir de inmediato con el pedido del cliente. Cuando un cliente recibe un producto, el cliente puede dar una calificación de satisfacción y comentarios relacionados con los servicios prestados por el vendedor a través del correo electrónico enviado.\n",
    "\n",
    "Los datos recopilados están en 9 archivos diferentes, por lo que deben combinarse para obtener todos los datos en función de los parámetros que deseamos. A continuación se muestra un esquema de conexión entre los datos que se utilizarán como punto de referencia al fusionar datos."
   ]
  },
  {
   "cell_type": "markdown",
   "metadata": {},
   "source": [
    "![](https://i.imgur.com/HRhd2Y0.png)"
   ]
  },
  {
   "cell_type": "code",
   "execution_count": null,
   "metadata": {},
   "outputs": [],
   "source": [
    "!pip install yellowbrick"
   ]
  },
  {
   "cell_type": "code",
   "execution_count": 1,
   "metadata": {
    "_cell_guid": "79c7e3d0-c299-4dcb-8224-4455121ee9b0",
    "_uuid": "d629ff2d2480ee46fbb7e2d37f6b5fab8052498a"
   },
   "outputs": [
    {
     "name": "stderr",
     "output_type": "stream",
     "text": [
      "/home/bandrea/anaconda3/lib/python3.7/site-packages/sklearn/utils/deprecation.py:143: FutureWarning: The sklearn.metrics.classification module is  deprecated in version 0.22 and will be removed in version 0.24. The corresponding classes / functions should instead be imported from sklearn.metrics. Anything that cannot be imported from sklearn.metrics is now part of the private API.\n",
      "  warnings.warn(message, FutureWarning)\n"
     ]
    }
   ],
   "source": [
    "#Importing Libraries\n",
    "#Basic libraries\n",
    "import pandas as pd\n",
    "import numpy as np\n",
    "import matplotlib.pyplot as plt\n",
    "import seaborn as sns\n",
    "from scipy import stats\n",
    "\n",
    "#Fetaure Selection\n",
    "from sklearn.preprocessing import StandardScaler, MinMaxScaler, RobustScaler\n",
    "#Modelling Algoritm\n",
    "from sklearn.cluster import KMeans\n",
    "\n",
    "#Model Evaluation\n",
    "from yellowbrick.cluster import SilhouetteVisualizer"
   ]
  },
  {
   "cell_type": "code",
   "execution_count": 2,
   "metadata": {},
   "outputs": [],
   "source": [
    "#Load All The Data\n",
    "olist_orders = pd.read_csv('./olist_orders_dataset.csv')\n",
    "olist_products = pd.read_csv('./olist_products_dataset.csv')\n",
    "olist_items = pd.read_csv('./olist_order_items_dataset.csv')\n",
    "olist_customers = pd.read_csv('./olist_customers_dataset.csv')\n",
    "olist_payments = pd.read_csv('./olist_order_payments_dataset.csv')\n",
    "olist_sellers = pd.read_csv('./olist_sellers_dataset.csv')\n",
    "olist_geolocation = pd.read_csv('./olist_geolocation_dataset.csv')\n",
    "olist_reviews = pd.read_csv('./olist_order_reviews_dataset.csv')\n",
    "olist_product_category_name = pd.read_csv('./product_category_name_translation.csv')"
   ]
  },
  {
   "cell_type": "code",
   "execution_count": 3,
   "metadata": {},
   "outputs": [
    {
     "data": {
      "text/html": [
       "<div>\n",
       "<style scoped>\n",
       "    .dataframe tbody tr th:only-of-type {\n",
       "        vertical-align: middle;\n",
       "    }\n",
       "\n",
       "    .dataframe tbody tr th {\n",
       "        vertical-align: top;\n",
       "    }\n",
       "\n",
       "    .dataframe thead th {\n",
       "        text-align: right;\n",
       "    }\n",
       "</style>\n",
       "<table border=\"1\" class=\"dataframe\">\n",
       "  <thead>\n",
       "    <tr style=\"text-align: right;\">\n",
       "      <th></th>\n",
       "      <th>product_category_name</th>\n",
       "      <th>product_category_name_english</th>\n",
       "    </tr>\n",
       "  </thead>\n",
       "  <tbody>\n",
       "    <tr>\n",
       "      <th>0</th>\n",
       "      <td>beleza_saude</td>\n",
       "      <td>health_beauty</td>\n",
       "    </tr>\n",
       "    <tr>\n",
       "      <th>1</th>\n",
       "      <td>informatica_acessorios</td>\n",
       "      <td>computers_accessories</td>\n",
       "    </tr>\n",
       "    <tr>\n",
       "      <th>2</th>\n",
       "      <td>automotivo</td>\n",
       "      <td>auto</td>\n",
       "    </tr>\n",
       "    <tr>\n",
       "      <th>3</th>\n",
       "      <td>cama_mesa_banho</td>\n",
       "      <td>bed_bath_table</td>\n",
       "    </tr>\n",
       "    <tr>\n",
       "      <th>4</th>\n",
       "      <td>moveis_decoracao</td>\n",
       "      <td>furniture_decor</td>\n",
       "    </tr>\n",
       "  </tbody>\n",
       "</table>\n",
       "</div>"
      ],
      "text/plain": [
       "    product_category_name product_category_name_english\n",
       "0            beleza_saude                 health_beauty\n",
       "1  informatica_acessorios         computers_accessories\n",
       "2              automotivo                          auto\n",
       "3         cama_mesa_banho                bed_bath_table\n",
       "4        moveis_decoracao               furniture_decor"
      ]
     },
     "execution_count": 3,
     "metadata": {},
     "output_type": "execute_result"
    }
   ],
   "source": [
    "olist_product_category_name.head()"
   ]
  },
  {
   "cell_type": "code",
   "execution_count": 4,
   "metadata": {},
   "outputs": [],
   "source": [
    "all_data = olist_orders.merge(olist_items, on='order_id', how='left')\n",
    "all_data = all_data.merge(olist_payments, on='order_id', how='inner')\n",
    "all_data = all_data.merge(olist_reviews, on='order_id', how='inner')\n",
    "all_data = all_data.merge(olist_products, on='product_id', how='inner')\n",
    "all_data = all_data.merge(olist_customers, on='customer_id', how='inner')\n",
    "all_data = all_data.merge(olist_sellers, on='seller_id', how='inner')\n",
    "all_data = all_data.merge(olist_product_category_name,on='product_category_name',how='inner')\n",
    "#all_data = all_data.merge(olist_geolocation, on='seller_zip_code_prefix', how='inner')"
   ]
  },
  {
   "cell_type": "code",
   "execution_count": 5,
   "metadata": {},
   "outputs": [
    {
     "data": {
      "text/plain": [
       "order_id                          0.00\n",
       "customer_id                       0.00\n",
       "order_status                      0.00\n",
       "order_purchase_timestamp          0.00\n",
       "order_approved_at                 0.01\n",
       "order_delivered_carrier_date      1.04\n",
       "order_delivered_customer_date     2.16\n",
       "order_estimated_delivery_date     0.00\n",
       "order_item_id                     0.00\n",
       "product_id                        0.00\n",
       "seller_id                         0.00\n",
       "shipping_limit_date               0.00\n",
       "price                             0.00\n",
       "freight_value                     0.00\n",
       "payment_sequential                0.00\n",
       "payment_type                      0.00\n",
       "payment_installments              0.00\n",
       "payment_value                     0.00\n",
       "review_id                         0.00\n",
       "review_score                      0.00\n",
       "review_comment_title             87.99\n",
       "review_comment_message           57.22\n",
       "review_creation_date              0.00\n",
       "review_answer_timestamp           0.00\n",
       "product_category_name             0.00\n",
       "product_name_lenght               0.00\n",
       "product_description_lenght        0.00\n",
       "product_photos_qty                0.00\n",
       "product_weight_g                  0.00\n",
       "product_length_cm                 0.00\n",
       "product_height_cm                 0.00\n",
       "product_width_cm                  0.00\n",
       "customer_unique_id                0.00\n",
       "customer_zip_code_prefix          0.00\n",
       "customer_city                     0.00\n",
       "customer_state                    0.00\n",
       "seller_zip_code_prefix            0.00\n",
       "seller_city                       0.00\n",
       "seller_state                      0.00\n",
       "product_category_name_english     0.00\n",
       "dtype: float64"
      ]
     },
     "execution_count": 5,
     "metadata": {},
     "output_type": "execute_result"
    }
   ],
   "source": [
    "#Vea qué porcentaje de datos está en blanco en cada columna\n",
    "round((all_data.isnull().sum()/ len(all_data)*100),2)"
   ]
  },
  {
   "cell_type": "code",
   "execution_count": 6,
   "metadata": {},
   "outputs": [
    {
     "name": "stdout",
     "output_type": "stream",
     "text": [
      "<class 'pandas.core.frame.DataFrame'>\n",
      "Int64Index: 116581 entries, 0 to 116580\n",
      "Data columns (total 40 columns):\n",
      " #   Column                         Non-Null Count   Dtype  \n",
      "---  ------                         --------------   -----  \n",
      " 0   order_id                       116581 non-null  object \n",
      " 1   customer_id                    116581 non-null  object \n",
      " 2   order_status                   116581 non-null  object \n",
      " 3   order_purchase_timestamp       116581 non-null  object \n",
      " 4   order_approved_at              116567 non-null  object \n",
      " 5   order_delivered_carrier_date   115368 non-null  object \n",
      " 6   order_delivered_customer_date  114066 non-null  object \n",
      " 7   order_estimated_delivery_date  116581 non-null  object \n",
      " 8   order_item_id                  116581 non-null  float64\n",
      " 9   product_id                     116581 non-null  object \n",
      " 10  seller_id                      116581 non-null  object \n",
      " 11  shipping_limit_date            116581 non-null  object \n",
      " 12  price                          116581 non-null  float64\n",
      " 13  freight_value                  116581 non-null  float64\n",
      " 14  payment_sequential             116581 non-null  int64  \n",
      " 15  payment_type                   116581 non-null  object \n",
      " 16  payment_installments           116581 non-null  int64  \n",
      " 17  payment_value                  116581 non-null  float64\n",
      " 18  review_id                      116581 non-null  object \n",
      " 19  review_score                   116581 non-null  int64  \n",
      " 20  review_comment_title           13996 non-null   object \n",
      " 21  review_comment_message         49878 non-null   object \n",
      " 22  review_creation_date           116581 non-null  object \n",
      " 23  review_answer_timestamp        116581 non-null  object \n",
      " 24  product_category_name          116581 non-null  object \n",
      " 25  product_name_lenght            116581 non-null  float64\n",
      " 26  product_description_lenght     116581 non-null  float64\n",
      " 27  product_photos_qty             116581 non-null  float64\n",
      " 28  product_weight_g               116580 non-null  float64\n",
      " 29  product_length_cm              116580 non-null  float64\n",
      " 30  product_height_cm              116580 non-null  float64\n",
      " 31  product_width_cm               116580 non-null  float64\n",
      " 32  customer_unique_id             116581 non-null  object \n",
      " 33  customer_zip_code_prefix       116581 non-null  int64  \n",
      " 34  customer_city                  116581 non-null  object \n",
      " 35  customer_state                 116581 non-null  object \n",
      " 36  seller_zip_code_prefix         116581 non-null  int64  \n",
      " 37  seller_city                    116581 non-null  object \n",
      " 38  seller_state                   116581 non-null  object \n",
      " 39  product_category_name_english  116581 non-null  object \n",
      "dtypes: float64(11), int64(5), object(24)\n",
      "memory usage: 36.5+ MB\n"
     ]
    }
   ],
   "source": [
    "# Viendo la información en los datos tanto el número de columnas, como la entrada a la memoria\n",
    "all_data.info()"
   ]
  },
  {
   "cell_type": "code",
   "execution_count": null,
   "metadata": {},
   "outputs": [],
   "source": [
    "all_data.to_csv('./csegmentation.csv')"
   ]
  },
  {
   "cell_type": "markdown",
   "metadata": {},
   "source": [
    "# ** 2. PREPROCESAMIENTO DE DATOS **\n",
    "\n",
    "En esta etapa, dejaremos los datos fuera del ruido / ruido (entradas en blanco, valores atípicos, etc.) para que los datos que se ingresen en el modelo estén limpios y listos para el modelado."
   ]
  },
  {
   "cell_type": "markdown",
   "metadata": {},
   "source": [
    "## ** 2.1 Manejo variable **\n",
    "\n",
    "Esta etapa tiene como objetivo ajustar los tipos de datos en función de su entrada y también eliminar la duplicación de los datos que tenemos\n",
    "\n"
   ]
  },
  {
   "cell_type": "code",
   "execution_count": 7,
   "metadata": {
    "scrolled": false
   },
   "outputs": [
    {
     "name": "stdout",
     "output_type": "stream",
     "text": [
      "                                order_id                       customer_id  \\\n",
      "0       e481f51cbdc54678b7cc49136f2d6af7  9ef432eb6251297304e76186b10a928d   \n",
      "1       e481f51cbdc54678b7cc49136f2d6af7  9ef432eb6251297304e76186b10a928d   \n",
      "2       e481f51cbdc54678b7cc49136f2d6af7  9ef432eb6251297304e76186b10a928d   \n",
      "3       128e10d95713541c87cd1a2e48201934  a20e8105f23924cd00833fd87daa0831   \n",
      "4       0e7e841ddf8f8f2de2bad69267ecfbcf  26c7ac168e1433912a51b924fbd34d34   \n",
      "...                                  ...                               ...   \n",
      "116576  442a41b00a8a8bda35511fdf1eb65cc5  e42e2e8642f9c09100b6667e321c2811   \n",
      "116577  1dbff949801376b8795a093d31cfe205  0cbd2df3d6e9d8b1eaf5cfefc44886bc   \n",
      "116578  6775b950cdc4da0ce39b261032f92c84  c4d135422be0d4333f506acde8af9419   \n",
      "116579  73d60420cd1a179b2d8887d538efe4c2  65d9213dfa004c17dc126503e106e4a3   \n",
      "116580  f5cf5716413185387030a378bdd46ebe  ff95df9a387c8d032a2ca6887cf77236   \n",
      "\n",
      "       order_status order_purchase_timestamp    order_approved_at  \\\n",
      "0         delivered      2017-10-02 10:56:33  2017-10-02 11:07:15   \n",
      "1         delivered      2017-10-02 10:56:33  2017-10-02 11:07:15   \n",
      "2         delivered      2017-10-02 10:56:33  2017-10-02 11:07:15   \n",
      "3         delivered      2017-08-15 18:29:31  2017-08-15 20:05:16   \n",
      "4         delivered      2017-08-02 18:24:47  2017-08-02 18:43:15   \n",
      "...             ...                      ...                  ...   \n",
      "116576     invoiced      2018-07-11 22:27:32  2018-07-11 22:45:43   \n",
      "116577    delivered      2018-05-16 14:50:54  2018-05-16 15:18:42   \n",
      "116578    delivered      2018-06-13 12:19:26  2018-06-13 17:39:14   \n",
      "116579    delivered      2018-08-07 10:52:58  2018-08-07 11:05:18   \n",
      "116580   processing      2017-02-19 22:31:47  2017-02-19 22:45:13   \n",
      "\n",
      "       order_delivered_carrier_date order_delivered_customer_date  \\\n",
      "0               2017-10-04 19:55:00           2017-10-10 21:25:13   \n",
      "1               2017-10-04 19:55:00           2017-10-10 21:25:13   \n",
      "2               2017-10-04 19:55:00           2017-10-10 21:25:13   \n",
      "3               2017-08-17 15:28:33           2017-08-18 14:44:43   \n",
      "4               2017-08-04 17:35:43           2017-08-07 18:30:01   \n",
      "...                             ...                           ...   \n",
      "116576                          NaN                           NaN   \n",
      "116577          2018-05-18 12:10:00           2018-05-21 17:14:08   \n",
      "116578          2018-06-15 13:09:00           2018-06-16 17:48:30   \n",
      "116579          2018-08-08 08:31:00           2018-08-22 17:02:23   \n",
      "116580                          NaN                           NaN   \n",
      "\n",
      "       order_estimated_delivery_date  order_item_id  \\\n",
      "0                2017-10-18 00:00:00            1.0   \n",
      "1                2017-10-18 00:00:00            1.0   \n",
      "2                2017-10-18 00:00:00            1.0   \n",
      "3                2017-08-28 00:00:00            1.0   \n",
      "4                2017-08-15 00:00:00            1.0   \n",
      "...                              ...            ...   \n",
      "116576           2018-07-20 00:00:00            1.0   \n",
      "116577           2018-05-28 00:00:00            1.0   \n",
      "116578           2018-06-28 00:00:00            1.0   \n",
      "116579           2018-09-04 00:00:00            1.0   \n",
      "116580           2017-03-21 00:00:00            1.0   \n",
      "\n",
      "                              product_id  ... product_height_cm  \\\n",
      "0       87285b34884572647811a353c7ac498a  ...               8.0   \n",
      "1       87285b34884572647811a353c7ac498a  ...               8.0   \n",
      "2       87285b34884572647811a353c7ac498a  ...               8.0   \n",
      "3       87285b34884572647811a353c7ac498a  ...               8.0   \n",
      "4       87285b34884572647811a353c7ac498a  ...               8.0   \n",
      "...                                  ...  ...               ...   \n",
      "116576  5b668636d65ddf4e4109c6d8fb13ea56  ...               2.0   \n",
      "116577  90797f195eb7bb9dae050697a25f35ce  ...               2.0   \n",
      "116578  3e72533d34a1779d818ac8a73403387c  ...               2.0   \n",
      "116579  078b7149a32b479d3cbf1649fea0172c  ...              14.0   \n",
      "116580  a853bf1a5f8d9f04f5df123168164720  ...               9.0   \n",
      "\n",
      "       product_width_cm                customer_unique_id  \\\n",
      "0                  13.0  7c396fd4830fd04220f754e42b4e5bff   \n",
      "1                  13.0  7c396fd4830fd04220f754e42b4e5bff   \n",
      "2                  13.0  7c396fd4830fd04220f754e42b4e5bff   \n",
      "3                  13.0  3a51803cc0d012c3b5dc8b7528cb05f7   \n",
      "4                  13.0  ef0996a1a279c26e7ecbd737be23d235   \n",
      "...                 ...                               ...   \n",
      "116576             30.0  f84487fed78baf25458828c99a2daa5d   \n",
      "116577             23.0  1de8fb735d8252498d9a2f82a68c57e0   \n",
      "116578             23.0  5f684afb3d1a02f2787e80cb0eee6e02   \n",
      "116579             16.0  78275e95a4296105923051e0ad4577b3   \n",
      "116580             18.0  5166dddbe02c6e2279cd1305a88b0c99   \n",
      "\n",
      "        customer_zip_code_prefix   customer_city customer_state  \\\n",
      "0                           3149       sao paulo             SP   \n",
      "1                           3149       sao paulo             SP   \n",
      "2                           3149       sao paulo             SP   \n",
      "3                           3366       sao paulo             SP   \n",
      "4                           2290       sao paulo             SP   \n",
      "...                          ...             ...            ...   \n",
      "116576                      3402       sao paulo             SP   \n",
      "116577                      9411  ribeirao pires             SP   \n",
      "116578                      2927       sao paulo             SP   \n",
      "116579                     65700         bacabal             MA   \n",
      "116580                     35519    nova serrana             MG   \n",
      "\n",
      "        seller_zip_code_prefix     seller_city seller_state  \\\n",
      "0                         9350            maua           SP   \n",
      "1                         9350            maua           SP   \n",
      "2                         9350            maua           SP   \n",
      "3                         9350            maua           SP   \n",
      "4                         9350            maua           SP   \n",
      "...                        ...             ...          ...   \n",
      "116576                    5201       sao paulo           SP   \n",
      "116577                    5201       sao paulo           SP   \n",
      "116578                    5201       sao paulo           SP   \n",
      "116579                   22745  rio de janeiro           RJ   \n",
      "116580                    1309       sao paulo           SP   \n",
      "\n",
      "        product_category_name_english  \n",
      "0                          housewares  \n",
      "1                          housewares  \n",
      "2                          housewares  \n",
      "3                          housewares  \n",
      "4                          housewares  \n",
      "...                               ...  \n",
      "116576                 books_imported  \n",
      "116577                 books_imported  \n",
      "116578                 books_imported  \n",
      "116579                 books_imported  \n",
      "116580                 books_imported  \n",
      "\n",
      "[116581 rows x 40 columns]\n"
     ]
    },
    {
     "ename": "ValueError",
     "evalue": "to assemble mappings requires at least that [year, month, day] be specified: [day,month,year] is missing",
     "output_type": "error",
     "traceback": [
      "\u001b[0;31m---------------------------------------------------------------------------\u001b[0m",
      "\u001b[0;31mValueError\u001b[0m                                Traceback (most recent call last)",
      "\u001b[0;32m<ipython-input-7-a6137b724357>\u001b[0m in \u001b[0;36m<module>\u001b[0;34m\u001b[0m\n\u001b[1;32m      1\u001b[0m \u001b[0;32mfrom\u001b[0m \u001b[0mpreprocesamiento\u001b[0m \u001b[0;32mimport\u001b[0m \u001b[0mpreprocesa\u001b[0m\u001b[0;34m\u001b[0m\u001b[0;34m\u001b[0m\u001b[0m\n\u001b[0;32m----> 2\u001b[0;31m \u001b[0mall_data2\u001b[0m\u001b[0;34m=\u001b[0m \u001b[0mpreprocesa\u001b[0m\u001b[0;34m(\u001b[0m\u001b[0mall_data\u001b[0m\u001b[0;34m)\u001b[0m\u001b[0;34m\u001b[0m\u001b[0;34m\u001b[0m\u001b[0m\n\u001b[0m",
      "\u001b[0;32m~/Documents/repos/DataScience/Modulo3/preprocesamiento.py\u001b[0m in \u001b[0;36mpreprocesa\u001b[0;34m(df)\u001b[0m\n\u001b[1;32m     20\u001b[0m \u001b[0;34m\u001b[0m\u001b[0m\n\u001b[1;32m     21\u001b[0m     \u001b[0;32mfor\u001b[0m \u001b[0mcol\u001b[0m \u001b[0;32min\u001b[0m \u001b[0mdate_columns\u001b[0m\u001b[0;34m:\u001b[0m\u001b[0;34m\u001b[0m\u001b[0;34m\u001b[0m\u001b[0m\n\u001b[0;32m---> 22\u001b[0;31m        \u001b[0mdf\u001b[0m\u001b[0;34m[\u001b[0m\u001b[0mcol\u001b[0m\u001b[0;34m]\u001b[0m \u001b[0;34m=\u001b[0m \u001b[0mpd\u001b[0m\u001b[0;34m.\u001b[0m\u001b[0mto_datetime\u001b[0m\u001b[0;34m(\u001b[0m\u001b[0mdf\u001b[0m\u001b[0;34m[\u001b[0m\u001b[0mdate_columns\u001b[0m\u001b[0;34m]\u001b[0m\u001b[0;34m,\u001b[0m \u001b[0mformat\u001b[0m\u001b[0;34m=\u001b[0m\u001b[0;34m'%Y-%m-%d %H:%M:%S'\u001b[0m\u001b[0;34m,\u001b[0m \u001b[0myearfirst\u001b[0m\u001b[0;34m=\u001b[0m\u001b[0;32mTrue\u001b[0m\u001b[0;34m,\u001b[0m \u001b[0merrors\u001b[0m\u001b[0;34m=\u001b[0m\u001b[0;34m'coerce'\u001b[0m\u001b[0;34m)\u001b[0m\u001b[0;34m\u001b[0m\u001b[0;34m\u001b[0m\u001b[0m\n\u001b[0m\u001b[1;32m     23\u001b[0m \u001b[0;34m\u001b[0m\u001b[0m\n\u001b[1;32m     24\u001b[0m     \u001b[0;31m#, yearfirst=True, errors='coerce'\u001b[0m\u001b[0;34m\u001b[0m\u001b[0;34m\u001b[0m\u001b[0;34m\u001b[0m\u001b[0m\n",
      "\u001b[0;32m~/anaconda3/lib/python3.7/site-packages/pandas/core/tools/datetimes.py\u001b[0m in \u001b[0;36mto_datetime\u001b[0;34m(arg, errors, dayfirst, yearfirst, utc, format, exact, unit, infer_datetime_format, origin, cache)\u001b[0m\n\u001b[1;32m    729\u001b[0m             \u001b[0mresult\u001b[0m \u001b[0;34m=\u001b[0m \u001b[0marg\u001b[0m\u001b[0;34m.\u001b[0m\u001b[0m_constructor\u001b[0m\u001b[0;34m(\u001b[0m\u001b[0mvalues\u001b[0m\u001b[0;34m,\u001b[0m \u001b[0mindex\u001b[0m\u001b[0;34m=\u001b[0m\u001b[0marg\u001b[0m\u001b[0;34m.\u001b[0m\u001b[0mindex\u001b[0m\u001b[0;34m,\u001b[0m \u001b[0mname\u001b[0m\u001b[0;34m=\u001b[0m\u001b[0marg\u001b[0m\u001b[0;34m.\u001b[0m\u001b[0mname\u001b[0m\u001b[0;34m)\u001b[0m\u001b[0;34m\u001b[0m\u001b[0;34m\u001b[0m\u001b[0m\n\u001b[1;32m    730\u001b[0m     \u001b[0;32melif\u001b[0m \u001b[0misinstance\u001b[0m\u001b[0;34m(\u001b[0m\u001b[0marg\u001b[0m\u001b[0;34m,\u001b[0m \u001b[0;34m(\u001b[0m\u001b[0mABCDataFrame\u001b[0m\u001b[0;34m,\u001b[0m \u001b[0mabc\u001b[0m\u001b[0;34m.\u001b[0m\u001b[0mMutableMapping\u001b[0m\u001b[0;34m)\u001b[0m\u001b[0;34m)\u001b[0m\u001b[0;34m:\u001b[0m\u001b[0;34m\u001b[0m\u001b[0;34m\u001b[0m\u001b[0m\n\u001b[0;32m--> 731\u001b[0;31m         \u001b[0mresult\u001b[0m \u001b[0;34m=\u001b[0m \u001b[0m_assemble_from_unit_mappings\u001b[0m\u001b[0;34m(\u001b[0m\u001b[0marg\u001b[0m\u001b[0;34m,\u001b[0m \u001b[0merrors\u001b[0m\u001b[0;34m,\u001b[0m \u001b[0mtz\u001b[0m\u001b[0;34m)\u001b[0m\u001b[0;34m\u001b[0m\u001b[0;34m\u001b[0m\u001b[0m\n\u001b[0m\u001b[1;32m    732\u001b[0m     \u001b[0;32melif\u001b[0m \u001b[0misinstance\u001b[0m\u001b[0;34m(\u001b[0m\u001b[0marg\u001b[0m\u001b[0;34m,\u001b[0m \u001b[0mABCIndexClass\u001b[0m\u001b[0;34m)\u001b[0m\u001b[0;34m:\u001b[0m\u001b[0;34m\u001b[0m\u001b[0;34m\u001b[0m\u001b[0m\n\u001b[1;32m    733\u001b[0m         \u001b[0mcache_array\u001b[0m \u001b[0;34m=\u001b[0m \u001b[0m_maybe_cache\u001b[0m\u001b[0;34m(\u001b[0m\u001b[0marg\u001b[0m\u001b[0;34m,\u001b[0m \u001b[0mformat\u001b[0m\u001b[0;34m,\u001b[0m \u001b[0mcache\u001b[0m\u001b[0;34m,\u001b[0m \u001b[0mconvert_listlike\u001b[0m\u001b[0;34m)\u001b[0m\u001b[0;34m\u001b[0m\u001b[0;34m\u001b[0m\u001b[0m\n",
      "\u001b[0;32m~/anaconda3/lib/python3.7/site-packages/pandas/core/tools/datetimes.py\u001b[0m in \u001b[0;36m_assemble_from_unit_mappings\u001b[0;34m(arg, errors, tz)\u001b[0m\n\u001b[1;32m    830\u001b[0m         \u001b[0mrequired\u001b[0m \u001b[0;34m=\u001b[0m \u001b[0;34m\",\"\u001b[0m\u001b[0;34m.\u001b[0m\u001b[0mjoin\u001b[0m\u001b[0;34m(\u001b[0m\u001b[0mreq\u001b[0m\u001b[0;34m)\u001b[0m\u001b[0;34m\u001b[0m\u001b[0;34m\u001b[0m\u001b[0m\n\u001b[1;32m    831\u001b[0m         raise ValueError(\n\u001b[0;32m--> 832\u001b[0;31m             \u001b[0;34m\"to assemble mappings requires at least that \"\u001b[0m\u001b[0;34m\u001b[0m\u001b[0;34m\u001b[0m\u001b[0m\n\u001b[0m\u001b[1;32m    833\u001b[0m             \u001b[0;34mf\"[year, month, day] be specified: [{required}] \"\u001b[0m\u001b[0;34m\u001b[0m\u001b[0;34m\u001b[0m\u001b[0m\n\u001b[1;32m    834\u001b[0m             \u001b[0;34m\"is missing\"\u001b[0m\u001b[0;34m\u001b[0m\u001b[0;34m\u001b[0m\u001b[0m\n",
      "\u001b[0;31mValueError\u001b[0m: to assemble mappings requires at least that [year, month, day] be specified: [day,month,year] is missing"
     ]
    }
   ],
   "source": [
    "from preprocesamiento import preprocesa\n",
    "all_data2= preprocesa(all_data)"
   ]
  },
  {
   "cell_type": "code",
   "execution_count": null,
   "metadata": {},
   "outputs": [],
   "source": [
    "all_data['order_purchase_timestamp'].dtype"
   ]
  },
  {
   "cell_type": "code",
   "execution_count": null,
   "metadata": {},
   "outputs": [],
   "source": [
    "all_data2.columns"
   ]
  },
  {
   "cell_type": "code",
   "execution_count": null,
   "metadata": {},
   "outputs": [],
   "source": [
    "# Cambie el tipo de datos en la columna de fecha para que el tipo de datos finalice\n",
    "date_columns = ['order_purchase_timestamp', 'order_approved_at', 'order_delivered_carrier_date', 'order_delivered_customer_date',\n",
    "             'order_estimated_delivery_date', 'shipping_limit_date', 'review_creation_date', 'review_answer_timestamp'] \n",
    "#date_columns = ['order_delivered_carrier_date']\n",
    "for col in date_columns:\n",
    "    all_data[col] = pd.to_datetime(all_data[col], format='%Y-%m-%d %H:%M:%S')"
   ]
  },
  {
   "cell_type": "code",
   "execution_count": null,
   "metadata": {},
   "outputs": [],
   "source": [
    "all_data['order_delivered_carrier_date']"
   ]
  },
  {
   "cell_type": "code",
   "execution_count": null,
   "metadata": {},
   "outputs": [],
   "source": [
    "# Ver si hay datos duplicados\n",
    "print('Duplicados: ',all_data.duplicated().sum())"
   ]
  },
  {
   "cell_type": "code",
   "execution_count": null,
   "metadata": {},
   "outputs": [],
   "source": [
    "#Cree una columna de mes_orden para la exploración de datos\n",
    "all_data['Month_order'] = all_data['order_purchase_timestamp'].dt.to_period('M').astype('str')"
   ]
  },
  {
   "cell_type": "code",
   "execution_count": null,
   "metadata": {},
   "outputs": [],
   "source": [
    "all_data[['Month_order','order_purchase_timestamp']].head()"
   ]
  },
  {
   "cell_type": "code",
   "execution_count": null,
   "metadata": {},
   "outputs": [],
   "source": [
    "# Elija entradas que van desde 01-2017 hasta 08-2018\n",
    "#Porque hay datos que están fuera de balance con el promedio de cada mes en los datos antes del 01-2017 y después del 08-2018\n",
    "# basado en datos de compra / order_purchase_timestamp\n",
    "start_date = \"2017-01-01\"\n",
    "end_date = \"2018-08-31\"\n",
    "\n",
    "after_start_date = all_data['order_purchase_timestamp'] >= start_date\n",
    "before_end_date = all_data['order_purchase_timestamp'] <= end_date\n",
    "between_two_dates = after_start_date & before_end_date\n",
    "all_data = all_data.loc[between_two_dates]"
   ]
  },
  {
   "cell_type": "code",
   "execution_count": null,
   "metadata": {},
   "outputs": [],
   "source": [
    "# Compartir datos según el tipo de datos\n",
    "only_numeric = all_data.select_dtypes(include=['int', 'float'])\n",
    "only_object = all_data.select_dtypes(include=['object'])\n",
    "only_time = all_data.select_dtypes(include=['datetime', 'timedelta'])"
   ]
  },
  {
   "cell_type": "markdown",
   "metadata": {},
   "source": [
    "## 2.2 Manejo de valores perdidos\n",
    "\n",
    "En esta etapa, se hace para eliminar entradas vacías mediante el uso de otras características o el uso de estadísticas (media / mediana)"
   ]
  },
  {
   "cell_type": "code",
   "execution_count": null,
   "metadata": {},
   "outputs": [],
   "source": [
    "# Vea qué porcentaje de datos está en blanco en cada columna\n",
    "round((all_data.isnull().sum()/ len(all_data)*100),2)"
   ]
  },
  {
   "cell_type": "code",
   "execution_count": null,
   "metadata": {},
   "outputs": [],
   "source": [
    "# Gestiona entradas vacías en la columna order_approved_at\n",
    "missing_1 = all_data['order_approved_at'] - all_data['order_purchase_timestamp']\n",
    "print(missing_1.describe())\n",
    "print('='*50)\n",
    "print('Mediana desde el momento en que se aprobó la orden: ',missing_1.median())\n",
    "\n",
    "# tomamos la mediana porque hay quienes aprueban directamente desde el momento en que ordena, algunos son de hasta 60 días\n",
    "add_1 = all_data[all_data['order_approved_at'].isnull()]['order_purchase_timestamp'] + missing_1.median()\n",
    "all_data['order_approved_at']= all_data['order_approved_at'].replace(np.nan, add_1)"
   ]
  },
  {
   "cell_type": "code",
   "execution_count": null,
   "metadata": {},
   "outputs": [],
   "source": [
    "# Gestiona entradas vacías en la columna order_approved_at\n",
    "all_data[['order_purchase_timestamp', 'order_approved_at', 'order_delivered_carrier_date', 'order_delivered_customer_date']].head()"
   ]
  },
  {
   "cell_type": "code",
   "execution_count": null,
   "metadata": {},
   "outputs": [],
   "source": [
    "# Gestión de entradas vacías en la columna order_delivered_carrier_date\n",
    "missing_2 = all_data['order_delivered_carrier_date'] - all_data['order_approved_at']\n",
    "print(missing_2.describe())\n",
    "print('='*50)\n",
    "print('Mediana desde el momento de la solicitud hasta el envío: ',missing_2.median())\n",
    "\n",
    "# Tomamos la mediana porque algunos barcos están dentro de las 21 horas del tiempo acordado, algunos hasta 107 días\n",
    "add_2 = all_data[all_data['order_delivered_carrier_date'].isnull()]['order_approved_at'] + missing_2.median()\n",
    "all_data['order_delivered_carrier_date']= all_data['order_delivered_carrier_date'].replace(np.nan, add_2)"
   ]
  },
  {
   "cell_type": "code",
   "execution_count": null,
   "metadata": {},
   "outputs": [],
   "source": [
    "# Gestión de entradas vacías en la columna order_delivered_customer_date\n",
    "missing_3 = all_data['order_delivered_customer_date'] - all_data['order_delivered_carrier_date']\n",
    "print(missing_3.describe())\n",
    "print('='*50)\n",
    "print('Mediana desde el momento en que se envió hasta que el cliente la recibió: ',missing_3.median())\n",
    "\n",
    "# tomamos la mediana porque hay un tiempo de entrega de -17 días, lo que significa que es atípico, también hay un tiempo de entrega de hasta 205 días\n",
    "add_3 = all_data[all_data['order_delivered_customer_date'].isnull()]['order_delivered_carrier_date'] + missing_3.median()\n",
    "all_data['order_delivered_customer_date']= all_data['order_delivered_customer_date'].replace(np.nan, add_3)"
   ]
  },
  {
   "cell_type": "code",
   "execution_count": null,
   "metadata": {},
   "outputs": [],
   "source": [
    "# Manejar las columnas review_comment_title y review_comment_message\n",
    "#Porque el número de entradas en blanco es muy grande e imposible de completar porque no hay variables que puedan\n",
    "# usado para calcularlo. Porque este es el comentario y el título del comentario\n",
    "# Luego eliminaremos la columna\n",
    "\n",
    "all_data = all_data.drop(['review_comment_title', 'review_comment_message'], axis=1)"
   ]
  },
  {
   "cell_type": "code",
   "execution_count": null,
   "metadata": {},
   "outputs": [],
   "source": [
    "# Entrega de entrada vacía en las columnas product_weight_g, product_length_cm, product_height_cm, product_width_cm\n",
    "#Porque solo hay 1, entonces lo dejamos caer\n",
    "all_data = all_data.dropna()"
   ]
  },
  {
   "cell_type": "code",
   "execution_count": null,
   "metadata": {},
   "outputs": [],
   "source": [
    "# Compruebe si hay entradas en blanco\n",
    "round((all_data.isnull().sum()/len(all_data)*100),2)"
   ]
  },
  {
   "cell_type": "code",
   "execution_count": null,
   "metadata": {},
   "outputs": [],
   "source": [
    "# Ajuste el tipo de datos con los datos de entrada\n",
    "all_data = all_data.astype({'order_item_id': 'int64', \n",
    "                            'product_name_lenght': 'int64',\n",
    "                            'product_description_lenght':'int64', \n",
    "                            'product_photos_qty':'int64'})"
   ]
  },
  {
   "cell_type": "markdown",
   "metadata": {},
   "source": [
    "## ** 2.3. Extracción de características **\n",
    "\n",
    "En esta etapa, la adición de nuevas columnas que contienen cálculos de varias columnas para obtener una nueva característica\n",
    "\n"
   ]
  },
  {
   "cell_type": "code",
   "execution_count": null,
   "metadata": {},
   "outputs": [],
   "source": [
    "#Cree una columna order_process_time para ver cuánto tiempo llevará iniciar el pedido hasta\n",
    "# artículos son aceptados por los clientes\n",
    "all_data['order_process_time'] = all_data['order_delivered_customer_date'] - all_data['order_purchase_timestamp']"
   ]
  },
  {
   "cell_type": "code",
   "execution_count": null,
   "metadata": {},
   "outputs": [],
   "source": [
    "#Cree una columna order_delivery_time para ver cuánto tiempo se requiere el tiempo de envío para cada pedido\n",
    "all_data['order_delivery_time'] = all_data['order_delivered_customer_date'] - all_data['order_delivered_carrier_date']"
   ]
  },
  {
   "cell_type": "code",
   "execution_count": null,
   "metadata": {},
   "outputs": [],
   "source": [
    "#Cree una columna order_time_accuracy para ver si desde el tiempo estimado hasta que algo sea apropiado o tarde\n",
    "# Si el valor es + positivo, entonces es más rápido hasta que, si es 0, está justo a tiempo, pero si es negativo, llega tarde\n",
    "all_data['order_accuracy_time'] = all_data['order_estimated_delivery_date'] - all_data['order_delivered_customer_date'] "
   ]
  },
  {
   "cell_type": "code",
   "execution_count": null,
   "metadata": {},
   "outputs": [],
   "source": [
    "#Cree una columna order_approved_time para ver cuánto tiempo tomará desde el pedido hasta la aprobación\n",
    "all_data['order_approved_time'] = all_data['order_approved_at'] - all_data['order_purchase_timestamp'] "
   ]
  },
  {
   "cell_type": "code",
   "execution_count": null,
   "metadata": {},
   "outputs": [],
   "source": [
    "#Cree una columna review_send_time para averiguar cuánto tiempo se envió la encuesta de satisfacción después de recibir el artículo.\n",
    "all_data['review_send_time'] = all_data['review_creation_date'] - all_data['order_delivered_customer_date']"
   ]
  },
  {
   "cell_type": "code",
   "execution_count": null,
   "metadata": {},
   "outputs": [],
   "source": [
    "#Cree una columna review_answer_time para averiguar cuánto tiempo llevará completar una revisión después de\n",
    "# envió una encuesta de satisfacción del cliente.\n",
    "all_data['review_answer_time'] = all_data['review_answer_timestamp'] - all_data['review_creation_date']"
   ]
  },
  {
   "cell_type": "code",
   "execution_count": null,
   "metadata": {},
   "outputs": [],
   "source": [
    "# Combine las columnas product_length_cm, product_height_cm y product_width_cm para convertirlo en un volumen\n",
    "# con una nueva columna, volumen_producto\n",
    "all_data['product_volume'] = all_data['product_length_cm'] * all_data['product_height_cm'] * all_data['product_width_cm']"
   ]
  },
  {
   "cell_type": "code",
   "execution_count": null,
   "metadata": {},
   "outputs": [],
   "source": [
    "all_data['product_volume'].nunique()"
   ]
  },
  {
   "cell_type": "code",
   "execution_count": null,
   "metadata": {},
   "outputs": [],
   "source": [
    "all_data['order_process_time'].mean()"
   ]
  },
  {
   "cell_type": "markdown",
   "metadata": {},
   "source": [
    "## ** 2.4 Exploración de datos **\n",
    "\n",
    "Esta etapa se lleva a cabo la exploración de datos para obtener información o información que puede ser útil para la empresa."
   ]
  },
  {
   "cell_type": "code",
   "execution_count": null,
   "metadata": {},
   "outputs": [],
   "source": [
    "# ¿Qué productos tienen más demanda?\n",
    "top_20_product_best_seller = all_data['order_item_id'].groupby(all_data['product_category_name_english']).sum().sort_values(ascending=False)[:20]\n",
    "#print(top_20_product_best_seller)\n",
    "\n",
    "# Lo trazamos para visualización\n",
    "fig=plt.figure(figsize=(16,9))\n",
    "sns.barplot(y=top_20_product_best_seller.index,x=top_20_product_best_seller.values)\n",
    "plt.title('Top 20 Most Selling Product',fontsize=20)\n",
    "plt.xlabel('Total Product Sold',fontsize=17)\n",
    "plt.ylabel('Product category',fontsize=17)"
   ]
  },
  {
   "cell_type": "code",
   "execution_count": null,
   "metadata": {},
   "outputs": [],
   "source": [
    "top_20_city_shopping = all_data['order_item_id'].groupby(all_data['customer_city']).sum().sort_values(ascending=False)[:20]\n",
    "#print(top_20_city_shopping)\n",
    "\n",
    "# ¿Qué ciudad compra más?\n",
    "fig=plt.figure(figsize=(16,9))\n",
    "sns.barplot(y=top_20_city_shopping.index,x=top_20_city_shopping.values)\n",
    "plt.title('Top 20 Most City Shopping',fontsize=20)\n",
    "plt.xlabel('Total Product',fontsize=17)\n",
    "plt.ylabel('City',fontsize=17)"
   ]
  },
  {
   "cell_type": "code",
   "execution_count": null,
   "metadata": {},
   "outputs": [],
   "source": [
    "# ¿Quién es el mayor número de compras de clientes en función de la cantidad de pedidos?\n",
    "top_10_customer_shopping = all_data['order_item_id'].groupby(all_data['customer_id']).count().sort_values(ascending=False)[:10]\n",
    "#print(top_10_customer_shopping)\n",
    "\n",
    "# Lo trazamos para visualización\n",
    "fig=plt.figure(figsize=(16,9))\n",
    "sns.barplot(y=top_10_customer_shopping.index,x=top_10_customer_shopping.values)\n",
    "plt.title('Top 10 Customer Based on Order Amount',fontsize=20)\n",
    "plt.xlabel('Amount of Product',fontsize=17)\n",
    "plt.ylabel('Customer ID',fontsize=17)"
   ]
  },
  {
   "cell_type": "code",
   "execution_count": null,
   "metadata": {},
   "outputs": [],
   "source": [
    "# ¿Quién es el cliente con más gasto en compras por precio?\n",
    "top_10_customer_shopping = all_data['payment_value'].groupby(all_data['customer_id']).sum().sort_values(ascending=False)[:10]\n",
    "#print(top_10_customer_shopping)\n",
    "\n",
    "fig=plt.figure(figsize=(16,9))\n",
    "sns.barplot(y=top_10_customer_shopping.index,x=top_10_customer_shopping.values)\n",
    "plt.title('Top 10 Customer Based on Spending',fontsize=20)\n",
    "plt.xlabel('Spending Amount',fontsize=17)\n",
    "plt.ylabel('Customer ID',fontsize=17)"
   ]
  },
  {
   "cell_type": "code",
   "execution_count": null,
   "metadata": {},
   "outputs": [],
   "source": [
    "# ¿Qué vendedores venden más?\n",
    "top_10_seller_order = all_data['order_item_id'].groupby(all_data['seller_id']).sum().sort_values(ascending=False)[:10]\n",
    "#print(top_10_seller_order)\n",
    "\n",
    "fig=plt.figure(figsize=(16,9))\n",
    "sns.barplot(y=top_10_seller_order.index,x=top_10_seller_order.values)\n",
    "plt.title('Top 10 Seller Base on Sold Product',fontsize=20)\n",
    "plt.xlabel('Total Product',fontsize=17)\n",
    "plt.ylabel('Seller ID',fontsize=17)"
   ]
  },
  {
   "cell_type": "code",
   "execution_count": null,
   "metadata": {},
   "outputs": [],
   "source": [
    "# Vendedor, ¿cuál es el mayor ingreso basado en ingresos?\n",
    "top_10_seller_order = all_data['price'].groupby(all_data['seller_id']).sum().sort_values(ascending=False)[:10]\n",
    "#print(top_10_seller_order)\n",
    "\n",
    "fig=plt.figure(figsize=(16,9))\n",
    "sns.barplot(y=top_10_seller_order.index,x=top_10_seller_order.values)\n",
    "plt.title('Top 10 Seller Based on Revenue',fontsize=20)\n",
    "plt.xlabel('Amount of Revenue',fontsize=17)\n",
    "plt.ylabel('Seller ID',fontsize=17)"
   ]
  },
  {
   "cell_type": "code",
   "execution_count": null,
   "metadata": {},
   "outputs": [],
   "source": [
    "# Vendedor, ¿cuál es el mayor ingreso basado en ingresos?\n",
    "top_10_seller_order = all_data[all_data['review_score'] == 5].groupby(all_data['seller_id']).sum().sort_values(by=['review_score'],ascending=False)[:10]\n",
    "#print(top_10_seller_order)\n",
    "\n",
    "fig=plt.figure(figsize=(16,9))\n",
    "sns.barplot(y=top_10_seller_order.index,x=top_10_seller_order.review_score)\n",
    "plt.title('Top 10 Seller Based on Review Score',fontsize=20)\n",
    "plt.xlabel('Amount of Revenue',fontsize=17)\n",
    "plt.ylabel('Seller ID',fontsize=17)"
   ]
  },
  {
   "cell_type": "code",
   "execution_count": null,
   "metadata": {},
   "outputs": [],
   "source": [
    "# Distribución del estado del pedido del cliente\n",
    "round(all_data.order_status.value_counts() / len(all_data),2)"
   ]
  },
  {
   "cell_type": "code",
   "execution_count": null,
   "metadata": {},
   "outputs": [],
   "source": [
    "# ¿Cuál es el tiempo promedio desde el pedido hasta el recibo que se necesita en cada pedido mensual?\n",
    "order_time_by_month = all_data['order_process_time'].groupby(all_data['Month_order']).median(numeric_only=False) #masukan argumen numeric_only untuk menghitung timedelta\n",
    "\n",
    "fig=plt.figure(figsize=(16,9))\n",
    "plt.plot(order_time_by_month.index, order_time_by_month.values, marker='o')\n",
    "plt.title('Median Order Time By Month',fontsize=20)\n",
    "plt.xlabel('Month',fontsize=17)\n",
    "plt.xticks(#[1, 2, 3, 4, 5, 6, 7, 8, 9, 10, 11, 12],\n",
    "          rotation=90)\n",
    "plt.ylabel('Time (Day)',fontsize=17)"
   ]
  },
  {
   "cell_type": "code",
   "execution_count": null,
   "metadata": {},
   "outputs": [],
   "source": [
    "# ¿Cuál es el tiempo de entrega promedio requerido para cada primer pedido?\n",
    "delivery_time_by_month = all_data['order_delivery_time'].groupby(all_data['Month_order']).median(numeric_only=False) #masukan argumen numeric_only untuk menghitung timedelta\n",
    "\n",
    "\n",
    "fig=plt.figure(figsize=(16,9))\n",
    "plt.plot(delivery_time_by_month.index, delivery_time_by_month.values / 86400, marker='o')\n",
    "plt.title('Median Delivery Time By Month',fontsize=20)\n",
    "plt.xlabel('Month',fontsize=17)\n",
    "plt.xticks(#[1, 2, 3, 4, 5, 6, 7, 8, 9, 10, 11, 12],\n",
    "          rotation=90)\n",
    "plt.ylabel('Time (Day)',fontsize=17)"
   ]
  },
  {
   "cell_type": "code",
   "execution_count": null,
   "metadata": {},
   "outputs": [],
   "source": [
    "# ¿Cuál es la precisión media del tiempo de los envíos estimados y hasta el cliente en cada pedido mensual?\n",
    "accuracy_time_by_month = all_data['order_accuracy_time'].groupby(all_data['Month_order']).median(numeric_only=False) #masukan argumen numeric_only untuk menghitung timedelta\n",
    "\n",
    "fig=plt.figure(figsize=(16,9))\n",
    "plt.plot(accuracy_time_by_month.index, accuracy_time_by_month.values / 86400, marker='o')\n",
    "plt.title('Median Accuracy Time By Month',fontsize=20)\n",
    "plt.xlabel('Month',fontsize=17)\n",
    "plt.xticks(#[1, 2, 3, 4, 5, 6, 7, 8, 9, 10, 11, 12],\n",
    "          rotation=90)\n",
    "plt.ylabel('Time (Day)',fontsize=17)"
   ]
  },
  {
   "cell_type": "code",
   "execution_count": null,
   "metadata": {},
   "outputs": [],
   "source": [
    "# ¿Cuál es el período de tiempo promedio hasta que se aprueba desde el momento del pedido en cada pedido mensual?\n",
    "approved_time_by_month = all_data['order_approved_time'].groupby(all_data['Month_order']).median(numeric_only=False) #masukan argumen numeric_only untuk menghitung timedelta\n",
    "\n",
    "fig=plt.figure(figsize=(16,9))\n",
    "plt.plot(approved_time_by_month.index, approved_time_by_month.values / 60, marker='o')\n",
    "plt.title('Median Approved Time By Month',fontsize=20)\n",
    "plt.xlabel('Month',fontsize=17)\n",
    "plt.xticks(#[1, 2, 3, 4, 5, 6, 7, 8, 9, 10, 11, 12],\n",
    "          rotation=90)\n",
    "plt.ylabel('Time (Minutes)',fontsize=17)"
   ]
  },
  {
   "cell_type": "code",
   "execution_count": null,
   "metadata": {},
   "outputs": [],
   "source": [
    "# 10 categorías de productos con el tiempo más rápido desde el pedido hasta la aceptación del cliente\n",
    "order_time_by_category = pd.DataFrame(all_data['order_process_time'].groupby(all_data['product_category_name_english']).median(numeric_only=False).sort_values(ascending=True)[:10])\n",
    "\n",
    "fig=plt.figure(figsize=(16,9))\n",
    "sns.barplot(y=order_time_by_category.index, x=order_time_by_category['order_process_time'].dt.days)\n",
    "plt.title('Top 10 Fastest Product Category Order Time',fontsize=20)\n",
    "plt.xlabel('Order Time (Day)',fontsize=17)\n",
    "plt.ylabel('Product Category',fontsize=17)"
   ]
  },
  {
   "cell_type": "code",
   "execution_count": null,
   "metadata": {},
   "outputs": [],
   "source": [
    "# 10 categorías de productos con el mayor tiempo desde el pedido hasta la aceptación del cliente\n",
    "order_time_by_category = pd.DataFrame(all_data['order_process_time'].groupby(all_data['product_category_name_english']).median(numeric_only=False).sort_values(ascending=False)[:10])\n",
    "\n",
    "fig=plt.figure(figsize=(16,9))\n",
    "sns.barplot(y=order_time_by_category.index, x=order_time_by_category['order_process_time'].dt.days)\n",
    "plt.title('Top 10 Slowest Product Category Order Time',fontsize=20)\n",
    "plt.xlabel('Order Time (Day)',fontsize=17)\n",
    "plt.ylabel('Product Category',fontsize=17)"
   ]
  },
  {
   "cell_type": "code",
   "execution_count": null,
   "metadata": {},
   "outputs": [],
   "source": [
    "# ¿Cuánto cuesta el pedido cada mes?\n",
    "order_count_by_month = all_data['order_item_id'].groupby(all_data['Month_order']).sum()\n",
    "\n",
    "fig=plt.figure(figsize=(16,9))\n",
    "sns.barplot(y=order_count_by_month.values, x=order_count_by_month.index, color=\"Salmon\")\n",
    "plt.title('Monthly Order',fontsize=20)\n",
    "plt.xlabel('Month',fontsize=17)\n",
    "plt.xticks(rotation=90)\n",
    "plt.ylabel('Amount Order',fontsize=17)"
   ]
  },
  {
   "cell_type": "code",
   "execution_count": null,
   "metadata": {},
   "outputs": [],
   "source": [
    "# ¿Cuánto es el ingreso mensual?\n",
    "revenue_count_by_month = all_data['payment_value'].groupby(all_data['Month_order']).sum()\n",
    "\n",
    "fig=plt.figure(figsize=(16,9))\n",
    "sns.barplot(y=revenue_count_by_month.values, x=revenue_count_by_month.index, color=\"Salmon\")\n",
    "plt.title('Monthly Revenue',fontsize=20)\n",
    "plt.xlabel('Month',fontsize=17)\n",
    "plt.xticks(rotation=90)\n",
    "plt.ylabel('Amount Revenue',fontsize=17)"
   ]
  },
  {
   "cell_type": "code",
   "execution_count": null,
   "metadata": {},
   "outputs": [],
   "source": [
    "# ¿Cómo son los clientes activos cada mes?\n",
    "customer_active_by_month = all_data.groupby('Month_order')['customer_unique_id'].nunique().reset_index()\n",
    "\n",
    "fig=plt.figure(figsize=(16,9))\n",
    "sns.barplot(y=customer_active_by_month['customer_unique_id'], x=customer_active_by_month['Month_order'], color=\"Salmon\")\n",
    "plt.title('Monthly Active User',fontsize=20)\n",
    "plt.xlabel('Month',fontsize=17)\n",
    "plt.xticks(rotation=90)\n",
    "plt.ylabel('Amount of User',fontsize=17)"
   ]
  },
  {
   "cell_type": "markdown",
   "metadata": {},
   "source": [
    "# ** 3. Modelado **\n",
    "\n",
    "En esta etapa, el modelado se llevará a cabo utilizando un algoritmo de agrupamiento denominado K-Means basado en el análisis RFM (Recency, Frequency, and Monetary) para la segmentación de clientes."
   ]
  },
  {
   "cell_type": "markdown",
   "metadata": {},
   "source": [
    "## ** 3.1 Análisis RFM **\n",
    "\n",
    "El análisis RFM es un método utilizado para ver patrones en los clientes en función de sus hábitos de compra:\n",
    "\n",
    "1. Recency = ¿Cuándo fue la última vez que el cliente realizó una transacción?\n",
    " \n",
    "2. Frecuencia = ¿Con qué frecuencia el cliente realiza una compra?\n",
    "\n",
    "3. Monetario = cuánto gastan los clientes"
   ]
  },
  {
   "cell_type": "code",
   "execution_count": null,
   "metadata": {},
   "outputs": [],
   "source": [
    "#ver las fechas de compra e inicio\n",
    "print('Min : {}, Max : {}'.format(min(all_data.order_purchase_timestamp), max(all_data.order_purchase_timestamp)))"
   ]
  },
  {
   "cell_type": "code",
   "execution_count": null,
   "metadata": {},
   "outputs": [],
   "source": [
    "pin_date\n"
   ]
  },
  {
   "cell_type": "code",
   "execution_count": null,
   "metadata": {},
   "outputs": [],
   "source": [
    "pin_date - all_data.groupby('customer_unique_id')['order_purchase_timestamp'].max().iloc[1]"
   ]
  },
  {
   "cell_type": "code",
   "execution_count": null,
   "metadata": {
    "scrolled": true
   },
   "outputs": [],
   "source": [
    "#Calcular RFM\n",
    "import datetime as dt\n",
    "pin_date = max(all_data.order_purchase_timestamp) + dt.timedelta(1)\n",
    "\n",
    "#Creo un dataframe para RFM\n",
    "rfm = all_data.groupby('customer_unique_id').agg({\n",
    "    'order_purchase_timestamp' : lambda x: (pin_date - x.max()).days,\n",
    "    'order_item_id' : 'count', \n",
    "    'payment_value' : 'sum'})"
   ]
  },
  {
   "cell_type": "code",
   "execution_count": null,
   "metadata": {},
   "outputs": [],
   "source": [
    "rfm.head()"
   ]
  },
  {
   "cell_type": "code",
   "execution_count": null,
   "metadata": {},
   "outputs": [],
   "source": [
    "rfm.rename(columns = {'order_purchase_timestamp' : 'Recency', \n",
    "                      'order_item_id' : 'Frequency', \n",
    "                      'payment_value' : 'Monetary'}, inplace = True)\n",
    "\n",
    "rfm.head(10)"
   ]
  },
  {
   "cell_type": "markdown",
   "metadata": {},
   "source": [
    "## ** 3.2 Manejo de valores atípicos **\n",
    "\n",
    "En esta etapa, limpiaremos los datos de las entradas que pueden ser incorrectas o las anomalías de los datos que tenemos."
   ]
  },
  {
   "cell_type": "code",
   "execution_count": null,
   "metadata": {},
   "outputs": [],
   "source": [
    "#Usamos Rangos intercuartilicos\n",
    "def limit(i):\n",
    "    Q1 = rfm[i].quantile(0.5)\n",
    "    Q3 = rfm[i].quantile(0.95)\n",
    "    IQR = Q3 - Q1\n",
    "    \n",
    "    \n",
    "    lower_limit = rfm[i].quantile(0.5) - (IQR * 1.5)\n",
    "    lower_limit_extreme = rfm[i].quantile(0.5) - (IQR * 3)\n",
    "    upper_limit = rfm[i].quantile(0.95) + (IQR * 1.5)\n",
    "    upper_limit_extreme = rfm[i].quantile(0.5) + (IQR * 3)\n",
    "    print('Lower Limit:', lower_limit)\n",
    "    print('Lower Limit Extreme:', lower_limit_extreme)\n",
    "    print('Upper Limit:', upper_limit)\n",
    "    print('Upper Limit Extreme:', upper_limit_extreme)\n",
    "\n",
    "def percent_outliers(i):\n",
    "    Q1 = rfm[i].quantile(0.5)\n",
    "    Q3 = rfm[i].quantile(0.95)\n",
    "    IQR = Q3 - Q1\n",
    "    \n",
    "    lower_limit = rfm[i].quantile(0.5) - (IQR * 1.5)\n",
    "    lower_limit_extreme = rfm[i].quantile(0.5) - (IQR * 3)\n",
    "    upper_limit = rfm[i].quantile(0.95) + (IQR * 1.5)\n",
    "    upper_limit_extreme = rfm[i].quantile(0.95) + (IQR * 3)\n",
    "    print('Lower Limit: {} %'.format(rfm[(rfm[i] >= lower_limit)].shape[0]/ rfm.shape[0]*100))\n",
    "    print('Lower Limit Extereme: {} %'.format(rfm[(rfm[i] >= lower_limit_extreme)].shape[0]/rfm.shape[0]*100))\n",
    "    print('Upper Limit: {} %'.format(rfm[(rfm[i] >= upper_limit)].shape[0]/ rfm.shape[0]*100))\n",
    "    print('Upper Limit Extereme: {} %'.format(rfm[(rfm[i] >= upper_limit_extreme)].shape[0]/rfm.shape[0]*100))"
   ]
  },
  {
   "cell_type": "code",
   "execution_count": null,
   "metadata": {},
   "outputs": [],
   "source": [
    "sns.boxplot(x=rfm[\"Recency\"])"
   ]
  },
  {
   "cell_type": "code",
   "execution_count": null,
   "metadata": {},
   "outputs": [],
   "source": [
    "sns.boxplot(x=rfm[\"Frequency\"])"
   ]
  },
  {
   "cell_type": "markdown",
   "metadata": {},
   "source": [
    "La columna Frecuencia no elimina los valores atípicos porque los valores atípicos aquí son de hecho la posibilidad de que los clientes realicen muchas transacciones porque estos datos se toman de 2017-2018"
   ]
  },
  {
   "cell_type": "code",
   "execution_count": null,
   "metadata": {},
   "outputs": [],
   "source": [
    "sns.boxplot(x=rfm[\"Monetary\"])"
   ]
  },
  {
   "cell_type": "code",
   "execution_count": null,
   "metadata": {},
   "outputs": [],
   "source": [
    "print(limit('Monetary'))\n",
    "print('-'*50)\n",
    "print(percent_outliers('Monetary'))"
   ]
  },
  {
   "cell_type": "code",
   "execution_count": null,
   "metadata": {},
   "outputs": [],
   "source": [
    "outliers1_drop = rfm[(rfm['Monetary'] > 1500)].index\n",
    "rfm.drop(outliers1_drop, inplace=True)"
   ]
  },
  {
   "cell_type": "markdown",
   "metadata": {},
   "source": [
    "## ** 3.3 Percentil RFM **\n",
    "\n",
    "En esta etapa, se crearán grupos de clientes basados ​​en Recency, Frequency y Monetary dividiéndolos en grupos de 3 **** en cada uno."
   ]
  },
  {
   "cell_type": "code",
   "execution_count": null,
   "metadata": {},
   "outputs": [],
   "source": [
    "# Crear grupos de clientes basados en Recency, Frequency y Monetary\n",
    "#Porque Recency si cuantos menos días mejor, hará el pedido al revés\n",
    "r_labels = range(3, 0, -1)\n",
    "r_groups = pd.qcut(rfm.Recency, q = 3, labels = r_labels).astype('int')\n",
    "\n",
    "# Debido a que la frecuencia está muy en el valor 1, entonces no puede usar qcut,\n",
    "#porque el valor se apoyará más\n",
    "f_groups = pd.qcut(rfm.Frequency.rank(method='first'), 3).astype('str')\n",
    "#rfm['F'] = np.where((rfm['Frequency'] != 1) & (rfm['Frequency'] != 2), 3, rfm.Frequency)\n",
    "\n",
    "m_labels = range(1, 4)\n",
    "m_groups = pd.qcut(rfm.Monetary, q = 3, labels = m_labels).astype('int')"
   ]
  },
  {
   "cell_type": "code",
   "execution_count": null,
   "metadata": {},
   "outputs": [],
   "source": [
    "rfm['R'] = r_groups.values\n",
    "rfm['F'] = f_groups.values\n",
    "rfm['M'] = m_groups.values"
   ]
  },
  {
   "cell_type": "code",
   "execution_count": null,
   "metadata": {},
   "outputs": [],
   "source": [
    "rfm.tail(100)"
   ]
  },
  {
   "cell_type": "code",
   "execution_count": null,
   "metadata": {},
   "outputs": [],
   "source": [
    "rfm['F'].value_counts()"
   ]
  },
  {
   "cell_type": "code",
   "execution_count": null,
   "metadata": {},
   "outputs": [],
   "source": [
    "rfm['F'] = rfm['F'].replace({'(0.999, 30871.333]' : 1,\n",
    "                             '(30871.333, 61741.667]' : 2,\n",
    "                             '(61741.667, 92612.0]' : 3}).astype('int')"
   ]
  },
  {
   "cell_type": "code",
   "execution_count": null,
   "metadata": {},
   "outputs": [],
   "source": [
    "rfm['RFM_Segment'] = rfm.apply(lambda x: str(x['R']) + str(x['F']) + str(x['M']), axis = 1)\n",
    "rfm['RFM_Score'] = rfm[['R', 'F', 'M']].sum(axis = 1)\n",
    "rfm.head()"
   ]
  },
  {
   "cell_type": "code",
   "execution_count": null,
   "metadata": {},
   "outputs": [],
   "source": [
    "score_labels = ['Bronze', 'Silver', 'Gold']\n",
    "score_groups = pd.qcut(rfm.RFM_Score, q=3, labels = score_labels)\n",
    "rfm['RFM_Level'] = score_groups.values\n",
    "rfm.head()"
   ]
  },
  {
   "cell_type": "markdown",
   "metadata": {},
   "source": [
    "## ** 3.4 Manejo de la inclinación y el escalado **\n",
    "\n",
    "Para los datos que ingresarán al algoritmo K-Means, la distribución es normal porque facilitará la formación de grupos, luego no olvides igualar la escala de cada columna porque se medirá en función de la distancia entre cada entrada."
   ]
  },
  {
   "cell_type": "code",
   "execution_count": null,
   "metadata": {},
   "outputs": [],
   "source": [
    "fig, ax = plt.subplots(figsize=(16, 9))\n",
    "plt.subplot(3, 1, 1); sns.distplot(rfm.Recency, label = 'Recency')\n",
    "plt.subplot(3, 1, 2); sns.distplot(rfm['Frequency'], kde_kws={'bw': 0.1}, label='Frequency')\n",
    "plt.subplot(3, 1, 3); sns.distplot(rfm.Monetary, label = 'Monetary')\n",
    "\n",
    "plt.tight_layout()\n",
    "plt.show()"
   ]
  },
  {
   "cell_type": "code",
   "execution_count": null,
   "metadata": {},
   "outputs": [],
   "source": [
    "from scipy import stats\n",
    "\n",
    "rfm_log = rfm[['Recency', 'Monetary']].apply(np.log, axis = 1).round(3)\n",
    "rfm_log['Frequency'] = stats.boxcox(rfm['Frequency'])[0]\n",
    "rfm_log.head()"
   ]
  },
  {
   "cell_type": "code",
   "execution_count": null,
   "metadata": {},
   "outputs": [],
   "source": [
    "scaler = StandardScaler()\n",
    "minmax = MinMaxScaler()\n",
    "robust = RobustScaler()\n",
    "rfm_scaled = scaler.fit_transform(rfm_log)"
   ]
  },
  {
   "cell_type": "code",
   "execution_count": null,
   "metadata": {},
   "outputs": [],
   "source": [
    "rfm_scaled = pd.DataFrame(rfm_scaled, index = rfm.index, columns = rfm_log.columns)\n",
    "rfm_scaled.head()"
   ]
  },
  {
   "cell_type": "code",
   "execution_count": null,
   "metadata": {},
   "outputs": [],
   "source": [
    "fig, ax = plt.subplots(figsize=(16, 9))\n",
    "plt.subplot(3, 1, 1); sns.distplot(rfm_scaled.Recency, label = 'Recency')\n",
    "plt.subplot(3, 1, 2); sns.distplot(rfm_scaled.Frequency, kde_kws={'bw': 0.1}, label='Frequency')\n",
    "plt.subplot(3, 1, 3); sns.distplot(rfm_scaled.Monetary, label = 'Monetary')\n",
    "\n",
    "plt.tight_layout()\n",
    "plt.show()"
   ]
  },
  {
   "cell_type": "markdown",
   "metadata": {},
   "source": [
    "## ** 3.5 Agrupamiento de K-Means **\n",
    "\n",
    "Aquí la agrupación se realizará utilizando el algoritmo K-Means para obtener el grupo óptimo de datos RFM"
   ]
  },
  {
   "cell_type": "code",
   "execution_count": null,
   "metadata": {},
   "outputs": [],
   "source": [
    "wcss = {}\n",
    "\n",
    "for i in range(1, 11):\n",
    "    kmeans = KMeans(n_clusters= i, init= 'k-means++', max_iter= 300)\n",
    "    kmeans.fit(rfm_scaled)\n",
    "    wcss[i] = kmeans.inertia_\n",
    "    \n",
    "fig, ax = plt.subplots(figsize=(16, 9))\n",
    "sns.pointplot(x = list(wcss.keys()), y = list(wcss.values()))\n",
    "plt.title('Elbow Method')\n",
    "plt.xlabel('K Numbers')\n",
    "plt.ylabel('WCSS')\n",
    "plt.show()"
   ]
  },
  {
   "cell_type": "code",
   "execution_count": null,
   "metadata": {},
   "outputs": [],
   "source": [
    "clus = KMeans(n_clusters=4, n_init=10, init= 'k-means++', max_iter= 300)\n",
    "clus.fit(rfm_scaled)"
   ]
  },
  {
   "cell_type": "code",
   "execution_count": null,
   "metadata": {},
   "outputs": [],
   "source": [
    "rfm_scaled.shape"
   ]
  },
  {
   "cell_type": "code",
   "execution_count": null,
   "metadata": {},
   "outputs": [],
   "source": [
    "clus.labels_"
   ]
  },
  {
   "cell_type": "code",
   "execution_count": null,
   "metadata": {},
   "outputs": [],
   "source": [
    "rfm['K_Cluster'] = clus.labels_\n",
    "rfm.head()"
   ]
  },
  {
   "cell_type": "code",
   "execution_count": null,
   "metadata": {},
   "outputs": [],
   "source": [
    "all_data_cluster=all_data.merge(rfm['K_Cluster'],left_on='customer_unique_id',right_index=True)"
   ]
  },
  {
   "cell_type": "code",
   "execution_count": null,
   "metadata": {},
   "outputs": [],
   "source": [
    "for ncluster in all_data_cluster['K_Cluster'].unique():\n",
    "    print('Num Cluster: %s' % ncluster)\n",
    "    print(all_data_cluster[all_data_cluster['K_Cluster']==ncluster].describe())"
   ]
  },
  {
   "cell_type": "markdown",
   "metadata": {},
   "source": [
    "## ** 3.6 Evaluación **\n",
    "\n",
    "Después de crear un modelo usando KMeans, ahora evaluaremos el modelo si los grupos que forma son realmente diferentes de cada grupo usando el Análisis de Silhouuette. Cuanto más se acerca al número 1, la diferencia que tiene con otras computadoras es cada vez más clara, si el valor está cerca de 0, entonces se parece cada vez más a un grupo cercano y, si -1, hizo un grupo incorrecto."
   ]
  },
  {
   "cell_type": "code",
   "execution_count": null,
   "metadata": {},
   "outputs": [],
   "source": [
    "visualizer = SilhouetteVisualizer(clus)\n",
    "\n",
    "visualizer.fit(rfm_scaled) \n",
    "visualizer.poof() "
   ]
  },
  {
   "cell_type": "markdown",
   "metadata": {},
   "source": [
    "## ** 3.5 Visualización **\n",
    "\n",
    "Visualizaremos para que sea más fácil ver el clúster que creamos con el clúster del algoritmo KMeans. Usaremos 'Snake Plot' en el mundo del marketing para ver qué categorías se incluyen en un clúster.\n",
    "\n"
   ]
  },
  {
   "cell_type": "code",
   "execution_count": null,
   "metadata": {},
   "outputs": [],
   "source": [
    "rfm_scaled['K_Cluster'] = clus.labels_\n",
    "rfm_scaled['RFM_Level'] = rfm.RFM_Level\n",
    "rfm_scaled.reset_index(inplace = True)\n",
    "rfm_scaled.head()"
   ]
  },
  {
   "cell_type": "code",
   "execution_count": null,
   "metadata": {},
   "outputs": [],
   "source": [
    "rfm_melted = pd.melt(frame= rfm_scaled, id_vars= ['customer_unique_id', 'RFM_Level', 'K_Cluster'], \n",
    "                     var_name = 'Metrics', value_name = 'Value')\n",
    "rfm_melted.head()"
   ]
  },
  {
   "cell_type": "code",
   "execution_count": null,
   "metadata": {},
   "outputs": [],
   "source": [
    "fig, ax = plt.subplots(figsize=(16, 9))\n",
    "sns.lineplot(x = 'Metrics', y = 'Value', hue = 'RFM_Level', data = rfm_melted)\n",
    "plt.title('Snake Plot of RFM')\n",
    "plt.legend(loc = 'upper right')"
   ]
  },
  {
   "cell_type": "code",
   "execution_count": null,
   "metadata": {},
   "outputs": [],
   "source": [
    "fig, ax = plt.subplots(figsize=(16, 9))\n",
    "sns.lineplot(x = 'Metrics', y = 'Value', hue = 'K_Cluster', data = rfm_melted)\n",
    "plt.title('Snake Plot of K_cluster')\n",
    "plt.legend(loc = 'upper right')"
   ]
  },
  {
   "cell_type": "markdown",
   "metadata": {},
   "source": [
    "Como podemos ver en los dos gráficos anteriores, podemos concluir con base en grupos:\n",
    "1. Bronce (1 y 0): la frecuencia no es demasiado alta en comparación con la transacción nominal, pero la última vez que realizó una transacción rápida\n",
    "2. Plata (2): la frecuencia es bastante alta y la transacción nominal es bastante alta, pero la última vez que realizó una transacción fue bastante larga\n",
    "3. Oro (3): la frecuencia de gasto es alta y la cantidad gastada también es alta, pero el tiempo de transacción es largo"
   ]
  },
  {
   "cell_type": "code",
   "execution_count": null,
   "metadata": {},
   "outputs": [],
   "source": [
    "# ¿Cuántos clientes hay según su categoría?\n",
    "rfm_cus_level = rfm_scaled.groupby('K_Cluster')['customer_unique_id'].nunique().reset_index()\n",
    "\n",
    "\n",
    "fig=plt.figure(figsize=(16,9))\n",
    "sns.barplot(y=rfm_cus_level['customer_unique_id'], x=rfm_cus_level['K_Cluster'], palette=\"Greens_d\")\n",
    "plt.title('Customer Based on RFM Level',fontsize=20)\n",
    "plt.xlabel('RFMLevel',fontsize=17)\n",
    "plt.ylabel('Amount of Customer',fontsize=17)"
   ]
  },
  {
   "cell_type": "markdown",
   "metadata": {},
   "source": [
    "# ** 4. CONCLUSIÓN**\n",
    "\n",
    "En cuanto a los objetivos de este proyecto, que es facilitar que el departamento de marketing lleve a cabo campañas o promociones basadas en la segmentación de clientes, estas son las conclusiones:\n",
    "\n",
    "1. Bronce: un cliente que no realiza compras con demasiada frecuencia y el valor nominal de la transacción es bajo, pero la última vez que realizó una transacción rápida. Hay 36,000 clientes de este tipo.\n",
    "    - Acción: puede probarse dando descuentos u ofertas con un precio nominal asequible para que la tasa de conversión aumente porque el número de clientes de la categoría Bronce es bastante\n",
    "2. Plata: Clientes que con frecuencia realizan compras y la transacción nominal es bastante alta, pero la última vez que realiza transacciones es bastante larga. Hay 42,000 clientes de este tipo.\n",
    "    - Acción: dada una combinación de descuentos y campañas después de la transacción para aumentar las compras mediante el uso de un correo electrónico personalizado que puede dar un toque personal.\n",
    "3. Oro: Clientes que a menudo compran y también realizan muchas transacciones nominales, pero el último tiempo de transacción es largo. Hay 15000 clientes de este tipo.\n",
    "    - Acción: se suele dar una campaña después de realizar una transacción para volver a realizar una compra. También podría ser recompensado porque con mayor frecuencia realizan transacciones y el valor nominal es alto.\n",
    "\n"
   ]
  },
  {
   "cell_type": "code",
   "execution_count": null,
   "metadata": {},
   "outputs": [],
   "source": []
  }
 ],
 "metadata": {
  "kernelspec": {
   "display_name": "Python 3",
   "language": "python",
   "name": "python3"
  },
  "language_info": {
   "codemirror_mode": {
    "name": "ipython",
    "version": 3
   },
   "file_extension": ".py",
   "mimetype": "text/x-python",
   "name": "python",
   "nbconvert_exporter": "python",
   "pygments_lexer": "ipython3",
   "version": "3.7.6"
  }
 },
 "nbformat": 4,
 "nbformat_minor": 4
}
