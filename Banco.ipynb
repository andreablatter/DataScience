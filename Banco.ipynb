{
 "cells": [
  {
   "cell_type": "markdown",
   "metadata": {},
   "source": [
    "## Grupo:\n",
    "## Andrea Blatter, Fernanda Pucheta, Cesar Zamboni"
   ]
  },
  {
   "cell_type": "code",
   "execution_count": 1,
   "metadata": {},
   "outputs": [],
   "source": [
    "#!pip install xgboost\n",
    "#!pip install seaborn \n",
    "#!pip install matplotlib"
   ]
  },
  {
   "cell_type": "code",
   "execution_count": 2,
   "metadata": {},
   "outputs": [],
   "source": [
    "#### Imports para entrenamiento, predicción y evaluación del modelo ####\n",
    "#### NO QUITAR ####\n",
    "import xgboost as xgb\n",
    "from sklearn.metrics import classification_report, confusion_matrix\n",
    "#### Código Agregado ####\n",
    "import pandas as pd\n",
    "import numpy as np\n",
    "import seaborn as sns\n",
    "import matplotlib.pyplot as plt\n",
    "import plotly.graph_objects as go\n",
    "import warnings\n",
    "warnings.filterwarnings(action=\"ignore\")\n"
   ]
  },
  {
   "cell_type": "code",
   "execution_count": 3,
   "metadata": {},
   "outputs": [],
   "source": [
    "### Loading Data\n",
    "data = pd.read_csv('data/base_tarjeta_credito.csv')\n"
   ]
  },
  {
   "cell_type": "markdown",
   "metadata": {},
   "source": [
    "## Preparamos el tag y el dataset completo"
   ]
  },
  {
   "cell_type": "code",
   "execution_count": 4,
   "metadata": {},
   "outputs": [
    {
     "data": {
      "text/html": [
       "<div>\n",
       "<style scoped>\n",
       "    .dataframe tbody tr th:only-of-type {\n",
       "        vertical-align: middle;\n",
       "    }\n",
       "\n",
       "    .dataframe tbody tr th {\n",
       "        vertical-align: top;\n",
       "    }\n",
       "\n",
       "    .dataframe thead th {\n",
       "        text-align: right;\n",
       "    }\n",
       "</style>\n",
       "<table border=\"1\" class=\"dataframe\">\n",
       "  <thead>\n",
       "    <tr style=\"text-align: right;\">\n",
       "      <th></th>\n",
       "      <th>Unnamed: 0</th>\n",
       "      <th>email</th>\n",
       "      <th>cliente</th>\n",
       "      <th>FechaSaldos</th>\n",
       "      <th>periodo_cli</th>\n",
       "      <th>periodo</th>\n",
       "      <th>cant_productos</th>\n",
       "      <th>cant_PF</th>\n",
       "      <th>cant_TC</th>\n",
       "      <th>cant_PP</th>\n",
       "      <th>...</th>\n",
       "      <th>cant_PP_ant_2</th>\n",
       "      <th>SaldoPromedioCAPesos_ant_2</th>\n",
       "      <th>SaldoPromedioCADolares_ant_2</th>\n",
       "      <th>SaldoPromedioCCAcreedor_ant_2</th>\n",
       "      <th>importe_consumos_ant_2</th>\n",
       "      <th>TotalConsumoTD_ant_2</th>\n",
       "      <th>cuotas_faltantes_2</th>\n",
       "      <th>score_deuda</th>\n",
       "      <th>target</th>\n",
       "      <th>target2</th>\n",
       "    </tr>\n",
       "  </thead>\n",
       "  <tbody>\n",
       "    <tr>\n",
       "      <th>0</th>\n",
       "      <td>0</td>\n",
       "      <td>cliente@mail.com</td>\n",
       "      <td>0</td>\n",
       "      <td>2019-12-06 09:45:00</td>\n",
       "      <td>24240</td>\n",
       "      <td>24240</td>\n",
       "      <td>2</td>\n",
       "      <td>0</td>\n",
       "      <td>0</td>\n",
       "      <td>0</td>\n",
       "      <td>...</td>\n",
       "      <td>0</td>\n",
       "      <td>9440.56</td>\n",
       "      <td>0.00</td>\n",
       "      <td>0.0</td>\n",
       "      <td>0</td>\n",
       "      <td>4577.00</td>\n",
       "      <td>0</td>\n",
       "      <td>NaN</td>\n",
       "      <td>0.0</td>\n",
       "      <td>0.0</td>\n",
       "    </tr>\n",
       "    <tr>\n",
       "      <th>1</th>\n",
       "      <td>1</td>\n",
       "      <td>cliente@mail.com</td>\n",
       "      <td>1</td>\n",
       "      <td>2019-12-06 09:45:00</td>\n",
       "      <td>24240</td>\n",
       "      <td>24240</td>\n",
       "      <td>1</td>\n",
       "      <td>0</td>\n",
       "      <td>0</td>\n",
       "      <td>0</td>\n",
       "      <td>...</td>\n",
       "      <td>0</td>\n",
       "      <td>5029.59</td>\n",
       "      <td>0.00</td>\n",
       "      <td>0.0</td>\n",
       "      <td>0</td>\n",
       "      <td>8813.89</td>\n",
       "      <td>0</td>\n",
       "      <td>NaN</td>\n",
       "      <td>0.0</td>\n",
       "      <td>0.0</td>\n",
       "    </tr>\n",
       "    <tr>\n",
       "      <th>2</th>\n",
       "      <td>2</td>\n",
       "      <td>cliente@mail.com</td>\n",
       "      <td>2</td>\n",
       "      <td>2019-12-06 09:45:00</td>\n",
       "      <td>24240</td>\n",
       "      <td>24240</td>\n",
       "      <td>1</td>\n",
       "      <td>0</td>\n",
       "      <td>0</td>\n",
       "      <td>0</td>\n",
       "      <td>...</td>\n",
       "      <td>0</td>\n",
       "      <td>50156.32</td>\n",
       "      <td>0.00</td>\n",
       "      <td>0.0</td>\n",
       "      <td>0</td>\n",
       "      <td>10387.20</td>\n",
       "      <td>0</td>\n",
       "      <td>0.0</td>\n",
       "      <td>0.0</td>\n",
       "      <td>0.0</td>\n",
       "    </tr>\n",
       "    <tr>\n",
       "      <th>3</th>\n",
       "      <td>3</td>\n",
       "      <td>cliente@mail.com</td>\n",
       "      <td>3</td>\n",
       "      <td>2019-12-06 09:45:00</td>\n",
       "      <td>24240</td>\n",
       "      <td>24240</td>\n",
       "      <td>6</td>\n",
       "      <td>0</td>\n",
       "      <td>3</td>\n",
       "      <td>0</td>\n",
       "      <td>...</td>\n",
       "      <td>0</td>\n",
       "      <td>26082.85</td>\n",
       "      <td>0.00</td>\n",
       "      <td>0.0</td>\n",
       "      <td>0</td>\n",
       "      <td>600.00</td>\n",
       "      <td>0</td>\n",
       "      <td>1.0</td>\n",
       "      <td>0.0</td>\n",
       "      <td>0.0</td>\n",
       "    </tr>\n",
       "    <tr>\n",
       "      <th>4</th>\n",
       "      <td>4</td>\n",
       "      <td>cliente@mail.com</td>\n",
       "      <td>4</td>\n",
       "      <td>2019-12-06 09:45:00</td>\n",
       "      <td>24240</td>\n",
       "      <td>24240</td>\n",
       "      <td>6</td>\n",
       "      <td>1</td>\n",
       "      <td>2</td>\n",
       "      <td>0</td>\n",
       "      <td>...</td>\n",
       "      <td>0</td>\n",
       "      <td>103080.40</td>\n",
       "      <td>470.04</td>\n",
       "      <td>0.0</td>\n",
       "      <td>0</td>\n",
       "      <td>1618.19</td>\n",
       "      <td>0</td>\n",
       "      <td>0.0</td>\n",
       "      <td>0.0</td>\n",
       "      <td>1.0</td>\n",
       "    </tr>\n",
       "  </tbody>\n",
       "</table>\n",
       "<p>5 rows × 44 columns</p>\n",
       "</div>"
      ],
      "text/plain": [
       "   Unnamed: 0             email  cliente          FechaSaldos  periodo_cli  \\\n",
       "0           0  cliente@mail.com        0  2019-12-06 09:45:00        24240   \n",
       "1           1  cliente@mail.com        1  2019-12-06 09:45:00        24240   \n",
       "2           2  cliente@mail.com        2  2019-12-06 09:45:00        24240   \n",
       "3           3  cliente@mail.com        3  2019-12-06 09:45:00        24240   \n",
       "4           4  cliente@mail.com        4  2019-12-06 09:45:00        24240   \n",
       "\n",
       "   periodo  cant_productos  cant_PF  cant_TC  cant_PP  ... cant_PP_ant_2  \\\n",
       "0    24240               2        0        0        0  ...             0   \n",
       "1    24240               1        0        0        0  ...             0   \n",
       "2    24240               1        0        0        0  ...             0   \n",
       "3    24240               6        0        3        0  ...             0   \n",
       "4    24240               6        1        2        0  ...             0   \n",
       "\n",
       "   SaldoPromedioCAPesos_ant_2  SaldoPromedioCADolares_ant_2  \\\n",
       "0                     9440.56                          0.00   \n",
       "1                     5029.59                          0.00   \n",
       "2                    50156.32                          0.00   \n",
       "3                    26082.85                          0.00   \n",
       "4                   103080.40                        470.04   \n",
       "\n",
       "   SaldoPromedioCCAcreedor_ant_2 importe_consumos_ant_2  TotalConsumoTD_ant_2  \\\n",
       "0                            0.0                      0               4577.00   \n",
       "1                            0.0                      0               8813.89   \n",
       "2                            0.0                      0              10387.20   \n",
       "3                            0.0                      0                600.00   \n",
       "4                            0.0                      0               1618.19   \n",
       "\n",
       "   cuotas_faltantes_2  score_deuda  target  target2  \n",
       "0                   0          NaN     0.0      0.0  \n",
       "1                   0          NaN     0.0      0.0  \n",
       "2                   0          0.0     0.0      0.0  \n",
       "3                   0          1.0     0.0      0.0  \n",
       "4                   0          0.0     0.0      1.0  \n",
       "\n",
       "[5 rows x 44 columns]"
      ]
     },
     "execution_count": 4,
     "metadata": {},
     "output_type": "execute_result"
    }
   ],
   "source": [
    "data.head()"
   ]
  },
  {
   "cell_type": "code",
   "execution_count": 5,
   "metadata": {},
   "outputs": [
    {
     "data": {
      "text/plain": [
       "Index(['Unnamed: 0', 'email', 'cliente', 'FechaSaldos', 'periodo_cli',\n",
       "       'periodo', 'cant_productos', 'cant_PF', 'cant_TC', 'cant_PP',\n",
       "       'FechaUltMovCA', 'cant_seguros', 'importe_consumos', 'Edad', 'Sexo',\n",
       "       'SaldoPromedioCAPesos', 'SaldoPromedioCADolares',\n",
       "       'SaldoPromedioCCAcreedor', 'TotalConsumoTD', 'TipoCuentaAcredHab',\n",
       "       'CategoriaProducto', 'FechaVinculacion', 'cuotas_faltantes_1',\n",
       "       'cant_PF_ant_1', 'cant_TC_ant_1', 'cant_PP_ant_1',\n",
       "       'SaldoPromedioCAPesos_ant_1', 'SaldoPromedioCADolares_ant_1',\n",
       "       'SaldoPromedioCCAcreedor_ant_1', 'importe_consumos_ant_1',\n",
       "       'TotalConsumoTD_ant_1', 'cuotas_faltantes', 'cant_PF_ant_2',\n",
       "       'cant_TC_ant_2', 'cant_PP_ant_2', 'SaldoPromedioCAPesos_ant_2',\n",
       "       'SaldoPromedioCADolares_ant_2', 'SaldoPromedioCCAcreedor_ant_2',\n",
       "       'importe_consumos_ant_2', 'TotalConsumoTD_ant_2', 'cuotas_faltantes_2',\n",
       "       'score_deuda', 'target', 'target2'],\n",
       "      dtype='object')"
      ]
     },
     "execution_count": 5,
     "metadata": {},
     "output_type": "execute_result"
    }
   ],
   "source": [
    "data.columns"
   ]
  },
  {
   "cell_type": "code",
   "execution_count": 6,
   "metadata": {},
   "outputs": [
    {
     "data": {
      "text/plain": [
       "0         JUB00021\n",
       "1         JUB00021\n",
       "2         JUB00021\n",
       "3         JUB00021\n",
       "4         K  00021\n",
       "            ...   \n",
       "494882    PRI00001\n",
       "494883    PRI00001\n",
       "494884    PRI00001\n",
       "494885    PRI00001\n",
       "494886    CON00001\n",
       "Name: CategoriaProducto, Length: 494887, dtype: object"
      ]
     },
     "execution_count": 6,
     "metadata": {},
     "output_type": "execute_result"
    }
   ],
   "source": [
    "data['CategoriaProducto']"
   ]
  },
  {
   "cell_type": "code",
   "execution_count": 7,
   "metadata": {},
   "outputs": [
    {
     "data": {
      "text/plain": [
       "0.0    491817\n",
       "1.0      3070\n",
       "Name: target, dtype: int64"
      ]
     },
     "execution_count": 7,
     "metadata": {},
     "output_type": "execute_result"
    }
   ],
   "source": [
    "data['target'].value_counts()"
   ]
  },
  {
   "cell_type": "code",
   "execution_count": 8,
   "metadata": {},
   "outputs": [
    {
     "data": {
      "text/plain": [
       "0.0    318543\n",
       "1.0    176344\n",
       "Name: target2, dtype: int64"
      ]
     },
     "execution_count": 8,
     "metadata": {},
     "output_type": "execute_result"
    }
   ],
   "source": [
    "data['target2'].value_counts()"
   ]
  },
  {
   "cell_type": "code",
   "execution_count": 9,
   "metadata": {},
   "outputs": [
    {
     "data": {
      "text/plain": [
       "0.0    318543\n",
       "1.0    173274\n",
       "Name: target2, dtype: int64"
      ]
     },
     "execution_count": 9,
     "metadata": {},
     "output_type": "execute_result"
    }
   ],
   "source": [
    "data[data['target']==0.0]['target2'].value_counts()"
   ]
  },
  {
   "cell_type": "code",
   "execution_count": 10,
   "metadata": {},
   "outputs": [
    {
     "data": {
      "text/plain": [
       "1.0    3070\n",
       "Name: target2, dtype: int64"
      ]
     },
     "execution_count": 10,
     "metadata": {},
     "output_type": "execute_result"
    }
   ],
   "source": [
    "data[data['target']==1.0]['target2'].value_counts()"
   ]
  },
  {
   "cell_type": "code",
   "execution_count": 11,
   "metadata": {
    "scrolled": true
   },
   "outputs": [
    {
     "data": {
      "text/plain": [
       "0.0    99056\n",
       "1.0     1196\n",
       "Name: target, dtype: int64"
      ]
     },
     "execution_count": 11,
     "metadata": {},
     "output_type": "execute_result"
    }
   ],
   "source": [
    "data[data['cant_TC']==0]['target'].value_counts()"
   ]
  },
  {
   "cell_type": "code",
   "execution_count": 12,
   "metadata": {},
   "outputs": [
    {
     "data": {
      "text/plain": [
       "(494887, 44)"
      ]
     },
     "execution_count": 12,
     "metadata": {},
     "output_type": "execute_result"
    }
   ],
   "source": [
    "#veremos el tamaño del dataset\n",
    "data.shape"
   ]
  },
  {
   "cell_type": "code",
   "execution_count": 13,
   "metadata": {},
   "outputs": [
    {
     "data": {
      "text/plain": [
       "Unnamed: 0                       247789\n",
       "email                                 1\n",
       "cliente                          247789\n",
       "FechaSaldos                           3\n",
       "periodo_cli                           3\n",
       "periodo                               3\n",
       "cant_productos                       58\n",
       "cant_PF                              44\n",
       "cant_TC                              25\n",
       "cant_PP                               6\n",
       "FechaUltMovCA                       971\n",
       "cant_seguros                         18\n",
       "importe_consumos                    317\n",
       "Edad                                115\n",
       "Sexo                                  3\n",
       "SaldoPromedioCAPesos             411491\n",
       "SaldoPromedioCADolares            63559\n",
       "SaldoPromedioCCAcreedor           11063\n",
       "TotalConsumoTD                   187122\n",
       "TipoCuentaAcredHab                    1\n",
       "CategoriaProducto                    28\n",
       "FechaVinculacion                   5134\n",
       "cuotas_faltantes_1                  271\n",
       "cant_PF_ant_1                        43\n",
       "cant_TC_ant_1                        25\n",
       "cant_PP_ant_1                         6\n",
       "SaldoPromedioCAPesos_ant_1       407103\n",
       "SaldoPromedioCADolares_ant_1      65897\n",
       "SaldoPromedioCCAcreedor_ant_1     10813\n",
       "importe_consumos_ant_1              307\n",
       "TotalConsumoTD_ant_1             180445\n",
       "cuotas_faltantes                    272\n",
       "cant_PF_ant_2                        33\n",
       "cant_TC_ant_2                        25\n",
       "cant_PP_ant_2                         6\n",
       "SaldoPromedioCAPesos_ant_2       405673\n",
       "SaldoPromedioCADolares_ant_2      65456\n",
       "SaldoPromedioCCAcreedor_ant_2     10853\n",
       "importe_consumos_ant_2              299\n",
       "TotalConsumoTD_ant_2             179773\n",
       "cuotas_faltantes_2                  276\n",
       "score_deuda                           6\n",
       "target                                2\n",
       "target2                               2\n",
       "dtype: int64"
      ]
     },
     "execution_count": 13,
     "metadata": {},
     "output_type": "execute_result"
    }
   ],
   "source": [
    "#chequeamos columnas con valores unicos\n",
    "data.nunique()"
   ]
  },
  {
   "cell_type": "markdown",
   "metadata": {},
   "source": [
    "## Análisis y transformación de datos"
   ]
  },
  {
   "cell_type": "markdown",
   "metadata": {},
   "source": [
    "### Eliminamos columnas que no aportan nada"
   ]
  },
  {
   "cell_type": "code",
   "execution_count": 14,
   "metadata": {},
   "outputs": [
    {
     "data": {
      "text/plain": [
       "['email', 'TipoCuentaAcredHab']"
      ]
     },
     "execution_count": 14,
     "metadata": {},
     "output_type": "execute_result"
    }
   ],
   "source": [
    "#tenemos columnas con un unico valor para todos los registros, a estas las eliminaremos porque no aportan valor\n",
    "[x for x in data.columns if data[x].nunique()==1]"
   ]
  },
  {
   "cell_type": "code",
   "execution_count": 15,
   "metadata": {},
   "outputs": [],
   "source": [
    "#la columna cliente tampoco aporta nada asi que la eliminamos tmb \n",
    "to_remove = ['cliente'] + [x for x in data.columns if data[x].nunique()==1]"
   ]
  },
  {
   "cell_type": "code",
   "execution_count": 16,
   "metadata": {},
   "outputs": [],
   "source": [
    "#eliminamos entonces estas columnas\n",
    "data.drop(columns=to_remove,inplace=True)"
   ]
  },
  {
   "cell_type": "markdown",
   "metadata": {},
   "source": [
    "### Chequeamos duplicados"
   ]
  },
  {
   "cell_type": "code",
   "execution_count": 17,
   "metadata": {},
   "outputs": [
    {
     "data": {
      "text/plain": [
       "False"
      ]
     },
     "execution_count": 17,
     "metadata": {},
     "output_type": "execute_result"
    }
   ],
   "source": [
    "data.duplicated().any() # chequeamos si hay duplicados de registros, si hay los borramos con drop_duplicates()"
   ]
  },
  {
   "cell_type": "code",
   "execution_count": 18,
   "metadata": {},
   "outputs": [
    {
     "data": {
      "text/plain": [
       "(494887, 41)"
      ]
     },
     "execution_count": 18,
     "metadata": {},
     "output_type": "execute_result"
    }
   ],
   "source": [
    "data.shape"
   ]
  },
  {
   "cell_type": "markdown",
   "metadata": {},
   "source": [
    "### Chequeamos faltantes"
   ]
  },
  {
   "cell_type": "code",
   "execution_count": 19,
   "metadata": {},
   "outputs": [
    {
     "data": {
      "text/plain": [
       "<matplotlib.axes._subplots.AxesSubplot at 0x1b600ffb848>"
      ]
     },
     "execution_count": 19,
     "metadata": {},
     "output_type": "execute_result"
    },
    {
     "data": {
      "image/png": "[encoded data removed]",
      "text/plain": [
       "<Figure size 432x288 with 1 Axes>"
      ]
     },
     "metadata": {
      "needs_background": "light"
     },
     "output_type": "display_data"
    }
   ],
   "source": [
    "#haremos un heatmap para ver nulos \n",
    "sns.heatmap(data[data.columns[0:45]].isnull(), cbar=False)"
   ]
  },
  {
   "cell_type": "code",
   "execution_count": 20,
   "metadata": {},
   "outputs": [
    {
     "data": {
      "text/plain": [
       "<matplotlib.axes._subplots.AxesSubplot at 0x1b60a465148>"
      ]
     },
     "execution_count": 20,
     "metadata": {},
     "output_type": "execute_result"
    },
    {
     "data": {
      "image/png": "[encoded data removed]",
      "text/plain": [
       "<Figure size 432x288 with 1 Axes>"
      ]
     },
     "metadata": {
      "needs_background": "light"
     },
     "output_type": "display_data"
    }
   ],
   "source": [
    "#no se visualiza bien asi que haremos heatmaps incluyendo menos columnas para analizar mejor \n",
    "sns.heatmap(data[data.columns[0:15]].isnull(), cbar=False)"
   ]
  },
  {
   "cell_type": "markdown",
   "metadata": {},
   "source": [
    "Vemos muchos nulos en FechaUltMovCA"
   ]
  },
  {
   "cell_type": "code",
   "execution_count": 21,
   "metadata": {},
   "outputs": [
    {
     "data": {
      "text/plain": [
       "<matplotlib.axes._subplots.AxesSubplot at 0x1b6088a9148>"
      ]
     },
     "execution_count": 21,
     "metadata": {},
     "output_type": "execute_result"
    },
    {
     "data": {
      "image/png": "[encoded data removed]",
      "text/plain": [
       "<Figure size 432x288 with 1 Axes>"
      ]
     },
     "metadata": {
      "needs_background": "light"
     },
     "output_type": "display_data"
    }
   ],
   "source": [
    "sns.heatmap(data[data.columns[15:30]].isnull(), cbar=False)"
   ]
  },
  {
   "cell_type": "markdown",
   "metadata": {},
   "source": [
    "fecha vinculacion tiene muchos nulos tambien, la trabajaremos para ver si hay periodos no consecutivos con altas "
   ]
  },
  {
   "cell_type": "code",
   "execution_count": 22,
   "metadata": {},
   "outputs": [
    {
     "data": {
      "text/plain": [
       "<matplotlib.axes._subplots.AxesSubplot at 0x1b6081c6488>"
      ]
     },
     "execution_count": 22,
     "metadata": {},
     "output_type": "execute_result"
    },
    {
     "data": {
      "image/png": "[encoded data removed]",
      "text/plain": [
       "<Figure size 432x288 with 1 Axes>"
      ]
     },
     "metadata": {
      "needs_background": "light"
     },
     "output_type": "display_data"
    }
   ],
   "source": [
    "sns.heatmap(data[data.columns[30:45]].isnull(), cbar=False)"
   ]
  },
  {
   "cell_type": "markdown",
   "metadata": {},
   "source": [
    "score deuda tiene muchos nulos tambien pero sabemos que equivalen a no tener deuda\n",
    "vemos otros nulos en otras 4 columnas que son igual para todos los registros "
   ]
  },
  {
   "cell_type": "code",
   "execution_count": 23,
   "metadata": {},
   "outputs": [
    {
     "data": {
      "text/plain": [
       "<matplotlib.axes._subplots.AxesSubplot at 0x1b607a78b08>"
      ]
     },
     "execution_count": 23,
     "metadata": {},
     "output_type": "execute_result"
    },
    {
     "data": {
      "image/png": "[encoded data removed]",
      "text/plain": [
       "<Figure size 432x288 with 1 Axes>"
      ]
     },
     "metadata": {
      "needs_background": "light"
     },
     "output_type": "display_data"
    }
   ],
   "source": [
    "#contaremos la cantidad de nulos para cada columna \n",
    "nullcount = {col:data[col].isnull().sum() for col in data.columns}\n",
    "#y haremos una serie con estos valores para graficarlo como grafico de barras\n",
    "missing = pd.Series(nullcount)\n",
    "#ahora graficamos valores relativos solamente de las variables que contienen nulos, por eso usamos div\n",
    "missing[missing>0].div(data.shape[0]).plot.bar()"
   ]
  },
  {
   "cell_type": "markdown",
   "metadata": {},
   "source": [
    "### Trabajaremos con fecha de vinculacion"
   ]
  },
  {
   "cell_type": "code",
   "execution_count": 24,
   "metadata": {},
   "outputs": [
    {
     "data": {
      "text/plain": [
       "dtype('O')"
      ]
     },
     "execution_count": 24,
     "metadata": {},
     "output_type": "execute_result"
    }
   ],
   "source": [
    "data['FechaVinculacion'].dtype"
   ]
  },
  {
   "cell_type": "code",
   "execution_count": 25,
   "metadata": {},
   "outputs": [],
   "source": [
    "#lo primero que haremos sera convertirla a formato date\n",
    "data['Date'] = pd.to_datetime(data['FechaVinculacion'])"
   ]
  },
  {
   "cell_type": "code",
   "execution_count": 26,
   "metadata": {},
   "outputs": [],
   "source": [
    "#y obtendremos otros datos para trabajarla con una tabla pivot\n",
    "data['Month'] = data['Date'].dt.month # obtenemos el numero de mes\n",
    "data['Year'] = data['Date'].dt.year # obtenemos el año\n",
    "data['Period'] = data['Date'].dt.to_period('M') # obtenemos el periodo, en formato año/mes\n",
    "data.sort_values('Date', inplace=True) # ordenamos por fecha de activacion a los datos"
   ]
  },
  {
   "cell_type": "code",
   "execution_count": 27,
   "metadata": {},
   "outputs": [
    {
     "data": {
      "text/html": [
       "<div>\n",
       "<style scoped>\n",
       "    .dataframe tbody tr th:only-of-type {\n",
       "        vertical-align: middle;\n",
       "    }\n",
       "\n",
       "    .dataframe tbody tr th {\n",
       "        vertical-align: top;\n",
       "    }\n",
       "\n",
       "    .dataframe thead tr th {\n",
       "        text-align: left;\n",
       "    }\n",
       "\n",
       "    .dataframe thead tr:last-of-type th {\n",
       "        text-align: right;\n",
       "    }\n",
       "</style>\n",
       "<table border=\"1\" class=\"dataframe\">\n",
       "  <thead>\n",
       "    <tr>\n",
       "      <th></th>\n",
       "      <th colspan=\"12\" halign=\"left\">size</th>\n",
       "    </tr>\n",
       "    <tr>\n",
       "      <th>Month</th>\n",
       "      <th>1.0</th>\n",
       "      <th>2.0</th>\n",
       "      <th>3.0</th>\n",
       "      <th>4.0</th>\n",
       "      <th>5.0</th>\n",
       "      <th>6.0</th>\n",
       "      <th>7.0</th>\n",
       "      <th>8.0</th>\n",
       "      <th>9.0</th>\n",
       "      <th>10.0</th>\n",
       "      <th>11.0</th>\n",
       "      <th>12.0</th>\n",
       "    </tr>\n",
       "    <tr>\n",
       "      <th>Year</th>\n",
       "      <th></th>\n",
       "      <th></th>\n",
       "      <th></th>\n",
       "      <th></th>\n",
       "      <th></th>\n",
       "      <th></th>\n",
       "      <th></th>\n",
       "      <th></th>\n",
       "      <th></th>\n",
       "      <th></th>\n",
       "      <th></th>\n",
       "      <th></th>\n",
       "    </tr>\n",
       "  </thead>\n",
       "  <tbody>\n",
       "    <tr>\n",
       "      <th>1990.0</th>\n",
       "      <td>26.0</td>\n",
       "      <td>NaN</td>\n",
       "      <td>NaN</td>\n",
       "      <td>NaN</td>\n",
       "      <td>NaN</td>\n",
       "      <td>NaN</td>\n",
       "      <td>NaN</td>\n",
       "      <td>NaN</td>\n",
       "      <td>NaN</td>\n",
       "      <td>NaN</td>\n",
       "      <td>NaN</td>\n",
       "      <td>NaN</td>\n",
       "    </tr>\n",
       "    <tr>\n",
       "      <th>1995.0</th>\n",
       "      <td>2.0</td>\n",
       "      <td>2.0</td>\n",
       "      <td>2.0</td>\n",
       "      <td>NaN</td>\n",
       "      <td>NaN</td>\n",
       "      <td>NaN</td>\n",
       "      <td>NaN</td>\n",
       "      <td>NaN</td>\n",
       "      <td>5.0</td>\n",
       "      <td>NaN</td>\n",
       "      <td>NaN</td>\n",
       "      <td>NaN</td>\n",
       "    </tr>\n",
       "    <tr>\n",
       "      <th>1996.0</th>\n",
       "      <td>NaN</td>\n",
       "      <td>NaN</td>\n",
       "      <td>3.0</td>\n",
       "      <td>NaN</td>\n",
       "      <td>NaN</td>\n",
       "      <td>NaN</td>\n",
       "      <td>NaN</td>\n",
       "      <td>NaN</td>\n",
       "      <td>1.0</td>\n",
       "      <td>NaN</td>\n",
       "      <td>NaN</td>\n",
       "      <td>NaN</td>\n",
       "    </tr>\n",
       "    <tr>\n",
       "      <th>1997.0</th>\n",
       "      <td>NaN</td>\n",
       "      <td>NaN</td>\n",
       "      <td>2.0</td>\n",
       "      <td>NaN</td>\n",
       "      <td>NaN</td>\n",
       "      <td>NaN</td>\n",
       "      <td>NaN</td>\n",
       "      <td>NaN</td>\n",
       "      <td>NaN</td>\n",
       "      <td>NaN</td>\n",
       "      <td>NaN</td>\n",
       "      <td>NaN</td>\n",
       "    </tr>\n",
       "    <tr>\n",
       "      <th>1998.0</th>\n",
       "      <td>NaN</td>\n",
       "      <td>NaN</td>\n",
       "      <td>NaN</td>\n",
       "      <td>2.0</td>\n",
       "      <td>NaN</td>\n",
       "      <td>NaN</td>\n",
       "      <td>NaN</td>\n",
       "      <td>NaN</td>\n",
       "      <td>NaN</td>\n",
       "      <td>NaN</td>\n",
       "      <td>NaN</td>\n",
       "      <td>NaN</td>\n",
       "    </tr>\n",
       "    <tr>\n",
       "      <th>1999.0</th>\n",
       "      <td>NaN</td>\n",
       "      <td>NaN</td>\n",
       "      <td>2.0</td>\n",
       "      <td>NaN</td>\n",
       "      <td>1002.0</td>\n",
       "      <td>1966.0</td>\n",
       "      <td>943.0</td>\n",
       "      <td>1524.0</td>\n",
       "      <td>999.0</td>\n",
       "      <td>759.0</td>\n",
       "      <td>602.0</td>\n",
       "      <td>541.0</td>\n",
       "    </tr>\n",
       "    <tr>\n",
       "      <th>2000.0</th>\n",
       "      <td>539.0</td>\n",
       "      <td>585.0</td>\n",
       "      <td>620.0</td>\n",
       "      <td>820.0</td>\n",
       "      <td>894.0</td>\n",
       "      <td>657.0</td>\n",
       "      <td>655.0</td>\n",
       "      <td>769.0</td>\n",
       "      <td>559.0</td>\n",
       "      <td>902.0</td>\n",
       "      <td>632.0</td>\n",
       "      <td>640.0</td>\n",
       "    </tr>\n",
       "    <tr>\n",
       "      <th>2001.0</th>\n",
       "      <td>703.0</td>\n",
       "      <td>521.0</td>\n",
       "      <td>561.0</td>\n",
       "      <td>670.0</td>\n",
       "      <td>812.0</td>\n",
       "      <td>610.0</td>\n",
       "      <td>786.0</td>\n",
       "      <td>773.0</td>\n",
       "      <td>856.0</td>\n",
       "      <td>757.0</td>\n",
       "      <td>715.0</td>\n",
       "      <td>1727.0</td>\n",
       "    </tr>\n",
       "    <tr>\n",
       "      <th>2002.0</th>\n",
       "      <td>841.0</td>\n",
       "      <td>576.0</td>\n",
       "      <td>714.0</td>\n",
       "      <td>469.0</td>\n",
       "      <td>800.0</td>\n",
       "      <td>1023.0</td>\n",
       "      <td>710.0</td>\n",
       "      <td>661.0</td>\n",
       "      <td>856.0</td>\n",
       "      <td>724.0</td>\n",
       "      <td>627.0</td>\n",
       "      <td>572.0</td>\n",
       "    </tr>\n",
       "    <tr>\n",
       "      <th>2003.0</th>\n",
       "      <td>559.0</td>\n",
       "      <td>511.0</td>\n",
       "      <td>627.0</td>\n",
       "      <td>819.0</td>\n",
       "      <td>787.0</td>\n",
       "      <td>899.0</td>\n",
       "      <td>812.0</td>\n",
       "      <td>738.0</td>\n",
       "      <td>1055.0</td>\n",
       "      <td>747.0</td>\n",
       "      <td>685.0</td>\n",
       "      <td>680.0</td>\n",
       "    </tr>\n",
       "    <tr>\n",
       "      <th>2004.0</th>\n",
       "      <td>647.0</td>\n",
       "      <td>711.0</td>\n",
       "      <td>1184.0</td>\n",
       "      <td>1004.0</td>\n",
       "      <td>982.0</td>\n",
       "      <td>1040.0</td>\n",
       "      <td>1104.0</td>\n",
       "      <td>1138.0</td>\n",
       "      <td>1000.0</td>\n",
       "      <td>866.0</td>\n",
       "      <td>1001.0</td>\n",
       "      <td>941.0</td>\n",
       "    </tr>\n",
       "    <tr>\n",
       "      <th>2005.0</th>\n",
       "      <td>740.0</td>\n",
       "      <td>682.0</td>\n",
       "      <td>942.0</td>\n",
       "      <td>1523.0</td>\n",
       "      <td>1255.0</td>\n",
       "      <td>1294.0</td>\n",
       "      <td>1080.0</td>\n",
       "      <td>1143.0</td>\n",
       "      <td>1240.0</td>\n",
       "      <td>1194.0</td>\n",
       "      <td>1110.0</td>\n",
       "      <td>953.0</td>\n",
       "    </tr>\n",
       "    <tr>\n",
       "      <th>2006.0</th>\n",
       "      <td>959.0</td>\n",
       "      <td>758.0</td>\n",
       "      <td>1071.0</td>\n",
       "      <td>1261.0</td>\n",
       "      <td>1172.0</td>\n",
       "      <td>1122.0</td>\n",
       "      <td>1356.0</td>\n",
       "      <td>1150.0</td>\n",
       "      <td>1356.0</td>\n",
       "      <td>1205.0</td>\n",
       "      <td>1234.0</td>\n",
       "      <td>1942.0</td>\n",
       "    </tr>\n",
       "    <tr>\n",
       "      <th>2007.0</th>\n",
       "      <td>1278.0</td>\n",
       "      <td>1001.0</td>\n",
       "      <td>1490.0</td>\n",
       "      <td>1299.0</td>\n",
       "      <td>1530.0</td>\n",
       "      <td>1627.0</td>\n",
       "      <td>1598.0</td>\n",
       "      <td>1422.0</td>\n",
       "      <td>1232.0</td>\n",
       "      <td>1334.0</td>\n",
       "      <td>1411.0</td>\n",
       "      <td>1112.0</td>\n",
       "    </tr>\n",
       "    <tr>\n",
       "      <th>2008.0</th>\n",
       "      <td>1138.0</td>\n",
       "      <td>879.0</td>\n",
       "      <td>942.0</td>\n",
       "      <td>1288.0</td>\n",
       "      <td>1644.0</td>\n",
       "      <td>1270.0</td>\n",
       "      <td>1533.0</td>\n",
       "      <td>1497.0</td>\n",
       "      <td>1468.0</td>\n",
       "      <td>1338.0</td>\n",
       "      <td>1055.0</td>\n",
       "      <td>1021.0</td>\n",
       "    </tr>\n",
       "    <tr>\n",
       "      <th>2009.0</th>\n",
       "      <td>676.0</td>\n",
       "      <td>696.0</td>\n",
       "      <td>883.0</td>\n",
       "      <td>1114.0</td>\n",
       "      <td>1513.0</td>\n",
       "      <td>1502.0</td>\n",
       "      <td>1372.0</td>\n",
       "      <td>1156.0</td>\n",
       "      <td>1517.0</td>\n",
       "      <td>1214.0</td>\n",
       "      <td>1462.0</td>\n",
       "      <td>1454.0</td>\n",
       "    </tr>\n",
       "    <tr>\n",
       "      <th>2010.0</th>\n",
       "      <td>1092.0</td>\n",
       "      <td>882.0</td>\n",
       "      <td>8354.0</td>\n",
       "      <td>1073.0</td>\n",
       "      <td>1589.0</td>\n",
       "      <td>1872.0</td>\n",
       "      <td>1812.0</td>\n",
       "      <td>1792.0</td>\n",
       "      <td>1490.0</td>\n",
       "      <td>1538.0</td>\n",
       "      <td>1526.0</td>\n",
       "      <td>1487.0</td>\n",
       "    </tr>\n",
       "    <tr>\n",
       "      <th>2011.0</th>\n",
       "      <td>1168.0</td>\n",
       "      <td>1239.0</td>\n",
       "      <td>1375.0</td>\n",
       "      <td>1595.0</td>\n",
       "      <td>2050.0</td>\n",
       "      <td>2047.0</td>\n",
       "      <td>2122.0</td>\n",
       "      <td>1884.0</td>\n",
       "      <td>1870.0</td>\n",
       "      <td>1900.0</td>\n",
       "      <td>1479.0</td>\n",
       "      <td>1422.0</td>\n",
       "    </tr>\n",
       "    <tr>\n",
       "      <th>2012.0</th>\n",
       "      <td>1503.0</td>\n",
       "      <td>2305.0</td>\n",
       "      <td>2181.0</td>\n",
       "      <td>1726.0</td>\n",
       "      <td>2871.0</td>\n",
       "      <td>1885.0</td>\n",
       "      <td>1725.0</td>\n",
       "      <td>1821.0</td>\n",
       "      <td>1412.0</td>\n",
       "      <td>2102.0</td>\n",
       "      <td>1971.0</td>\n",
       "      <td>1351.0</td>\n",
       "    </tr>\n",
       "    <tr>\n",
       "      <th>2013.0</th>\n",
       "      <td>1676.0</td>\n",
       "      <td>1482.0</td>\n",
       "      <td>1783.0</td>\n",
       "      <td>2020.0</td>\n",
       "      <td>2208.0</td>\n",
       "      <td>1880.0</td>\n",
       "      <td>2494.0</td>\n",
       "      <td>2352.0</td>\n",
       "      <td>2406.0</td>\n",
       "      <td>2506.0</td>\n",
       "      <td>2471.0</td>\n",
       "      <td>1790.0</td>\n",
       "    </tr>\n",
       "    <tr>\n",
       "      <th>2014.0</th>\n",
       "      <td>1715.0</td>\n",
       "      <td>1635.0</td>\n",
       "      <td>1778.0</td>\n",
       "      <td>2416.0</td>\n",
       "      <td>2092.0</td>\n",
       "      <td>2105.0</td>\n",
       "      <td>2647.0</td>\n",
       "      <td>2271.0</td>\n",
       "      <td>2069.0</td>\n",
       "      <td>2315.0</td>\n",
       "      <td>1738.0</td>\n",
       "      <td>1640.0</td>\n",
       "    </tr>\n",
       "    <tr>\n",
       "      <th>2015.0</th>\n",
       "      <td>1576.0</td>\n",
       "      <td>1484.0</td>\n",
       "      <td>1862.0</td>\n",
       "      <td>3031.0</td>\n",
       "      <td>2537.0</td>\n",
       "      <td>2813.0</td>\n",
       "      <td>2357.0</td>\n",
       "      <td>1813.0</td>\n",
       "      <td>2156.0</td>\n",
       "      <td>2306.0</td>\n",
       "      <td>1873.0</td>\n",
       "      <td>1716.0</td>\n",
       "    </tr>\n",
       "    <tr>\n",
       "      <th>2016.0</th>\n",
       "      <td>1713.0</td>\n",
       "      <td>1799.0</td>\n",
       "      <td>2577.0</td>\n",
       "      <td>3580.0</td>\n",
       "      <td>4488.0</td>\n",
       "      <td>2933.0</td>\n",
       "      <td>3619.0</td>\n",
       "      <td>2942.0</td>\n",
       "      <td>3431.0</td>\n",
       "      <td>3634.0</td>\n",
       "      <td>3571.0</td>\n",
       "      <td>2549.0</td>\n",
       "    </tr>\n",
       "    <tr>\n",
       "      <th>2017.0</th>\n",
       "      <td>3064.0</td>\n",
       "      <td>3583.0</td>\n",
       "      <td>4111.0</td>\n",
       "      <td>4525.0</td>\n",
       "      <td>4119.0</td>\n",
       "      <td>4685.0</td>\n",
       "      <td>5483.0</td>\n",
       "      <td>12074.0</td>\n",
       "      <td>4046.0</td>\n",
       "      <td>3017.0</td>\n",
       "      <td>2679.0</td>\n",
       "      <td>2331.0</td>\n",
       "    </tr>\n",
       "    <tr>\n",
       "      <th>2018.0</th>\n",
       "      <td>2301.0</td>\n",
       "      <td>1875.0</td>\n",
       "      <td>2130.0</td>\n",
       "      <td>3267.0</td>\n",
       "      <td>2750.0</td>\n",
       "      <td>2598.0</td>\n",
       "      <td>2424.0</td>\n",
       "      <td>2325.0</td>\n",
       "      <td>2182.0</td>\n",
       "      <td>2695.0</td>\n",
       "      <td>3751.0</td>\n",
       "      <td>2019.0</td>\n",
       "    </tr>\n",
       "    <tr>\n",
       "      <th>2019.0</th>\n",
       "      <td>2332.0</td>\n",
       "      <td>2745.0</td>\n",
       "      <td>3548.0</td>\n",
       "      <td>2589.0</td>\n",
       "      <td>1947.0</td>\n",
       "      <td>1716.0</td>\n",
       "      <td>1366.0</td>\n",
       "      <td>1053.0</td>\n",
       "      <td>1240.0</td>\n",
       "      <td>1845.0</td>\n",
       "      <td>1975.0</td>\n",
       "      <td>841.0</td>\n",
       "    </tr>\n",
       "    <tr>\n",
       "      <th>2020.0</th>\n",
       "      <td>59.0</td>\n",
       "      <td>9.0</td>\n",
       "      <td>NaN</td>\n",
       "      <td>NaN</td>\n",
       "      <td>NaN</td>\n",
       "      <td>NaN</td>\n",
       "      <td>NaN</td>\n",
       "      <td>NaN</td>\n",
       "      <td>NaN</td>\n",
       "      <td>NaN</td>\n",
       "      <td>NaN</td>\n",
       "      <td>NaN</td>\n",
       "    </tr>\n",
       "  </tbody>\n",
       "</table>\n",
       "</div>"
      ],
      "text/plain": [
       "          size                                                           \\\n",
       "Month     1.0     2.0     3.0     4.0     5.0     6.0     7.0      8.0    \n",
       "Year                                                                      \n",
       "1990.0    26.0     NaN     NaN     NaN     NaN     NaN     NaN      NaN   \n",
       "1995.0     2.0     2.0     2.0     NaN     NaN     NaN     NaN      NaN   \n",
       "1996.0     NaN     NaN     3.0     NaN     NaN     NaN     NaN      NaN   \n",
       "1997.0     NaN     NaN     2.0     NaN     NaN     NaN     NaN      NaN   \n",
       "1998.0     NaN     NaN     NaN     2.0     NaN     NaN     NaN      NaN   \n",
       "1999.0     NaN     NaN     2.0     NaN  1002.0  1966.0   943.0   1524.0   \n",
       "2000.0   539.0   585.0   620.0   820.0   894.0   657.0   655.0    769.0   \n",
       "2001.0   703.0   521.0   561.0   670.0   812.0   610.0   786.0    773.0   \n",
       "2002.0   841.0   576.0   714.0   469.0   800.0  1023.0   710.0    661.0   \n",
       "2003.0   559.0   511.0   627.0   819.0   787.0   899.0   812.0    738.0   \n",
       "2004.0   647.0   711.0  1184.0  1004.0   982.0  1040.0  1104.0   1138.0   \n",
       "2005.0   740.0   682.0   942.0  1523.0  1255.0  1294.0  1080.0   1143.0   \n",
       "2006.0   959.0   758.0  1071.0  1261.0  1172.0  1122.0  1356.0   1150.0   \n",
       "2007.0  1278.0  1001.0  1490.0  1299.0  1530.0  1627.0  1598.0   1422.0   \n",
       "2008.0  1138.0   879.0   942.0  1288.0  1644.0  1270.0  1533.0   1497.0   \n",
       "2009.0   676.0   696.0   883.0  1114.0  1513.0  1502.0  1372.0   1156.0   \n",
       "2010.0  1092.0   882.0  8354.0  1073.0  1589.0  1872.0  1812.0   1792.0   \n",
       "2011.0  1168.0  1239.0  1375.0  1595.0  2050.0  2047.0  2122.0   1884.0   \n",
       "2012.0  1503.0  2305.0  2181.0  1726.0  2871.0  1885.0  1725.0   1821.0   \n",
       "2013.0  1676.0  1482.0  1783.0  2020.0  2208.0  1880.0  2494.0   2352.0   \n",
       "2014.0  1715.0  1635.0  1778.0  2416.0  2092.0  2105.0  2647.0   2271.0   \n",
       "2015.0  1576.0  1484.0  1862.0  3031.0  2537.0  2813.0  2357.0   1813.0   \n",
       "2016.0  1713.0  1799.0  2577.0  3580.0  4488.0  2933.0  3619.0   2942.0   \n",
       "2017.0  3064.0  3583.0  4111.0  4525.0  4119.0  4685.0  5483.0  12074.0   \n",
       "2018.0  2301.0  1875.0  2130.0  3267.0  2750.0  2598.0  2424.0   2325.0   \n",
       "2019.0  2332.0  2745.0  3548.0  2589.0  1947.0  1716.0  1366.0   1053.0   \n",
       "2020.0    59.0     9.0     NaN     NaN     NaN     NaN     NaN      NaN   \n",
       "\n",
       "                                        \n",
       "Month     9.0     10.0    11.0    12.0  \n",
       "Year                                    \n",
       "1990.0     NaN     NaN     NaN     NaN  \n",
       "1995.0     5.0     NaN     NaN     NaN  \n",
       "1996.0     1.0     NaN     NaN     NaN  \n",
       "1997.0     NaN     NaN     NaN     NaN  \n",
       "1998.0     NaN     NaN     NaN     NaN  \n",
       "1999.0   999.0   759.0   602.0   541.0  \n",
       "2000.0   559.0   902.0   632.0   640.0  \n",
       "2001.0   856.0   757.0   715.0  1727.0  \n",
       "2002.0   856.0   724.0   627.0   572.0  \n",
       "2003.0  1055.0   747.0   685.0   680.0  \n",
       "2004.0  1000.0   866.0  1001.0   941.0  \n",
       "2005.0  1240.0  1194.0  1110.0   953.0  \n",
       "2006.0  1356.0  1205.0  1234.0  1942.0  \n",
       "2007.0  1232.0  1334.0  1411.0  1112.0  \n",
       "2008.0  1468.0  1338.0  1055.0  1021.0  \n",
       "2009.0  1517.0  1214.0  1462.0  1454.0  \n",
       "2010.0  1490.0  1538.0  1526.0  1487.0  \n",
       "2011.0  1870.0  1900.0  1479.0  1422.0  \n",
       "2012.0  1412.0  2102.0  1971.0  1351.0  \n",
       "2013.0  2406.0  2506.0  2471.0  1790.0  \n",
       "2014.0  2069.0  2315.0  1738.0  1640.0  \n",
       "2015.0  2156.0  2306.0  1873.0  1716.0  \n",
       "2016.0  3431.0  3634.0  3571.0  2549.0  \n",
       "2017.0  4046.0  3017.0  2679.0  2331.0  \n",
       "2018.0  2182.0  2695.0  3751.0  2019.0  \n",
       "2019.0  1240.0  1845.0  1975.0   841.0  \n",
       "2020.0     NaN     NaN     NaN     NaN  "
      ]
     },
     "execution_count": 27,
     "metadata": {},
     "output_type": "execute_result"
    }
   ],
   "source": [
    "#Haremos una tabla pivot usando como indice el año y como columna los meses\n",
    "pd.pivot_table(data=data, \n",
    "               index=['Year'],\n",
    "               columns=['Month'],\n",
    "               aggfunc=['size']\n",
    "              )"
   ]
  },
  {
   "cell_type": "code",
   "execution_count": 28,
   "metadata": {},
   "outputs": [],
   "source": [
    "#vemos que hay muchos periodos con valores nulos, asi que nos quedamos con los datos desde mayo del 99 en adelante\n",
    "period = pd.to_datetime('1999-05').to_period('M') "
   ]
  },
  {
   "cell_type": "code",
   "execution_count": 29,
   "metadata": {},
   "outputs": [],
   "source": [
    "data = data[data['Period']>=period]"
   ]
  },
  {
   "cell_type": "code",
   "execution_count": 30,
   "metadata": {},
   "outputs": [
    {
     "data": {
      "text/html": [
       "<div>\n",
       "<style scoped>\n",
       "    .dataframe tbody tr th:only-of-type {\n",
       "        vertical-align: middle;\n",
       "    }\n",
       "\n",
       "    .dataframe tbody tr th {\n",
       "        vertical-align: top;\n",
       "    }\n",
       "\n",
       "    .dataframe thead tr th {\n",
       "        text-align: left;\n",
       "    }\n",
       "\n",
       "    .dataframe thead tr:last-of-type th {\n",
       "        text-align: right;\n",
       "    }\n",
       "</style>\n",
       "<table border=\"1\" class=\"dataframe\">\n",
       "  <thead>\n",
       "    <tr>\n",
       "      <th></th>\n",
       "      <th colspan=\"12\" halign=\"left\">size</th>\n",
       "    </tr>\n",
       "    <tr>\n",
       "      <th>Month</th>\n",
       "      <th>1.0</th>\n",
       "      <th>2.0</th>\n",
       "      <th>3.0</th>\n",
       "      <th>4.0</th>\n",
       "      <th>5.0</th>\n",
       "      <th>6.0</th>\n",
       "      <th>7.0</th>\n",
       "      <th>8.0</th>\n",
       "      <th>9.0</th>\n",
       "      <th>10.0</th>\n",
       "      <th>11.0</th>\n",
       "      <th>12.0</th>\n",
       "    </tr>\n",
       "    <tr>\n",
       "      <th>Year</th>\n",
       "      <th></th>\n",
       "      <th></th>\n",
       "      <th></th>\n",
       "      <th></th>\n",
       "      <th></th>\n",
       "      <th></th>\n",
       "      <th></th>\n",
       "      <th></th>\n",
       "      <th></th>\n",
       "      <th></th>\n",
       "      <th></th>\n",
       "      <th></th>\n",
       "    </tr>\n",
       "  </thead>\n",
       "  <tbody>\n",
       "    <tr>\n",
       "      <th>1999.0</th>\n",
       "      <td>NaN</td>\n",
       "      <td>NaN</td>\n",
       "      <td>NaN</td>\n",
       "      <td>NaN</td>\n",
       "      <td>1002.0</td>\n",
       "      <td>1966.0</td>\n",
       "      <td>943.0</td>\n",
       "      <td>1524.0</td>\n",
       "      <td>999.0</td>\n",
       "      <td>759.0</td>\n",
       "      <td>602.0</td>\n",
       "      <td>541.0</td>\n",
       "    </tr>\n",
       "    <tr>\n",
       "      <th>2000.0</th>\n",
       "      <td>539.0</td>\n",
       "      <td>585.0</td>\n",
       "      <td>620.0</td>\n",
       "      <td>820.0</td>\n",
       "      <td>894.0</td>\n",
       "      <td>657.0</td>\n",
       "      <td>655.0</td>\n",
       "      <td>769.0</td>\n",
       "      <td>559.0</td>\n",
       "      <td>902.0</td>\n",
       "      <td>632.0</td>\n",
       "      <td>640.0</td>\n",
       "    </tr>\n",
       "    <tr>\n",
       "      <th>2001.0</th>\n",
       "      <td>703.0</td>\n",
       "      <td>521.0</td>\n",
       "      <td>561.0</td>\n",
       "      <td>670.0</td>\n",
       "      <td>812.0</td>\n",
       "      <td>610.0</td>\n",
       "      <td>786.0</td>\n",
       "      <td>773.0</td>\n",
       "      <td>856.0</td>\n",
       "      <td>757.0</td>\n",
       "      <td>715.0</td>\n",
       "      <td>1727.0</td>\n",
       "    </tr>\n",
       "    <tr>\n",
       "      <th>2002.0</th>\n",
       "      <td>841.0</td>\n",
       "      <td>576.0</td>\n",
       "      <td>714.0</td>\n",
       "      <td>469.0</td>\n",
       "      <td>800.0</td>\n",
       "      <td>1023.0</td>\n",
       "      <td>710.0</td>\n",
       "      <td>661.0</td>\n",
       "      <td>856.0</td>\n",
       "      <td>724.0</td>\n",
       "      <td>627.0</td>\n",
       "      <td>572.0</td>\n",
       "    </tr>\n",
       "    <tr>\n",
       "      <th>2003.0</th>\n",
       "      <td>559.0</td>\n",
       "      <td>511.0</td>\n",
       "      <td>627.0</td>\n",
       "      <td>819.0</td>\n",
       "      <td>787.0</td>\n",
       "      <td>899.0</td>\n",
       "      <td>812.0</td>\n",
       "      <td>738.0</td>\n",
       "      <td>1055.0</td>\n",
       "      <td>747.0</td>\n",
       "      <td>685.0</td>\n",
       "      <td>680.0</td>\n",
       "    </tr>\n",
       "    <tr>\n",
       "      <th>2004.0</th>\n",
       "      <td>647.0</td>\n",
       "      <td>711.0</td>\n",
       "      <td>1184.0</td>\n",
       "      <td>1004.0</td>\n",
       "      <td>982.0</td>\n",
       "      <td>1040.0</td>\n",
       "      <td>1104.0</td>\n",
       "      <td>1138.0</td>\n",
       "      <td>1000.0</td>\n",
       "      <td>866.0</td>\n",
       "      <td>1001.0</td>\n",
       "      <td>941.0</td>\n",
       "    </tr>\n",
       "    <tr>\n",
       "      <th>2005.0</th>\n",
       "      <td>740.0</td>\n",
       "      <td>682.0</td>\n",
       "      <td>942.0</td>\n",
       "      <td>1523.0</td>\n",
       "      <td>1255.0</td>\n",
       "      <td>1294.0</td>\n",
       "      <td>1080.0</td>\n",
       "      <td>1143.0</td>\n",
       "      <td>1240.0</td>\n",
       "      <td>1194.0</td>\n",
       "      <td>1110.0</td>\n",
       "      <td>953.0</td>\n",
       "    </tr>\n",
       "    <tr>\n",
       "      <th>2006.0</th>\n",
       "      <td>959.0</td>\n",
       "      <td>758.0</td>\n",
       "      <td>1071.0</td>\n",
       "      <td>1261.0</td>\n",
       "      <td>1172.0</td>\n",
       "      <td>1122.0</td>\n",
       "      <td>1356.0</td>\n",
       "      <td>1150.0</td>\n",
       "      <td>1356.0</td>\n",
       "      <td>1205.0</td>\n",
       "      <td>1234.0</td>\n",
       "      <td>1942.0</td>\n",
       "    </tr>\n",
       "    <tr>\n",
       "      <th>2007.0</th>\n",
       "      <td>1278.0</td>\n",
       "      <td>1001.0</td>\n",
       "      <td>1490.0</td>\n",
       "      <td>1299.0</td>\n",
       "      <td>1530.0</td>\n",
       "      <td>1627.0</td>\n",
       "      <td>1598.0</td>\n",
       "      <td>1422.0</td>\n",
       "      <td>1232.0</td>\n",
       "      <td>1334.0</td>\n",
       "      <td>1411.0</td>\n",
       "      <td>1112.0</td>\n",
       "    </tr>\n",
       "    <tr>\n",
       "      <th>2008.0</th>\n",
       "      <td>1138.0</td>\n",
       "      <td>879.0</td>\n",
       "      <td>942.0</td>\n",
       "      <td>1288.0</td>\n",
       "      <td>1644.0</td>\n",
       "      <td>1270.0</td>\n",
       "      <td>1533.0</td>\n",
       "      <td>1497.0</td>\n",
       "      <td>1468.0</td>\n",
       "      <td>1338.0</td>\n",
       "      <td>1055.0</td>\n",
       "      <td>1021.0</td>\n",
       "    </tr>\n",
       "    <tr>\n",
       "      <th>2009.0</th>\n",
       "      <td>676.0</td>\n",
       "      <td>696.0</td>\n",
       "      <td>883.0</td>\n",
       "      <td>1114.0</td>\n",
       "      <td>1513.0</td>\n",
       "      <td>1502.0</td>\n",
       "      <td>1372.0</td>\n",
       "      <td>1156.0</td>\n",
       "      <td>1517.0</td>\n",
       "      <td>1214.0</td>\n",
       "      <td>1462.0</td>\n",
       "      <td>1454.0</td>\n",
       "    </tr>\n",
       "    <tr>\n",
       "      <th>2010.0</th>\n",
       "      <td>1092.0</td>\n",
       "      <td>882.0</td>\n",
       "      <td>8354.0</td>\n",
       "      <td>1073.0</td>\n",
       "      <td>1589.0</td>\n",
       "      <td>1872.0</td>\n",
       "      <td>1812.0</td>\n",
       "      <td>1792.0</td>\n",
       "      <td>1490.0</td>\n",
       "      <td>1538.0</td>\n",
       "      <td>1526.0</td>\n",
       "      <td>1487.0</td>\n",
       "    </tr>\n",
       "    <tr>\n",
       "      <th>2011.0</th>\n",
       "      <td>1168.0</td>\n",
       "      <td>1239.0</td>\n",
       "      <td>1375.0</td>\n",
       "      <td>1595.0</td>\n",
       "      <td>2050.0</td>\n",
       "      <td>2047.0</td>\n",
       "      <td>2122.0</td>\n",
       "      <td>1884.0</td>\n",
       "      <td>1870.0</td>\n",
       "      <td>1900.0</td>\n",
       "      <td>1479.0</td>\n",
       "      <td>1422.0</td>\n",
       "    </tr>\n",
       "    <tr>\n",
       "      <th>2012.0</th>\n",
       "      <td>1503.0</td>\n",
       "      <td>2305.0</td>\n",
       "      <td>2181.0</td>\n",
       "      <td>1726.0</td>\n",
       "      <td>2871.0</td>\n",
       "      <td>1885.0</td>\n",
       "      <td>1725.0</td>\n",
       "      <td>1821.0</td>\n",
       "      <td>1412.0</td>\n",
       "      <td>2102.0</td>\n",
       "      <td>1971.0</td>\n",
       "      <td>1351.0</td>\n",
       "    </tr>\n",
       "    <tr>\n",
       "      <th>2013.0</th>\n",
       "      <td>1676.0</td>\n",
       "      <td>1482.0</td>\n",
       "      <td>1783.0</td>\n",
       "      <td>2020.0</td>\n",
       "      <td>2208.0</td>\n",
       "      <td>1880.0</td>\n",
       "      <td>2494.0</td>\n",
       "      <td>2352.0</td>\n",
       "      <td>2406.0</td>\n",
       "      <td>2506.0</td>\n",
       "      <td>2471.0</td>\n",
       "      <td>1790.0</td>\n",
       "    </tr>\n",
       "    <tr>\n",
       "      <th>2014.0</th>\n",
       "      <td>1715.0</td>\n",
       "      <td>1635.0</td>\n",
       "      <td>1778.0</td>\n",
       "      <td>2416.0</td>\n",
       "      <td>2092.0</td>\n",
       "      <td>2105.0</td>\n",
       "      <td>2647.0</td>\n",
       "      <td>2271.0</td>\n",
       "      <td>2069.0</td>\n",
       "      <td>2315.0</td>\n",
       "      <td>1738.0</td>\n",
       "      <td>1640.0</td>\n",
       "    </tr>\n",
       "    <tr>\n",
       "      <th>2015.0</th>\n",
       "      <td>1576.0</td>\n",
       "      <td>1484.0</td>\n",
       "      <td>1862.0</td>\n",
       "      <td>3031.0</td>\n",
       "      <td>2537.0</td>\n",
       "      <td>2813.0</td>\n",
       "      <td>2357.0</td>\n",
       "      <td>1813.0</td>\n",
       "      <td>2156.0</td>\n",
       "      <td>2306.0</td>\n",
       "      <td>1873.0</td>\n",
       "      <td>1716.0</td>\n",
       "    </tr>\n",
       "    <tr>\n",
       "      <th>2016.0</th>\n",
       "      <td>1713.0</td>\n",
       "      <td>1799.0</td>\n",
       "      <td>2577.0</td>\n",
       "      <td>3580.0</td>\n",
       "      <td>4488.0</td>\n",
       "      <td>2933.0</td>\n",
       "      <td>3619.0</td>\n",
       "      <td>2942.0</td>\n",
       "      <td>3431.0</td>\n",
       "      <td>3634.0</td>\n",
       "      <td>3571.0</td>\n",
       "      <td>2549.0</td>\n",
       "    </tr>\n",
       "    <tr>\n",
       "      <th>2017.0</th>\n",
       "      <td>3064.0</td>\n",
       "      <td>3583.0</td>\n",
       "      <td>4111.0</td>\n",
       "      <td>4525.0</td>\n",
       "      <td>4119.0</td>\n",
       "      <td>4685.0</td>\n",
       "      <td>5483.0</td>\n",
       "      <td>12074.0</td>\n",
       "      <td>4046.0</td>\n",
       "      <td>3017.0</td>\n",
       "      <td>2679.0</td>\n",
       "      <td>2331.0</td>\n",
       "    </tr>\n",
       "    <tr>\n",
       "      <th>2018.0</th>\n",
       "      <td>2301.0</td>\n",
       "      <td>1875.0</td>\n",
       "      <td>2130.0</td>\n",
       "      <td>3267.0</td>\n",
       "      <td>2750.0</td>\n",
       "      <td>2598.0</td>\n",
       "      <td>2424.0</td>\n",
       "      <td>2325.0</td>\n",
       "      <td>2182.0</td>\n",
       "      <td>2695.0</td>\n",
       "      <td>3751.0</td>\n",
       "      <td>2019.0</td>\n",
       "    </tr>\n",
       "    <tr>\n",
       "      <th>2019.0</th>\n",
       "      <td>2332.0</td>\n",
       "      <td>2745.0</td>\n",
       "      <td>3548.0</td>\n",
       "      <td>2589.0</td>\n",
       "      <td>1947.0</td>\n",
       "      <td>1716.0</td>\n",
       "      <td>1366.0</td>\n",
       "      <td>1053.0</td>\n",
       "      <td>1240.0</td>\n",
       "      <td>1845.0</td>\n",
       "      <td>1975.0</td>\n",
       "      <td>841.0</td>\n",
       "    </tr>\n",
       "    <tr>\n",
       "      <th>2020.0</th>\n",
       "      <td>59.0</td>\n",
       "      <td>9.0</td>\n",
       "      <td>NaN</td>\n",
       "      <td>NaN</td>\n",
       "      <td>NaN</td>\n",
       "      <td>NaN</td>\n",
       "      <td>NaN</td>\n",
       "      <td>NaN</td>\n",
       "      <td>NaN</td>\n",
       "      <td>NaN</td>\n",
       "      <td>NaN</td>\n",
       "      <td>NaN</td>\n",
       "    </tr>\n",
       "  </tbody>\n",
       "</table>\n",
       "</div>"
      ],
      "text/plain": [
       "          size                                                           \\\n",
       "Month     1.0     2.0     3.0     4.0     5.0     6.0     7.0      8.0    \n",
       "Year                                                                      \n",
       "1999.0     NaN     NaN     NaN     NaN  1002.0  1966.0   943.0   1524.0   \n",
       "2000.0   539.0   585.0   620.0   820.0   894.0   657.0   655.0    769.0   \n",
       "2001.0   703.0   521.0   561.0   670.0   812.0   610.0   786.0    773.0   \n",
       "2002.0   841.0   576.0   714.0   469.0   800.0  1023.0   710.0    661.0   \n",
       "2003.0   559.0   511.0   627.0   819.0   787.0   899.0   812.0    738.0   \n",
       "2004.0   647.0   711.0  1184.0  1004.0   982.0  1040.0  1104.0   1138.0   \n",
       "2005.0   740.0   682.0   942.0  1523.0  1255.0  1294.0  1080.0   1143.0   \n",
       "2006.0   959.0   758.0  1071.0  1261.0  1172.0  1122.0  1356.0   1150.0   \n",
       "2007.0  1278.0  1001.0  1490.0  1299.0  1530.0  1627.0  1598.0   1422.0   \n",
       "2008.0  1138.0   879.0   942.0  1288.0  1644.0  1270.0  1533.0   1497.0   \n",
       "2009.0   676.0   696.0   883.0  1114.0  1513.0  1502.0  1372.0   1156.0   \n",
       "2010.0  1092.0   882.0  8354.0  1073.0  1589.0  1872.0  1812.0   1792.0   \n",
       "2011.0  1168.0  1239.0  1375.0  1595.0  2050.0  2047.0  2122.0   1884.0   \n",
       "2012.0  1503.0  2305.0  2181.0  1726.0  2871.0  1885.0  1725.0   1821.0   \n",
       "2013.0  1676.0  1482.0  1783.0  2020.0  2208.0  1880.0  2494.0   2352.0   \n",
       "2014.0  1715.0  1635.0  1778.0  2416.0  2092.0  2105.0  2647.0   2271.0   \n",
       "2015.0  1576.0  1484.0  1862.0  3031.0  2537.0  2813.0  2357.0   1813.0   \n",
       "2016.0  1713.0  1799.0  2577.0  3580.0  4488.0  2933.0  3619.0   2942.0   \n",
       "2017.0  3064.0  3583.0  4111.0  4525.0  4119.0  4685.0  5483.0  12074.0   \n",
       "2018.0  2301.0  1875.0  2130.0  3267.0  2750.0  2598.0  2424.0   2325.0   \n",
       "2019.0  2332.0  2745.0  3548.0  2589.0  1947.0  1716.0  1366.0   1053.0   \n",
       "2020.0    59.0     9.0     NaN     NaN     NaN     NaN     NaN      NaN   \n",
       "\n",
       "                                        \n",
       "Month     9.0     10.0    11.0    12.0  \n",
       "Year                                    \n",
       "1999.0   999.0   759.0   602.0   541.0  \n",
       "2000.0   559.0   902.0   632.0   640.0  \n",
       "2001.0   856.0   757.0   715.0  1727.0  \n",
       "2002.0   856.0   724.0   627.0   572.0  \n",
       "2003.0  1055.0   747.0   685.0   680.0  \n",
       "2004.0  1000.0   866.0  1001.0   941.0  \n",
       "2005.0  1240.0  1194.0  1110.0   953.0  \n",
       "2006.0  1356.0  1205.0  1234.0  1942.0  \n",
       "2007.0  1232.0  1334.0  1411.0  1112.0  \n",
       "2008.0  1468.0  1338.0  1055.0  1021.0  \n",
       "2009.0  1517.0  1214.0  1462.0  1454.0  \n",
       "2010.0  1490.0  1538.0  1526.0  1487.0  \n",
       "2011.0  1870.0  1900.0  1479.0  1422.0  \n",
       "2012.0  1412.0  2102.0  1971.0  1351.0  \n",
       "2013.0  2406.0  2506.0  2471.0  1790.0  \n",
       "2014.0  2069.0  2315.0  1738.0  1640.0  \n",
       "2015.0  2156.0  2306.0  1873.0  1716.0  \n",
       "2016.0  3431.0  3634.0  3571.0  2549.0  \n",
       "2017.0  4046.0  3017.0  2679.0  2331.0  \n",
       "2018.0  2182.0  2695.0  3751.0  2019.0  \n",
       "2019.0  1240.0  1845.0  1975.0   841.0  \n",
       "2020.0     NaN     NaN     NaN     NaN  "
      ]
     },
     "execution_count": 30,
     "metadata": {},
     "output_type": "execute_result"
    }
   ],
   "source": [
    "#veremos como quedo ahora la tabla sin los valores que eliminamos\n",
    "pd.pivot_table(data,\n",
    "               index=['Year'],\n",
    "               columns=['Month'],\n",
    "               aggfunc=['size']\n",
    "              )"
   ]
  },
  {
   "cell_type": "code",
   "execution_count": 31,
   "metadata": {},
   "outputs": [
    {
     "data": {
      "text/html": [
       "<div>\n",
       "<style scoped>\n",
       "    .dataframe tbody tr th:only-of-type {\n",
       "        vertical-align: middle;\n",
       "    }\n",
       "\n",
       "    .dataframe tbody tr th {\n",
       "        vertical-align: top;\n",
       "    }\n",
       "\n",
       "    .dataframe thead tr th {\n",
       "        text-align: left;\n",
       "    }\n",
       "\n",
       "    .dataframe thead tr:last-of-type th {\n",
       "        text-align: right;\n",
       "    }\n",
       "</style>\n",
       "<table border=\"1\" class=\"dataframe\">\n",
       "  <thead>\n",
       "    <tr>\n",
       "      <th></th>\n",
       "      <th colspan=\"12\" halign=\"left\">size</th>\n",
       "    </tr>\n",
       "    <tr>\n",
       "      <th>Month</th>\n",
       "      <th>1.0</th>\n",
       "      <th>2.0</th>\n",
       "      <th>3.0</th>\n",
       "      <th>4.0</th>\n",
       "      <th>5.0</th>\n",
       "      <th>6.0</th>\n",
       "      <th>7.0</th>\n",
       "      <th>8.0</th>\n",
       "      <th>9.0</th>\n",
       "      <th>10.0</th>\n",
       "      <th>11.0</th>\n",
       "      <th>12.0</th>\n",
       "    </tr>\n",
       "    <tr>\n",
       "      <th>Year</th>\n",
       "      <th></th>\n",
       "      <th></th>\n",
       "      <th></th>\n",
       "      <th></th>\n",
       "      <th></th>\n",
       "      <th></th>\n",
       "      <th></th>\n",
       "      <th></th>\n",
       "      <th></th>\n",
       "      <th></th>\n",
       "      <th></th>\n",
       "      <th></th>\n",
       "    </tr>\n",
       "  </thead>\n",
       "  <tbody>\n",
       "    <tr>\n",
       "      <th>1999.0</th>\n",
       "      <td>0</td>\n",
       "      <td>0</td>\n",
       "      <td>0</td>\n",
       "      <td>0</td>\n",
       "      <td>1002</td>\n",
       "      <td>1966</td>\n",
       "      <td>943</td>\n",
       "      <td>1524</td>\n",
       "      <td>999</td>\n",
       "      <td>759</td>\n",
       "      <td>602</td>\n",
       "      <td>541</td>\n",
       "    </tr>\n",
       "    <tr>\n",
       "      <th>2000.0</th>\n",
       "      <td>539</td>\n",
       "      <td>585</td>\n",
       "      <td>620</td>\n",
       "      <td>820</td>\n",
       "      <td>894</td>\n",
       "      <td>657</td>\n",
       "      <td>655</td>\n",
       "      <td>769</td>\n",
       "      <td>559</td>\n",
       "      <td>902</td>\n",
       "      <td>632</td>\n",
       "      <td>640</td>\n",
       "    </tr>\n",
       "    <tr>\n",
       "      <th>2001.0</th>\n",
       "      <td>703</td>\n",
       "      <td>521</td>\n",
       "      <td>561</td>\n",
       "      <td>670</td>\n",
       "      <td>812</td>\n",
       "      <td>610</td>\n",
       "      <td>786</td>\n",
       "      <td>773</td>\n",
       "      <td>856</td>\n",
       "      <td>757</td>\n",
       "      <td>715</td>\n",
       "      <td>1727</td>\n",
       "    </tr>\n",
       "    <tr>\n",
       "      <th>2002.0</th>\n",
       "      <td>841</td>\n",
       "      <td>576</td>\n",
       "      <td>714</td>\n",
       "      <td>469</td>\n",
       "      <td>800</td>\n",
       "      <td>1023</td>\n",
       "      <td>710</td>\n",
       "      <td>661</td>\n",
       "      <td>856</td>\n",
       "      <td>724</td>\n",
       "      <td>627</td>\n",
       "      <td>572</td>\n",
       "    </tr>\n",
       "    <tr>\n",
       "      <th>2003.0</th>\n",
       "      <td>559</td>\n",
       "      <td>511</td>\n",
       "      <td>627</td>\n",
       "      <td>819</td>\n",
       "      <td>787</td>\n",
       "      <td>899</td>\n",
       "      <td>812</td>\n",
       "      <td>738</td>\n",
       "      <td>1055</td>\n",
       "      <td>747</td>\n",
       "      <td>685</td>\n",
       "      <td>680</td>\n",
       "    </tr>\n",
       "    <tr>\n",
       "      <th>2004.0</th>\n",
       "      <td>647</td>\n",
       "      <td>711</td>\n",
       "      <td>1184</td>\n",
       "      <td>1004</td>\n",
       "      <td>982</td>\n",
       "      <td>1040</td>\n",
       "      <td>1104</td>\n",
       "      <td>1138</td>\n",
       "      <td>1000</td>\n",
       "      <td>866</td>\n",
       "      <td>1001</td>\n",
       "      <td>941</td>\n",
       "    </tr>\n",
       "    <tr>\n",
       "      <th>2005.0</th>\n",
       "      <td>740</td>\n",
       "      <td>682</td>\n",
       "      <td>942</td>\n",
       "      <td>1523</td>\n",
       "      <td>1255</td>\n",
       "      <td>1294</td>\n",
       "      <td>1080</td>\n",
       "      <td>1143</td>\n",
       "      <td>1240</td>\n",
       "      <td>1194</td>\n",
       "      <td>1110</td>\n",
       "      <td>953</td>\n",
       "    </tr>\n",
       "    <tr>\n",
       "      <th>2006.0</th>\n",
       "      <td>959</td>\n",
       "      <td>758</td>\n",
       "      <td>1071</td>\n",
       "      <td>1261</td>\n",
       "      <td>1172</td>\n",
       "      <td>1122</td>\n",
       "      <td>1356</td>\n",
       "      <td>1150</td>\n",
       "      <td>1356</td>\n",
       "      <td>1205</td>\n",
       "      <td>1234</td>\n",
       "      <td>1942</td>\n",
       "    </tr>\n",
       "    <tr>\n",
       "      <th>2007.0</th>\n",
       "      <td>1278</td>\n",
       "      <td>1001</td>\n",
       "      <td>1490</td>\n",
       "      <td>1299</td>\n",
       "      <td>1530</td>\n",
       "      <td>1627</td>\n",
       "      <td>1598</td>\n",
       "      <td>1422</td>\n",
       "      <td>1232</td>\n",
       "      <td>1334</td>\n",
       "      <td>1411</td>\n",
       "      <td>1112</td>\n",
       "    </tr>\n",
       "    <tr>\n",
       "      <th>2008.0</th>\n",
       "      <td>1138</td>\n",
       "      <td>879</td>\n",
       "      <td>942</td>\n",
       "      <td>1288</td>\n",
       "      <td>1644</td>\n",
       "      <td>1270</td>\n",
       "      <td>1533</td>\n",
       "      <td>1497</td>\n",
       "      <td>1468</td>\n",
       "      <td>1338</td>\n",
       "      <td>1055</td>\n",
       "      <td>1021</td>\n",
       "    </tr>\n",
       "    <tr>\n",
       "      <th>2009.0</th>\n",
       "      <td>676</td>\n",
       "      <td>696</td>\n",
       "      <td>883</td>\n",
       "      <td>1114</td>\n",
       "      <td>1513</td>\n",
       "      <td>1502</td>\n",
       "      <td>1372</td>\n",
       "      <td>1156</td>\n",
       "      <td>1517</td>\n",
       "      <td>1214</td>\n",
       "      <td>1462</td>\n",
       "      <td>1454</td>\n",
       "    </tr>\n",
       "    <tr>\n",
       "      <th>2010.0</th>\n",
       "      <td>1092</td>\n",
       "      <td>882</td>\n",
       "      <td>8354</td>\n",
       "      <td>1073</td>\n",
       "      <td>1589</td>\n",
       "      <td>1872</td>\n",
       "      <td>1812</td>\n",
       "      <td>1792</td>\n",
       "      <td>1490</td>\n",
       "      <td>1538</td>\n",
       "      <td>1526</td>\n",
       "      <td>1487</td>\n",
       "    </tr>\n",
       "    <tr>\n",
       "      <th>2011.0</th>\n",
       "      <td>1168</td>\n",
       "      <td>1239</td>\n",
       "      <td>1375</td>\n",
       "      <td>1595</td>\n",
       "      <td>2050</td>\n",
       "      <td>2047</td>\n",
       "      <td>2122</td>\n",
       "      <td>1884</td>\n",
       "      <td>1870</td>\n",
       "      <td>1900</td>\n",
       "      <td>1479</td>\n",
       "      <td>1422</td>\n",
       "    </tr>\n",
       "    <tr>\n",
       "      <th>2012.0</th>\n",
       "      <td>1503</td>\n",
       "      <td>2305</td>\n",
       "      <td>2181</td>\n",
       "      <td>1726</td>\n",
       "      <td>2871</td>\n",
       "      <td>1885</td>\n",
       "      <td>1725</td>\n",
       "      <td>1821</td>\n",
       "      <td>1412</td>\n",
       "      <td>2102</td>\n",
       "      <td>1971</td>\n",
       "      <td>1351</td>\n",
       "    </tr>\n",
       "    <tr>\n",
       "      <th>2013.0</th>\n",
       "      <td>1676</td>\n",
       "      <td>1482</td>\n",
       "      <td>1783</td>\n",
       "      <td>2020</td>\n",
       "      <td>2208</td>\n",
       "      <td>1880</td>\n",
       "      <td>2494</td>\n",
       "      <td>2352</td>\n",
       "      <td>2406</td>\n",
       "      <td>2506</td>\n",
       "      <td>2471</td>\n",
       "      <td>1790</td>\n",
       "    </tr>\n",
       "    <tr>\n",
       "      <th>2014.0</th>\n",
       "      <td>1715</td>\n",
       "      <td>1635</td>\n",
       "      <td>1778</td>\n",
       "      <td>2416</td>\n",
       "      <td>2092</td>\n",
       "      <td>2105</td>\n",
       "      <td>2647</td>\n",
       "      <td>2271</td>\n",
       "      <td>2069</td>\n",
       "      <td>2315</td>\n",
       "      <td>1738</td>\n",
       "      <td>1640</td>\n",
       "    </tr>\n",
       "    <tr>\n",
       "      <th>2015.0</th>\n",
       "      <td>1576</td>\n",
       "      <td>1484</td>\n",
       "      <td>1862</td>\n",
       "      <td>3031</td>\n",
       "      <td>2537</td>\n",
       "      <td>2813</td>\n",
       "      <td>2357</td>\n",
       "      <td>1813</td>\n",
       "      <td>2156</td>\n",
       "      <td>2306</td>\n",
       "      <td>1873</td>\n",
       "      <td>1716</td>\n",
       "    </tr>\n",
       "    <tr>\n",
       "      <th>2016.0</th>\n",
       "      <td>1713</td>\n",
       "      <td>1799</td>\n",
       "      <td>2577</td>\n",
       "      <td>3580</td>\n",
       "      <td>4488</td>\n",
       "      <td>2933</td>\n",
       "      <td>3619</td>\n",
       "      <td>2942</td>\n",
       "      <td>3431</td>\n",
       "      <td>3634</td>\n",
       "      <td>3571</td>\n",
       "      <td>2549</td>\n",
       "    </tr>\n",
       "    <tr>\n",
       "      <th>2017.0</th>\n",
       "      <td>3064</td>\n",
       "      <td>3583</td>\n",
       "      <td>4111</td>\n",
       "      <td>4525</td>\n",
       "      <td>4119</td>\n",
       "      <td>4685</td>\n",
       "      <td>5483</td>\n",
       "      <td>12074</td>\n",
       "      <td>4046</td>\n",
       "      <td>3017</td>\n",
       "      <td>2679</td>\n",
       "      <td>2331</td>\n",
       "    </tr>\n",
       "    <tr>\n",
       "      <th>2018.0</th>\n",
       "      <td>2301</td>\n",
       "      <td>1875</td>\n",
       "      <td>2130</td>\n",
       "      <td>3267</td>\n",
       "      <td>2750</td>\n",
       "      <td>2598</td>\n",
       "      <td>2424</td>\n",
       "      <td>2325</td>\n",
       "      <td>2182</td>\n",
       "      <td>2695</td>\n",
       "      <td>3751</td>\n",
       "      <td>2019</td>\n",
       "    </tr>\n",
       "    <tr>\n",
       "      <th>2019.0</th>\n",
       "      <td>2332</td>\n",
       "      <td>2745</td>\n",
       "      <td>3548</td>\n",
       "      <td>2589</td>\n",
       "      <td>1947</td>\n",
       "      <td>1716</td>\n",
       "      <td>1366</td>\n",
       "      <td>1053</td>\n",
       "      <td>1240</td>\n",
       "      <td>1845</td>\n",
       "      <td>1975</td>\n",
       "      <td>841</td>\n",
       "    </tr>\n",
       "    <tr>\n",
       "      <th>2020.0</th>\n",
       "      <td>59</td>\n",
       "      <td>9</td>\n",
       "      <td>0</td>\n",
       "      <td>0</td>\n",
       "      <td>0</td>\n",
       "      <td>0</td>\n",
       "      <td>0</td>\n",
       "      <td>0</td>\n",
       "      <td>0</td>\n",
       "      <td>0</td>\n",
       "      <td>0</td>\n",
       "      <td>0</td>\n",
       "    </tr>\n",
       "  </tbody>\n",
       "</table>\n",
       "</div>"
      ],
      "text/plain": [
       "        size                                                               \\\n",
       "Month   1.0   2.0   3.0   4.0   5.0   6.0   7.0    8.0   9.0   10.0  11.0   \n",
       "Year                                                                        \n",
       "1999.0     0     0     0     0  1002  1966   943   1524   999   759   602   \n",
       "2000.0   539   585   620   820   894   657   655    769   559   902   632   \n",
       "2001.0   703   521   561   670   812   610   786    773   856   757   715   \n",
       "2002.0   841   576   714   469   800  1023   710    661   856   724   627   \n",
       "2003.0   559   511   627   819   787   899   812    738  1055   747   685   \n",
       "2004.0   647   711  1184  1004   982  1040  1104   1138  1000   866  1001   \n",
       "2005.0   740   682   942  1523  1255  1294  1080   1143  1240  1194  1110   \n",
       "2006.0   959   758  1071  1261  1172  1122  1356   1150  1356  1205  1234   \n",
       "2007.0  1278  1001  1490  1299  1530  1627  1598   1422  1232  1334  1411   \n",
       "2008.0  1138   879   942  1288  1644  1270  1533   1497  1468  1338  1055   \n",
       "2009.0   676   696   883  1114  1513  1502  1372   1156  1517  1214  1462   \n",
       "2010.0  1092   882  8354  1073  1589  1872  1812   1792  1490  1538  1526   \n",
       "2011.0  1168  1239  1375  1595  2050  2047  2122   1884  1870  1900  1479   \n",
       "2012.0  1503  2305  2181  1726  2871  1885  1725   1821  1412  2102  1971   \n",
       "2013.0  1676  1482  1783  2020  2208  1880  2494   2352  2406  2506  2471   \n",
       "2014.0  1715  1635  1778  2416  2092  2105  2647   2271  2069  2315  1738   \n",
       "2015.0  1576  1484  1862  3031  2537  2813  2357   1813  2156  2306  1873   \n",
       "2016.0  1713  1799  2577  3580  4488  2933  3619   2942  3431  3634  3571   \n",
       "2017.0  3064  3583  4111  4525  4119  4685  5483  12074  4046  3017  2679   \n",
       "2018.0  2301  1875  2130  3267  2750  2598  2424   2325  2182  2695  3751   \n",
       "2019.0  2332  2745  3548  2589  1947  1716  1366   1053  1240  1845  1975   \n",
       "2020.0    59     9     0     0     0     0     0      0     0     0     0   \n",
       "\n",
       "              \n",
       "Month   12.0  \n",
       "Year          \n",
       "1999.0   541  \n",
       "2000.0   640  \n",
       "2001.0  1727  \n",
       "2002.0   572  \n",
       "2003.0   680  \n",
       "2004.0   941  \n",
       "2005.0   953  \n",
       "2006.0  1942  \n",
       "2007.0  1112  \n",
       "2008.0  1021  \n",
       "2009.0  1454  \n",
       "2010.0  1487  \n",
       "2011.0  1422  \n",
       "2012.0  1351  \n",
       "2013.0  1790  \n",
       "2014.0  1640  \n",
       "2015.0  1716  \n",
       "2016.0  2549  \n",
       "2017.0  2331  \n",
       "2018.0  2019  \n",
       "2019.0   841  \n",
       "2020.0     0  "
      ]
     },
     "execution_count": 31,
     "metadata": {},
     "output_type": "execute_result"
    }
   ],
   "source": [
    "#ahora vemos que en la tabla quedaron muchos valores nulos (los Nan) a estos los reemplazaremos por 0\n",
    "#con el argumento fill_value\n",
    "pivot_table = pd.pivot_table(data,\n",
    "                               index=['Year'],\n",
    "                               columns=['Month'],\n",
    "                               aggfunc=['size'],\n",
    "                               fill_value=0 # le asignamos un valor a los nan\n",
    "                              )\n",
    "pivot_table"
   ]
  },
  {
   "cell_type": "code",
   "execution_count": 32,
   "metadata": {},
   "outputs": [
    {
     "data": {
      "text/plain": [
       "<matplotlib.axes._subplots.AxesSubplot at 0x1b607b28f08>"
      ]
     },
     "execution_count": 32,
     "metadata": {},
     "output_type": "execute_result"
    },
    {
     "data": {
      "image/png": "[encoded data removed]",
      "text/plain": [
       "<Figure size 432x288 with 1 Axes>"
      ]
     },
     "metadata": {
      "needs_background": "light"
     },
     "output_type": "display_data"
    }
   ],
   "source": [
    "#vamos a volver a ver los valores nulos como quedaron luego de eliminar estos registros  \n",
    "nullcount = {col:data[col].isnull().sum() for col in data.columns}\n",
    "missing = pd.Series(nullcount)\n",
    "missing[missing>0].div(data.shape[0]).plot.bar()"
   ]
  },
  {
   "cell_type": "code",
   "execution_count": 33,
   "metadata": {},
   "outputs": [],
   "source": [
    "#los valores nulos que vemos en score_deuda es lo mismo que decir que el cliente no posea deudas\n",
    "#asi que a los nulos los pasaremos a 1 , y a los valores que sean 0 tambien los pasaremos a 1 \n",
    "data.loc[data['score_deuda'].isnull(),'score_deuda']=1"
   ]
  },
  {
   "cell_type": "code",
   "execution_count": 34,
   "metadata": {},
   "outputs": [],
   "source": [
    "data.loc[data['score_deuda']==0,'score_deuda']=1"
   ]
  },
  {
   "cell_type": "code",
   "execution_count": 35,
   "metadata": {},
   "outputs": [],
   "source": [
    "#eliminaremos los nulos de la columna SaldoPromedioCAPesos_ant_2 y veremos si asi eliminamos los nulos de las otras 3 columnas\n",
    "#relacionadas a ant_2 tmb \n",
    "data.drop(data[data['SaldoPromedioCAPesos_ant_2'].isnull()].index, inplace = True)"
   ]
  },
  {
   "cell_type": "code",
   "execution_count": 36,
   "metadata": {},
   "outputs": [
    {
     "data": {
      "text/plain": [
       "<matplotlib.axes._subplots.AxesSubplot at 0x1b607b286c8>"
      ]
     },
     "execution_count": 36,
     "metadata": {},
     "output_type": "execute_result"
    },
    {
     "data": {
      "image/png": "[encoded data removed]",
      "text/plain": [
       "<Figure size 432x288 with 1 Axes>"
      ]
     },
     "metadata": {
      "needs_background": "light"
     },
     "output_type": "display_data"
    }
   ],
   "source": [
    "nullcount = {col:data[col].isnull().sum() for col in data.columns}\n",
    "missing = pd.Series(nullcount)\n",
    "missing[missing>0].div(data.shape[0]).plot.bar()"
   ]
  },
  {
   "cell_type": "code",
   "execution_count": 37,
   "metadata": {},
   "outputs": [],
   "source": [
    "#efectivamente eliminamos esos nulos y ahora haremos lo mismo con las columnas relacionadas a ant1 \n",
    "data.drop(data[data['SaldoPromedioCAPesos_ant_1'].isnull()].index, inplace = True)"
   ]
  },
  {
   "cell_type": "code",
   "execution_count": 38,
   "metadata": {},
   "outputs": [
    {
     "data": {
      "text/plain": [
       "<matplotlib.axes._subplots.AxesSubplot at 0x1b607b57108>"
      ]
     },
     "execution_count": 38,
     "metadata": {},
     "output_type": "execute_result"
    },
    {
     "data": {
      "image/png": "[encoded data removed]",
      "text/plain": [
       "<Figure size 432x288 with 1 Axes>"
      ]
     },
     "metadata": {
      "needs_background": "light"
     },
     "output_type": "display_data"
    }
   ],
   "source": [
    "nullcount = {col:data[col].isnull().sum() for col in data.columns}\n",
    "missing = pd.Series(nullcount)\n",
    "missing[missing>0].div(data.shape[0]).plot.bar()"
   ]
  },
  {
   "cell_type": "markdown",
   "metadata": {},
   "source": [
    "Vemos que ahora solo tenemos 2 columnas que poseen muchos registros nulos, trabajaremos ahora con FechaUltMovCA"
   ]
  },
  {
   "cell_type": "code",
   "execution_count": 39,
   "metadata": {},
   "outputs": [
    {
     "data": {
      "text/plain": [
       "dtype('O')"
      ]
     },
     "execution_count": 39,
     "metadata": {},
     "output_type": "execute_result"
    }
   ],
   "source": [
    "data['FechaUltMovCA'].dtype"
   ]
  },
  {
   "cell_type": "code",
   "execution_count": 40,
   "metadata": {},
   "outputs": [],
   "source": [
    "#lo primero que haremos sera convertirla a formato date\n",
    "data['DateUltMov'] = pd.to_datetime(data['FechaUltMovCA'])"
   ]
  },
  {
   "cell_type": "code",
   "execution_count": 41,
   "metadata": {},
   "outputs": [],
   "source": [
    "#y obtendremos otros datos para trabajarla con una tabla pivot\n",
    "data['MonthUltMov'] = data['DateUltMov'].dt.month # obtenemos el numero de mes\n",
    "data['YearUltMov'] = data['DateUltMov'].dt.year # obtenemos el año\n",
    "data['PeriodUltMov'] = data['DateUltMov'].dt.to_period('M') # obtenemos el periodo, en formato año/mes\n",
    "data.sort_values('DateUltMov', inplace=True) # ordenamos por fecha de activacion a los datos"
   ]
  },
  {
   "cell_type": "code",
   "execution_count": 42,
   "metadata": {},
   "outputs": [
    {
     "data": {
      "text/html": [
       "<div>\n",
       "<style scoped>\n",
       "    .dataframe tbody tr th:only-of-type {\n",
       "        vertical-align: middle;\n",
       "    }\n",
       "\n",
       "    .dataframe tbody tr th {\n",
       "        vertical-align: top;\n",
       "    }\n",
       "\n",
       "    .dataframe thead tr th {\n",
       "        text-align: left;\n",
       "    }\n",
       "\n",
       "    .dataframe thead tr:last-of-type th {\n",
       "        text-align: right;\n",
       "    }\n",
       "</style>\n",
       "<table border=\"1\" class=\"dataframe\">\n",
       "  <thead>\n",
       "    <tr>\n",
       "      <th></th>\n",
       "      <th colspan=\"12\" halign=\"left\">size</th>\n",
       "    </tr>\n",
       "    <tr>\n",
       "      <th>MonthUltMov</th>\n",
       "      <th>1.0</th>\n",
       "      <th>2.0</th>\n",
       "      <th>3.0</th>\n",
       "      <th>4.0</th>\n",
       "      <th>5.0</th>\n",
       "      <th>6.0</th>\n",
       "      <th>7.0</th>\n",
       "      <th>8.0</th>\n",
       "      <th>9.0</th>\n",
       "      <th>10.0</th>\n",
       "      <th>11.0</th>\n",
       "      <th>12.0</th>\n",
       "    </tr>\n",
       "    <tr>\n",
       "      <th>YearUltMov</th>\n",
       "      <th></th>\n",
       "      <th></th>\n",
       "      <th></th>\n",
       "      <th></th>\n",
       "      <th></th>\n",
       "      <th></th>\n",
       "      <th></th>\n",
       "      <th></th>\n",
       "      <th></th>\n",
       "      <th></th>\n",
       "      <th></th>\n",
       "      <th></th>\n",
       "    </tr>\n",
       "  </thead>\n",
       "  <tbody>\n",
       "    <tr>\n",
       "      <th>2004.0</th>\n",
       "      <td>NaN</td>\n",
       "      <td>NaN</td>\n",
       "      <td>NaN</td>\n",
       "      <td>2.0</td>\n",
       "      <td>NaN</td>\n",
       "      <td>NaN</td>\n",
       "      <td>NaN</td>\n",
       "      <td>NaN</td>\n",
       "      <td>NaN</td>\n",
       "      <td>NaN</td>\n",
       "      <td>NaN</td>\n",
       "      <td>NaN</td>\n",
       "    </tr>\n",
       "    <tr>\n",
       "      <th>2006.0</th>\n",
       "      <td>NaN</td>\n",
       "      <td>NaN</td>\n",
       "      <td>NaN</td>\n",
       "      <td>2.0</td>\n",
       "      <td>NaN</td>\n",
       "      <td>NaN</td>\n",
       "      <td>NaN</td>\n",
       "      <td>NaN</td>\n",
       "      <td>NaN</td>\n",
       "      <td>NaN</td>\n",
       "      <td>NaN</td>\n",
       "      <td>NaN</td>\n",
       "    </tr>\n",
       "    <tr>\n",
       "      <th>2007.0</th>\n",
       "      <td>NaN</td>\n",
       "      <td>NaN</td>\n",
       "      <td>3.0</td>\n",
       "      <td>NaN</td>\n",
       "      <td>NaN</td>\n",
       "      <td>NaN</td>\n",
       "      <td>NaN</td>\n",
       "      <td>NaN</td>\n",
       "      <td>NaN</td>\n",
       "      <td>NaN</td>\n",
       "      <td>NaN</td>\n",
       "      <td>NaN</td>\n",
       "    </tr>\n",
       "    <tr>\n",
       "      <th>2008.0</th>\n",
       "      <td>2.0</td>\n",
       "      <td>NaN</td>\n",
       "      <td>NaN</td>\n",
       "      <td>2.0</td>\n",
       "      <td>NaN</td>\n",
       "      <td>NaN</td>\n",
       "      <td>NaN</td>\n",
       "      <td>NaN</td>\n",
       "      <td>NaN</td>\n",
       "      <td>NaN</td>\n",
       "      <td>1.0</td>\n",
       "      <td>NaN</td>\n",
       "    </tr>\n",
       "    <tr>\n",
       "      <th>2009.0</th>\n",
       "      <td>NaN</td>\n",
       "      <td>NaN</td>\n",
       "      <td>NaN</td>\n",
       "      <td>NaN</td>\n",
       "      <td>2.0</td>\n",
       "      <td>NaN</td>\n",
       "      <td>1.0</td>\n",
       "      <td>2.0</td>\n",
       "      <td>NaN</td>\n",
       "      <td>NaN</td>\n",
       "      <td>3.0</td>\n",
       "      <td>1.0</td>\n",
       "    </tr>\n",
       "    <tr>\n",
       "      <th>2010.0</th>\n",
       "      <td>NaN</td>\n",
       "      <td>NaN</td>\n",
       "      <td>4.0</td>\n",
       "      <td>NaN</td>\n",
       "      <td>7.0</td>\n",
       "      <td>NaN</td>\n",
       "      <td>2.0</td>\n",
       "      <td>2.0</td>\n",
       "      <td>8.0</td>\n",
       "      <td>8.0</td>\n",
       "      <td>5.0</td>\n",
       "      <td>17.0</td>\n",
       "    </tr>\n",
       "    <tr>\n",
       "      <th>2011.0</th>\n",
       "      <td>NaN</td>\n",
       "      <td>4.0</td>\n",
       "      <td>6.0</td>\n",
       "      <td>2.0</td>\n",
       "      <td>1.0</td>\n",
       "      <td>NaN</td>\n",
       "      <td>3.0</td>\n",
       "      <td>5.0</td>\n",
       "      <td>5.0</td>\n",
       "      <td>4.0</td>\n",
       "      <td>10.0</td>\n",
       "      <td>6.0</td>\n",
       "    </tr>\n",
       "    <tr>\n",
       "      <th>2012.0</th>\n",
       "      <td>2.0</td>\n",
       "      <td>2.0</td>\n",
       "      <td>3.0</td>\n",
       "      <td>1.0</td>\n",
       "      <td>2.0</td>\n",
       "      <td>3.0</td>\n",
       "      <td>2.0</td>\n",
       "      <td>7.0</td>\n",
       "      <td>2.0</td>\n",
       "      <td>4.0</td>\n",
       "      <td>2.0</td>\n",
       "      <td>11.0</td>\n",
       "    </tr>\n",
       "    <tr>\n",
       "      <th>2013.0</th>\n",
       "      <td>5.0</td>\n",
       "      <td>4.0</td>\n",
       "      <td>2.0</td>\n",
       "      <td>7.0</td>\n",
       "      <td>6.0</td>\n",
       "      <td>1.0</td>\n",
       "      <td>7.0</td>\n",
       "      <td>2.0</td>\n",
       "      <td>3.0</td>\n",
       "      <td>2.0</td>\n",
       "      <td>2.0</td>\n",
       "      <td>2.0</td>\n",
       "    </tr>\n",
       "    <tr>\n",
       "      <th>2014.0</th>\n",
       "      <td>2.0</td>\n",
       "      <td>5.0</td>\n",
       "      <td>7.0</td>\n",
       "      <td>3.0</td>\n",
       "      <td>8.0</td>\n",
       "      <td>7.0</td>\n",
       "      <td>11.0</td>\n",
       "      <td>6.0</td>\n",
       "      <td>6.0</td>\n",
       "      <td>7.0</td>\n",
       "      <td>2.0</td>\n",
       "      <td>10.0</td>\n",
       "    </tr>\n",
       "    <tr>\n",
       "      <th>2015.0</th>\n",
       "      <td>4.0</td>\n",
       "      <td>3.0</td>\n",
       "      <td>2.0</td>\n",
       "      <td>4.0</td>\n",
       "      <td>7.0</td>\n",
       "      <td>6.0</td>\n",
       "      <td>8.0</td>\n",
       "      <td>9.0</td>\n",
       "      <td>2.0</td>\n",
       "      <td>4.0</td>\n",
       "      <td>7.0</td>\n",
       "      <td>3.0</td>\n",
       "    </tr>\n",
       "    <tr>\n",
       "      <th>2016.0</th>\n",
       "      <td>5.0</td>\n",
       "      <td>4.0</td>\n",
       "      <td>5.0</td>\n",
       "      <td>6.0</td>\n",
       "      <td>8.0</td>\n",
       "      <td>9.0</td>\n",
       "      <td>12.0</td>\n",
       "      <td>12.0</td>\n",
       "      <td>10.0</td>\n",
       "      <td>7.0</td>\n",
       "      <td>11.0</td>\n",
       "      <td>9.0</td>\n",
       "    </tr>\n",
       "    <tr>\n",
       "      <th>2017.0</th>\n",
       "      <td>17.0</td>\n",
       "      <td>28.0</td>\n",
       "      <td>619.0</td>\n",
       "      <td>367.0</td>\n",
       "      <td>467.0</td>\n",
       "      <td>350.0</td>\n",
       "      <td>454.0</td>\n",
       "      <td>523.0</td>\n",
       "      <td>516.0</td>\n",
       "      <td>403.0</td>\n",
       "      <td>412.0</td>\n",
       "      <td>410.0</td>\n",
       "    </tr>\n",
       "    <tr>\n",
       "      <th>2018.0</th>\n",
       "      <td>595.0</td>\n",
       "      <td>378.0</td>\n",
       "      <td>488.0</td>\n",
       "      <td>578.0</td>\n",
       "      <td>726.0</td>\n",
       "      <td>657.0</td>\n",
       "      <td>601.0</td>\n",
       "      <td>784.0</td>\n",
       "      <td>735.0</td>\n",
       "      <td>1068.0</td>\n",
       "      <td>2676.0</td>\n",
       "      <td>1185.0</td>\n",
       "    </tr>\n",
       "    <tr>\n",
       "      <th>2019.0</th>\n",
       "      <td>5326.0</td>\n",
       "      <td>84766.0</td>\n",
       "      <td>5094.0</td>\n",
       "      <td>5321.0</td>\n",
       "      <td>6202.0</td>\n",
       "      <td>6380.0</td>\n",
       "      <td>10746.0</td>\n",
       "      <td>18766.0</td>\n",
       "      <td>38347.0</td>\n",
       "      <td>1486.0</td>\n",
       "      <td>34515.0</td>\n",
       "      <td>152271.0</td>\n",
       "    </tr>\n",
       "    <tr>\n",
       "      <th>2020.0</th>\n",
       "      <td>2572.0</td>\n",
       "      <td>3058.0</td>\n",
       "      <td>NaN</td>\n",
       "      <td>NaN</td>\n",
       "      <td>NaN</td>\n",
       "      <td>NaN</td>\n",
       "      <td>NaN</td>\n",
       "      <td>NaN</td>\n",
       "      <td>NaN</td>\n",
       "      <td>NaN</td>\n",
       "      <td>NaN</td>\n",
       "      <td>NaN</td>\n",
       "    </tr>\n",
       "  </tbody>\n",
       "</table>\n",
       "</div>"
      ],
      "text/plain": [
       "               size                                                    \\\n",
       "MonthUltMov    1.0      2.0     3.0     4.0     5.0     6.0      7.0    \n",
       "YearUltMov                                                              \n",
       "2004.0          NaN      NaN     NaN     2.0     NaN     NaN      NaN   \n",
       "2006.0          NaN      NaN     NaN     2.0     NaN     NaN      NaN   \n",
       "2007.0          NaN      NaN     3.0     NaN     NaN     NaN      NaN   \n",
       "2008.0          2.0      NaN     NaN     2.0     NaN     NaN      NaN   \n",
       "2009.0          NaN      NaN     NaN     NaN     2.0     NaN      1.0   \n",
       "2010.0          NaN      NaN     4.0     NaN     7.0     NaN      2.0   \n",
       "2011.0          NaN      4.0     6.0     2.0     1.0     NaN      3.0   \n",
       "2012.0          2.0      2.0     3.0     1.0     2.0     3.0      2.0   \n",
       "2013.0          5.0      4.0     2.0     7.0     6.0     1.0      7.0   \n",
       "2014.0          2.0      5.0     7.0     3.0     8.0     7.0     11.0   \n",
       "2015.0          4.0      3.0     2.0     4.0     7.0     6.0      8.0   \n",
       "2016.0          5.0      4.0     5.0     6.0     8.0     9.0     12.0   \n",
       "2017.0         17.0     28.0   619.0   367.0   467.0   350.0    454.0   \n",
       "2018.0        595.0    378.0   488.0   578.0   726.0   657.0    601.0   \n",
       "2019.0       5326.0  84766.0  5094.0  5321.0  6202.0  6380.0  10746.0   \n",
       "2020.0       2572.0   3058.0     NaN     NaN     NaN     NaN      NaN   \n",
       "\n",
       "                                                          \n",
       "MonthUltMov     8.0      9.0     10.0     11.0      12.0  \n",
       "YearUltMov                                                \n",
       "2004.0           NaN      NaN     NaN      NaN       NaN  \n",
       "2006.0           NaN      NaN     NaN      NaN       NaN  \n",
       "2007.0           NaN      NaN     NaN      NaN       NaN  \n",
       "2008.0           NaN      NaN     NaN      1.0       NaN  \n",
       "2009.0           2.0      NaN     NaN      3.0       1.0  \n",
       "2010.0           2.0      8.0     8.0      5.0      17.0  \n",
       "2011.0           5.0      5.0     4.0     10.0       6.0  \n",
       "2012.0           7.0      2.0     4.0      2.0      11.0  \n",
       "2013.0           2.0      3.0     2.0      2.0       2.0  \n",
       "2014.0           6.0      6.0     7.0      2.0      10.0  \n",
       "2015.0           9.0      2.0     4.0      7.0       3.0  \n",
       "2016.0          12.0     10.0     7.0     11.0       9.0  \n",
       "2017.0         523.0    516.0   403.0    412.0     410.0  \n",
       "2018.0         784.0    735.0  1068.0   2676.0    1185.0  \n",
       "2019.0       18766.0  38347.0  1486.0  34515.0  152271.0  \n",
       "2020.0           NaN      NaN     NaN      NaN       NaN  "
      ]
     },
     "execution_count": 42,
     "metadata": {},
     "output_type": "execute_result"
    }
   ],
   "source": [
    "#Haremos una tabla pivot usando como indice el año y como columna los meses\n",
    "pd.pivot_table(data=data, \n",
    "               index=['YearUltMov'],\n",
    "               columns=['MonthUltMov'],\n",
    "               aggfunc=['size']\n",
    "              )"
   ]
  },
  {
   "cell_type": "markdown",
   "metadata": {},
   "source": [
    "Vemos que tenemos muchos periodos consecutivos con nulos, asi que tomaremos la decision de eliminarlos y quedarnos con los datos de julio del 2011 en adelante, y alos valores NaN que vemos en el 2020 los reemplazaremos por 0 "
   ]
  },
  {
   "cell_type": "code",
   "execution_count": 43,
   "metadata": {},
   "outputs": [
    {
     "data": {
      "text/plain": [
       "(412729, 49)"
      ]
     },
     "execution_count": 43,
     "metadata": {},
     "output_type": "execute_result"
    }
   ],
   "source": [
    "#veremos como queda el dataset antes y despues de eliminar estos registros\n",
    "data.shape"
   ]
  },
  {
   "cell_type": "code",
   "execution_count": 44,
   "metadata": {},
   "outputs": [],
   "source": [
    "period = pd.to_datetime('2011-07').to_period('M') \n",
    "data = data[data['PeriodUltMov']>=period]"
   ]
  },
  {
   "cell_type": "code",
   "execution_count": 45,
   "metadata": {},
   "outputs": [
    {
     "data": {
      "text/html": [
       "<div>\n",
       "<style scoped>\n",
       "    .dataframe tbody tr th:only-of-type {\n",
       "        vertical-align: middle;\n",
       "    }\n",
       "\n",
       "    .dataframe tbody tr th {\n",
       "        vertical-align: top;\n",
       "    }\n",
       "\n",
       "    .dataframe thead tr th {\n",
       "        text-align: left;\n",
       "    }\n",
       "\n",
       "    .dataframe thead tr:last-of-type th {\n",
       "        text-align: right;\n",
       "    }\n",
       "</style>\n",
       "<table border=\"1\" class=\"dataframe\">\n",
       "  <thead>\n",
       "    <tr>\n",
       "      <th></th>\n",
       "      <th colspan=\"12\" halign=\"left\">size</th>\n",
       "    </tr>\n",
       "    <tr>\n",
       "      <th>MonthUltMov</th>\n",
       "      <th>1.0</th>\n",
       "      <th>2.0</th>\n",
       "      <th>3.0</th>\n",
       "      <th>4.0</th>\n",
       "      <th>5.0</th>\n",
       "      <th>6.0</th>\n",
       "      <th>7.0</th>\n",
       "      <th>8.0</th>\n",
       "      <th>9.0</th>\n",
       "      <th>10.0</th>\n",
       "      <th>11.0</th>\n",
       "      <th>12.0</th>\n",
       "    </tr>\n",
       "    <tr>\n",
       "      <th>YearUltMov</th>\n",
       "      <th></th>\n",
       "      <th></th>\n",
       "      <th></th>\n",
       "      <th></th>\n",
       "      <th></th>\n",
       "      <th></th>\n",
       "      <th></th>\n",
       "      <th></th>\n",
       "      <th></th>\n",
       "      <th></th>\n",
       "      <th></th>\n",
       "      <th></th>\n",
       "    </tr>\n",
       "  </thead>\n",
       "  <tbody>\n",
       "    <tr>\n",
       "      <th>2011.0</th>\n",
       "      <td>0</td>\n",
       "      <td>0</td>\n",
       "      <td>0</td>\n",
       "      <td>0</td>\n",
       "      <td>0</td>\n",
       "      <td>0</td>\n",
       "      <td>3</td>\n",
       "      <td>5</td>\n",
       "      <td>5</td>\n",
       "      <td>4</td>\n",
       "      <td>10</td>\n",
       "      <td>6</td>\n",
       "    </tr>\n",
       "    <tr>\n",
       "      <th>2012.0</th>\n",
       "      <td>2</td>\n",
       "      <td>2</td>\n",
       "      <td>3</td>\n",
       "      <td>1</td>\n",
       "      <td>2</td>\n",
       "      <td>3</td>\n",
       "      <td>2</td>\n",
       "      <td>7</td>\n",
       "      <td>2</td>\n",
       "      <td>4</td>\n",
       "      <td>2</td>\n",
       "      <td>11</td>\n",
       "    </tr>\n",
       "    <tr>\n",
       "      <th>2013.0</th>\n",
       "      <td>5</td>\n",
       "      <td>4</td>\n",
       "      <td>2</td>\n",
       "      <td>7</td>\n",
       "      <td>6</td>\n",
       "      <td>1</td>\n",
       "      <td>7</td>\n",
       "      <td>2</td>\n",
       "      <td>3</td>\n",
       "      <td>2</td>\n",
       "      <td>2</td>\n",
       "      <td>2</td>\n",
       "    </tr>\n",
       "    <tr>\n",
       "      <th>2014.0</th>\n",
       "      <td>2</td>\n",
       "      <td>5</td>\n",
       "      <td>7</td>\n",
       "      <td>3</td>\n",
       "      <td>8</td>\n",
       "      <td>7</td>\n",
       "      <td>11</td>\n",
       "      <td>6</td>\n",
       "      <td>6</td>\n",
       "      <td>7</td>\n",
       "      <td>2</td>\n",
       "      <td>10</td>\n",
       "    </tr>\n",
       "    <tr>\n",
       "      <th>2015.0</th>\n",
       "      <td>4</td>\n",
       "      <td>3</td>\n",
       "      <td>2</td>\n",
       "      <td>4</td>\n",
       "      <td>7</td>\n",
       "      <td>6</td>\n",
       "      <td>8</td>\n",
       "      <td>9</td>\n",
       "      <td>2</td>\n",
       "      <td>4</td>\n",
       "      <td>7</td>\n",
       "      <td>3</td>\n",
       "    </tr>\n",
       "    <tr>\n",
       "      <th>2016.0</th>\n",
       "      <td>5</td>\n",
       "      <td>4</td>\n",
       "      <td>5</td>\n",
       "      <td>6</td>\n",
       "      <td>8</td>\n",
       "      <td>9</td>\n",
       "      <td>12</td>\n",
       "      <td>12</td>\n",
       "      <td>10</td>\n",
       "      <td>7</td>\n",
       "      <td>11</td>\n",
       "      <td>9</td>\n",
       "    </tr>\n",
       "    <tr>\n",
       "      <th>2017.0</th>\n",
       "      <td>17</td>\n",
       "      <td>28</td>\n",
       "      <td>619</td>\n",
       "      <td>367</td>\n",
       "      <td>467</td>\n",
       "      <td>350</td>\n",
       "      <td>454</td>\n",
       "      <td>523</td>\n",
       "      <td>516</td>\n",
       "      <td>403</td>\n",
       "      <td>412</td>\n",
       "      <td>410</td>\n",
       "    </tr>\n",
       "    <tr>\n",
       "      <th>2018.0</th>\n",
       "      <td>595</td>\n",
       "      <td>378</td>\n",
       "      <td>488</td>\n",
       "      <td>578</td>\n",
       "      <td>726</td>\n",
       "      <td>657</td>\n",
       "      <td>601</td>\n",
       "      <td>784</td>\n",
       "      <td>735</td>\n",
       "      <td>1068</td>\n",
       "      <td>2676</td>\n",
       "      <td>1185</td>\n",
       "    </tr>\n",
       "    <tr>\n",
       "      <th>2019.0</th>\n",
       "      <td>5326</td>\n",
       "      <td>84766</td>\n",
       "      <td>5094</td>\n",
       "      <td>5321</td>\n",
       "      <td>6202</td>\n",
       "      <td>6380</td>\n",
       "      <td>10746</td>\n",
       "      <td>18766</td>\n",
       "      <td>38347</td>\n",
       "      <td>1486</td>\n",
       "      <td>34515</td>\n",
       "      <td>152271</td>\n",
       "    </tr>\n",
       "    <tr>\n",
       "      <th>2020.0</th>\n",
       "      <td>2572</td>\n",
       "      <td>3058</td>\n",
       "      <td>0</td>\n",
       "      <td>0</td>\n",
       "      <td>0</td>\n",
       "      <td>0</td>\n",
       "      <td>0</td>\n",
       "      <td>0</td>\n",
       "      <td>0</td>\n",
       "      <td>0</td>\n",
       "      <td>0</td>\n",
       "      <td>0</td>\n",
       "    </tr>\n",
       "  </tbody>\n",
       "</table>\n",
       "</div>"
      ],
      "text/plain": [
       "             size                                                            \\\n",
       "MonthUltMov  1.0    2.0   3.0   4.0   5.0   6.0    7.0    8.0    9.0   10.0   \n",
       "YearUltMov                                                                    \n",
       "2011.0          0      0     0     0     0     0      3      5      5     4   \n",
       "2012.0          2      2     3     1     2     3      2      7      2     4   \n",
       "2013.0          5      4     2     7     6     1      7      2      3     2   \n",
       "2014.0          2      5     7     3     8     7     11      6      6     7   \n",
       "2015.0          4      3     2     4     7     6      8      9      2     4   \n",
       "2016.0          5      4     5     6     8     9     12     12     10     7   \n",
       "2017.0         17     28   619   367   467   350    454    523    516   403   \n",
       "2018.0        595    378   488   578   726   657    601    784    735  1068   \n",
       "2019.0       5326  84766  5094  5321  6202  6380  10746  18766  38347  1486   \n",
       "2020.0       2572   3058     0     0     0     0      0      0      0     0   \n",
       "\n",
       "                            \n",
       "MonthUltMov   11.0    12.0  \n",
       "YearUltMov                  \n",
       "2011.0          10       6  \n",
       "2012.0           2      11  \n",
       "2013.0           2       2  \n",
       "2014.0           2      10  \n",
       "2015.0           7       3  \n",
       "2016.0          11       9  \n",
       "2017.0         412     410  \n",
       "2018.0        2676    1185  \n",
       "2019.0       34515  152271  \n",
       "2020.0           0       0  "
      ]
     },
     "execution_count": 45,
     "metadata": {},
     "output_type": "execute_result"
    }
   ],
   "source": [
    "pivot_table = pd.pivot_table(data,\n",
    "                               index=['YearUltMov'],\n",
    "                               columns=['MonthUltMov'],\n",
    "                               aggfunc=['size'],\n",
    "                               fill_value=0 # le asignamos un valor a los nan\n",
    "                              )\n",
    "pivot_table"
   ]
  },
  {
   "cell_type": "code",
   "execution_count": 46,
   "metadata": {},
   "outputs": [
    {
     "data": {
      "text/plain": [
       "(390235, 49)"
      ]
     },
     "execution_count": 46,
     "metadata": {},
     "output_type": "execute_result"
    }
   ],
   "source": [
    "data.shape"
   ]
  },
  {
   "cell_type": "code",
   "execution_count": 47,
   "metadata": {},
   "outputs": [],
   "source": [
    "#todas las columnas de date que hemos agregado podemos eliminarlas ahora\n",
    "to_remove = [\"Date\", \"Month\", \"Year\", \"Period\", \"DateUltMov\", \"MonthUltMov\", \"YearUltMov\", \"PeriodUltMov\"]"
   ]
  },
  {
   "cell_type": "code",
   "execution_count": 48,
   "metadata": {},
   "outputs": [],
   "source": [
    "data.drop(columns=to_remove,inplace=True)"
   ]
  },
  {
   "cell_type": "code",
   "execution_count": 49,
   "metadata": {},
   "outputs": [
    {
     "data": {
      "text/plain": [
       "(390235, 41)"
      ]
     },
     "execution_count": 49,
     "metadata": {},
     "output_type": "execute_result"
    }
   ],
   "source": [
    "data.shape"
   ]
  },
  {
   "cell_type": "markdown",
   "metadata": {},
   "source": [
    "Ahora solo nos queda trabajar con categoria producto"
   ]
  },
  {
   "cell_type": "code",
   "execution_count": 50,
   "metadata": {},
   "outputs": [
    {
     "data": {
      "text/plain": [
       "K  00021    0.517693\n",
       "GRL00003    0.227486\n",
       "JUB00021    0.181442\n",
       "PC200003    0.024765\n",
       "PC100003    0.018169\n",
       "NaN         0.005494\n",
       "CCL00003    0.004244\n",
       "L  00021    0.003552\n",
       "GRA00001    0.003219\n",
       "SUB00003    0.003206\n",
       "PRI00001    0.003170\n",
       "WEB00003    0.002834\n",
       "DNI00003    0.001399\n",
       "LIB00003    0.001225\n",
       "CON00001    0.000648\n",
       "PRI00018    0.000482\n",
       "RED00003    0.000323\n",
       "PC100001    0.000223\n",
       "PC300003    0.000097\n",
       "COF00001    0.000090\n",
       "JOV00003    0.000077\n",
       "K  00001    0.000044\n",
       "ADO00003    0.000041\n",
       "COE00001    0.000028\n",
       "Q  00003    0.000021\n",
       "FIU00003    0.000013\n",
       "PIG00003    0.000010\n",
       "BSU00003    0.000008\n",
       "Name: CategoriaProducto, dtype: float64"
      ]
     },
     "execution_count": 50,
     "metadata": {},
     "output_type": "execute_result"
    }
   ],
   "source": [
    "data['CategoriaProducto'].value_counts(normalize=True,dropna=False)"
   ]
  },
  {
   "cell_type": "code",
   "execution_count": 51,
   "metadata": {},
   "outputs": [],
   "source": [
    "#vemos que hay un gran porcentaje (mas del 51%) de valores que pertenecen a la categoria K 00021, asi que lo que haremos \n",
    "#sera imputar los nulos reemplazandolos con ese valor \n",
    "data.loc[data['CategoriaProducto'].isnull(),'CategoriaProducto']='K  00021'"
   ]
  },
  {
   "cell_type": "code",
   "execution_count": 52,
   "metadata": {},
   "outputs": [
    {
     "data": {
      "text/plain": [
       "K  00021    0.523187\n",
       "GRL00003    0.227486\n",
       "JUB00021    0.181442\n",
       "PC200003    0.024765\n",
       "PC100003    0.018169\n",
       "CCL00003    0.004244\n",
       "L  00021    0.003552\n",
       "GRA00001    0.003219\n",
       "SUB00003    0.003206\n",
       "PRI00001    0.003170\n",
       "WEB00003    0.002834\n",
       "DNI00003    0.001399\n",
       "LIB00003    0.001225\n",
       "CON00001    0.000648\n",
       "PRI00018    0.000482\n",
       "RED00003    0.000323\n",
       "PC100001    0.000223\n",
       "PC300003    0.000097\n",
       "COF00001    0.000090\n",
       "JOV00003    0.000077\n",
       "K  00001    0.000044\n",
       "ADO00003    0.000041\n",
       "COE00001    0.000028\n",
       "Q  00003    0.000021\n",
       "FIU00003    0.000013\n",
       "PIG00003    0.000010\n",
       "BSU00003    0.000008\n",
       "Name: CategoriaProducto, dtype: float64"
      ]
     },
     "execution_count": 52,
     "metadata": {},
     "output_type": "execute_result"
    }
   ],
   "source": [
    "data['CategoriaProducto'].value_counts(normalize=True)"
   ]
  },
  {
   "cell_type": "markdown",
   "metadata": {},
   "source": [
    "### Otras transformaciones"
   ]
  },
  {
   "cell_type": "code",
   "execution_count": 53,
   "metadata": {},
   "outputs": [
    {
     "data": {
      "text/plain": [
       "0.0    0.994296\n",
       "1.0    0.005704\n",
       "Name: target, dtype: float64"
      ]
     },
     "execution_count": 53,
     "metadata": {},
     "output_type": "execute_result"
    }
   ],
   "source": [
    "data['target'].value_counts(normalize=True,dropna=False)"
   ]
  },
  {
   "cell_type": "code",
   "execution_count": 54,
   "metadata": {},
   "outputs": [
    {
     "data": {
      "text/plain": [
       "0.0    0.660335\n",
       "1.0    0.339665\n",
       "Name: target2, dtype: float64"
      ]
     },
     "execution_count": 54,
     "metadata": {},
     "output_type": "execute_result"
    }
   ],
   "source": [
    "data['target2'].value_counts(normalize=True,dropna=False)"
   ]
  },
  {
   "cell_type": "markdown",
   "metadata": {},
   "source": [
    "Como tenemos muchos mas 1s en target2 que en target podemos deducir que la columna de target2 es la que refiere a si el cliente abrio o no el mail y el target a si efectivamente quiso la tarjeta"
   ]
  },
  {
   "cell_type": "code",
   "execution_count": 55,
   "metadata": {},
   "outputs": [
    {
     "data": {
      "text/plain": [
       "<seaborn.axisgrid.PairGrid at 0x1b601c51748>"
      ]
     },
     "execution_count": 55,
     "metadata": {},
     "output_type": "execute_result"
    },
    {
     "data": {
      "image/png": "[encoded data removed]",
      "text/plain": [
       "<Figure size 360x360 with 6 Axes>"
      ]
     },
     "metadata": {
      "needs_background": "light"
     },
     "output_type": "display_data"
    }
   ],
   "source": [
    "#Comparacion entre  periodo_cli y  periodo\n",
    "for_pairplot= data[[\"periodo_cli\", \"periodo\"]]\n",
    "for_pairplot=for_pairplot.sample(1000)\n",
    "sns.pairplot(for_pairplot)"
   ]
  },
  {
   "cell_type": "code",
   "execution_count": 56,
   "metadata": {},
   "outputs": [],
   "source": [
    "#vemos que son exactamente iguales estas columnas por lo que eliminamos una de ellas \n",
    "data.drop(columns=\"periodo_cli\", inplace=True)"
   ]
  },
  {
   "cell_type": "markdown",
   "metadata": {},
   "source": [
    "### Analizaremos valores faltantes o erróneos"
   ]
  },
  {
   "cell_type": "code",
   "execution_count": 57,
   "metadata": {},
   "outputs": [
    {
     "data": {
      "text/plain": [
       "Index(['Unnamed: 0', 'FechaSaldos', 'periodo', 'cant_productos', 'cant_PF',\n",
       "       'cant_TC', 'cant_PP', 'FechaUltMovCA', 'cant_seguros',\n",
       "       'importe_consumos', 'Edad', 'Sexo', 'SaldoPromedioCAPesos',\n",
       "       'SaldoPromedioCADolares', 'SaldoPromedioCCAcreedor', 'TotalConsumoTD',\n",
       "       'CategoriaProducto', 'FechaVinculacion', 'cuotas_faltantes_1',\n",
       "       'cant_PF_ant_1', 'cant_TC_ant_1', 'cant_PP_ant_1',\n",
       "       'SaldoPromedioCAPesos_ant_1', 'SaldoPromedioCADolares_ant_1',\n",
       "       'SaldoPromedioCCAcreedor_ant_1', 'importe_consumos_ant_1',\n",
       "       'TotalConsumoTD_ant_1', 'cuotas_faltantes', 'cant_PF_ant_2',\n",
       "       'cant_TC_ant_2', 'cant_PP_ant_2', 'SaldoPromedioCAPesos_ant_2',\n",
       "       'SaldoPromedioCADolares_ant_2', 'SaldoPromedioCCAcreedor_ant_2',\n",
       "       'importe_consumos_ant_2', 'TotalConsumoTD_ant_2', 'cuotas_faltantes_2',\n",
       "       'score_deuda', 'target', 'target2'],\n",
       "      dtype='object')"
      ]
     },
     "execution_count": 57,
     "metadata": {},
     "output_type": "execute_result"
    }
   ],
   "source": [
    "data.columns"
   ]
  },
  {
   "cell_type": "code",
   "execution_count": 58,
   "metadata": {},
   "outputs": [
    {
     "data": {
      "text/plain": [
       "2019-12-06 09:45:00    201331\n",
       "2020-01-08 09:48:00    180435\n",
       "2020-02-07 14:13:00      8469\n",
       "Name: FechaSaldos, dtype: int64"
      ]
     },
     "execution_count": 58,
     "metadata": {},
     "output_type": "execute_result"
    }
   ],
   "source": [
    "data['FechaSaldos'].value_counts()\n",
    "#vemos solo 3 fecha de saldos.. sera una fecha de corte? "
   ]
  },
  {
   "cell_type": "code",
   "execution_count": 59,
   "metadata": {},
   "outputs": [
    {
     "data": {
      "text/plain": [
       "24240    201331\n",
       "24241    180435\n",
       "24242      8469\n",
       "Name: periodo, dtype: int64"
      ]
     },
     "execution_count": 59,
     "metadata": {},
     "output_type": "execute_result"
    }
   ],
   "source": [
    "data['periodo'].value_counts()"
   ]
  },
  {
   "cell_type": "code",
   "execution_count": 60,
   "metadata": {},
   "outputs": [],
   "source": [
    "#tambien solo hay 3 tipos de periodos, igual que para fecha de saldos. de estas 2 podemos quedarnos solo con una columna\n",
    "#en tal caso preferiria quedarme con la columna que indica la fecha de saldos ya que posee mas informacion que el nro del periodo\n",
    "data.drop(columns=\"periodo\", inplace=True)"
   ]
  },
  {
   "cell_type": "code",
   "execution_count": 61,
   "metadata": {},
   "outputs": [
    {
     "data": {
      "text/plain": [
       "3      108674\n",
       "2       91142\n",
       "4       78231\n",
       "5       40797\n",
       "1       38009\n",
       "6       18316\n",
       "7        8122\n",
       "8        3488\n",
       "9        1525\n",
       "10        848\n",
       "11        391\n",
       "12        208\n",
       "13        177\n",
       "14         86\n",
       "15         52\n",
       "16         40\n",
       "17         29\n",
       "20         14\n",
       "19         11\n",
       "18          9\n",
       "26          6\n",
       "103         6\n",
       "23          6\n",
       "22          6\n",
       "27          4\n",
       "25          4\n",
       "21          4\n",
       "29          3\n",
       "104         3\n",
       "0           2\n",
       "24          2\n",
       "30          2\n",
       "36          2\n",
       "41          2\n",
       "101         2\n",
       "102         2\n",
       "106         1\n",
       "31          1\n",
       "39          1\n",
       "42          1\n",
       "43          1\n",
       "46          1\n",
       "77          1\n",
       "93          1\n",
       "105         1\n",
       "213         1\n",
       "Name: cant_productos, dtype: int64"
      ]
     },
     "execution_count": 61,
     "metadata": {},
     "output_type": "execute_result"
    }
   ],
   "source": [
    "data['cant_productos'].value_counts()\n",
    "#vemos que sin duda tenemos valores outliers en esta columna y de la misma manera podemos tener en cant_PF, cant_TC, cant_PP etc"
   ]
  },
  {
   "cell_type": "code",
   "execution_count": 62,
   "metadata": {},
   "outputs": [
    {
     "data": {
      "text/plain": [
       "39     11772\n",
       "37     11764\n",
       "38     11747\n",
       "35     11665\n",
       "34     11601\n",
       "       ...  \n",
       "106        4\n",
       "117        2\n",
       "114        2\n",
       "113        2\n",
       "111        2\n",
       "Name: Edad, Length: 115, dtype: int64"
      ]
     },
     "execution_count": 62,
     "metadata": {},
     "output_type": "execute_result"
    }
   ],
   "source": [
    "data['Edad'].value_counts()"
   ]
  },
  {
   "cell_type": "code",
   "execution_count": 63,
   "metadata": {},
   "outputs": [
    {
     "data": {
      "text/plain": [
       "count    390235.000000\n",
       "mean         47.148669\n",
       "std          17.616954\n",
       "min           0.000000\n",
       "25%          34.000000\n",
       "50%          43.000000\n",
       "75%          58.000000\n",
       "max         119.000000\n",
       "Name: Edad, dtype: float64"
      ]
     },
     "execution_count": 63,
     "metadata": {},
     "output_type": "execute_result"
    }
   ],
   "source": [
    "#vemos que hay muchas edades que estan por encima de los 100, no tienen sentido asi que las reemplazaremos por la edad promedio\n",
    "data['Edad'].describe()"
   ]
  },
  {
   "cell_type": "code",
   "execution_count": 64,
   "metadata": {},
   "outputs": [],
   "source": [
    "data.loc[data['Edad']>=100,'Edad']=47"
   ]
  },
  {
   "cell_type": "code",
   "execution_count": 65,
   "metadata": {},
   "outputs": [],
   "source": [
    "#haremos lo mismo para los que tengan menos de 18 años \n",
    "data.loc[data['Edad']<18,'Edad']=47"
   ]
  },
  {
   "cell_type": "code",
   "execution_count": 66,
   "metadata": {},
   "outputs": [
    {
     "data": {
      "text/plain": [
       "count    390235.000000\n",
       "mean         47.233598\n",
       "std          17.340858\n",
       "min          18.000000\n",
       "25%          34.000000\n",
       "50%          43.000000\n",
       "75%          58.000000\n",
       "max          99.000000\n",
       "Name: Edad, dtype: float64"
      ]
     },
     "execution_count": 66,
     "metadata": {},
     "output_type": "execute_result"
    }
   ],
   "source": [
    "data['Edad'].describe()\n",
    "#nos queda asi la edad minima de 18 años y la maxima de 99, tiene mas sentido de esta forma.. "
   ]
  },
  {
   "cell_type": "code",
   "execution_count": 67,
   "metadata": {},
   "outputs": [
    {
     "data": {
      "text/plain": [
       "F    215600\n",
       "M    172944\n",
       "       1691\n",
       "Name: Sexo, dtype: int64"
      ]
     },
     "execution_count": 67,
     "metadata": {},
     "output_type": "execute_result"
    }
   ],
   "source": [
    "data['Sexo'].value_counts()"
   ]
  },
  {
   "cell_type": "code",
   "execution_count": 68,
   "metadata": {},
   "outputs": [],
   "source": [
    "#tenemos muchos valores con string vacio, podemos eliminar estos registros o considerar que se refiere a una cuenta \n",
    "#de tipo juridica y por eso no tiene sexo"
   ]
  },
  {
   "cell_type": "markdown",
   "metadata": {},
   "source": [
    "### Corrección de valores outliers"
   ]
  },
  {
   "cell_type": "code",
   "execution_count": 69,
   "metadata": {},
   "outputs": [
    {
     "data": {
      "text/plain": [
       "<matplotlib.axes._subplots.AxesSubplot at 0x1b607b04308>"
      ]
     },
     "execution_count": 69,
     "metadata": {},
     "output_type": "execute_result"
    },
    {
     "data": {
      "image/png": "[encoded data removed]",
      "text/plain": [
       "<Figure size 432x288 with 1 Axes>"
      ]
     },
     "metadata": {
      "needs_background": "light"
     },
     "output_type": "display_data"
    }
   ],
   "source": [
    "#Analizaremos las variables cant_productos, cant_PF, cant_TC y cant_PP en busca de valores outliers\n",
    "data.boxplot(['cant_productos','cant_PF','cant_TC','cant_PP'])"
   ]
  },
  {
   "cell_type": "code",
   "execution_count": 70,
   "metadata": {},
   "outputs": [],
   "source": [
    "#vemos que para cant_PP no tenemos valores outliers pero para las otras 3 columnas si, entonces los eliminaremos\n",
    "data.loc[data['cant_productos']>data['cant_productos'].quantile(0.99),'cant_productos'] = data['cant_productos'].quantile(0.99)"
   ]
  },
  {
   "cell_type": "code",
   "execution_count": 71,
   "metadata": {},
   "outputs": [
    {
     "data": {
      "text/plain": [
       "<matplotlib.axes._subplots.AxesSubplot at 0x1b601ad7f88>"
      ]
     },
     "execution_count": 71,
     "metadata": {},
     "output_type": "execute_result"
    },
    {
     "data": {
      "image/png": "[encoded data removed]",
      "text/plain": [
       "<Figure size 432x288 with 1 Axes>"
      ]
     },
     "metadata": {
      "needs_background": "light"
     },
     "output_type": "display_data"
    }
   ],
   "source": [
    "data.boxplot(['cant_productos','cant_PF','cant_TC','cant_PP'])"
   ]
  },
  {
   "cell_type": "code",
   "execution_count": 72,
   "metadata": {},
   "outputs": [],
   "source": [
    "data.loc[data['cant_PF']>data['cant_PF'].quantile(0.99),'cant_PF'] = data['cant_PF'].quantile(0.99)"
   ]
  },
  {
   "cell_type": "code",
   "execution_count": 73,
   "metadata": {},
   "outputs": [],
   "source": [
    "data.loc[data['cant_TC']>data['cant_TC'].quantile(0.99),'cant_TC'] = data['cant_TC'].quantile(0.99)"
   ]
  },
  {
   "cell_type": "code",
   "execution_count": 74,
   "metadata": {},
   "outputs": [
    {
     "data": {
      "text/plain": [
       "<matplotlib.axes._subplots.AxesSubplot at 0x1b6033761c8>"
      ]
     },
     "execution_count": 74,
     "metadata": {},
     "output_type": "execute_result"
    },
    {
     "data": {
      "image/png": "[encoded data removed]",
      "text/plain": [
       "<Figure size 432x288 with 1 Axes>"
      ]
     },
     "metadata": {
      "needs_background": "light"
     },
     "output_type": "display_data"
    }
   ],
   "source": [
    "data.boxplot(['cant_productos','cant_PF','cant_TC','cant_PP'])"
   ]
  },
  {
   "cell_type": "code",
   "execution_count": 75,
   "metadata": {},
   "outputs": [
    {
     "data": {
      "text/plain": [
       "<matplotlib.axes._subplots.AxesSubplot at 0x1b6034299c8>"
      ]
     },
     "execution_count": 75,
     "metadata": {},
     "output_type": "execute_result"
    },
    {
     "data": {
      "image/png": "[encoded data removed]",
      "text/plain": [
       "<Figure size 432x288 with 1 Axes>"
      ]
     },
     "metadata": {
      "needs_background": "light"
     },
     "output_type": "display_data"
    }
   ],
   "source": [
    "#realizaremos el mismo analisis para cantidades de ant 1 y eliminaremos outliers\n",
    "data.boxplot(['cant_PF_ant_1', 'cant_TC_ant_1', 'cant_PP_ant_1'])"
   ]
  },
  {
   "cell_type": "code",
   "execution_count": 76,
   "metadata": {},
   "outputs": [],
   "source": [
    "data.loc[data['cant_PF_ant_1']>data['cant_PF_ant_1'].quantile(0.99),'cant_PF_ant_1'] = data['cant_PF_ant_1'].quantile(0.99)"
   ]
  },
  {
   "cell_type": "code",
   "execution_count": 77,
   "metadata": {},
   "outputs": [],
   "source": [
    "data.loc[data['cant_TC_ant_1']>data['cant_TC_ant_1'].quantile(0.99),'cant_TC_ant_1'] = data['cant_TC_ant_1'].quantile(0.99)"
   ]
  },
  {
   "cell_type": "code",
   "execution_count": 78,
   "metadata": {},
   "outputs": [
    {
     "data": {
      "text/plain": [
       "<matplotlib.axes._subplots.AxesSubplot at 0x1b603879b48>"
      ]
     },
     "execution_count": 78,
     "metadata": {},
     "output_type": "execute_result"
    },
    {
     "data": {
      "image/png": "[encoded data removed]",
      "text/plain": [
       "<Figure size 432x288 with 1 Axes>"
      ]
     },
     "metadata": {
      "needs_background": "light"
     },
     "output_type": "display_data"
    }
   ],
   "source": [
    "data.boxplot(['cant_PF_ant_1', 'cant_TC_ant_1', 'cant_PP_ant_1'])"
   ]
  },
  {
   "cell_type": "code",
   "execution_count": 79,
   "metadata": {},
   "outputs": [
    {
     "data": {
      "text/plain": [
       "<matplotlib.axes._subplots.AxesSubplot at 0x1b603906808>"
      ]
     },
     "execution_count": 79,
     "metadata": {},
     "output_type": "execute_result"
    },
    {
     "data": {
      "image/png": "[encoded data removed]",
      "text/plain": [
       "<Figure size 432x288 with 1 Axes>"
      ]
     },
     "metadata": {
      "needs_background": "light"
     },
     "output_type": "display_data"
    }
   ],
   "source": [
    "#por ultimo haremos el mismo analisis para las cantidades de ant 2\n",
    "data.boxplot(['cant_PF_ant_2', 'cant_TC_ant_2', 'cant_PP_ant_2'])"
   ]
  },
  {
   "cell_type": "code",
   "execution_count": 80,
   "metadata": {},
   "outputs": [],
   "source": [
    "#en este caso eliminaremos solo la cantidad de tarjetas de creditos y no la cantidad de plazos fijos pq sino nos quedariamos con poca info\n",
    "data.loc[data['cant_TC_ant_2']>data['cant_TC_ant_2'].quantile(0.99),'cant_TC_ant_2'] = data['cant_TC_ant_2'].quantile(0.99)"
   ]
  },
  {
   "cell_type": "code",
   "execution_count": 81,
   "metadata": {},
   "outputs": [
    {
     "data": {
      "text/plain": [
       "<matplotlib.axes._subplots.AxesSubplot at 0x1b603d6a8c8>"
      ]
     },
     "execution_count": 81,
     "metadata": {},
     "output_type": "execute_result"
    },
    {
     "data": {
      "image/png": "[encoded data removed]",
      "text/plain": [
       "<Figure size 432x288 with 1 Axes>"
      ]
     },
     "metadata": {
      "needs_background": "light"
     },
     "output_type": "display_data"
    }
   ],
   "source": [
    "data.boxplot(['cant_PF_ant_2', 'cant_TC_ant_2', 'cant_PP_ant_2'])"
   ]
  },
  {
   "cell_type": "code",
   "execution_count": 82,
   "metadata": {},
   "outputs": [
    {
     "data": {
      "text/plain": [
       "(390235, 39)"
      ]
     },
     "execution_count": 82,
     "metadata": {},
     "output_type": "execute_result"
    }
   ],
   "source": [
    "data.shape"
   ]
  },
  {
   "cell_type": "code",
   "execution_count": 83,
   "metadata": {},
   "outputs": [
    {
     "data": {
      "text/plain": [
       "<matplotlib.axes._subplots.AxesSubplot at 0x1b603ded408>"
      ]
     },
     "execution_count": 83,
     "metadata": {},
     "output_type": "execute_result"
    },
    {
     "data": {
      "image/png": "[encoded data removed]",
      "text/plain": [
       "<Figure size 432x288 with 1 Axes>"
      ]
     },
     "metadata": {
      "needs_background": "light"
     },
     "output_type": "display_data"
    }
   ],
   "source": [
    "data.boxplot(['Edad'])"
   ]
  },
  {
   "cell_type": "markdown",
   "metadata": {},
   "source": [
    "## Entrenamiento del modelo"
   ]
  },
  {
   "cell_type": "code",
   "execution_count": 84,
   "metadata": {},
   "outputs": [],
   "source": [
    "#Nuestro tag estara dado por la columna target2, al que llamaremos y \n",
    "y = data['target2']"
   ]
  },
  {
   "cell_type": "code",
   "execution_count": 85,
   "metadata": {},
   "outputs": [],
   "source": [
    "#tendremos en cuenta solo las columnas numericas\n",
    "data = data.select_dtypes(include=['int64','float64'])"
   ]
  },
  {
   "cell_type": "code",
   "execution_count": 86,
   "metadata": {},
   "outputs": [
    {
     "data": {
      "text/plain": [
       "Index(['Unnamed: 0', 'cant_productos', 'cant_PF', 'cant_TC', 'cant_PP',\n",
       "       'cant_seguros', 'importe_consumos', 'Edad', 'SaldoPromedioCAPesos',\n",
       "       'SaldoPromedioCADolares', 'SaldoPromedioCCAcreedor', 'TotalConsumoTD',\n",
       "       'cuotas_faltantes_1', 'cant_PF_ant_1', 'cant_TC_ant_1', 'cant_PP_ant_1',\n",
       "       'SaldoPromedioCAPesos_ant_1', 'SaldoPromedioCADolares_ant_1',\n",
       "       'SaldoPromedioCCAcreedor_ant_1', 'importe_consumos_ant_1',\n",
       "       'TotalConsumoTD_ant_1', 'cuotas_faltantes', 'cant_PF_ant_2',\n",
       "       'cant_TC_ant_2', 'cant_PP_ant_2', 'SaldoPromedioCAPesos_ant_2',\n",
       "       'SaldoPromedioCADolares_ant_2', 'SaldoPromedioCCAcreedor_ant_2',\n",
       "       'importe_consumos_ant_2', 'TotalConsumoTD_ant_2', 'cuotas_faltantes_2',\n",
       "       'score_deuda', 'target', 'target2'],\n",
       "      dtype='object')"
      ]
     },
     "execution_count": 86,
     "metadata": {},
     "output_type": "execute_result"
    }
   ],
   "source": [
    "data.columns"
   ]
  },
  {
   "cell_type": "markdown",
   "metadata": {},
   "source": [
    "Ahora tenemos que crear la variable x que contendra la informacion para el entrenamiento del modelo (data)\n",
    "\n",
    "Eliminaremos tambien las columnas unnamed 0 y target y target 2"
   ]
  },
  {
   "cell_type": "code",
   "execution_count": 87,
   "metadata": {},
   "outputs": [
    {
     "data": {
      "text/plain": [
       "['cant_productos',\n",
       " 'cant_PF',\n",
       " 'cant_TC',\n",
       " 'cant_PP',\n",
       " 'cant_seguros',\n",
       " 'importe_consumos',\n",
       " 'Edad',\n",
       " 'SaldoPromedioCAPesos',\n",
       " 'SaldoPromedioCADolares',\n",
       " 'SaldoPromedioCCAcreedor',\n",
       " 'TotalConsumoTD',\n",
       " 'cuotas_faltantes_1',\n",
       " 'cant_PF_ant_1',\n",
       " 'cant_TC_ant_1',\n",
       " 'cant_PP_ant_1',\n",
       " 'SaldoPromedioCAPesos_ant_1',\n",
       " 'SaldoPromedioCADolares_ant_1',\n",
       " 'SaldoPromedioCCAcreedor_ant_1',\n",
       " 'importe_consumos_ant_1',\n",
       " 'TotalConsumoTD_ant_1',\n",
       " 'cuotas_faltantes',\n",
       " 'cant_PF_ant_2',\n",
       " 'cant_TC_ant_2',\n",
       " 'cant_PP_ant_2',\n",
       " 'SaldoPromedioCAPesos_ant_2',\n",
       " 'SaldoPromedioCADolares_ant_2',\n",
       " 'SaldoPromedioCCAcreedor_ant_2',\n",
       " 'importe_consumos_ant_2',\n",
       " 'TotalConsumoTD_ant_2',\n",
       " 'cuotas_faltantes_2',\n",
       " 'score_deuda']"
      ]
     },
     "execution_count": 87,
     "metadata": {},
     "output_type": "execute_result"
    }
   ],
   "source": [
    "columns = [col for col in data.columns if col not in ['Unnamed: 0', 'target', 'target2']]\n",
    "columns"
   ]
  },
  {
   "cell_type": "code",
   "execution_count": 88,
   "metadata": {},
   "outputs": [],
   "source": [
    "X = data[columns]"
   ]
  },
  {
   "cell_type": "code",
   "execution_count": 89,
   "metadata": {},
   "outputs": [],
   "source": [
    "#ahora nos quedamos con los valores de cada variable\n",
    "#values pasa de serie a array\n",
    "y = y.values\n",
    "X = X.values"
   ]
  },
  {
   "cell_type": "markdown",
   "metadata": {},
   "source": [
    "Ahora que tenemos las dos variables X e y, debemos realizar una division del dataset en un dataset de entrenamiento y uno de testeo\n",
    "\n",
    "Usaremos el metodo Train Test Split, el cual se encarga de dividir nuestro conjunto original en un conjunto de entrenamiento y un conjunto de testeo"
   ]
  },
  {
   "cell_type": "code",
   "execution_count": 90,
   "metadata": {},
   "outputs": [],
   "source": [
    "from sklearn.model_selection import train_test_split # cargamos el metodo"
   ]
  },
  {
   "cell_type": "code",
   "execution_count": 91,
   "metadata": {},
   "outputs": [],
   "source": [
    "#Separamos el conjunto entrenamiento y test con el metodo train_test_split y se lo asignamos a las distintas variables\n",
    "X_train, X_test, y_train, y_test = train_test_split(X,y)\n",
    "#por default el conjunto se separara en 75% para el train y 25% para el test"
   ]
  },
  {
   "cell_type": "code",
   "execution_count": 92,
   "metadata": {},
   "outputs": [
    {
     "data": {
      "text/plain": [
       "(390235, 31)"
      ]
     },
     "execution_count": 92,
     "metadata": {},
     "output_type": "execute_result"
    }
   ],
   "source": [
    "X.shape"
   ]
  },
  {
   "cell_type": "code",
   "execution_count": 93,
   "metadata": {},
   "outputs": [
    {
     "data": {
      "text/plain": [
       "(292676, 31)"
      ]
     },
     "execution_count": 93,
     "metadata": {},
     "output_type": "execute_result"
    }
   ],
   "source": [
    "X_train.shape"
   ]
  },
  {
   "cell_type": "code",
   "execution_count": 94,
   "metadata": {},
   "outputs": [
    {
     "data": {
      "text/plain": [
       "(97559, 31)"
      ]
     },
     "execution_count": 94,
     "metadata": {},
     "output_type": "execute_result"
    }
   ],
   "source": [
    "X_test.shape"
   ]
  },
  {
   "cell_type": "markdown",
   "metadata": {},
   "source": [
    "Podemos observar que como separamos la variable X en train y test, la suma de registros de X_train y X_test \n",
    "dara la cantidad de registros de X. En el caso de la variable y ocurriria exactamente igual.\n",
    "\n",
    "A su vez, X_train tendra la misma cantidad de registros o filas que y_train, y X_test la misma que y_test."
   ]
  },
  {
   "cell_type": "code",
   "execution_count": 95,
   "metadata": {},
   "outputs": [
    {
     "name": "stdout",
     "output_type": "stream",
     "text": [
      "Requirement already satisfied: xgboost in c:\\programdata\\anaconda3\\lib\\site-packages (1.0.2)\n",
      "Requirement already satisfied: numpy in c:\\programdata\\anaconda3\\lib\\site-packages (from xgboost) (1.18.1)\n",
      "Requirement already satisfied: scipy in c:\\programdata\\anaconda3\\lib\\site-packages (from xgboost) (1.4.1)\n"
     ]
    }
   ],
   "source": [
    "#utilizaremos xgboost como modelo predictivo\n",
    "!pip install xgboost"
   ]
  },
  {
   "cell_type": "code",
   "execution_count": 96,
   "metadata": {},
   "outputs": [],
   "source": [
    "#### Imports para entrenamiento, predicción y evaluación del modelo ####\n",
    "#### NO QUITAR ####\n",
    "import xgboost as xgb\n",
    "from sklearn.metrics import classification_report, confusion_matrix\n",
    "#estas herramientas nos permiten calcular metricas del modelo "
   ]
  },
  {
   "cell_type": "code",
   "execution_count": 97,
   "metadata": {},
   "outputs": [],
   "source": [
    "def train(X_train,y_train):\n",
    "    \"\"\"\n",
    "    Función para entrenar el modelo.\n",
    "    \n",
    "    Parameters\n",
    "    -----------\n",
    "    \n",
    "    X_train: pd.DataFrame\n",
    "        Dataset de Train, listo para entrenar y sin tag\n",
    "        \n",
    "    y_train: pd.DataFrame\n",
    "        Dataset de tag, es el tag correspondiente al dataset de train.\n",
    "        \n",
    "    Return\n",
    "    ----------\n",
    "    Modelo Entrenado.\n",
    "    \n",
    "    \"\"\"\n",
    "    xgb_model = xgb.XGBClassifier()\n",
    "    #instanciamos el clasificador xgb\n",
    "    \n",
    "    print(\"Comienza entrenamiento del modelo XGBoost\")\n",
    "\n",
    "    xgb_model.fit(X_train, y_train)\n",
    "    #el metodo fit llama al modelo matematico que entrenara el modelo \n",
    "    #xgb model ahora va a ser un modelo entrenado\n",
    "    \n",
    "    print(\"Entrenamiento finalizado\\n\")\n",
    "\n",
    "    print(\"Haciendo las predicciones\\n\\n\")\n",
    "\n",
    "    #con este modelo ya entrenado llamo al metodo predict\n",
    "    XGB_preds = xgb_model.predict(X_test)\n",
    "    #comparo mis predicciones con el valor real que tengo guardo en y_test \n",
    "    print(classification_report(y_test, XGB_preds))\n",
    "    print(confusion_matrix(y_test, XGB_preds))\n",
    "    return xgb_model"
   ]
  },
  {
   "cell_type": "code",
   "execution_count": 98,
   "metadata": {},
   "outputs": [],
   "source": [
    "def predict(data_to_predict, xgb_model):\n",
    "    \"\"\"Funcion para hacer el entrenamiento del modelo y guardarlo en un archivo .pkl\n",
    "\n",
    "    Parameters\n",
    "    -----------\n",
    "\n",
    "    data_to_predict : pd.DataFrame\n",
    "        DataFrame listo para predecir, con las mismas transformaciones que el de entrenamiento.\n",
    "        \n",
    "    xgb_model : xgb.XGBClassifier\n",
    "        Modelo entrenado de XGBoost\n",
    "\n",
    "    Return\n",
    "    -----------\n",
    "    Dataframe de 3 columnas, la identificacion del cliente, la prediccion de la clase y la probabilidad de que el cliente\n",
    "    permanezca en el servicio.\n",
    "\n",
    "\n",
    "    \"\"\"\n",
    "    print(\"\\n\\n-------------------------\")\n",
    "    print(\"Ingreso a la funcion de prediccion\\n\")\n",
    "\n",
    "    XGB_preds = xgb_model.predict_proba(X)\n",
    "    #si en vez de un predict proba hacemos un predict nos daria como resultado 0 y 1 directamente, redondeando\n",
    "    \n",
    "    return XGB_preds"
   ]
  },
  {
   "cell_type": "code",
   "execution_count": 99,
   "metadata": {},
   "outputs": [
    {
     "name": "stdout",
     "output_type": "stream",
     "text": [
      "Comienza entrenamiento del modelo XGBoost\n",
      "Entrenamiento finalizado\n",
      "\n",
      "Haciendo las predicciones\n",
      "\n",
      "\n",
      "              precision    recall  f1-score   support\n",
      "\n",
      "         0.0       0.67      0.97      0.79     64451\n",
      "         1.0       0.51      0.07      0.12     33108\n",
      "\n",
      "    accuracy                           0.66     97559\n",
      "   macro avg       0.59      0.52      0.46     97559\n",
      "weighted avg       0.62      0.66      0.56     97559\n",
      "\n",
      "[[62250  2201]\n",
      " [30802  2306]]\n"
     ]
    }
   ],
   "source": [
    "modelo = train(X_train, y_train)"
   ]
  },
  {
   "cell_type": "code",
   "execution_count": 100,
   "metadata": {},
   "outputs": [
    {
     "data": {
      "text/plain": [
       "<matplotlib.axes._subplots.AxesSubplot at 0x1b601c63388>"
      ]
     },
     "execution_count": 100,
     "metadata": {},
     "output_type": "execute_result"
    },
    {
     "data": {
      "image/png": "[encoded data removed]",
      "text/plain": [
       "<Figure size 432x288 with 1 Axes>"
      ]
     },
     "metadata": {
      "needs_background": "light"
     },
     "output_type": "display_data"
    }
   ],
   "source": [
    "from xgboost import plot_importance\n",
    "plot_importance(modelo, )"
   ]
  },
  {
   "cell_type": "code",
   "execution_count": 101,
   "metadata": {},
   "outputs": [
    {
     "name": "stdout",
     "output_type": "stream",
     "text": [
      "\n",
      "\n",
      "-------------------------\n",
      "Ingreso a la funcion de prediccion\n",
      "\n"
     ]
    }
   ],
   "source": [
    "resultado = predict(X_test,modelo)"
   ]
  },
  {
   "cell_type": "code",
   "execution_count": 102,
   "metadata": {},
   "outputs": [
    {
     "data": {
      "text/plain": [
       "array([[0.4799183 , 0.5200817 ],\n",
       "       [0.6401422 , 0.3598578 ],\n",
       "       [0.6401422 , 0.3598578 ],\n",
       "       ...,\n",
       "       [0.82580125, 0.17419876],\n",
       "       [0.5335233 , 0.46647668],\n",
       "       [0.7488476 , 0.25115243]], dtype=float32)"
      ]
     },
     "execution_count": 102,
     "metadata": {},
     "output_type": "execute_result"
    }
   ],
   "source": [
    "resultado\n",
    "#podemos ver un array con las probabilidades de que cada registro valga 0 o 1"
   ]
  },
  {
   "cell_type": "code",
   "execution_count": 103,
   "metadata": {},
   "outputs": [],
   "source": [
    "resultado = pd.DataFrame(resultado)"
   ]
  },
  {
   "cell_type": "code",
   "execution_count": 104,
   "metadata": {},
   "outputs": [
    {
     "data": {
      "text/html": [
       "<div>\n",
       "<style scoped>\n",
       "    .dataframe tbody tr th:only-of-type {\n",
       "        vertical-align: middle;\n",
       "    }\n",
       "\n",
       "    .dataframe tbody tr th {\n",
       "        vertical-align: top;\n",
       "    }\n",
       "\n",
       "    .dataframe thead th {\n",
       "        text-align: right;\n",
       "    }\n",
       "</style>\n",
       "<table border=\"1\" class=\"dataframe\">\n",
       "  <thead>\n",
       "    <tr style=\"text-align: right;\">\n",
       "      <th></th>\n",
       "      <th>0</th>\n",
       "      <th>1</th>\n",
       "    </tr>\n",
       "  </thead>\n",
       "  <tbody>\n",
       "    <tr>\n",
       "      <th>count</th>\n",
       "      <td>390235.000000</td>\n",
       "      <td>390235.000000</td>\n",
       "    </tr>\n",
       "    <tr>\n",
       "      <th>mean</th>\n",
       "      <td>0.660100</td>\n",
       "      <td>0.339892</td>\n",
       "    </tr>\n",
       "    <tr>\n",
       "      <th>std</th>\n",
       "      <td>0.093634</td>\n",
       "      <td>0.093634</td>\n",
       "    </tr>\n",
       "    <tr>\n",
       "      <th>min</th>\n",
       "      <td>0.022756</td>\n",
       "      <td>0.016078</td>\n",
       "    </tr>\n",
       "    <tr>\n",
       "      <th>25%</th>\n",
       "      <td>0.605049</td>\n",
       "      <td>0.282642</td>\n",
       "    </tr>\n",
       "    <tr>\n",
       "      <th>50%</th>\n",
       "      <td>0.662801</td>\n",
       "      <td>0.337199</td>\n",
       "    </tr>\n",
       "    <tr>\n",
       "      <th>75%</th>\n",
       "      <td>0.717358</td>\n",
       "      <td>0.394951</td>\n",
       "    </tr>\n",
       "    <tr>\n",
       "      <th>max</th>\n",
       "      <td>0.983922</td>\n",
       "      <td>0.977244</td>\n",
       "    </tr>\n",
       "  </tbody>\n",
       "</table>\n",
       "</div>"
      ],
      "text/plain": [
       "                   0              1\n",
       "count  390235.000000  390235.000000\n",
       "mean        0.660100       0.339892\n",
       "std         0.093634       0.093634\n",
       "min         0.022756       0.016078\n",
       "25%         0.605049       0.282642\n",
       "50%         0.662801       0.337199\n",
       "75%         0.717358       0.394951\n",
       "max         0.983922       0.977244"
      ]
     },
     "execution_count": 104,
     "metadata": {},
     "output_type": "execute_result"
    }
   ],
   "source": [
    "resultado.describe()"
   ]
  },
  {
   "cell_type": "code",
   "execution_count": 105,
   "metadata": {},
   "outputs": [
    {
     "data": {
      "text/plain": [
       "0         0\n",
       "1         0\n",
       "2         0\n",
       "3         0\n",
       "4         0\n",
       "         ..\n",
       "390230    0\n",
       "390231    0\n",
       "390232    0\n",
       "390233    0\n",
       "390234    0\n",
       "Name: 1, Length: 390235, dtype: int32"
      ]
     },
     "execution_count": 105,
     "metadata": {},
     "output_type": "execute_result"
    }
   ],
   "source": [
    "#podriamos determinar por ejemplo que tengan 1 aquellos que tengan un valor de probabilidad mayor a 0.6 \n",
    "(resultado[1] > 0.6).astype(int)"
   ]
  },
  {
   "cell_type": "code",
   "execution_count": 106,
   "metadata": {},
   "outputs": [],
   "source": [
    "#pd.DataFrame((resultado[1] > 0.6).astype(int)).to_csv('resultado.csv')"
   ]
  }
 ],
 "metadata": {
  "kernelspec": {
   "display_name": "Python 3",
   "language": "python",
   "name": "python3"
  },
  "language_info": {
   "codemirror_mode": {
    "name": "ipython",
    "version": 3
   },
   "file_extension": ".py",
   "mimetype": "text/x-python",
   "name": "python",
   "nbconvert_exporter": "python",
   "pygments_lexer": "ipython3",
   "version": "3.7.6"
  }
 },
 "nbformat": 4,
 "nbformat_minor": 2
}
