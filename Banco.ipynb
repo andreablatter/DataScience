{
 "cells": [
  {
   "cell_type": "markdown",
   "metadata": {},
   "source": [
    "## Grupo:\n",
    "## Andrea Blatter, Fernanda Pucheta, Cesar Zamboni"
   ]
  },
  {
   "cell_type": "code",
   "execution_count": null,
   "metadata": {},
   "outputs": [],
   "source": [
    "#!pip install xgboost\n",
    "#!pip install seaborn \n",
    "#!pip install matplotlib"
   ]
  },
  {
   "cell_type": "code",
   "execution_count": 33,
   "metadata": {},
   "outputs": [],
   "source": [
    "#### Imports para entrenamiento, predicción y evaluación del modelo ####\n",
    "#### NO QUITAR ####\n",
    "import xgboost as xgb\n",
    "from sklearn.metrics import classification_report, confusion_matrix\n",
    "#### Código Agregado ####\n",
    "import pandas as pd\n",
    "import numpy as np\n",
    "import seaborn as sns\n",
    "import matplotlib.pyplot as plt\n",
    "import plotly.graph_objects as go\n",
    "import warnings\n",
    "warnings.filterwarnings(action=\"ignore\")\n",
    "from datetime import datetime"
   ]
  },
  {
   "cell_type": "code",
   "execution_count": 2,
   "metadata": {},
   "outputs": [],
   "source": [
    "### Loading Data\n",
    "data = pd.read_csv('data/base_tarjeta_credito.csv')\n"
   ]
  },
  {
   "cell_type": "markdown",
   "metadata": {},
   "source": [
    "## Preparamos el tag y el dataset completo"
   ]
  },
  {
   "cell_type": "code",
   "execution_count": 3,
   "metadata": {},
   "outputs": [
    {
     "data": {
      "text/html": [
       "<div>\n",
       "<style scoped>\n",
       "    .dataframe tbody tr th:only-of-type {\n",
       "        vertical-align: middle;\n",
       "    }\n",
       "\n",
       "    .dataframe tbody tr th {\n",
       "        vertical-align: top;\n",
       "    }\n",
       "\n",
       "    .dataframe thead th {\n",
       "        text-align: right;\n",
       "    }\n",
       "</style>\n",
       "<table border=\"1\" class=\"dataframe\">\n",
       "  <thead>\n",
       "    <tr style=\"text-align: right;\">\n",
       "      <th></th>\n",
       "      <th>Unnamed: 0</th>\n",
       "      <th>email</th>\n",
       "      <th>cliente</th>\n",
       "      <th>FechaSaldos</th>\n",
       "      <th>periodo_cli</th>\n",
       "      <th>periodo</th>\n",
       "      <th>cant_productos</th>\n",
       "      <th>cant_PF</th>\n",
       "      <th>cant_TC</th>\n",
       "      <th>cant_PP</th>\n",
       "      <th>...</th>\n",
       "      <th>cant_PP_ant_2</th>\n",
       "      <th>SaldoPromedioCAPesos_ant_2</th>\n",
       "      <th>SaldoPromedioCADolares_ant_2</th>\n",
       "      <th>SaldoPromedioCCAcreedor_ant_2</th>\n",
       "      <th>importe_consumos_ant_2</th>\n",
       "      <th>TotalConsumoTD_ant_2</th>\n",
       "      <th>cuotas_faltantes_2</th>\n",
       "      <th>score_deuda</th>\n",
       "      <th>target</th>\n",
       "      <th>target2</th>\n",
       "    </tr>\n",
       "  </thead>\n",
       "  <tbody>\n",
       "    <tr>\n",
       "      <th>0</th>\n",
       "      <td>0</td>\n",
       "      <td>cliente@mail.com</td>\n",
       "      <td>0</td>\n",
       "      <td>2019-12-06 09:45:00</td>\n",
       "      <td>24240</td>\n",
       "      <td>24240</td>\n",
       "      <td>2</td>\n",
       "      <td>0</td>\n",
       "      <td>0</td>\n",
       "      <td>0</td>\n",
       "      <td>...</td>\n",
       "      <td>0</td>\n",
       "      <td>9440.56</td>\n",
       "      <td>0.00</td>\n",
       "      <td>0.0</td>\n",
       "      <td>0</td>\n",
       "      <td>4577.00</td>\n",
       "      <td>0</td>\n",
       "      <td>NaN</td>\n",
       "      <td>0.0</td>\n",
       "      <td>0.0</td>\n",
       "    </tr>\n",
       "    <tr>\n",
       "      <th>1</th>\n",
       "      <td>1</td>\n",
       "      <td>cliente@mail.com</td>\n",
       "      <td>1</td>\n",
       "      <td>2019-12-06 09:45:00</td>\n",
       "      <td>24240</td>\n",
       "      <td>24240</td>\n",
       "      <td>1</td>\n",
       "      <td>0</td>\n",
       "      <td>0</td>\n",
       "      <td>0</td>\n",
       "      <td>...</td>\n",
       "      <td>0</td>\n",
       "      <td>5029.59</td>\n",
       "      <td>0.00</td>\n",
       "      <td>0.0</td>\n",
       "      <td>0</td>\n",
       "      <td>8813.89</td>\n",
       "      <td>0</td>\n",
       "      <td>NaN</td>\n",
       "      <td>0.0</td>\n",
       "      <td>0.0</td>\n",
       "    </tr>\n",
       "    <tr>\n",
       "      <th>2</th>\n",
       "      <td>2</td>\n",
       "      <td>cliente@mail.com</td>\n",
       "      <td>2</td>\n",
       "      <td>2019-12-06 09:45:00</td>\n",
       "      <td>24240</td>\n",
       "      <td>24240</td>\n",
       "      <td>1</td>\n",
       "      <td>0</td>\n",
       "      <td>0</td>\n",
       "      <td>0</td>\n",
       "      <td>...</td>\n",
       "      <td>0</td>\n",
       "      <td>50156.32</td>\n",
       "      <td>0.00</td>\n",
       "      <td>0.0</td>\n",
       "      <td>0</td>\n",
       "      <td>10387.20</td>\n",
       "      <td>0</td>\n",
       "      <td>0.0</td>\n",
       "      <td>0.0</td>\n",
       "      <td>0.0</td>\n",
       "    </tr>\n",
       "    <tr>\n",
       "      <th>3</th>\n",
       "      <td>3</td>\n",
       "      <td>cliente@mail.com</td>\n",
       "      <td>3</td>\n",
       "      <td>2019-12-06 09:45:00</td>\n",
       "      <td>24240</td>\n",
       "      <td>24240</td>\n",
       "      <td>6</td>\n",
       "      <td>0</td>\n",
       "      <td>3</td>\n",
       "      <td>0</td>\n",
       "      <td>...</td>\n",
       "      <td>0</td>\n",
       "      <td>26082.85</td>\n",
       "      <td>0.00</td>\n",
       "      <td>0.0</td>\n",
       "      <td>0</td>\n",
       "      <td>600.00</td>\n",
       "      <td>0</td>\n",
       "      <td>1.0</td>\n",
       "      <td>0.0</td>\n",
       "      <td>0.0</td>\n",
       "    </tr>\n",
       "    <tr>\n",
       "      <th>4</th>\n",
       "      <td>4</td>\n",
       "      <td>cliente@mail.com</td>\n",
       "      <td>4</td>\n",
       "      <td>2019-12-06 09:45:00</td>\n",
       "      <td>24240</td>\n",
       "      <td>24240</td>\n",
       "      <td>6</td>\n",
       "      <td>1</td>\n",
       "      <td>2</td>\n",
       "      <td>0</td>\n",
       "      <td>...</td>\n",
       "      <td>0</td>\n",
       "      <td>103080.40</td>\n",
       "      <td>470.04</td>\n",
       "      <td>0.0</td>\n",
       "      <td>0</td>\n",
       "      <td>1618.19</td>\n",
       "      <td>0</td>\n",
       "      <td>0.0</td>\n",
       "      <td>0.0</td>\n",
       "      <td>1.0</td>\n",
       "    </tr>\n",
       "  </tbody>\n",
       "</table>\n",
       "<p>5 rows × 44 columns</p>\n",
       "</div>"
      ],
      "text/plain": [
       "   Unnamed: 0             email  cliente          FechaSaldos  periodo_cli  \\\n",
       "0           0  cliente@mail.com        0  2019-12-06 09:45:00        24240   \n",
       "1           1  cliente@mail.com        1  2019-12-06 09:45:00        24240   \n",
       "2           2  cliente@mail.com        2  2019-12-06 09:45:00        24240   \n",
       "3           3  cliente@mail.com        3  2019-12-06 09:45:00        24240   \n",
       "4           4  cliente@mail.com        4  2019-12-06 09:45:00        24240   \n",
       "\n",
       "   periodo  cant_productos  cant_PF  cant_TC  cant_PP  ... cant_PP_ant_2  \\\n",
       "0    24240               2        0        0        0  ...             0   \n",
       "1    24240               1        0        0        0  ...             0   \n",
       "2    24240               1        0        0        0  ...             0   \n",
       "3    24240               6        0        3        0  ...             0   \n",
       "4    24240               6        1        2        0  ...             0   \n",
       "\n",
       "   SaldoPromedioCAPesos_ant_2  SaldoPromedioCADolares_ant_2  \\\n",
       "0                     9440.56                          0.00   \n",
       "1                     5029.59                          0.00   \n",
       "2                    50156.32                          0.00   \n",
       "3                    26082.85                          0.00   \n",
       "4                   103080.40                        470.04   \n",
       "\n",
       "   SaldoPromedioCCAcreedor_ant_2 importe_consumos_ant_2  TotalConsumoTD_ant_2  \\\n",
       "0                            0.0                      0               4577.00   \n",
       "1                            0.0                      0               8813.89   \n",
       "2                            0.0                      0              10387.20   \n",
       "3                            0.0                      0                600.00   \n",
       "4                            0.0                      0               1618.19   \n",
       "\n",
       "   cuotas_faltantes_2  score_deuda  target  target2  \n",
       "0                   0          NaN     0.0      0.0  \n",
       "1                   0          NaN     0.0      0.0  \n",
       "2                   0          0.0     0.0      0.0  \n",
       "3                   0          1.0     0.0      0.0  \n",
       "4                   0          0.0     0.0      1.0  \n",
       "\n",
       "[5 rows x 44 columns]"
      ]
     },
     "execution_count": 3,
     "metadata": {},
     "output_type": "execute_result"
    }
   ],
   "source": [
    "data.head()"
   ]
  },
  {
   "cell_type": "code",
   "execution_count": 4,
   "metadata": {},
   "outputs": [
    {
     "data": {
      "text/plain": [
       "Index(['Unnamed: 0', 'email', 'cliente', 'FechaSaldos', 'periodo_cli',\n",
       "       'periodo', 'cant_productos', 'cant_PF', 'cant_TC', 'cant_PP',\n",
       "       'FechaUltMovCA', 'cant_seguros', 'importe_consumos', 'Edad', 'Sexo',\n",
       "       'SaldoPromedioCAPesos', 'SaldoPromedioCADolares',\n",
       "       'SaldoPromedioCCAcreedor', 'TotalConsumoTD', 'TipoCuentaAcredHab',\n",
       "       'CategoriaProducto', 'FechaVinculacion', 'cuotas_faltantes_1',\n",
       "       'cant_PF_ant_1', 'cant_TC_ant_1', 'cant_PP_ant_1',\n",
       "       'SaldoPromedioCAPesos_ant_1', 'SaldoPromedioCADolares_ant_1',\n",
       "       'SaldoPromedioCCAcreedor_ant_1', 'importe_consumos_ant_1',\n",
       "       'TotalConsumoTD_ant_1', 'cuotas_faltantes', 'cant_PF_ant_2',\n",
       "       'cant_TC_ant_2', 'cant_PP_ant_2', 'SaldoPromedioCAPesos_ant_2',\n",
       "       'SaldoPromedioCADolares_ant_2', 'SaldoPromedioCCAcreedor_ant_2',\n",
       "       'importe_consumos_ant_2', 'TotalConsumoTD_ant_2', 'cuotas_faltantes_2',\n",
       "       'score_deuda', 'target', 'target2'],\n",
       "      dtype='object')"
      ]
     },
     "execution_count": 4,
     "metadata": {},
     "output_type": "execute_result"
    }
   ],
   "source": [
    "data.columns"
   ]
  },
  {
   "cell_type": "code",
   "execution_count": 5,
   "metadata": {},
   "outputs": [
    {
     "data": {
      "text/plain": [
       "0         JUB00021\n",
       "1         JUB00021\n",
       "2         JUB00021\n",
       "3         JUB00021\n",
       "4         K  00021\n",
       "            ...   \n",
       "494882    PRI00001\n",
       "494883    PRI00001\n",
       "494884    PRI00001\n",
       "494885    PRI00001\n",
       "494886    CON00001\n",
       "Name: CategoriaProducto, Length: 494887, dtype: object"
      ]
     },
     "execution_count": 5,
     "metadata": {},
     "output_type": "execute_result"
    }
   ],
   "source": [
    "data['CategoriaProducto']"
   ]
  },
  {
   "cell_type": "code",
   "execution_count": 6,
   "metadata": {},
   "outputs": [
    {
     "data": {
      "text/plain": [
       "0.0    491817\n",
       "1.0      3070\n",
       "Name: target, dtype: int64"
      ]
     },
     "execution_count": 6,
     "metadata": {},
     "output_type": "execute_result"
    }
   ],
   "source": [
    "data['target'].value_counts()"
   ]
  },
  {
   "cell_type": "code",
   "execution_count": 7,
   "metadata": {},
   "outputs": [
    {
     "data": {
      "text/plain": [
       "0.0    318543\n",
       "1.0    176344\n",
       "Name: target2, dtype: int64"
      ]
     },
     "execution_count": 7,
     "metadata": {},
     "output_type": "execute_result"
    }
   ],
   "source": [
    "data['target2'].value_counts()"
   ]
  },
  {
   "cell_type": "code",
   "execution_count": 8,
   "metadata": {},
   "outputs": [
    {
     "data": {
      "text/plain": [
       "0.0    318543\n",
       "1.0    173274\n",
       "Name: target2, dtype: int64"
      ]
     },
     "execution_count": 8,
     "metadata": {},
     "output_type": "execute_result"
    }
   ],
   "source": [
    "data[data['target']==0.0]['target2'].value_counts()"
   ]
  },
  {
   "cell_type": "code",
   "execution_count": 9,
   "metadata": {},
   "outputs": [
    {
     "data": {
      "text/plain": [
       "1.0    3070\n",
       "Name: target2, dtype: int64"
      ]
     },
     "execution_count": 9,
     "metadata": {},
     "output_type": "execute_result"
    }
   ],
   "source": [
    "data[data['target']==1.0]['target2'].value_counts()"
   ]
  },
  {
   "cell_type": "code",
   "execution_count": 10,
   "metadata": {
    "scrolled": true
   },
   "outputs": [
    {
     "data": {
      "text/plain": [
       "0.0    99056\n",
       "1.0     1196\n",
       "Name: target, dtype: int64"
      ]
     },
     "execution_count": 10,
     "metadata": {},
     "output_type": "execute_result"
    }
   ],
   "source": [
    "data[data['cant_TC']==0]['target'].value_counts()"
   ]
  },
  {
   "cell_type": "code",
   "execution_count": 11,
   "metadata": {},
   "outputs": [
    {
     "data": {
      "text/plain": [
       "(494887, 44)"
      ]
     },
     "execution_count": 11,
     "metadata": {},
     "output_type": "execute_result"
    }
   ],
   "source": [
    "#veremos el tamaño del dataset\n",
    "data.shape"
   ]
  },
  {
   "cell_type": "code",
   "execution_count": 12,
   "metadata": {},
   "outputs": [
    {
     "data": {
      "text/plain": [
       "Unnamed: 0                       247789\n",
       "email                                 1\n",
       "cliente                          247789\n",
       "FechaSaldos                           3\n",
       "periodo_cli                           3\n",
       "periodo                               3\n",
       "cant_productos                       58\n",
       "cant_PF                              44\n",
       "cant_TC                              25\n",
       "cant_PP                               6\n",
       "FechaUltMovCA                       971\n",
       "cant_seguros                         18\n",
       "importe_consumos                    317\n",
       "Edad                                115\n",
       "Sexo                                  3\n",
       "SaldoPromedioCAPesos             411491\n",
       "SaldoPromedioCADolares            63559\n",
       "SaldoPromedioCCAcreedor           11063\n",
       "TotalConsumoTD                   187122\n",
       "TipoCuentaAcredHab                    1\n",
       "CategoriaProducto                    28\n",
       "FechaVinculacion                   5134\n",
       "cuotas_faltantes_1                  271\n",
       "cant_PF_ant_1                        43\n",
       "cant_TC_ant_1                        25\n",
       "cant_PP_ant_1                         6\n",
       "SaldoPromedioCAPesos_ant_1       407103\n",
       "SaldoPromedioCADolares_ant_1      65897\n",
       "SaldoPromedioCCAcreedor_ant_1     10813\n",
       "importe_consumos_ant_1              307\n",
       "TotalConsumoTD_ant_1             180445\n",
       "cuotas_faltantes                    272\n",
       "cant_PF_ant_2                        33\n",
       "cant_TC_ant_2                        25\n",
       "cant_PP_ant_2                         6\n",
       "SaldoPromedioCAPesos_ant_2       405673\n",
       "SaldoPromedioCADolares_ant_2      65456\n",
       "SaldoPromedioCCAcreedor_ant_2     10853\n",
       "importe_consumos_ant_2              299\n",
       "TotalConsumoTD_ant_2             179773\n",
       "cuotas_faltantes_2                  276\n",
       "score_deuda                           6\n",
       "target                                2\n",
       "target2                               2\n",
       "dtype: int64"
      ]
     },
     "execution_count": 12,
     "metadata": {},
     "output_type": "execute_result"
    }
   ],
   "source": [
    "#chequeamos columnas con valores unicos \n",
    "data.nunique()\n"
   ]
  },
  {
   "cell_type": "markdown",
   "metadata": {},
   "source": [
    "## Análisis y transformación de datos"
   ]
  },
  {
   "cell_type": "markdown",
   "metadata": {},
   "source": [
    "### Eliminamos columnas que no aportan nada"
   ]
  },
  {
   "cell_type": "code",
   "execution_count": 13,
   "metadata": {},
   "outputs": [
    {
     "data": {
      "text/plain": [
       "['email', 'TipoCuentaAcredHab']"
      ]
     },
     "execution_count": 13,
     "metadata": {},
     "output_type": "execute_result"
    }
   ],
   "source": [
    "#tenemos columnas con un unico valor para todos los registros, a estas las eliminaremos porque no aportan valor\n",
    "[x for x in data.columns if data[x].nunique()==1]"
   ]
  },
  {
   "cell_type": "code",
   "execution_count": 14,
   "metadata": {},
   "outputs": [],
   "source": [
    "#las columnas cliente y unnamed tampoco aportan nada asi que la eliminamos tmb\n",
    "to_remove = ['cliente' , 'Unnamed: 0'] + [x for x in data.columns if data[x].nunique()==1]"
   ]
  },
  {
   "cell_type": "code",
   "execution_count": 15,
   "metadata": {},
   "outputs": [],
   "source": [
    "#eliminamos entonces estas columnas\n",
    "data.drop(columns=to_remove,inplace=True)"
   ]
  },
  {
   "cell_type": "markdown",
   "metadata": {},
   "source": [
    "### Chequeamos duplicados"
   ]
  },
  {
   "cell_type": "code",
   "execution_count": 16,
   "metadata": {},
   "outputs": [
    {
     "data": {
      "text/plain": [
       "True"
      ]
     },
     "execution_count": 16,
     "metadata": {},
     "output_type": "execute_result"
    }
   ],
   "source": [
    "data.duplicated().any() # chequeamos si hay duplicados de registros, si hay los borramos con drop_duplicates()"
   ]
  },
  {
   "cell_type": "code",
   "execution_count": 17,
   "metadata": {},
   "outputs": [
    {
     "data": {
      "text/plain": [
       "(494887, 40)"
      ]
     },
     "execution_count": 17,
     "metadata": {},
     "output_type": "execute_result"
    }
   ],
   "source": [
    "data.shape"
   ]
  },
  {
   "cell_type": "markdown",
   "metadata": {},
   "source": [
    "### Chequeamos faltantes"
   ]
  },
  {
   "cell_type": "code",
   "execution_count": 18,
   "metadata": {},
   "outputs": [
    {
     "data": {
      "text/plain": [
       "<matplotlib.axes._subplots.AxesSubplot at 0x21301fcdcc8>"
      ]
     },
     "execution_count": 18,
     "metadata": {},
     "output_type": "execute_result"
    },
    {
     "data": {
      "image/png": "[encoded data removed]",
      "text/plain": [
       "<Figure size 432x288 with 1 Axes>"
      ]
     },
     "metadata": {
      "needs_background": "light"
     },
     "output_type": "display_data"
    }
   ],
   "source": [
    "#haremos un heatmap para ver nulos \n",
    "sns.heatmap(data[data.columns[0:45]].isnull(), cbar=False)"
   ]
  },
  {
   "cell_type": "code",
   "execution_count": 19,
   "metadata": {},
   "outputs": [
    {
     "data": {
      "text/plain": [
       "<matplotlib.axes._subplots.AxesSubplot at 0x2131674d508>"
      ]
     },
     "execution_count": 19,
     "metadata": {},
     "output_type": "execute_result"
    },
    {
     "data": {
      "image/png": "[encoded data removed]",
      "text/plain": [
       "<Figure size 432x288 with 1 Axes>"
      ]
     },
     "metadata": {
      "needs_background": "light"
     },
     "output_type": "display_data"
    }
   ],
   "source": [
    "#no se visualiza bien asi que haremos heatmaps incluyendo menos columnas para analizar mejor \n",
    "sns.heatmap(data[data.columns[0:15]].isnull(), cbar=False)"
   ]
  },
  {
   "cell_type": "markdown",
   "metadata": {},
   "source": [
    "Vemos muchos nulos en FechaUltMovCA"
   ]
  },
  {
   "cell_type": "code",
   "execution_count": 20,
   "metadata": {},
   "outputs": [
    {
     "data": {
      "text/plain": [
       "<matplotlib.axes._subplots.AxesSubplot at 0x213745af0c8>"
      ]
     },
     "execution_count": 20,
     "metadata": {},
     "output_type": "execute_result"
    },
    {
     "data": {
      "image/png": "[encoded data removed]",
      "text/plain": [
       "<Figure size 432x288 with 1 Axes>"
      ]
     },
     "metadata": {
      "needs_background": "light"
     },
     "output_type": "display_data"
    }
   ],
   "source": [
    "sns.heatmap(data[data.columns[15:30]].isnull(), cbar=False)"
   ]
  },
  {
   "cell_type": "markdown",
   "metadata": {},
   "source": [
    "fecha vinculacion tiene muchos nulos tambien, la trabajaremos mas adelante"
   ]
  },
  {
   "cell_type": "code",
   "execution_count": 21,
   "metadata": {},
   "outputs": [
    {
     "data": {
      "text/plain": [
       "<matplotlib.axes._subplots.AxesSubplot at 0x213176285c8>"
      ]
     },
     "execution_count": 21,
     "metadata": {},
     "output_type": "execute_result"
    },
    {
     "data": {
      "image/png": "[encoded data removed]",
      "text/plain": [
       "<Figure size 432x288 with 1 Axes>"
      ]
     },
     "metadata": {
      "needs_background": "light"
     },
     "output_type": "display_data"
    }
   ],
   "source": [
    "sns.heatmap(data[data.columns[30:45]].isnull(), cbar=False)"
   ]
  },
  {
   "cell_type": "markdown",
   "metadata": {},
   "source": [
    "score deuda tiene muchos nulos tambien pero sabemos que equivalen a no tener deuda\n",
    "\n",
    "vemos otros nulos en otras 4 columnas que son igual para todos los registros "
   ]
  },
  {
   "cell_type": "code",
   "execution_count": 22,
   "metadata": {},
   "outputs": [
    {
     "data": {
      "text/plain": [
       "<matplotlib.axes._subplots.AxesSubplot at 0x213173cc848>"
      ]
     },
     "execution_count": 22,
     "metadata": {},
     "output_type": "execute_result"
    },
    {
     "data": {
      "image/png": "[encoded data removed]",
      "text/plain": [
       "<Figure size 432x288 with 1 Axes>"
      ]
     },
     "metadata": {
      "needs_background": "light"
     },
     "output_type": "display_data"
    }
   ],
   "source": [
    "#contaremos la cantidad de nulos para cada columna \n",
    "nullcount = {col:data[col].isnull().sum() for col in data.columns}\n",
    "#y haremos una serie con estos valores para graficarlo como grafico de barras\n",
    "missing = pd.Series(nullcount)\n",
    "#ahora graficamos valores relativos solamente de las variables que contienen nulos, por eso usamos div\n",
    "missing[missing>0].div(data.shape[0]).plot.bar()"
   ]
  },
  {
   "cell_type": "markdown",
   "metadata": {},
   "source": [
    "#### Fecha de vinculacion"
   ]
  },
  {
   "cell_type": "code",
   "execution_count": 23,
   "metadata": {},
   "outputs": [
    {
     "data": {
      "text/plain": [
       "dtype('O')"
      ]
     },
     "execution_count": 23,
     "metadata": {},
     "output_type": "execute_result"
    }
   ],
   "source": [
    "data['FechaVinculacion'].dtype"
   ]
  },
  {
   "cell_type": "code",
   "execution_count": 24,
   "metadata": {},
   "outputs": [],
   "source": [
    "#lo primero que haremos sera convertirla a formato date\n",
    "data['Date'] = pd.to_datetime(data['FechaVinculacion'])"
   ]
  },
  {
   "cell_type": "code",
   "execution_count": 26,
   "metadata": {},
   "outputs": [
    {
     "data": {
      "text/plain": [
       "0.0    46403\n",
       "1.0    32861\n",
       "Name: target2, dtype: int64"
      ]
     },
     "execution_count": 26,
     "metadata": {},
     "output_type": "execute_result"
    }
   ],
   "source": [
    "#veremos cuanta relacion tiene fechaVinculacion con el target2 para saber si conviene eliminar los registros con valores\n",
    "#nulos o reemplazarlos\n",
    "data[data.FechaVinculacion.isna()]['target2'].value_counts()"
   ]
  },
  {
   "cell_type": "code",
   "execution_count": 27,
   "metadata": {},
   "outputs": [
    {
     "data": {
      "text/plain": [
       "0.0    318543\n",
       "1.0    176344\n",
       "Name: target2, dtype: int64"
      ]
     },
     "execution_count": 27,
     "metadata": {},
     "output_type": "execute_result"
    }
   ],
   "source": [
    "data.target2.value_counts()"
   ]
  },
  {
   "cell_type": "code",
   "execution_count": 34,
   "metadata": {},
   "outputs": [],
   "source": [
    "#veo que una gran cantidad tiene 1s, y como ya tenemos pocos 1s en el dataset decidiremos transformar estas fechas\n",
    "#lo que haremos sera calcular la antiguedad de cada cliente usando la fecha de vinculacion\n",
    "data['antiguedad']=(data.Date.dt.year - datetime.now().year)*-1"
   ]
  },
  {
   "cell_type": "code",
   "execution_count": 35,
   "metadata": {},
   "outputs": [],
   "source": [
    "#entonces ahora puedo calcular la antiguedad promedio y asignar esos valores para los clientes con valores nulos \n",
    "data.loc[data['antiguedad'].isna(),'antiguedad']=data.antiguedad.mean()"
   ]
  },
  {
   "cell_type": "code",
   "execution_count": 36,
   "metadata": {},
   "outputs": [],
   "source": [
    "#entonces elimino la fecha de vinculacion y conservo antiguedad\n",
    "data.drop(columns='FechaVinculacion',inplace=True)"
   ]
  },
  {
   "cell_type": "code",
   "execution_count": 37,
   "metadata": {},
   "outputs": [],
   "source": [
    "#borramos tmb la columna date que creamos para trabajar de manera temporal\n",
    "data.drop(columns='Date',inplace=True)"
   ]
  },
  {
   "cell_type": "code",
   "execution_count": 38,
   "metadata": {},
   "outputs": [
    {
     "data": {
      "text/plain": [
       "<matplotlib.axes._subplots.AxesSubplot at 0x21308602f48>"
      ]
     },
     "execution_count": 38,
     "metadata": {},
     "output_type": "execute_result"
    },
    {
     "data": {
      "image/png": "[encoded data removed]",
      "text/plain": [
       "<Figure size 432x288 with 1 Axes>"
      ]
     },
     "metadata": {
      "needs_background": "light"
     },
     "output_type": "display_data"
    }
   ],
   "source": [
    "#vamos a volver a ver los valores nulos como quedaron \n",
    "nullcount = {col:data[col].isnull().sum() for col in data.columns}\n",
    "missing = pd.Series(nullcount)\n",
    "missing[missing>0].div(data.shape[0]).plot.bar()"
   ]
  },
  {
   "cell_type": "markdown",
   "metadata": {},
   "source": [
    "#### Score deuda"
   ]
  },
  {
   "cell_type": "code",
   "execution_count": 39,
   "metadata": {},
   "outputs": [],
   "source": [
    "#los valores nulos que vemos en score_deuda es lo mismo que decir que el cliente no posea deudas\n",
    "#asi que a los nulos los pasaremos a 1 , y a los valores que sean 0 tambien los pasaremos a 1 \n",
    "data.loc[data['score_deuda'].isnull(),'score_deuda']=1"
   ]
  },
  {
   "cell_type": "code",
   "execution_count": 40,
   "metadata": {},
   "outputs": [],
   "source": [
    "data.loc[data['score_deuda']==0,'score_deuda']=1"
   ]
  },
  {
   "cell_type": "markdown",
   "metadata": {},
   "source": [
    "#### Fecha ultimo movimiento"
   ]
  },
  {
   "cell_type": "code",
   "execution_count": 41,
   "metadata": {},
   "outputs": [],
   "source": [
    "#ahora vamos a trabajar con fecha ultimo movimiento, primero la convertimos a date time \n",
    "data.FechaUltMovCA = pd.to_datetime(data.FechaUltMovCA)"
   ]
  },
  {
   "cell_type": "code",
   "execution_count": 42,
   "metadata": {},
   "outputs": [
    {
     "data": {
      "text/plain": [
       "0.0    15337\n",
       "1.0    11386\n",
       "Name: target2, dtype: int64"
      ]
     },
     "execution_count": 42,
     "metadata": {},
     "output_type": "execute_result"
    }
   ],
   "source": [
    "#y analizamos cuantos de esos nulos tiene valor 1 en target2\n",
    "data[data.FechaUltMovCA.isna()]['target2'].value_counts()"
   ]
  },
  {
   "cell_type": "code",
   "execution_count": 43,
   "metadata": {},
   "outputs": [
    {
     "data": {
      "text/plain": [
       "0.0    318543\n",
       "1.0    176344\n",
       "Name: target2, dtype: int64"
      ]
     },
     "execution_count": 43,
     "metadata": {},
     "output_type": "execute_result"
    }
   ],
   "source": [
    "data.target2.value_counts()"
   ]
  },
  {
   "cell_type": "code",
   "execution_count": 44,
   "metadata": {},
   "outputs": [
    {
     "data": {
      "text/plain": [
       "0   2019-12-05\n",
       "dtype: datetime64[ns]"
      ]
     },
     "execution_count": 44,
     "metadata": {},
     "output_type": "execute_result"
    }
   ],
   "source": [
    "#como hay una gran cantidad de 1s los trabajaremos enm lugar de eliminarlos\n",
    "data.FechaUltMovCA.mode() #veo la moda"
   ]
  },
  {
   "cell_type": "code",
   "execution_count": 45,
   "metadata": {},
   "outputs": [
    {
     "data": {
      "text/plain": [
       "count                  468164\n",
       "unique                    971\n",
       "top       2019-12-05 00:00:00\n",
       "freq                   101996\n",
       "first     2004-04-19 00:00:00\n",
       "last      2020-02-06 00:00:00\n",
       "Name: FechaUltMovCA, dtype: object"
      ]
     },
     "execution_count": 45,
     "metadata": {},
     "output_type": "execute_result"
    }
   ],
   "source": [
    "data['FechaUltMovCA'].describe()"
   ]
  },
  {
   "cell_type": "code",
   "execution_count": 46,
   "metadata": {},
   "outputs": [],
   "source": [
    "#como fecha de ultimo mov podriamos elgir la moda que esta en diciembre, pero elegiremos algunos meses antes que la moda\n",
    "#y reemplazamos\n",
    "data.loc[data.FechaUltMovCA.isna(),'FechaUltMovCA']=pd.to_datetime('2019-10-30')"
   ]
  },
  {
   "cell_type": "code",
   "execution_count": 47,
   "metadata": {},
   "outputs": [
    {
     "data": {
      "text/plain": [
       "<matplotlib.axes._subplots.AxesSubplot at 0x21317060408>"
      ]
     },
     "execution_count": 47,
     "metadata": {},
     "output_type": "execute_result"
    },
    {
     "data": {
      "image/png": "[encoded data removed]",
      "text/plain": [
       "<Figure size 432x288 with 1 Axes>"
      ]
     },
     "metadata": {
      "needs_background": "light"
     },
     "output_type": "display_data"
    }
   ],
   "source": [
    "nullcount = {col:data[col].isnull().sum() for col in data.columns}\n",
    "missing = pd.Series(nullcount)\n",
    "missing[missing>0].div(data.shape[0]).plot.bar()"
   ]
  },
  {
   "cell_type": "markdown",
   "metadata": {},
   "source": [
    "#### Categoria de producto"
   ]
  },
  {
   "cell_type": "code",
   "execution_count": 49,
   "metadata": {},
   "outputs": [
    {
     "data": {
      "text/plain": [
       "K  00021    0.517437\n",
       "GRL00003    0.208884\n",
       "JUB00021    0.177483\n",
       "NaN         0.031868\n",
       "PC200003    0.020118\n",
       "PC100003    0.015377\n",
       "CCL00003    0.007640\n",
       "L  00021    0.004710\n",
       "GRA00001    0.002942\n",
       "SUB00003    0.002762\n",
       "WEB00003    0.002754\n",
       "PRI00001    0.002750\n",
       "DNI00003    0.001473\n",
       "LIB00003    0.001113\n",
       "CON00001    0.000705\n",
       "PRI00018    0.000430\n",
       "K  00001    0.000309\n",
       "RED00003    0.000299\n",
       "PC300003    0.000293\n",
       "PC100001    0.000228\n",
       "COF00001    0.000133\n",
       "JOV00003    0.000109\n",
       "ADO00003    0.000079\n",
       "COE00001    0.000034\n",
       "Q  00003    0.000024\n",
       "FIU00003    0.000016\n",
       "BSU00003    0.000012\n",
       "PIG00003    0.000010\n",
       "ACT00001    0.000004\n",
       "Name: CategoriaProducto, dtype: float64"
      ]
     },
     "execution_count": 49,
     "metadata": {},
     "output_type": "execute_result"
    }
   ],
   "source": [
    "#trabajaremos ahora con categoria de producto\n",
    "data.CategoriaProducto.value_counts(normalize=True, dropna=False)"
   ]
  },
  {
   "cell_type": "code",
   "execution_count": 51,
   "metadata": {},
   "outputs": [],
   "source": [
    "#vemos que mas del 80% de los datos se distribuyen entre las primeras 3 categorias\n",
    "#lo que haremos entonces sera crear una categoria OTROS y asignar el resto de categorias ahi , incluyendo los nulos\n",
    "\n",
    "#conservamos las primeras 3 categorias\n",
    "to_keep = data.CategoriaProducto.value_counts(normalize=True, dropna=False)[:3].index"
   ]
  },
  {
   "cell_type": "code",
   "execution_count": 52,
   "metadata": {},
   "outputs": [],
   "source": [
    "#a los nulos le asignamos la categoria otros\n",
    "data.CategoriaProducto.fillna('OTROS',inplace=True)"
   ]
  },
  {
   "cell_type": "code",
   "execution_count": 53,
   "metadata": {},
   "outputs": [],
   "source": [
    "#y a todos los que no pertenezcan a las primeras 3 categorias lo asignamos en la categoria otros\n",
    "data.CategoriaProducto = data.CategoriaProducto.apply(lambda x:'OTROS' if x not in to_keep else x)"
   ]
  },
  {
   "cell_type": "code",
   "execution_count": 54,
   "metadata": {},
   "outputs": [
    {
     "data": {
      "text/plain": [
       "K  00021    256073\n",
       "GRL00003    103374\n",
       "JUB00021     87834\n",
       "OTROS        47606\n",
       "Name: CategoriaProducto, dtype: int64"
      ]
     },
     "execution_count": 54,
     "metadata": {},
     "output_type": "execute_result"
    }
   ],
   "source": [
    "data.CategoriaProducto.value_counts()"
   ]
  },
  {
   "cell_type": "code",
   "execution_count": 55,
   "metadata": {},
   "outputs": [
    {
     "data": {
      "text/plain": [
       "<matplotlib.axes._subplots.AxesSubplot at 0x21302bc9788>"
      ]
     },
     "execution_count": 55,
     "metadata": {},
     "output_type": "execute_result"
    },
    {
     "data": {
      "image/png": "[encoded data removed]",
      "text/plain": [
       "<Figure size 432x288 with 1 Axes>"
      ]
     },
     "metadata": {
      "needs_background": "light"
     },
     "output_type": "display_data"
    }
   ],
   "source": [
    "#vemos que columnas quedan con valores nulos\n",
    "nullcount = {col:data[col].isnull().sum() for col in data.columns}\n",
    "missing = pd.Series(nullcount)\n",
    "missing[missing>0].div(data.shape[0]).plot.bar()"
   ]
  },
  {
   "cell_type": "markdown",
   "metadata": {},
   "source": [
    "#### Saldos promedios y consumos totales"
   ]
  },
  {
   "cell_type": "code",
   "execution_count": 56,
   "metadata": {},
   "outputs": [],
   "source": [
    "'''\n",
    "todos los valores nulos que vemos en estas columnas \n",
    "'SaldoPromedioCAPesos_ant_1',\n",
    " 'SaldoPromedioCADolares_ant_1',\n",
    " 'SaldoPromedioCCAcreedor_ant_1',\n",
    " 'TotalConsumoTD_ant_1',\n",
    " 'SaldoPromedioCAPesos_ant_2',\n",
    " 'SaldoPromedioCADolares_ant_2',\n",
    " 'SaldoPromedioCCAcreedor_ant_2',\n",
    " 'TotalConsumoTD_ant_2'\n",
    "consideraremos que equivale a que tengan 0 pesos de saldo promedio o total de consumo y asi los reemplazaremos \n",
    "'''\n",
    "\n",
    "data.fillna(0,inplace=True)"
   ]
  },
  {
   "cell_type": "code",
   "execution_count": 58,
   "metadata": {},
   "outputs": [
    {
     "data": {
      "text/plain": [
       "(494887, 40)"
      ]
     },
     "execution_count": 58,
     "metadata": {},
     "output_type": "execute_result"
    }
   ],
   "source": [
    "#veremos como queda el dataset\n",
    "data.shape"
   ]
  },
  {
   "cell_type": "markdown",
   "metadata": {},
   "source": [
    "### Otras transformaciones"
   ]
  },
  {
   "cell_type": "code",
   "execution_count": 59,
   "metadata": {},
   "outputs": [
    {
     "data": {
      "text/plain": [
       "0.0    0.993797\n",
       "1.0    0.006203\n",
       "Name: target, dtype: float64"
      ]
     },
     "execution_count": 59,
     "metadata": {},
     "output_type": "execute_result"
    }
   ],
   "source": [
    "data['target'].value_counts(normalize=True,dropna=False)"
   ]
  },
  {
   "cell_type": "code",
   "execution_count": 60,
   "metadata": {},
   "outputs": [
    {
     "data": {
      "text/plain": [
       "0.0    0.643668\n",
       "1.0    0.356332\n",
       "Name: target2, dtype: float64"
      ]
     },
     "execution_count": 60,
     "metadata": {},
     "output_type": "execute_result"
    }
   ],
   "source": [
    "data['target2'].value_counts(normalize=True,dropna=False)"
   ]
  },
  {
   "cell_type": "markdown",
   "metadata": {},
   "source": [
    "Como tenemos muchos mas 1s en target2 que en target podemos deducir que la columna de target2 es la que refiere a si el cliente abrio o no el mail y el target a si efectivamente quiso la tarjeta"
   ]
  },
  {
   "cell_type": "code",
   "execution_count": 61,
   "metadata": {},
   "outputs": [],
   "source": [
    "#no tenemos informacion suficiente en target como para trabajar con ella, por lo que la eliminamos \n",
    "data.drop(columns='target',inplace=True)"
   ]
  },
  {
   "cell_type": "code",
   "execution_count": 62,
   "metadata": {},
   "outputs": [
    {
     "data": {
      "text/plain": [
       "<seaborn.axisgrid.PairGrid at 0x21302c27dc8>"
      ]
     },
     "execution_count": 62,
     "metadata": {},
     "output_type": "execute_result"
    },
    {
     "data": {
      "image/png": "[encoded data removed]",
      "text/plain": [
       "<Figure size 360x360 with 6 Axes>"
      ]
     },
     "metadata": {
      "needs_background": "light"
     },
     "output_type": "display_data"
    }
   ],
   "source": [
    "#Comparacion entre  periodo_cli y  periodo\n",
    "for_pairplot= data[[\"periodo_cli\", \"periodo\"]]\n",
    "for_pairplot=for_pairplot.sample(1000)\n",
    "sns.pairplot(for_pairplot)"
   ]
  },
  {
   "cell_type": "code",
   "execution_count": 63,
   "metadata": {},
   "outputs": [],
   "source": [
    "#vemos que son exactamente iguales estas columnas por lo que eliminamos una de ellas \n",
    "data.drop(columns=\"periodo_cli\", inplace=True)"
   ]
  },
  {
   "cell_type": "markdown",
   "metadata": {},
   "source": [
    "### Analizaremos valores erróneos"
   ]
  },
  {
   "cell_type": "code",
   "execution_count": 64,
   "metadata": {},
   "outputs": [
    {
     "data": {
      "text/plain": [
       "Index(['FechaSaldos', 'periodo', 'cant_productos', 'cant_PF', 'cant_TC',\n",
       "       'cant_PP', 'FechaUltMovCA', 'cant_seguros', 'importe_consumos', 'Edad',\n",
       "       'Sexo', 'SaldoPromedioCAPesos', 'SaldoPromedioCADolares',\n",
       "       'SaldoPromedioCCAcreedor', 'TotalConsumoTD', 'CategoriaProducto',\n",
       "       'cuotas_faltantes_1', 'cant_PF_ant_1', 'cant_TC_ant_1', 'cant_PP_ant_1',\n",
       "       'SaldoPromedioCAPesos_ant_1', 'SaldoPromedioCADolares_ant_1',\n",
       "       'SaldoPromedioCCAcreedor_ant_1', 'importe_consumos_ant_1',\n",
       "       'TotalConsumoTD_ant_1', 'cuotas_faltantes', 'cant_PF_ant_2',\n",
       "       'cant_TC_ant_2', 'cant_PP_ant_2', 'SaldoPromedioCAPesos_ant_2',\n",
       "       'SaldoPromedioCADolares_ant_2', 'SaldoPromedioCCAcreedor_ant_2',\n",
       "       'importe_consumos_ant_2', 'TotalConsumoTD_ant_2', 'cuotas_faltantes_2',\n",
       "       'score_deuda', 'target2', 'antiguedad'],\n",
       "      dtype='object')"
      ]
     },
     "execution_count": 64,
     "metadata": {},
     "output_type": "execute_result"
    }
   ],
   "source": [
    "data.columns"
   ]
  },
  {
   "cell_type": "code",
   "execution_count": 65,
   "metadata": {},
   "outputs": [
    {
     "data": {
      "text/plain": [
       "2019-12-06 09:45:00    247789\n",
       "2020-01-08 09:48:00    233084\n",
       "2020-02-07 14:13:00     14014\n",
       "Name: FechaSaldos, dtype: int64"
      ]
     },
     "execution_count": 65,
     "metadata": {},
     "output_type": "execute_result"
    }
   ],
   "source": [
    "data['FechaSaldos'].value_counts()\n",
    "#vemos solo 3 fecha de saldos.. sera una fecha de corte? "
   ]
  },
  {
   "cell_type": "code",
   "execution_count": 66,
   "metadata": {},
   "outputs": [
    {
     "data": {
      "text/plain": [
       "24240    247789\n",
       "24241    233084\n",
       "24242     14014\n",
       "Name: periodo, dtype: int64"
      ]
     },
     "execution_count": 66,
     "metadata": {},
     "output_type": "execute_result"
    }
   ],
   "source": [
    "data['periodo'].value_counts()"
   ]
  },
  {
   "cell_type": "code",
   "execution_count": 67,
   "metadata": {},
   "outputs": [],
   "source": [
    "#tambien solo hay 3 tipos de periodos, igual que para fecha de saldos. de estas 2 podemos quedarnos solo con una columna\n",
    "#en tal caso preferiria quedarme con la columna que indica la fecha de saldos ya que posee mas informacion que el nro del periodo\n",
    "data.drop(columns=\"periodo\", inplace=True)"
   ]
  },
  {
   "cell_type": "code",
   "execution_count": 68,
   "metadata": {},
   "outputs": [
    {
     "data": {
      "text/plain": [
       "3      127925\n",
       "2      110198\n",
       "4       95671\n",
       "5       53563\n",
       "1       52476\n",
       "6       26919\n",
       "7       13576\n",
       "8        6690\n",
       "9        3421\n",
       "10       1872\n",
       "11       1007\n",
       "12        536\n",
       "13        366\n",
       "14        200\n",
       "15        104\n",
       "16         78\n",
       "17         64\n",
       "0          32\n",
       "20         27\n",
       "18         24\n",
       "19         17\n",
       "21         13\n",
       "22         11\n",
       "26         10\n",
       "23          9\n",
       "25          7\n",
       "103         6\n",
       "27          6\n",
       "24          5\n",
       "101         4\n",
       "106         4\n",
       "30          4\n",
       "29          3\n",
       "104         3\n",
       "41          3\n",
       "46          3\n",
       "107         2\n",
       "49          2\n",
       "102         2\n",
       "36          2\n",
       "100         2\n",
       "38          2\n",
       "53          2\n",
       "47          2\n",
       "105         1\n",
       "93          1\n",
       "77          1\n",
       "55          1\n",
       "45          1\n",
       "31          1\n",
       "43          1\n",
       "42          1\n",
       "39          1\n",
       "37          1\n",
       "34          1\n",
       "33          1\n",
       "32          1\n",
       "213         1\n",
       "Name: cant_productos, dtype: int64"
      ]
     },
     "execution_count": 68,
     "metadata": {},
     "output_type": "execute_result"
    }
   ],
   "source": [
    "data['cant_productos'].value_counts()\n",
    "#vemos que sin duda tenemos valores outliers en esta columna y de la misma manera podemos tener en cant_PF, cant_TC, cant_PP etc"
   ]
  },
  {
   "cell_type": "code",
   "execution_count": 69,
   "metadata": {},
   "outputs": [
    {
     "data": {
      "text/plain": [
       "39     12625\n",
       "37     12538\n",
       "40     12501\n",
       "38     12491\n",
       "35     12449\n",
       "       ...  \n",
       "106        4\n",
       "117        2\n",
       "114        2\n",
       "113        2\n",
       "111        2\n",
       "Name: Edad, Length: 115, dtype: int64"
      ]
     },
     "execution_count": 69,
     "metadata": {},
     "output_type": "execute_result"
    }
   ],
   "source": [
    "data['Edad'].value_counts()"
   ]
  },
  {
   "cell_type": "code",
   "execution_count": 70,
   "metadata": {},
   "outputs": [
    {
     "data": {
      "text/plain": [
       "count    494887.000000\n",
       "mean         49.156480\n",
       "std          17.378098\n",
       "min           0.000000\n",
       "25%          36.000000\n",
       "50%          46.000000\n",
       "75%          61.000000\n",
       "max         119.000000\n",
       "Name: Edad, dtype: float64"
      ]
     },
     "execution_count": 70,
     "metadata": {},
     "output_type": "execute_result"
    }
   ],
   "source": [
    "#vemos que hay muchas edades que estan por encima de los 100, no tienen sentido asi que las reemplazaremos por la edad promedio\n",
    "data['Edad'].describe()"
   ]
  },
  {
   "cell_type": "code",
   "execution_count": 71,
   "metadata": {},
   "outputs": [],
   "source": [
    "data.loc[data['Edad']>=100,'Edad']=47"
   ]
  },
  {
   "cell_type": "code",
   "execution_count": 72,
   "metadata": {},
   "outputs": [],
   "source": [
    "#haremos lo mismo para los que tengan menos de 18 años \n",
    "data.loc[data['Edad']<18,'Edad']=47"
   ]
  },
  {
   "cell_type": "code",
   "execution_count": 73,
   "metadata": {},
   "outputs": [
    {
     "data": {
      "text/plain": [
       "count    494887.000000\n",
       "mean         49.237800\n",
       "std          17.120545\n",
       "min          18.000000\n",
       "25%          36.000000\n",
       "50%          46.000000\n",
       "75%          61.000000\n",
       "max          99.000000\n",
       "Name: Edad, dtype: float64"
      ]
     },
     "execution_count": 73,
     "metadata": {},
     "output_type": "execute_result"
    }
   ],
   "source": [
    "data['Edad'].describe()\n",
    "#nos queda asi la edad minima de 18 años y la maxima de 99, tiene mas sentido de esta forma.. "
   ]
  },
  {
   "cell_type": "code",
   "execution_count": 74,
   "metadata": {},
   "outputs": [
    {
     "data": {
      "text/plain": [
       "F    277632\n",
       "M    215313\n",
       "       1942\n",
       "Name: Sexo, dtype: int64"
      ]
     },
     "execution_count": 74,
     "metadata": {},
     "output_type": "execute_result"
    }
   ],
   "source": [
    "data['Sexo'].value_counts()"
   ]
  },
  {
   "cell_type": "code",
   "execution_count": 75,
   "metadata": {},
   "outputs": [],
   "source": [
    "#tenemos muchos valores con string vacio, podemos considerar que se refiere a una cuenta \n",
    "#de tipo juridica y por eso no tiene sexo y asignarle el valor \"ju\"\n",
    "data.loc[data['Sexo']==\" \",'Sexo']=\"JU\""
   ]
  },
  {
   "cell_type": "code",
   "execution_count": 76,
   "metadata": {},
   "outputs": [
    {
     "data": {
      "text/plain": [
       "F     277632\n",
       "M     215313\n",
       "JU      1942\n",
       "Name: Sexo, dtype: int64"
      ]
     },
     "execution_count": 76,
     "metadata": {},
     "output_type": "execute_result"
    }
   ],
   "source": [
    "data['Sexo'].value_counts()"
   ]
  },
  {
   "cell_type": "markdown",
   "metadata": {},
   "source": [
    "### Corrección de valores outliers"
   ]
  },
  {
   "cell_type": "code",
   "execution_count": 77,
   "metadata": {},
   "outputs": [
    {
     "data": {
      "text/plain": [
       "<matplotlib.axes._subplots.AxesSubplot at 0x21302c88308>"
      ]
     },
     "execution_count": 77,
     "metadata": {},
     "output_type": "execute_result"
    },
    {
     "data": {
      "image/png": "[encoded data removed]",
      "text/plain": [
       "<Figure size 432x288 with 1 Axes>"
      ]
     },
     "metadata": {
      "needs_background": "light"
     },
     "output_type": "display_data"
    }
   ],
   "source": [
    "#Analizaremos las variables cant_productos, cant_PF, cant_TC y cant_PP en busca de valores outliers\n",
    "data.boxplot(['cant_productos','cant_PF','cant_TC','cant_PP'])"
   ]
  },
  {
   "cell_type": "code",
   "execution_count": 78,
   "metadata": {},
   "outputs": [],
   "source": [
    "#vemos que para cant_PP no tenemos valores outliers pero para las otras 3 columnas si, entonces los eliminaremos\n",
    "data.loc[data['cant_productos']>data['cant_productos'].quantile(0.99),'cant_productos'] = data['cant_productos'].quantile(0.99)"
   ]
  },
  {
   "cell_type": "code",
   "execution_count": 79,
   "metadata": {},
   "outputs": [
    {
     "data": {
      "text/plain": [
       "<matplotlib.axes._subplots.AxesSubplot at 0x21302a04648>"
      ]
     },
     "execution_count": 79,
     "metadata": {},
     "output_type": "execute_result"
    },
    {
     "data": {
      "image/png": "[encoded data removed]",
      "text/plain": [
       "<Figure size 432x288 with 1 Axes>"
      ]
     },
     "metadata": {
      "needs_background": "light"
     },
     "output_type": "display_data"
    }
   ],
   "source": [
    "data.boxplot(['cant_productos','cant_PF','cant_TC','cant_PP'])"
   ]
  },
  {
   "cell_type": "code",
   "execution_count": 80,
   "metadata": {},
   "outputs": [],
   "source": [
    "data.loc[data['cant_PF']>data['cant_PF'].quantile(0.99),'cant_PF'] = data['cant_PF'].quantile(0.99)"
   ]
  },
  {
   "cell_type": "code",
   "execution_count": 81,
   "metadata": {},
   "outputs": [],
   "source": [
    "data.loc[data['cant_TC']>data['cant_TC'].quantile(0.99),'cant_TC'] = data['cant_TC'].quantile(0.99)"
   ]
  },
  {
   "cell_type": "code",
   "execution_count": 82,
   "metadata": {},
   "outputs": [
    {
     "data": {
      "text/plain": [
       "<matplotlib.axes._subplots.AxesSubplot at 0x21302aa4f88>"
      ]
     },
     "execution_count": 82,
     "metadata": {},
     "output_type": "execute_result"
    },
    {
     "data": {
      "image/png": "[encoded data removed]",
      "text/plain": [
       "<Figure size 432x288 with 1 Axes>"
      ]
     },
     "metadata": {
      "needs_background": "light"
     },
     "output_type": "display_data"
    }
   ],
   "source": [
    "data.boxplot(['cant_productos','cant_PF','cant_TC','cant_PP'])"
   ]
  },
  {
   "cell_type": "code",
   "execution_count": 83,
   "metadata": {},
   "outputs": [
    {
     "data": {
      "text/plain": [
       "<matplotlib.axes._subplots.AxesSubplot at 0x21304743908>"
      ]
     },
     "execution_count": 83,
     "metadata": {},
     "output_type": "execute_result"
    },
    {
     "data": {
      "image/png": "[encoded data removed]",
      "text/plain": [
       "<Figure size 432x288 with 1 Axes>"
      ]
     },
     "metadata": {
      "needs_background": "light"
     },
     "output_type": "display_data"
    }
   ],
   "source": [
    "#realizaremos el mismo analisis para cantidades de ant 1 y eliminaremos outliers\n",
    "data.boxplot(['cant_PF_ant_1', 'cant_TC_ant_1', 'cant_PP_ant_1'])"
   ]
  },
  {
   "cell_type": "code",
   "execution_count": 84,
   "metadata": {},
   "outputs": [],
   "source": [
    "data.loc[data['cant_PF_ant_1']>data['cant_PF_ant_1'].quantile(0.99),'cant_PF_ant_1'] = data['cant_PF_ant_1'].quantile(0.99)"
   ]
  },
  {
   "cell_type": "code",
   "execution_count": 85,
   "metadata": {},
   "outputs": [],
   "source": [
    "data.loc[data['cant_TC_ant_1']>data['cant_TC_ant_1'].quantile(0.99),'cant_TC_ant_1'] = data['cant_TC_ant_1'].quantile(0.99)"
   ]
  },
  {
   "cell_type": "code",
   "execution_count": 86,
   "metadata": {},
   "outputs": [
    {
     "data": {
      "text/plain": [
       "<matplotlib.axes._subplots.AxesSubplot at 0x213037139c8>"
      ]
     },
     "execution_count": 86,
     "metadata": {},
     "output_type": "execute_result"
    },
    {
     "data": {
      "image/png": "[encoded data removed]",
      "text/plain": [
       "<Figure size 432x288 with 1 Axes>"
      ]
     },
     "metadata": {
      "needs_background": "light"
     },
     "output_type": "display_data"
    }
   ],
   "source": [
    "data.boxplot(['cant_PF_ant_1', 'cant_TC_ant_1', 'cant_PP_ant_1'])"
   ]
  },
  {
   "cell_type": "code",
   "execution_count": 87,
   "metadata": {},
   "outputs": [
    {
     "data": {
      "text/plain": [
       "<matplotlib.axes._subplots.AxesSubplot at 0x213037ada88>"
      ]
     },
     "execution_count": 87,
     "metadata": {},
     "output_type": "execute_result"
    },
    {
     "data": {
      "image/png": "[encoded data removed]",
      "text/plain": [
       "<Figure size 432x288 with 1 Axes>"
      ]
     },
     "metadata": {
      "needs_background": "light"
     },
     "output_type": "display_data"
    }
   ],
   "source": [
    "#por ultimo haremos el mismo analisis para las cantidades de ant 2\n",
    "data.boxplot(['cant_PF_ant_2', 'cant_TC_ant_2', 'cant_PP_ant_2'])"
   ]
  },
  {
   "cell_type": "code",
   "execution_count": 88,
   "metadata": {},
   "outputs": [],
   "source": [
    "#en este caso eliminaremos solo la cantidad de tarjetas de creditos y no la cantidad de plazos fijos pq sino nos quedariamos con poca info\n",
    "data.loc[data['cant_TC_ant_2']>data['cant_TC_ant_2'].quantile(0.99),'cant_TC_ant_2'] = data['cant_TC_ant_2'].quantile(0.99)"
   ]
  },
  {
   "cell_type": "code",
   "execution_count": 89,
   "metadata": {},
   "outputs": [
    {
     "data": {
      "text/plain": [
       "<matplotlib.axes._subplots.AxesSubplot at 0x21303c94908>"
      ]
     },
     "execution_count": 89,
     "metadata": {},
     "output_type": "execute_result"
    },
    {
     "data": {
      "image/png": "[encoded data removed]",
      "text/plain": [
       "<Figure size 432x288 with 1 Axes>"
      ]
     },
     "metadata": {
      "needs_background": "light"
     },
     "output_type": "display_data"
    }
   ],
   "source": [
    "data.boxplot(['cant_PF_ant_2', 'cant_TC_ant_2', 'cant_PP_ant_2'])"
   ]
  },
  {
   "cell_type": "code",
   "execution_count": 90,
   "metadata": {},
   "outputs": [
    {
     "data": {
      "text/plain": [
       "(494887, 37)"
      ]
     },
     "execution_count": 90,
     "metadata": {},
     "output_type": "execute_result"
    }
   ],
   "source": [
    "data.shape"
   ]
  },
  {
   "cell_type": "code",
   "execution_count": 91,
   "metadata": {},
   "outputs": [
    {
     "data": {
      "text/plain": [
       "<matplotlib.axes._subplots.AxesSubplot at 0x21303d26a08>"
      ]
     },
     "execution_count": 91,
     "metadata": {},
     "output_type": "execute_result"
    },
    {
     "data": {
      "image/png": "[encoded data removed]",
      "text/plain": [
       "<Figure size 432x288 with 1 Axes>"
      ]
     },
     "metadata": {
      "needs_background": "light"
     },
     "output_type": "display_data"
    }
   ],
   "source": [
    "#Ahora realizaremos el mismo analisis para los saldos promedios\n",
    "data.boxplot(['SaldoPromedioCAPesos', 'SaldoPromedioCADolares', 'SaldoPromedioCCAcreedor'])"
   ]
  },
  {
   "cell_type": "code",
   "execution_count": 92,
   "metadata": {},
   "outputs": [
    {
     "data": {
      "text/plain": [
       "<matplotlib.axes._subplots.AxesSubplot at 0x21304395408>"
      ]
     },
     "execution_count": 92,
     "metadata": {},
     "output_type": "execute_result"
    },
    {
     "data": {
      "image/png": "[encoded data removed]",
      "text/plain": [
       "<Figure size 432x288 with 1 Axes>"
      ]
     },
     "metadata": {
      "needs_background": "light"
     },
     "output_type": "display_data"
    }
   ],
   "source": [
    "#Eliminaremos outliers para las 3 columnas\n",
    "data.loc[data['SaldoPromedioCAPesos']>data['SaldoPromedioCAPesos'].quantile(0.99),'SaldoPromedioCAPesos'] = data['SaldoPromedioCAPesos'].quantile(0.99)\n",
    "data.loc[data['SaldoPromedioCCAcreedor']>data['SaldoPromedioCCAcreedor'].quantile(0.99),'SaldoPromedioCCAcreedor'] = data['SaldoPromedioCCAcreedor'].quantile(0.99)\n",
    "data.loc[data['SaldoPromedioCADolares']>data['SaldoPromedioCADolares'].quantile(0.99),'SaldoPromedioCADolares'] = data['SaldoPromedioCADolares'].quantile(0.99)\n",
    "data.boxplot(['SaldoPromedioCAPesos', 'SaldoPromedioCADolares', 'SaldoPromedioCCAcreedor'])"
   ]
  },
  {
   "cell_type": "code",
   "execution_count": 93,
   "metadata": {},
   "outputs": [
    {
     "data": {
      "text/plain": [
       "<matplotlib.axes._subplots.AxesSubplot at 0x21304762208>"
      ]
     },
     "execution_count": 93,
     "metadata": {},
     "output_type": "execute_result"
    },
    {
     "data": {
      "image/png": "[encoded data removed]",
      "text/plain": [
       "<Figure size 432x288 with 1 Axes>"
      ]
     },
     "metadata": {
      "needs_background": "light"
     },
     "output_type": "display_data"
    }
   ],
   "source": [
    "#haremos el mismo analisis para los saldos promedios de los meses ant1 y ant2 \n",
    "data.boxplot(['SaldoPromedioCAPesos_ant_1', 'SaldoPromedioCADolares_ant_1', 'SaldoPromedioCCAcreedor_ant_1'])"
   ]
  },
  {
   "cell_type": "code",
   "execution_count": 94,
   "metadata": {},
   "outputs": [
    {
     "data": {
      "text/plain": [
       "<matplotlib.axes._subplots.AxesSubplot at 0x2130498e588>"
      ]
     },
     "execution_count": 94,
     "metadata": {},
     "output_type": "execute_result"
    },
    {
     "data": {
      "image/png": "[encoded data removed]",
      "text/plain": [
       "<Figure size 432x288 with 1 Axes>"
      ]
     },
     "metadata": {
      "needs_background": "light"
     },
     "output_type": "display_data"
    }
   ],
   "source": [
    "#Eliminaremos outliers para los 3 campos \n",
    "data.loc[data['SaldoPromedioCAPesos_ant_1']>data['SaldoPromedioCAPesos_ant_1'].quantile(0.99),'SaldoPromedioCAPesos_ant_1'] = data['SaldoPromedioCAPesos_ant_1'].quantile(0.99)\n",
    "data.loc[data['SaldoPromedioCCAcreedor_ant_1']>data['SaldoPromedioCCAcreedor_ant_1'].quantile(0.99),'SaldoPromedioCCAcreedor_ant_1'] = data['SaldoPromedioCCAcreedor_ant_1'].quantile(0.99)\n",
    "data.loc[data['SaldoPromedioCADolares_ant_1']>data['SaldoPromedioCADolares_ant_1'].quantile(0.99),'SaldoPromedioCADolares_ant_1'] = data['SaldoPromedioCADolares_ant_1'].quantile(0.99)\n",
    "data.boxplot(['SaldoPromedioCAPesos_ant_1', 'SaldoPromedioCADolares_ant_1', 'SaldoPromedioCCAcreedor_ant_1'])"
   ]
  },
  {
   "cell_type": "code",
   "execution_count": 95,
   "metadata": {},
   "outputs": [
    {
     "data": {
      "text/plain": [
       "<matplotlib.axes._subplots.AxesSubplot at 0x21304768f48>"
      ]
     },
     "execution_count": 95,
     "metadata": {},
     "output_type": "execute_result"
    },
    {
     "data": {
      "image/png": "[encoded data removed]",
      "text/plain": [
       "<Figure size 432x288 with 1 Axes>"
      ]
     },
     "metadata": {
      "needs_background": "light"
     },
     "output_type": "display_data"
    }
   ],
   "source": [
    "data.boxplot(['SaldoPromedioCAPesos_ant_2', 'SaldoPromedioCADolares_ant_2', 'SaldoPromedioCCAcreedor_ant_2'])"
   ]
  },
  {
   "cell_type": "code",
   "execution_count": 96,
   "metadata": {},
   "outputs": [
    {
     "data": {
      "text/plain": [
       "<matplotlib.axes._subplots.AxesSubplot at 0x213056b1088>"
      ]
     },
     "execution_count": 96,
     "metadata": {},
     "output_type": "execute_result"
    },
    {
     "data": {
      "image/png": "[encoded data removed]",
      "text/plain": [
       "<Figure size 432x288 with 1 Axes>"
      ]
     },
     "metadata": {
      "needs_background": "light"
     },
     "output_type": "display_data"
    }
   ],
   "source": [
    "data.loc[data['SaldoPromedioCAPesos_ant_2']>data['SaldoPromedioCAPesos_ant_2'].quantile(0.99),'SaldoPromedioCAPesos_ant_2'] = data['SaldoPromedioCAPesos_ant_2'].quantile(0.99)\n",
    "data.loc[data['SaldoPromedioCCAcreedor_ant_2']>data['SaldoPromedioCCAcreedor_ant_2'].quantile(0.99),'SaldoPromedioCCAcreedor_ant_2'] = data['SaldoPromedioCCAcreedor_ant_2'].quantile(0.99)\n",
    "data.loc[data['SaldoPromedioCADolares_ant_2']>data['SaldoPromedioCADolares_ant_2'].quantile(0.99),'SaldoPromedioCADolares_ant_2'] = data['SaldoPromedioCADolares_ant_2'].quantile(0.99)\n",
    "data.boxplot(['SaldoPromedioCAPesos_ant_2', 'SaldoPromedioCADolares_ant_2', 'SaldoPromedioCCAcreedor_ant_2'])"
   ]
  },
  {
   "cell_type": "code",
   "execution_count": 97,
   "metadata": {},
   "outputs": [
    {
     "data": {
      "text/plain": [
       "(494887, 37)"
      ]
     },
     "execution_count": 97,
     "metadata": {},
     "output_type": "execute_result"
    }
   ],
   "source": [
    "data.shape"
   ]
  },
  {
   "cell_type": "markdown",
   "metadata": {},
   "source": [
    "## Estudio de distribución bivariada"
   ]
  },
  {
   "cell_type": "markdown",
   "metadata": {},
   "source": [
    "### En este apartado buscaremos si existe correlación entre variable y/o contra el target"
   ]
  },
  {
   "cell_type": "code",
   "execution_count": 98,
   "metadata": {},
   "outputs": [
    {
     "data": {
      "text/plain": [
       "Text(0.5, 1, 'Saldos promedios \\nCorrelation Heatmap')"
      ]
     },
     "execution_count": 98,
     "metadata": {},
     "output_type": "execute_result"
    },
    {
     "data": {
      "image/png": "[encoded data removed]",
      "text/plain": [
       "<Figure size 720x432 with 2 Axes>"
      ]
     },
     "metadata": {
      "needs_background": "light"
     },
     "output_type": "display_data"
    }
   ],
   "source": [
    "#Comparacion entre saldos promedios 'SaldoPromedioCAPesos', 'SaldoPromedioCADolares', 'SaldoPromedioCCAcreedor'\n",
    "f,ax = plt.subplots(figsize=(10, 6))\n",
    "g = sns.heatmap(data[['SaldoPromedioCAPesos','SaldoPromedioCADolares', 'SaldoPromedioCCAcreedor']].corr(),\n",
    "            annot=True, linewidths=.5, fmt= '.1f', ax=ax)\n",
    "plt.suptitle(\"Saldos promedios \\nCorrelation Heatmap\",\n",
    "               fontsize=16, weight=\"bold\", y=1)\n"
   ]
  },
  {
   "cell_type": "code",
   "execution_count": 99,
   "metadata": {},
   "outputs": [
    {
     "data": {
      "text/plain": [
       "Text(0.5, 1, 'Saldos promedios CA Pesos \\nCorrelation Heatmap')"
      ]
     },
     "execution_count": 99,
     "metadata": {},
     "output_type": "execute_result"
    },
    {
     "data": {
      "image/png": "[encoded data removed]",
      "text/plain": [
       "<Figure size 720x432 with 2 Axes>"
      ]
     },
     "metadata": {
      "needs_background": "light"
     },
     "output_type": "display_data"
    }
   ],
   "source": [
    "#Comparacion entre saldos promedios 'SaldoPromedioCAPesos', 'SaldoPromedioCAPesos_ant_1', 'SaldoPromedioCAPesos_ant_2'\n",
    "\n",
    "f,ax = plt.subplots(figsize=(10, 6))\n",
    "g = sns.heatmap(data[['SaldoPromedioCAPesos', 'SaldoPromedioCAPesos_ant_1', 'SaldoPromedioCAPesos_ant_2']].corr(),\n",
    "            annot=True, linewidths=.5, fmt= '.1f', ax=ax)\n",
    "plt.suptitle(\"Saldos promedios CA Pesos \\nCorrelation Heatmap\",\n",
    "               fontsize=16, weight=\"bold\", y=1)"
   ]
  },
  {
   "cell_type": "code",
   "execution_count": 100,
   "metadata": {},
   "outputs": [],
   "source": [
    "#vemos que hay una alta correlacion entre estas columnas, por lo que podriamos ver si los trabajamos por separado o agrupamos"
   ]
  },
  {
   "cell_type": "code",
   "execution_count": 101,
   "metadata": {},
   "outputs": [
    {
     "data": {
      "text/plain": [
       "Text(0.5, 1, 'Saldos promedios CA Dolares \\nCorrelation Heatmap')"
      ]
     },
     "execution_count": 101,
     "metadata": {},
     "output_type": "execute_result"
    },
    {
     "data": {
      "image/png": "[encoded data removed]",
      "text/plain": [
       "<Figure size 720x432 with 2 Axes>"
      ]
     },
     "metadata": {
      "needs_background": "light"
     },
     "output_type": "display_data"
    }
   ],
   "source": [
    "#Comparacion entre saldos promedios 'SaldoPromedioCADolares', 'SaldoPromedioCADolares_ant_1', 'SaldoPromedioCADolares_ant_2'\n",
    "\n",
    "f,ax = plt.subplots(figsize=(10, 6))\n",
    "g = sns.heatmap(data[['SaldoPromedioCADolares', 'SaldoPromedioCADolares_ant_1', 'SaldoPromedioCADolares_ant_2']].corr(),\n",
    "            annot=True, linewidths=.5, fmt= '.1f', ax=ax)\n",
    "plt.suptitle(\"Saldos promedios CA Dolares \\nCorrelation Heatmap\",\n",
    "               fontsize=16, weight=\"bold\", y=1)"
   ]
  },
  {
   "cell_type": "code",
   "execution_count": 102,
   "metadata": {},
   "outputs": [
    {
     "data": {
      "text/plain": [
       "Text(0.5, 1, 'Saldos promedios CA Acreedor \\nCorrelation Heatmap')"
      ]
     },
     "execution_count": 102,
     "metadata": {},
     "output_type": "execute_result"
    },
    {
     "data": {
      "image/png": "[encoded data removed]",
      "text/plain": [
       "<Figure size 720x432 with 2 Axes>"
      ]
     },
     "metadata": {
      "needs_background": "light"
     },
     "output_type": "display_data"
    }
   ],
   "source": [
    "#Comparacion entre saldos promedios 'SaldoPromedioCCAcreedor', 'SaldoPromedioCCAcreedor_ant_1', 'SaldoPromedioCCAcreedor_ant_2'\n",
    "\n",
    "f,ax = plt.subplots(figsize=(10, 6))\n",
    "g = sns.heatmap(data[['SaldoPromedioCCAcreedor', 'SaldoPromedioCCAcreedor_ant_1', 'SaldoPromedioCCAcreedor_ant_2']].corr(),\n",
    "            annot=True, linewidths=.5, fmt= '.1f', ax=ax)\n",
    "plt.suptitle(\"Saldos promedios CA Acreedor \\nCorrelation Heatmap\",\n",
    "               fontsize=16, weight=\"bold\", y=1)"
   ]
  },
  {
   "cell_type": "code",
   "execution_count": 103,
   "metadata": {},
   "outputs": [],
   "source": [
    "#vemos que saldoPromedioCCAcreedor_ant_2 tiene correlacion 1 con SaldoPromedioCCAcreedor"
   ]
  },
  {
   "cell_type": "code",
   "execution_count": 104,
   "metadata": {},
   "outputs": [
    {
     "data": {
      "text/plain": [
       "Text(0.5, 1, 'Saldos promedios contra target \\nCorrelation Heatmap')"
      ]
     },
     "execution_count": 104,
     "metadata": {},
     "output_type": "execute_result"
    },
    {
     "data": {
      "image/png": "[encoded data removed]",
      "text/plain": [
       "<Figure size 720x432 with 2 Axes>"
      ]
     },
     "metadata": {
      "needs_background": "light"
     },
     "output_type": "display_data"
    }
   ],
   "source": [
    "#Vimos que los saldos promedios no tienen correlacion entre si pero lo compararemos cpntra el target2 \n",
    "#Comparacion entre saldos promedios y target 'SaldoPromedioCAPesos', 'SaldoPromedioCADolares', 'SaldoPromedioCCAcreedor', 'target2'\n",
    "f,ax = plt.subplots(figsize=(10, 6))\n",
    "g = sns.heatmap(data[['SaldoPromedioCAPesos','SaldoPromedioCADolares', 'SaldoPromedioCCAcreedor', 'target2']].corr(),\n",
    "            annot=True, linewidths=.5, fmt= '.1f', ax=ax)\n",
    "plt.suptitle(\"Saldos promedios contra target \\nCorrelation Heatmap\",\n",
    "               fontsize=16, weight=\"bold\", y=1)"
   ]
  },
  {
   "cell_type": "code",
   "execution_count": 105,
   "metadata": {},
   "outputs": [],
   "source": [
    "#tienen 0 correlacion contra el target! "
   ]
  },
  {
   "cell_type": "code",
   "execution_count": 106,
   "metadata": {},
   "outputs": [
    {
     "data": {
      "text/plain": [
       "Text(0.5, 1, 'Cantidad de productos contra target \\nCorrelation Heatmap')"
      ]
     },
     "execution_count": 106,
     "metadata": {},
     "output_type": "execute_result"
    },
    {
     "data": {
      "image/png": "[encoded data removed]",
      "text/plain": [
       "<Figure size 720x432 with 2 Axes>"
      ]
     },
     "metadata": {
      "needs_background": "light"
     },
     "output_type": "display_data"
    }
   ],
   "source": [
    "#Comparacion entre cantidad de productos contra target 'cant_productos', 'cant_PF','cant_TC', 'cant_PP', 'cant_seguros','target2'\n",
    "f,ax = plt.subplots(figsize=(10, 6))\n",
    "g = sns.heatmap(data[['cant_productos', 'cant_PF','cant_TC', 'cant_PP', 'cant_seguros','target2']].corr(),\n",
    "            annot=True, linewidths=.5, fmt= '.1f', ax=ax)\n",
    "plt.suptitle(\"Cantidad de productos contra target \\nCorrelation Heatmap\",\n",
    "               fontsize=16, weight=\"bold\", y=1)"
   ]
  },
  {
   "cell_type": "code",
   "execution_count": 107,
   "metadata": {},
   "outputs": [
    {
     "data": {
      "text/plain": [
       "Text(0.5, 1, 'Cantidad de cuotas faltantes contra target \\nCorrelation Heatmap')"
      ]
     },
     "execution_count": 107,
     "metadata": {},
     "output_type": "execute_result"
    },
    {
     "data": {
      "image/png": "[encoded data removed]",
      "text/plain": [
       "<Figure size 720x432 with 2 Axes>"
      ]
     },
     "metadata": {
      "needs_background": "light"
     },
     "output_type": "display_data"
    }
   ],
   "source": [
    "#Comparacion entre cuotas faltantes contra target 'cuotas_faltantes', 'cuotas_faltantes_1','cuotas_faltantes_2','target2'\n",
    "f,ax = plt.subplots(figsize=(10, 6))\n",
    "g = sns.heatmap(data[['cuotas_faltantes', 'cuotas_faltantes_1','cuotas_faltantes_2','target2']].corr(),\n",
    "            annot=True, linewidths=.5, fmt= '.1f', ax=ax)\n",
    "plt.suptitle(\"Cantidad de cuotas faltantes contra target \\nCorrelation Heatmap\",\n",
    "               fontsize=16, weight=\"bold\", y=1)"
   ]
  },
  {
   "cell_type": "markdown",
   "metadata": {},
   "source": [
    "## Ingeniería de variables"
   ]
  },
  {
   "cell_type": "markdown",
   "metadata": {},
   "source": [
    "### Variables continuas"
   ]
  },
  {
   "cell_type": "markdown",
   "metadata": {},
   "source": [
    "#### Calcular media, std, min, max, suma. Esto es por fila entre los períodos, es decir, por ejemplo, cálculo de esos datos para los montos que incluyen _1 y _2. Dejarlas como columnas adicionales."
   ]
  },
  {
   "cell_type": "code",
   "execution_count": 108,
   "metadata": {},
   "outputs": [],
   "source": [
    "#busca todos los que tienen _1\n",
    "trimestrales = [x for x in data.columns if '_1' in x]"
   ]
  },
  {
   "cell_type": "code",
   "execution_count": 109,
   "metadata": {},
   "outputs": [],
   "source": [
    "# aca obtegno los que tienen ant_1 ant_2 y current\n",
    "trimestrales = trimestrales + [x.strip('ant_1') for x in trimestrales] + [x.replace('_1','_2') for x in trimestrales]"
   ]
  },
  {
   "cell_type": "code",
   "execution_count": 110,
   "metadata": {},
   "outputs": [
    {
     "name": "stdout",
     "output_type": "stream",
     "text": [
      "Calculating cant_PF\n",
      "Calculating cant_TC\n",
      "Calculating cant_PP\n",
      "Calculating importe_consumos\n",
      "Calculating SaldoPromedioCAPesos\n",
      "Calculating SaldoPromedioCADolares\n",
      "Calculating SaldoPromedioCCAcreedor\n",
      "Calculating TotalConsumoTD\n"
     ]
    }
   ],
   "source": [
    "for col in data.columns:\n",
    "    if col+'_ant_1' in data.columns:\n",
    "        print(\"Calculating %s\" % col)\n",
    "        data[col+'_mean']=data[[col,col+'_ant_1',col+'_ant_2']].mean(axis=1)\n",
    "        data[col+'_std']=data[[col,col+'_ant_1',col+'_ant_2']].std(axis=1)\n",
    "        data[col+'_min']=data[[col,col+'_ant_1',col+'_ant_2']].min(axis=1)\n",
    "        data[col+'_max']=data[[col,col+'_ant_1',col+'_ant_2']].max(axis=1)\n",
    "        data[col+'_TasaNew']=data[col].div(data[col+'_ant_1'])\n",
    "        data[col+'_TasaOld']=data[col].div(data[col+'_ant_2'])"
   ]
  },
  {
   "cell_type": "markdown",
   "metadata": {},
   "source": [
    "Elimino los NaN e infinitos de tasas"
   ]
  },
  {
   "cell_type": "code",
   "execution_count": 111,
   "metadata": {},
   "outputs": [
    {
     "data": {
      "text/html": [
       "<div>\n",
       "<style scoped>\n",
       "    .dataframe tbody tr th:only-of-type {\n",
       "        vertical-align: middle;\n",
       "    }\n",
       "\n",
       "    .dataframe tbody tr th {\n",
       "        vertical-align: top;\n",
       "    }\n",
       "\n",
       "    .dataframe thead th {\n",
       "        text-align: right;\n",
       "    }\n",
       "</style>\n",
       "<table border=\"1\" class=\"dataframe\">\n",
       "  <thead>\n",
       "    <tr style=\"text-align: right;\">\n",
       "      <th></th>\n",
       "      <th>FechaSaldos</th>\n",
       "      <th>cant_productos</th>\n",
       "      <th>cant_PF</th>\n",
       "      <th>cant_TC</th>\n",
       "      <th>cant_PP</th>\n",
       "      <th>FechaUltMovCA</th>\n",
       "      <th>cant_seguros</th>\n",
       "      <th>importe_consumos</th>\n",
       "      <th>Edad</th>\n",
       "      <th>Sexo</th>\n",
       "      <th>...</th>\n",
       "      <th>SaldoPromedioCCAcreedor_min</th>\n",
       "      <th>SaldoPromedioCCAcreedor_max</th>\n",
       "      <th>SaldoPromedioCCAcreedor_TasaNew</th>\n",
       "      <th>SaldoPromedioCCAcreedor_TasaOld</th>\n",
       "      <th>TotalConsumoTD_mean</th>\n",
       "      <th>TotalConsumoTD_std</th>\n",
       "      <th>TotalConsumoTD_min</th>\n",
       "      <th>TotalConsumoTD_max</th>\n",
       "      <th>TotalConsumoTD_TasaNew</th>\n",
       "      <th>TotalConsumoTD_TasaOld</th>\n",
       "    </tr>\n",
       "  </thead>\n",
       "  <tbody>\n",
       "    <tr>\n",
       "      <th>0</th>\n",
       "      <td>2019-12-06 09:45:00</td>\n",
       "      <td>2.0</td>\n",
       "      <td>0.0</td>\n",
       "      <td>0.0</td>\n",
       "      <td>0</td>\n",
       "      <td>2019-12-02</td>\n",
       "      <td>0</td>\n",
       "      <td>0</td>\n",
       "      <td>68</td>\n",
       "      <td>M</td>\n",
       "      <td>...</td>\n",
       "      <td>0.0000</td>\n",
       "      <td>0.0000</td>\n",
       "      <td>NaN</td>\n",
       "      <td>NaN</td>\n",
       "      <td>4429.353333</td>\n",
       "      <td>1522.668249</td>\n",
       "      <td>2838.24</td>\n",
       "      <td>5872.82</td>\n",
       "      <td>0.483284</td>\n",
       "      <td>0.620109</td>\n",
       "    </tr>\n",
       "    <tr>\n",
       "      <th>1</th>\n",
       "      <td>2019-12-06 09:45:00</td>\n",
       "      <td>1.0</td>\n",
       "      <td>0.0</td>\n",
       "      <td>0.0</td>\n",
       "      <td>0</td>\n",
       "      <td>2019-12-04</td>\n",
       "      <td>0</td>\n",
       "      <td>0</td>\n",
       "      <td>67</td>\n",
       "      <td>F</td>\n",
       "      <td>...</td>\n",
       "      <td>0.0000</td>\n",
       "      <td>0.0000</td>\n",
       "      <td>NaN</td>\n",
       "      <td>NaN</td>\n",
       "      <td>7178.743333</td>\n",
       "      <td>1420.905397</td>\n",
       "      <td>6244.15</td>\n",
       "      <td>8813.89</td>\n",
       "      <td>0.963873</td>\n",
       "      <td>0.708444</td>\n",
       "    </tr>\n",
       "    <tr>\n",
       "      <th>2</th>\n",
       "      <td>2019-12-06 09:45:00</td>\n",
       "      <td>1.0</td>\n",
       "      <td>0.0</td>\n",
       "      <td>0.0</td>\n",
       "      <td>0</td>\n",
       "      <td>2019-12-05</td>\n",
       "      <td>1</td>\n",
       "      <td>0</td>\n",
       "      <td>68</td>\n",
       "      <td>F</td>\n",
       "      <td>...</td>\n",
       "      <td>0.0000</td>\n",
       "      <td>0.0000</td>\n",
       "      <td>NaN</td>\n",
       "      <td>NaN</td>\n",
       "      <td>14639.400000</td>\n",
       "      <td>3868.414530</td>\n",
       "      <td>10387.20</td>\n",
       "      <td>17950.29</td>\n",
       "      <td>0.867992</td>\n",
       "      <td>1.499991</td>\n",
       "    </tr>\n",
       "    <tr>\n",
       "      <th>3</th>\n",
       "      <td>2019-12-06 09:45:00</td>\n",
       "      <td>6.0</td>\n",
       "      <td>0.0</td>\n",
       "      <td>3.0</td>\n",
       "      <td>0</td>\n",
       "      <td>2019-12-05</td>\n",
       "      <td>1</td>\n",
       "      <td>0</td>\n",
       "      <td>68</td>\n",
       "      <td>F</td>\n",
       "      <td>...</td>\n",
       "      <td>0.0000</td>\n",
       "      <td>0.0000</td>\n",
       "      <td>NaN</td>\n",
       "      <td>NaN</td>\n",
       "      <td>4216.740000</td>\n",
       "      <td>3207.166958</td>\n",
       "      <td>600.00</td>\n",
       "      <td>6714.54</td>\n",
       "      <td>0.794646</td>\n",
       "      <td>8.892800</td>\n",
       "    </tr>\n",
       "    <tr>\n",
       "      <th>4</th>\n",
       "      <td>2019-12-06 09:45:00</td>\n",
       "      <td>6.0</td>\n",
       "      <td>1.0</td>\n",
       "      <td>2.0</td>\n",
       "      <td>0</td>\n",
       "      <td>2019-12-05</td>\n",
       "      <td>1</td>\n",
       "      <td>0</td>\n",
       "      <td>67</td>\n",
       "      <td>F</td>\n",
       "      <td>...</td>\n",
       "      <td>0.0000</td>\n",
       "      <td>0.0000</td>\n",
       "      <td>NaN</td>\n",
       "      <td>NaN</td>\n",
       "      <td>600.450000</td>\n",
       "      <td>886.133696</td>\n",
       "      <td>0.00</td>\n",
       "      <td>1618.19</td>\n",
       "      <td>NaN</td>\n",
       "      <td>0.113188</td>\n",
       "    </tr>\n",
       "    <tr>\n",
       "      <th>...</th>\n",
       "      <td>...</td>\n",
       "      <td>...</td>\n",
       "      <td>...</td>\n",
       "      <td>...</td>\n",
       "      <td>...</td>\n",
       "      <td>...</td>\n",
       "      <td>...</td>\n",
       "      <td>...</td>\n",
       "      <td>...</td>\n",
       "      <td>...</td>\n",
       "      <td>...</td>\n",
       "      <td>...</td>\n",
       "      <td>...</td>\n",
       "      <td>...</td>\n",
       "      <td>...</td>\n",
       "      <td>...</td>\n",
       "      <td>...</td>\n",
       "      <td>...</td>\n",
       "      <td>...</td>\n",
       "      <td>...</td>\n",
       "      <td>...</td>\n",
       "    </tr>\n",
       "    <tr>\n",
       "      <th>494882</th>\n",
       "      <td>2020-02-07 14:13:00</td>\n",
       "      <td>1.0</td>\n",
       "      <td>0.0</td>\n",
       "      <td>0.0</td>\n",
       "      <td>0</td>\n",
       "      <td>2020-02-06</td>\n",
       "      <td>0</td>\n",
       "      <td>0</td>\n",
       "      <td>47</td>\n",
       "      <td>JU</td>\n",
       "      <td>...</td>\n",
       "      <td>4481.6118</td>\n",
       "      <td>5218.9032</td>\n",
       "      <td>1.137311</td>\n",
       "      <td>1.164515</td>\n",
       "      <td>0.000000</td>\n",
       "      <td>0.000000</td>\n",
       "      <td>0.00</td>\n",
       "      <td>0.00</td>\n",
       "      <td>NaN</td>\n",
       "      <td>NaN</td>\n",
       "    </tr>\n",
       "    <tr>\n",
       "      <th>494883</th>\n",
       "      <td>2020-02-07 14:13:00</td>\n",
       "      <td>1.0</td>\n",
       "      <td>0.0</td>\n",
       "      <td>0.0</td>\n",
       "      <td>0</td>\n",
       "      <td>2019-05-22</td>\n",
       "      <td>0</td>\n",
       "      <td>0</td>\n",
       "      <td>47</td>\n",
       "      <td>JU</td>\n",
       "      <td>...</td>\n",
       "      <td>4481.6118</td>\n",
       "      <td>5218.9032</td>\n",
       "      <td>1.137311</td>\n",
       "      <td>1.164515</td>\n",
       "      <td>0.000000</td>\n",
       "      <td>0.000000</td>\n",
       "      <td>0.00</td>\n",
       "      <td>0.00</td>\n",
       "      <td>NaN</td>\n",
       "      <td>NaN</td>\n",
       "    </tr>\n",
       "    <tr>\n",
       "      <th>494884</th>\n",
       "      <td>2020-02-07 14:13:00</td>\n",
       "      <td>1.0</td>\n",
       "      <td>0.0</td>\n",
       "      <td>0.0</td>\n",
       "      <td>0</td>\n",
       "      <td>2019-09-27</td>\n",
       "      <td>0</td>\n",
       "      <td>0</td>\n",
       "      <td>47</td>\n",
       "      <td>JU</td>\n",
       "      <td>...</td>\n",
       "      <td>4481.6118</td>\n",
       "      <td>5218.9032</td>\n",
       "      <td>1.137311</td>\n",
       "      <td>1.164515</td>\n",
       "      <td>0.000000</td>\n",
       "      <td>0.000000</td>\n",
       "      <td>0.00</td>\n",
       "      <td>0.00</td>\n",
       "      <td>NaN</td>\n",
       "      <td>NaN</td>\n",
       "    </tr>\n",
       "    <tr>\n",
       "      <th>494885</th>\n",
       "      <td>2020-02-07 14:13:00</td>\n",
       "      <td>1.0</td>\n",
       "      <td>0.0</td>\n",
       "      <td>0.0</td>\n",
       "      <td>0</td>\n",
       "      <td>2020-02-06</td>\n",
       "      <td>0</td>\n",
       "      <td>0</td>\n",
       "      <td>47</td>\n",
       "      <td>JU</td>\n",
       "      <td>...</td>\n",
       "      <td>4481.6118</td>\n",
       "      <td>5218.9032</td>\n",
       "      <td>1.137311</td>\n",
       "      <td>1.164515</td>\n",
       "      <td>0.000000</td>\n",
       "      <td>0.000000</td>\n",
       "      <td>0.00</td>\n",
       "      <td>0.00</td>\n",
       "      <td>NaN</td>\n",
       "      <td>NaN</td>\n",
       "    </tr>\n",
       "    <tr>\n",
       "      <th>494886</th>\n",
       "      <td>2020-02-07 14:13:00</td>\n",
       "      <td>1.0</td>\n",
       "      <td>0.0</td>\n",
       "      <td>0.0</td>\n",
       "      <td>0</td>\n",
       "      <td>2020-02-06</td>\n",
       "      <td>0</td>\n",
       "      <td>0</td>\n",
       "      <td>47</td>\n",
       "      <td>JU</td>\n",
       "      <td>...</td>\n",
       "      <td>0.0000</td>\n",
       "      <td>5218.9032</td>\n",
       "      <td>9.688318</td>\n",
       "      <td>NaN</td>\n",
       "      <td>0.000000</td>\n",
       "      <td>0.000000</td>\n",
       "      <td>0.00</td>\n",
       "      <td>0.00</td>\n",
       "      <td>NaN</td>\n",
       "      <td>NaN</td>\n",
       "    </tr>\n",
       "  </tbody>\n",
       "</table>\n",
       "<p>494887 rows × 85 columns</p>\n",
       "</div>"
      ],
      "text/plain": [
       "                FechaSaldos  cant_productos  cant_PF  cant_TC  cant_PP  \\\n",
       "0       2019-12-06 09:45:00             2.0      0.0      0.0        0   \n",
       "1       2019-12-06 09:45:00             1.0      0.0      0.0        0   \n",
       "2       2019-12-06 09:45:00             1.0      0.0      0.0        0   \n",
       "3       2019-12-06 09:45:00             6.0      0.0      3.0        0   \n",
       "4       2019-12-06 09:45:00             6.0      1.0      2.0        0   \n",
       "...                     ...             ...      ...      ...      ...   \n",
       "494882  2020-02-07 14:13:00             1.0      0.0      0.0        0   \n",
       "494883  2020-02-07 14:13:00             1.0      0.0      0.0        0   \n",
       "494884  2020-02-07 14:13:00             1.0      0.0      0.0        0   \n",
       "494885  2020-02-07 14:13:00             1.0      0.0      0.0        0   \n",
       "494886  2020-02-07 14:13:00             1.0      0.0      0.0        0   \n",
       "\n",
       "       FechaUltMovCA  cant_seguros  importe_consumos  Edad Sexo  ...  \\\n",
       "0         2019-12-02             0                 0    68    M  ...   \n",
       "1         2019-12-04             0                 0    67    F  ...   \n",
       "2         2019-12-05             1                 0    68    F  ...   \n",
       "3         2019-12-05             1                 0    68    F  ...   \n",
       "4         2019-12-05             1                 0    67    F  ...   \n",
       "...              ...           ...               ...   ...  ...  ...   \n",
       "494882    2020-02-06             0                 0    47   JU  ...   \n",
       "494883    2019-05-22             0                 0    47   JU  ...   \n",
       "494884    2019-09-27             0                 0    47   JU  ...   \n",
       "494885    2020-02-06             0                 0    47   JU  ...   \n",
       "494886    2020-02-06             0                 0    47   JU  ...   \n",
       "\n",
       "        SaldoPromedioCCAcreedor_min  SaldoPromedioCCAcreedor_max  \\\n",
       "0                            0.0000                       0.0000   \n",
       "1                            0.0000                       0.0000   \n",
       "2                            0.0000                       0.0000   \n",
       "3                            0.0000                       0.0000   \n",
       "4                            0.0000                       0.0000   \n",
       "...                             ...                          ...   \n",
       "494882                    4481.6118                    5218.9032   \n",
       "494883                    4481.6118                    5218.9032   \n",
       "494884                    4481.6118                    5218.9032   \n",
       "494885                    4481.6118                    5218.9032   \n",
       "494886                       0.0000                    5218.9032   \n",
       "\n",
       "        SaldoPromedioCCAcreedor_TasaNew  SaldoPromedioCCAcreedor_TasaOld  \\\n",
       "0                                   NaN                              NaN   \n",
       "1                                   NaN                              NaN   \n",
       "2                                   NaN                              NaN   \n",
       "3                                   NaN                              NaN   \n",
       "4                                   NaN                              NaN   \n",
       "...                                 ...                              ...   \n",
       "494882                         1.137311                         1.164515   \n",
       "494883                         1.137311                         1.164515   \n",
       "494884                         1.137311                         1.164515   \n",
       "494885                         1.137311                         1.164515   \n",
       "494886                         9.688318                              NaN   \n",
       "\n",
       "       TotalConsumoTD_mean  TotalConsumoTD_std  TotalConsumoTD_min  \\\n",
       "0              4429.353333         1522.668249             2838.24   \n",
       "1              7178.743333         1420.905397             6244.15   \n",
       "2             14639.400000         3868.414530            10387.20   \n",
       "3              4216.740000         3207.166958              600.00   \n",
       "4               600.450000          886.133696                0.00   \n",
       "...                    ...                 ...                 ...   \n",
       "494882            0.000000            0.000000                0.00   \n",
       "494883            0.000000            0.000000                0.00   \n",
       "494884            0.000000            0.000000                0.00   \n",
       "494885            0.000000            0.000000                0.00   \n",
       "494886            0.000000            0.000000                0.00   \n",
       "\n",
       "        TotalConsumoTD_max  TotalConsumoTD_TasaNew  TotalConsumoTD_TasaOld  \n",
       "0                  5872.82                0.483284                0.620109  \n",
       "1                  8813.89                0.963873                0.708444  \n",
       "2                 17950.29                0.867992                1.499991  \n",
       "3                  6714.54                0.794646                8.892800  \n",
       "4                  1618.19                     NaN                0.113188  \n",
       "...                    ...                     ...                     ...  \n",
       "494882                0.00                     NaN                     NaN  \n",
       "494883                0.00                     NaN                     NaN  \n",
       "494884                0.00                     NaN                     NaN  \n",
       "494885                0.00                     NaN                     NaN  \n",
       "494886                0.00                     NaN                     NaN  \n",
       "\n",
       "[494887 rows x 85 columns]"
      ]
     },
     "execution_count": 111,
     "metadata": {},
     "output_type": "execute_result"
    }
   ],
   "source": [
    "data.replace([np.inf, -np.inf], np.nan)"
   ]
  },
  {
   "cell_type": "code",
   "execution_count": 112,
   "metadata": {},
   "outputs": [],
   "source": [
    "#fecha saldos tambien la transformaremos a datetime \n",
    "data.FechaSaldos = pd.to_datetime(data.FechaSaldos)"
   ]
  },
  {
   "cell_type": "code",
   "execution_count": 113,
   "metadata": {},
   "outputs": [
    {
     "name": "stdout",
     "output_type": "stream",
     "text": [
      "Replace NaN cant_PF\n",
      "Replace NaN cant_TC\n",
      "Replace NaN cant_PP\n",
      "Replace NaN importe_consumos\n",
      "Replace NaN SaldoPromedioCAPesos\n",
      "Replace NaN SaldoPromedioCADolares\n",
      "Replace NaN SaldoPromedioCCAcreedor\n",
      "Replace NaN TotalConsumoTD\n"
     ]
    }
   ],
   "source": [
    "for col in data.columns: #ANDREA\n",
    "    if col+'_ant_1' in data.columns:\n",
    "        print(\"Replace NaN %s\" % col)\n",
    "        data[col+'_TasaNew'].fillna(0,inplace=True)\n",
    "        data[col+'_TasaOld'].fillna(0,inplace=True)\n",
    "\n"
   ]
  },
  {
   "cell_type": "code",
   "execution_count": 114,
   "metadata": {},
   "outputs": [],
   "source": [
    "data=data[~data.isin([np.nan, np.inf, -np.inf]).any(1)] "
   ]
  },
  {
   "cell_type": "code",
   "execution_count": 115,
   "metadata": {},
   "outputs": [
    {
     "data": {
      "text/plain": [
       "Index(['FechaSaldos', 'cant_productos', 'cant_PF', 'cant_TC', 'cant_PP',\n",
       "       'FechaUltMovCA', 'cant_seguros', 'importe_consumos', 'Edad', 'Sexo',\n",
       "       'SaldoPromedioCAPesos', 'SaldoPromedioCADolares',\n",
       "       'SaldoPromedioCCAcreedor', 'TotalConsumoTD', 'CategoriaProducto',\n",
       "       'cuotas_faltantes_1', 'cant_PF_ant_1', 'cant_TC_ant_1', 'cant_PP_ant_1',\n",
       "       'SaldoPromedioCAPesos_ant_1', 'SaldoPromedioCADolares_ant_1',\n",
       "       'SaldoPromedioCCAcreedor_ant_1', 'importe_consumos_ant_1',\n",
       "       'TotalConsumoTD_ant_1', 'cuotas_faltantes', 'cant_PF_ant_2',\n",
       "       'cant_TC_ant_2', 'cant_PP_ant_2', 'SaldoPromedioCAPesos_ant_2',\n",
       "       'SaldoPromedioCADolares_ant_2', 'SaldoPromedioCCAcreedor_ant_2',\n",
       "       'importe_consumos_ant_2', 'TotalConsumoTD_ant_2', 'cuotas_faltantes_2',\n",
       "       'score_deuda', 'target2', 'antiguedad', 'cant_PF_mean', 'cant_PF_std',\n",
       "       'cant_PF_min', 'cant_PF_max', 'cant_PF_TasaNew', 'cant_PF_TasaOld',\n",
       "       'cant_TC_mean', 'cant_TC_std', 'cant_TC_min', 'cant_TC_max',\n",
       "       'cant_TC_TasaNew', 'cant_TC_TasaOld', 'cant_PP_mean', 'cant_PP_std',\n",
       "       'cant_PP_min', 'cant_PP_max', 'cant_PP_TasaNew', 'cant_PP_TasaOld',\n",
       "       'importe_consumos_mean', 'importe_consumos_std', 'importe_consumos_min',\n",
       "       'importe_consumos_max', 'importe_consumos_TasaNew',\n",
       "       'importe_consumos_TasaOld', 'SaldoPromedioCAPesos_mean',\n",
       "       'SaldoPromedioCAPesos_std', 'SaldoPromedioCAPesos_min',\n",
       "       'SaldoPromedioCAPesos_max', 'SaldoPromedioCAPesos_TasaNew',\n",
       "       'SaldoPromedioCAPesos_TasaOld', 'SaldoPromedioCADolares_mean',\n",
       "       'SaldoPromedioCADolares_std', 'SaldoPromedioCADolares_min',\n",
       "       'SaldoPromedioCADolares_max', 'SaldoPromedioCADolares_TasaNew',\n",
       "       'SaldoPromedioCADolares_TasaOld', 'SaldoPromedioCCAcreedor_mean',\n",
       "       'SaldoPromedioCCAcreedor_std', 'SaldoPromedioCCAcreedor_min',\n",
       "       'SaldoPromedioCCAcreedor_max', 'SaldoPromedioCCAcreedor_TasaNew',\n",
       "       'SaldoPromedioCCAcreedor_TasaOld', 'TotalConsumoTD_mean',\n",
       "       'TotalConsumoTD_std', 'TotalConsumoTD_min', 'TotalConsumoTD_max',\n",
       "       'TotalConsumoTD_TasaNew', 'TotalConsumoTD_TasaOld'],\n",
       "      dtype='object')"
      ]
     },
     "execution_count": 115,
     "metadata": {},
     "output_type": "execute_result"
    }
   ],
   "source": [
    "data.columns"
   ]
  },
  {
   "cell_type": "markdown",
   "metadata": {},
   "source": [
    "#### Calcular tasas o tendencias entre meses"
   ]
  },
  {
   "cell_type": "markdown",
   "metadata": {},
   "source": [
    "#### Pensar si se puede hacer alguna otra relación entre las variables (siempre pensar por fila), los cocientes suelen ser buenas ideas, en algunos casos obviamente"
   ]
  },
  {
   "cell_type": "markdown",
   "metadata": {},
   "source": [
    "### Variables categóricas"
   ]
  },
  {
   "cell_type": "markdown",
   "metadata": {},
   "source": [
    "#### Evaluar si hay variables con categorías muy sub representadas (muy poquitas). Tratar de Generalizarlas... puede ser, por ejemplo, en categoría producto"
   ]
  },
  {
   "cell_type": "markdown",
   "metadata": {},
   "source": [
    "#### Transformar variables Categóricas Nominales a matríz de unos y ceros"
   ]
  },
  {
   "cell_type": "markdown",
   "metadata": {},
   "source": [
    "#### Transformar variables Categóricas Ordinales con Label Encoding"
   ]
  },
  {
   "cell_type": "markdown",
   "metadata": {},
   "source": [
    "## Entrenamiento del modelo"
   ]
  },
  {
   "cell_type": "markdown",
   "metadata": {},
   "source": [
    "## Trabajar con Train. Evaluar desbalance de clases, probar hacer un balance un poco más equitativo, probar llevarlo a 50-50. Ver Upsampling/Downsampling/SMOTE. Usar una o probarlas todas. SOLO EN TRAIN!"
   ]
  },
  {
   "cell_type": "markdown",
   "metadata": {},
   "source": [
    "## Modelos recomendados para este tipo de problemas:\n",
    "* Regresión Logística\n",
    "* Random Forest\n",
    "* Algoritmos de Boosting (XGBoost, LightGBM, AdaBoost, Catboost) Son todas variaciones muy similares\n",
    "* KNN"
   ]
  },
  {
   "cell_type": "code",
   "execution_count": 116,
   "metadata": {},
   "outputs": [],
   "source": [
    "#Nuestro tag estara dado por la columna target2, al que llamaremos y \n",
    "y = data['target2']"
   ]
  },
  {
   "cell_type": "code",
   "execution_count": 117,
   "metadata": {},
   "outputs": [],
   "source": [
    "#tendremos en cuenta solo las columnas numericas\n",
    "data = data.select_dtypes(include=['int64','float64'])"
   ]
  },
  {
   "cell_type": "code",
   "execution_count": 118,
   "metadata": {},
   "outputs": [
    {
     "data": {
      "text/plain": [
       "Index(['cant_productos', 'cant_PF', 'cant_TC', 'cant_PP', 'cant_seguros',\n",
       "       'importe_consumos', 'Edad', 'SaldoPromedioCAPesos',\n",
       "       'SaldoPromedioCADolares', 'SaldoPromedioCCAcreedor', 'TotalConsumoTD',\n",
       "       'cuotas_faltantes_1', 'cant_PF_ant_1', 'cant_TC_ant_1', 'cant_PP_ant_1',\n",
       "       'SaldoPromedioCAPesos_ant_1', 'SaldoPromedioCADolares_ant_1',\n",
       "       'SaldoPromedioCCAcreedor_ant_1', 'importe_consumos_ant_1',\n",
       "       'TotalConsumoTD_ant_1', 'cuotas_faltantes', 'cant_PF_ant_2',\n",
       "       'cant_TC_ant_2', 'cant_PP_ant_2', 'SaldoPromedioCAPesos_ant_2',\n",
       "       'SaldoPromedioCADolares_ant_2', 'SaldoPromedioCCAcreedor_ant_2',\n",
       "       'importe_consumos_ant_2', 'TotalConsumoTD_ant_2', 'cuotas_faltantes_2',\n",
       "       'score_deuda', 'target2', 'antiguedad', 'cant_PF_mean', 'cant_PF_std',\n",
       "       'cant_PF_min', 'cant_PF_max', 'cant_PF_TasaNew', 'cant_PF_TasaOld',\n",
       "       'cant_TC_mean', 'cant_TC_std', 'cant_TC_min', 'cant_TC_max',\n",
       "       'cant_TC_TasaNew', 'cant_TC_TasaOld', 'cant_PP_mean', 'cant_PP_std',\n",
       "       'cant_PP_min', 'cant_PP_max', 'cant_PP_TasaNew', 'cant_PP_TasaOld',\n",
       "       'importe_consumos_mean', 'importe_consumos_std', 'importe_consumos_min',\n",
       "       'importe_consumos_max', 'importe_consumos_TasaNew',\n",
       "       'importe_consumos_TasaOld', 'SaldoPromedioCAPesos_mean',\n",
       "       'SaldoPromedioCAPesos_std', 'SaldoPromedioCAPesos_min',\n",
       "       'SaldoPromedioCAPesos_max', 'SaldoPromedioCAPesos_TasaNew',\n",
       "       'SaldoPromedioCAPesos_TasaOld', 'SaldoPromedioCADolares_mean',\n",
       "       'SaldoPromedioCADolares_std', 'SaldoPromedioCADolares_min',\n",
       "       'SaldoPromedioCADolares_max', 'SaldoPromedioCADolares_TasaNew',\n",
       "       'SaldoPromedioCADolares_TasaOld', 'SaldoPromedioCCAcreedor_mean',\n",
       "       'SaldoPromedioCCAcreedor_std', 'SaldoPromedioCCAcreedor_min',\n",
       "       'SaldoPromedioCCAcreedor_max', 'SaldoPromedioCCAcreedor_TasaNew',\n",
       "       'SaldoPromedioCCAcreedor_TasaOld', 'TotalConsumoTD_mean',\n",
       "       'TotalConsumoTD_std', 'TotalConsumoTD_min', 'TotalConsumoTD_max',\n",
       "       'TotalConsumoTD_TasaNew', 'TotalConsumoTD_TasaOld'],\n",
       "      dtype='object')"
      ]
     },
     "execution_count": 118,
     "metadata": {},
     "output_type": "execute_result"
    }
   ],
   "source": [
    "data.columns"
   ]
  },
  {
   "cell_type": "markdown",
   "metadata": {},
   "source": [
    "Ahora tenemos que crear la variable x que contendra la informacion para el entrenamiento del modelo (data)\n",
    "\n",
    "Eliminaremos tambien la columna target2"
   ]
  },
  {
   "cell_type": "code",
   "execution_count": 119,
   "metadata": {},
   "outputs": [
    {
     "data": {
      "text/plain": [
       "['cant_productos',\n",
       " 'cant_PF',\n",
       " 'cant_TC',\n",
       " 'cant_PP',\n",
       " 'cant_seguros',\n",
       " 'importe_consumos',\n",
       " 'Edad',\n",
       " 'SaldoPromedioCAPesos',\n",
       " 'SaldoPromedioCADolares',\n",
       " 'SaldoPromedioCCAcreedor',\n",
       " 'TotalConsumoTD',\n",
       " 'cuotas_faltantes_1',\n",
       " 'cant_PF_ant_1',\n",
       " 'cant_TC_ant_1',\n",
       " 'cant_PP_ant_1',\n",
       " 'SaldoPromedioCAPesos_ant_1',\n",
       " 'SaldoPromedioCADolares_ant_1',\n",
       " 'SaldoPromedioCCAcreedor_ant_1',\n",
       " 'importe_consumos_ant_1',\n",
       " 'TotalConsumoTD_ant_1',\n",
       " 'cuotas_faltantes',\n",
       " 'cant_PF_ant_2',\n",
       " 'cant_TC_ant_2',\n",
       " 'cant_PP_ant_2',\n",
       " 'SaldoPromedioCAPesos_ant_2',\n",
       " 'SaldoPromedioCADolares_ant_2',\n",
       " 'SaldoPromedioCCAcreedor_ant_2',\n",
       " 'importe_consumos_ant_2',\n",
       " 'TotalConsumoTD_ant_2',\n",
       " 'cuotas_faltantes_2',\n",
       " 'score_deuda',\n",
       " 'antiguedad',\n",
       " 'cant_PF_mean',\n",
       " 'cant_PF_std',\n",
       " 'cant_PF_min',\n",
       " 'cant_PF_max',\n",
       " 'cant_PF_TasaNew',\n",
       " 'cant_PF_TasaOld',\n",
       " 'cant_TC_mean',\n",
       " 'cant_TC_std',\n",
       " 'cant_TC_min',\n",
       " 'cant_TC_max',\n",
       " 'cant_TC_TasaNew',\n",
       " 'cant_TC_TasaOld',\n",
       " 'cant_PP_mean',\n",
       " 'cant_PP_std',\n",
       " 'cant_PP_min',\n",
       " 'cant_PP_max',\n",
       " 'cant_PP_TasaNew',\n",
       " 'cant_PP_TasaOld',\n",
       " 'importe_consumos_mean',\n",
       " 'importe_consumos_std',\n",
       " 'importe_consumos_min',\n",
       " 'importe_consumos_max',\n",
       " 'importe_consumos_TasaNew',\n",
       " 'importe_consumos_TasaOld',\n",
       " 'SaldoPromedioCAPesos_mean',\n",
       " 'SaldoPromedioCAPesos_std',\n",
       " 'SaldoPromedioCAPesos_min',\n",
       " 'SaldoPromedioCAPesos_max',\n",
       " 'SaldoPromedioCAPesos_TasaNew',\n",
       " 'SaldoPromedioCAPesos_TasaOld',\n",
       " 'SaldoPromedioCADolares_mean',\n",
       " 'SaldoPromedioCADolares_std',\n",
       " 'SaldoPromedioCADolares_min',\n",
       " 'SaldoPromedioCADolares_max',\n",
       " 'SaldoPromedioCADolares_TasaNew',\n",
       " 'SaldoPromedioCADolares_TasaOld',\n",
       " 'SaldoPromedioCCAcreedor_mean',\n",
       " 'SaldoPromedioCCAcreedor_std',\n",
       " 'SaldoPromedioCCAcreedor_min',\n",
       " 'SaldoPromedioCCAcreedor_max',\n",
       " 'SaldoPromedioCCAcreedor_TasaNew',\n",
       " 'SaldoPromedioCCAcreedor_TasaOld',\n",
       " 'TotalConsumoTD_mean',\n",
       " 'TotalConsumoTD_std',\n",
       " 'TotalConsumoTD_min',\n",
       " 'TotalConsumoTD_max',\n",
       " 'TotalConsumoTD_TasaNew',\n",
       " 'TotalConsumoTD_TasaOld']"
      ]
     },
     "execution_count": 119,
     "metadata": {},
     "output_type": "execute_result"
    }
   ],
   "source": [
    "columns = [col for col in data.columns if col not in ['target2']]\n",
    "columns"
   ]
  },
  {
   "cell_type": "code",
   "execution_count": 120,
   "metadata": {},
   "outputs": [
    {
     "data": {
      "text/html": [
       "<div>\n",
       "<style scoped>\n",
       "    .dataframe tbody tr th:only-of-type {\n",
       "        vertical-align: middle;\n",
       "    }\n",
       "\n",
       "    .dataframe tbody tr th {\n",
       "        vertical-align: top;\n",
       "    }\n",
       "\n",
       "    .dataframe thead th {\n",
       "        text-align: right;\n",
       "    }\n",
       "</style>\n",
       "<table border=\"1\" class=\"dataframe\">\n",
       "  <thead>\n",
       "    <tr style=\"text-align: right;\">\n",
       "      <th></th>\n",
       "      <th>cant_productos</th>\n",
       "      <th>cant_PF</th>\n",
       "      <th>cant_TC</th>\n",
       "      <th>cant_PP</th>\n",
       "      <th>cant_seguros</th>\n",
       "      <th>importe_consumos</th>\n",
       "      <th>Edad</th>\n",
       "      <th>SaldoPromedioCAPesos</th>\n",
       "      <th>SaldoPromedioCADolares</th>\n",
       "      <th>SaldoPromedioCCAcreedor</th>\n",
       "      <th>...</th>\n",
       "      <th>SaldoPromedioCCAcreedor_min</th>\n",
       "      <th>SaldoPromedioCCAcreedor_max</th>\n",
       "      <th>SaldoPromedioCCAcreedor_TasaNew</th>\n",
       "      <th>SaldoPromedioCCAcreedor_TasaOld</th>\n",
       "      <th>TotalConsumoTD_mean</th>\n",
       "      <th>TotalConsumoTD_std</th>\n",
       "      <th>TotalConsumoTD_min</th>\n",
       "      <th>TotalConsumoTD_max</th>\n",
       "      <th>TotalConsumoTD_TasaNew</th>\n",
       "      <th>TotalConsumoTD_TasaOld</th>\n",
       "    </tr>\n",
       "  </thead>\n",
       "  <tbody>\n",
       "    <tr>\n",
       "      <th>0</th>\n",
       "      <td>2.0</td>\n",
       "      <td>0.0</td>\n",
       "      <td>0.0</td>\n",
       "      <td>0</td>\n",
       "      <td>0</td>\n",
       "      <td>0</td>\n",
       "      <td>68</td>\n",
       "      <td>6784.50</td>\n",
       "      <td>0.0</td>\n",
       "      <td>0.0000</td>\n",
       "      <td>...</td>\n",
       "      <td>0.0000</td>\n",
       "      <td>0.0000</td>\n",
       "      <td>0.000000</td>\n",
       "      <td>0.000000</td>\n",
       "      <td>4429.353333</td>\n",
       "      <td>1522.668249</td>\n",
       "      <td>2838.24</td>\n",
       "      <td>5872.82</td>\n",
       "      <td>0.483284</td>\n",
       "      <td>0.620109</td>\n",
       "    </tr>\n",
       "    <tr>\n",
       "      <th>1</th>\n",
       "      <td>1.0</td>\n",
       "      <td>0.0</td>\n",
       "      <td>0.0</td>\n",
       "      <td>0</td>\n",
       "      <td>0</td>\n",
       "      <td>0</td>\n",
       "      <td>67</td>\n",
       "      <td>9231.10</td>\n",
       "      <td>0.0</td>\n",
       "      <td>0.0000</td>\n",
       "      <td>...</td>\n",
       "      <td>0.0000</td>\n",
       "      <td>0.0000</td>\n",
       "      <td>0.000000</td>\n",
       "      <td>0.000000</td>\n",
       "      <td>7178.743333</td>\n",
       "      <td>1420.905397</td>\n",
       "      <td>6244.15</td>\n",
       "      <td>8813.89</td>\n",
       "      <td>0.963873</td>\n",
       "      <td>0.708444</td>\n",
       "    </tr>\n",
       "    <tr>\n",
       "      <th>2</th>\n",
       "      <td>1.0</td>\n",
       "      <td>0.0</td>\n",
       "      <td>0.0</td>\n",
       "      <td>0</td>\n",
       "      <td>1</td>\n",
       "      <td>0</td>\n",
       "      <td>68</td>\n",
       "      <td>47496.61</td>\n",
       "      <td>0.0</td>\n",
       "      <td>0.0000</td>\n",
       "      <td>...</td>\n",
       "      <td>0.0000</td>\n",
       "      <td>0.0000</td>\n",
       "      <td>0.000000</td>\n",
       "      <td>0.000000</td>\n",
       "      <td>14639.400000</td>\n",
       "      <td>3868.414530</td>\n",
       "      <td>10387.20</td>\n",
       "      <td>17950.29</td>\n",
       "      <td>0.867992</td>\n",
       "      <td>1.499991</td>\n",
       "    </tr>\n",
       "    <tr>\n",
       "      <th>3</th>\n",
       "      <td>6.0</td>\n",
       "      <td>0.0</td>\n",
       "      <td>3.0</td>\n",
       "      <td>0</td>\n",
       "      <td>1</td>\n",
       "      <td>0</td>\n",
       "      <td>68</td>\n",
       "      <td>24806.59</td>\n",
       "      <td>0.0</td>\n",
       "      <td>0.0000</td>\n",
       "      <td>...</td>\n",
       "      <td>0.0000</td>\n",
       "      <td>0.0000</td>\n",
       "      <td>0.000000</td>\n",
       "      <td>0.000000</td>\n",
       "      <td>4216.740000</td>\n",
       "      <td>3207.166958</td>\n",
       "      <td>600.00</td>\n",
       "      <td>6714.54</td>\n",
       "      <td>0.794646</td>\n",
       "      <td>8.892800</td>\n",
       "    </tr>\n",
       "    <tr>\n",
       "      <th>5</th>\n",
       "      <td>3.0</td>\n",
       "      <td>0.0</td>\n",
       "      <td>0.0</td>\n",
       "      <td>0</td>\n",
       "      <td>1</td>\n",
       "      <td>0</td>\n",
       "      <td>67</td>\n",
       "      <td>16614.82</td>\n",
       "      <td>0.0</td>\n",
       "      <td>0.0000</td>\n",
       "      <td>...</td>\n",
       "      <td>0.0000</td>\n",
       "      <td>0.0000</td>\n",
       "      <td>0.000000</td>\n",
       "      <td>0.000000</td>\n",
       "      <td>0.000000</td>\n",
       "      <td>0.000000</td>\n",
       "      <td>0.00</td>\n",
       "      <td>0.00</td>\n",
       "      <td>0.000000</td>\n",
       "      <td>0.000000</td>\n",
       "    </tr>\n",
       "    <tr>\n",
       "      <th>...</th>\n",
       "      <td>...</td>\n",
       "      <td>...</td>\n",
       "      <td>...</td>\n",
       "      <td>...</td>\n",
       "      <td>...</td>\n",
       "      <td>...</td>\n",
       "      <td>...</td>\n",
       "      <td>...</td>\n",
       "      <td>...</td>\n",
       "      <td>...</td>\n",
       "      <td>...</td>\n",
       "      <td>...</td>\n",
       "      <td>...</td>\n",
       "      <td>...</td>\n",
       "      <td>...</td>\n",
       "      <td>...</td>\n",
       "      <td>...</td>\n",
       "      <td>...</td>\n",
       "      <td>...</td>\n",
       "      <td>...</td>\n",
       "      <td>...</td>\n",
       "    </tr>\n",
       "    <tr>\n",
       "      <th>494881</th>\n",
       "      <td>1.0</td>\n",
       "      <td>0.0</td>\n",
       "      <td>0.0</td>\n",
       "      <td>0</td>\n",
       "      <td>0</td>\n",
       "      <td>0</td>\n",
       "      <td>58</td>\n",
       "      <td>0.00</td>\n",
       "      <td>0.0</td>\n",
       "      <td>5218.9032</td>\n",
       "      <td>...</td>\n",
       "      <td>4481.6118</td>\n",
       "      <td>5218.9032</td>\n",
       "      <td>1.137311</td>\n",
       "      <td>1.164515</td>\n",
       "      <td>0.000000</td>\n",
       "      <td>0.000000</td>\n",
       "      <td>0.00</td>\n",
       "      <td>0.00</td>\n",
       "      <td>0.000000</td>\n",
       "      <td>0.000000</td>\n",
       "    </tr>\n",
       "    <tr>\n",
       "      <th>494882</th>\n",
       "      <td>1.0</td>\n",
       "      <td>0.0</td>\n",
       "      <td>0.0</td>\n",
       "      <td>0</td>\n",
       "      <td>0</td>\n",
       "      <td>0</td>\n",
       "      <td>47</td>\n",
       "      <td>0.00</td>\n",
       "      <td>0.0</td>\n",
       "      <td>5218.9032</td>\n",
       "      <td>...</td>\n",
       "      <td>4481.6118</td>\n",
       "      <td>5218.9032</td>\n",
       "      <td>1.137311</td>\n",
       "      <td>1.164515</td>\n",
       "      <td>0.000000</td>\n",
       "      <td>0.000000</td>\n",
       "      <td>0.00</td>\n",
       "      <td>0.00</td>\n",
       "      <td>0.000000</td>\n",
       "      <td>0.000000</td>\n",
       "    </tr>\n",
       "    <tr>\n",
       "      <th>494883</th>\n",
       "      <td>1.0</td>\n",
       "      <td>0.0</td>\n",
       "      <td>0.0</td>\n",
       "      <td>0</td>\n",
       "      <td>0</td>\n",
       "      <td>0</td>\n",
       "      <td>47</td>\n",
       "      <td>0.00</td>\n",
       "      <td>0.0</td>\n",
       "      <td>5218.9032</td>\n",
       "      <td>...</td>\n",
       "      <td>4481.6118</td>\n",
       "      <td>5218.9032</td>\n",
       "      <td>1.137311</td>\n",
       "      <td>1.164515</td>\n",
       "      <td>0.000000</td>\n",
       "      <td>0.000000</td>\n",
       "      <td>0.00</td>\n",
       "      <td>0.00</td>\n",
       "      <td>0.000000</td>\n",
       "      <td>0.000000</td>\n",
       "    </tr>\n",
       "    <tr>\n",
       "      <th>494884</th>\n",
       "      <td>1.0</td>\n",
       "      <td>0.0</td>\n",
       "      <td>0.0</td>\n",
       "      <td>0</td>\n",
       "      <td>0</td>\n",
       "      <td>0</td>\n",
       "      <td>47</td>\n",
       "      <td>0.00</td>\n",
       "      <td>0.0</td>\n",
       "      <td>5218.9032</td>\n",
       "      <td>...</td>\n",
       "      <td>4481.6118</td>\n",
       "      <td>5218.9032</td>\n",
       "      <td>1.137311</td>\n",
       "      <td>1.164515</td>\n",
       "      <td>0.000000</td>\n",
       "      <td>0.000000</td>\n",
       "      <td>0.00</td>\n",
       "      <td>0.00</td>\n",
       "      <td>0.000000</td>\n",
       "      <td>0.000000</td>\n",
       "    </tr>\n",
       "    <tr>\n",
       "      <th>494885</th>\n",
       "      <td>1.0</td>\n",
       "      <td>0.0</td>\n",
       "      <td>0.0</td>\n",
       "      <td>0</td>\n",
       "      <td>0</td>\n",
       "      <td>0</td>\n",
       "      <td>47</td>\n",
       "      <td>0.00</td>\n",
       "      <td>0.0</td>\n",
       "      <td>5218.9032</td>\n",
       "      <td>...</td>\n",
       "      <td>4481.6118</td>\n",
       "      <td>5218.9032</td>\n",
       "      <td>1.137311</td>\n",
       "      <td>1.164515</td>\n",
       "      <td>0.000000</td>\n",
       "      <td>0.000000</td>\n",
       "      <td>0.00</td>\n",
       "      <td>0.00</td>\n",
       "      <td>0.000000</td>\n",
       "      <td>0.000000</td>\n",
       "    </tr>\n",
       "  </tbody>\n",
       "</table>\n",
       "<p>410846 rows × 80 columns</p>\n",
       "</div>"
      ],
      "text/plain": [
       "        cant_productos  cant_PF  cant_TC  cant_PP  cant_seguros  \\\n",
       "0                  2.0      0.0      0.0        0             0   \n",
       "1                  1.0      0.0      0.0        0             0   \n",
       "2                  1.0      0.0      0.0        0             1   \n",
       "3                  6.0      0.0      3.0        0             1   \n",
       "5                  3.0      0.0      0.0        0             1   \n",
       "...                ...      ...      ...      ...           ...   \n",
       "494881             1.0      0.0      0.0        0             0   \n",
       "494882             1.0      0.0      0.0        0             0   \n",
       "494883             1.0      0.0      0.0        0             0   \n",
       "494884             1.0      0.0      0.0        0             0   \n",
       "494885             1.0      0.0      0.0        0             0   \n",
       "\n",
       "        importe_consumos  Edad  SaldoPromedioCAPesos  SaldoPromedioCADolares  \\\n",
       "0                      0    68               6784.50                     0.0   \n",
       "1                      0    67               9231.10                     0.0   \n",
       "2                      0    68              47496.61                     0.0   \n",
       "3                      0    68              24806.59                     0.0   \n",
       "5                      0    67              16614.82                     0.0   \n",
       "...                  ...   ...                   ...                     ...   \n",
       "494881                 0    58                  0.00                     0.0   \n",
       "494882                 0    47                  0.00                     0.0   \n",
       "494883                 0    47                  0.00                     0.0   \n",
       "494884                 0    47                  0.00                     0.0   \n",
       "494885                 0    47                  0.00                     0.0   \n",
       "\n",
       "        SaldoPromedioCCAcreedor  ...  SaldoPromedioCCAcreedor_min  \\\n",
       "0                        0.0000  ...                       0.0000   \n",
       "1                        0.0000  ...                       0.0000   \n",
       "2                        0.0000  ...                       0.0000   \n",
       "3                        0.0000  ...                       0.0000   \n",
       "5                        0.0000  ...                       0.0000   \n",
       "...                         ...  ...                          ...   \n",
       "494881                5218.9032  ...                    4481.6118   \n",
       "494882                5218.9032  ...                    4481.6118   \n",
       "494883                5218.9032  ...                    4481.6118   \n",
       "494884                5218.9032  ...                    4481.6118   \n",
       "494885                5218.9032  ...                    4481.6118   \n",
       "\n",
       "        SaldoPromedioCCAcreedor_max  SaldoPromedioCCAcreedor_TasaNew  \\\n",
       "0                            0.0000                         0.000000   \n",
       "1                            0.0000                         0.000000   \n",
       "2                            0.0000                         0.000000   \n",
       "3                            0.0000                         0.000000   \n",
       "5                            0.0000                         0.000000   \n",
       "...                             ...                              ...   \n",
       "494881                    5218.9032                         1.137311   \n",
       "494882                    5218.9032                         1.137311   \n",
       "494883                    5218.9032                         1.137311   \n",
       "494884                    5218.9032                         1.137311   \n",
       "494885                    5218.9032                         1.137311   \n",
       "\n",
       "        SaldoPromedioCCAcreedor_TasaOld  TotalConsumoTD_mean  \\\n",
       "0                              0.000000          4429.353333   \n",
       "1                              0.000000          7178.743333   \n",
       "2                              0.000000         14639.400000   \n",
       "3                              0.000000          4216.740000   \n",
       "5                              0.000000             0.000000   \n",
       "...                                 ...                  ...   \n",
       "494881                         1.164515             0.000000   \n",
       "494882                         1.164515             0.000000   \n",
       "494883                         1.164515             0.000000   \n",
       "494884                         1.164515             0.000000   \n",
       "494885                         1.164515             0.000000   \n",
       "\n",
       "        TotalConsumoTD_std  TotalConsumoTD_min  TotalConsumoTD_max  \\\n",
       "0              1522.668249             2838.24             5872.82   \n",
       "1              1420.905397             6244.15             8813.89   \n",
       "2              3868.414530            10387.20            17950.29   \n",
       "3              3207.166958              600.00             6714.54   \n",
       "5                 0.000000                0.00                0.00   \n",
       "...                    ...                 ...                 ...   \n",
       "494881            0.000000                0.00                0.00   \n",
       "494882            0.000000                0.00                0.00   \n",
       "494883            0.000000                0.00                0.00   \n",
       "494884            0.000000                0.00                0.00   \n",
       "494885            0.000000                0.00                0.00   \n",
       "\n",
       "        TotalConsumoTD_TasaNew  TotalConsumoTD_TasaOld  \n",
       "0                     0.483284                0.620109  \n",
       "1                     0.963873                0.708444  \n",
       "2                     0.867992                1.499991  \n",
       "3                     0.794646                8.892800  \n",
       "5                     0.000000                0.000000  \n",
       "...                        ...                     ...  \n",
       "494881                0.000000                0.000000  \n",
       "494882                0.000000                0.000000  \n",
       "494883                0.000000                0.000000  \n",
       "494884                0.000000                0.000000  \n",
       "494885                0.000000                0.000000  \n",
       "\n",
       "[410846 rows x 80 columns]"
      ]
     },
     "execution_count": 120,
     "metadata": {},
     "output_type": "execute_result"
    }
   ],
   "source": [
    "X = data[columns]\n",
    "X"
   ]
  },
  {
   "cell_type": "markdown",
   "metadata": {},
   "source": [
    "Ahora que tenemos las dos variables X e y, debemos realizar una division del dataset en un dataset de entrenamiento y uno de testeo\n",
    "\n",
    "Usaremos el metodo Train Test Split, el cual se encarga de dividir nuestro conjunto original en un conjunto de entrenamiento y un conjunto de testeo"
   ]
  },
  {
   "cell_type": "code",
   "execution_count": 121,
   "metadata": {},
   "outputs": [],
   "source": [
    "from sklearn.model_selection import train_test_split # cargamos el metodo"
   ]
  },
  {
   "cell_type": "code",
   "execution_count": 122,
   "metadata": {},
   "outputs": [],
   "source": [
    "#Separamos el conjunto entrenamiento y test con el metodo train_test_split y se lo asignamos a las distintas variables\n",
    "X_train, X_test, y_train, y_test = train_test_split(X,y)\n",
    "#por default el conjunto se separara en 75% para el train y 25% para el test"
   ]
  },
  {
   "cell_type": "code",
   "execution_count": 123,
   "metadata": {},
   "outputs": [
    {
     "data": {
      "text/plain": [
       "(410846, 80)"
      ]
     },
     "execution_count": 123,
     "metadata": {},
     "output_type": "execute_result"
    }
   ],
   "source": [
    "X.shape"
   ]
  },
  {
   "cell_type": "code",
   "execution_count": 124,
   "metadata": {},
   "outputs": [
    {
     "data": {
      "text/html": [
       "<div>\n",
       "<style scoped>\n",
       "    .dataframe tbody tr th:only-of-type {\n",
       "        vertical-align: middle;\n",
       "    }\n",
       "\n",
       "    .dataframe tbody tr th {\n",
       "        vertical-align: top;\n",
       "    }\n",
       "\n",
       "    .dataframe thead th {\n",
       "        text-align: right;\n",
       "    }\n",
       "</style>\n",
       "<table border=\"1\" class=\"dataframe\">\n",
       "  <thead>\n",
       "    <tr style=\"text-align: right;\">\n",
       "      <th></th>\n",
       "      <th>cant_productos</th>\n",
       "      <th>cant_PF</th>\n",
       "      <th>cant_TC</th>\n",
       "      <th>cant_PP</th>\n",
       "      <th>cant_seguros</th>\n",
       "      <th>importe_consumos</th>\n",
       "      <th>Edad</th>\n",
       "      <th>SaldoPromedioCAPesos</th>\n",
       "      <th>SaldoPromedioCADolares</th>\n",
       "      <th>SaldoPromedioCCAcreedor</th>\n",
       "      <th>...</th>\n",
       "      <th>SaldoPromedioCCAcreedor_min</th>\n",
       "      <th>SaldoPromedioCCAcreedor_max</th>\n",
       "      <th>SaldoPromedioCCAcreedor_TasaNew</th>\n",
       "      <th>SaldoPromedioCCAcreedor_TasaOld</th>\n",
       "      <th>TotalConsumoTD_mean</th>\n",
       "      <th>TotalConsumoTD_std</th>\n",
       "      <th>TotalConsumoTD_min</th>\n",
       "      <th>TotalConsumoTD_max</th>\n",
       "      <th>TotalConsumoTD_TasaNew</th>\n",
       "      <th>TotalConsumoTD_TasaOld</th>\n",
       "    </tr>\n",
       "  </thead>\n",
       "  <tbody>\n",
       "    <tr>\n",
       "      <th>200526</th>\n",
       "      <td>1.0</td>\n",
       "      <td>0.0</td>\n",
       "      <td>0.0</td>\n",
       "      <td>0</td>\n",
       "      <td>0</td>\n",
       "      <td>0</td>\n",
       "      <td>22</td>\n",
       "      <td>28566.12</td>\n",
       "      <td>0.0</td>\n",
       "      <td>0.0</td>\n",
       "      <td>...</td>\n",
       "      <td>0.0</td>\n",
       "      <td>0.0</td>\n",
       "      <td>0.0</td>\n",
       "      <td>0.0</td>\n",
       "      <td>17007.500000</td>\n",
       "      <td>5993.762166</td>\n",
       "      <td>10089.00</td>\n",
       "      <td>20627.85</td>\n",
       "      <td>0.984380</td>\n",
       "      <td>2.012652</td>\n",
       "    </tr>\n",
       "    <tr>\n",
       "      <th>372284</th>\n",
       "      <td>2.0</td>\n",
       "      <td>0.0</td>\n",
       "      <td>1.0</td>\n",
       "      <td>0</td>\n",
       "      <td>0</td>\n",
       "      <td>0</td>\n",
       "      <td>37</td>\n",
       "      <td>3749.12</td>\n",
       "      <td>0.0</td>\n",
       "      <td>0.0</td>\n",
       "      <td>...</td>\n",
       "      <td>0.0</td>\n",
       "      <td>0.0</td>\n",
       "      <td>0.0</td>\n",
       "      <td>0.0</td>\n",
       "      <td>1584.753333</td>\n",
       "      <td>1716.786312</td>\n",
       "      <td>520.00</td>\n",
       "      <td>3565.26</td>\n",
       "      <td>1.286538</td>\n",
       "      <td>0.187644</td>\n",
       "    </tr>\n",
       "    <tr>\n",
       "      <th>116398</th>\n",
       "      <td>3.0</td>\n",
       "      <td>0.0</td>\n",
       "      <td>1.0</td>\n",
       "      <td>0</td>\n",
       "      <td>0</td>\n",
       "      <td>0</td>\n",
       "      <td>40</td>\n",
       "      <td>1122.42</td>\n",
       "      <td>0.0</td>\n",
       "      <td>0.0</td>\n",
       "      <td>...</td>\n",
       "      <td>0.0</td>\n",
       "      <td>0.0</td>\n",
       "      <td>0.0</td>\n",
       "      <td>0.0</td>\n",
       "      <td>0.000000</td>\n",
       "      <td>0.000000</td>\n",
       "      <td>0.00</td>\n",
       "      <td>0.00</td>\n",
       "      <td>0.000000</td>\n",
       "      <td>0.000000</td>\n",
       "    </tr>\n",
       "    <tr>\n",
       "      <th>97787</th>\n",
       "      <td>2.0</td>\n",
       "      <td>0.0</td>\n",
       "      <td>1.0</td>\n",
       "      <td>0</td>\n",
       "      <td>0</td>\n",
       "      <td>0</td>\n",
       "      <td>44</td>\n",
       "      <td>241.75</td>\n",
       "      <td>0.0</td>\n",
       "      <td>0.0</td>\n",
       "      <td>...</td>\n",
       "      <td>0.0</td>\n",
       "      <td>0.0</td>\n",
       "      <td>0.0</td>\n",
       "      <td>0.0</td>\n",
       "      <td>0.000000</td>\n",
       "      <td>0.000000</td>\n",
       "      <td>0.00</td>\n",
       "      <td>0.00</td>\n",
       "      <td>0.000000</td>\n",
       "      <td>0.000000</td>\n",
       "    </tr>\n",
       "    <tr>\n",
       "      <th>399059</th>\n",
       "      <td>2.0</td>\n",
       "      <td>0.0</td>\n",
       "      <td>2.0</td>\n",
       "      <td>0</td>\n",
       "      <td>0</td>\n",
       "      <td>0</td>\n",
       "      <td>32</td>\n",
       "      <td>0.00</td>\n",
       "      <td>0.0</td>\n",
       "      <td>0.0</td>\n",
       "      <td>...</td>\n",
       "      <td>0.0</td>\n",
       "      <td>0.0</td>\n",
       "      <td>0.0</td>\n",
       "      <td>0.0</td>\n",
       "      <td>0.000000</td>\n",
       "      <td>0.000000</td>\n",
       "      <td>0.00</td>\n",
       "      <td>0.00</td>\n",
       "      <td>0.000000</td>\n",
       "      <td>0.000000</td>\n",
       "    </tr>\n",
       "    <tr>\n",
       "      <th>...</th>\n",
       "      <td>...</td>\n",
       "      <td>...</td>\n",
       "      <td>...</td>\n",
       "      <td>...</td>\n",
       "      <td>...</td>\n",
       "      <td>...</td>\n",
       "      <td>...</td>\n",
       "      <td>...</td>\n",
       "      <td>...</td>\n",
       "      <td>...</td>\n",
       "      <td>...</td>\n",
       "      <td>...</td>\n",
       "      <td>...</td>\n",
       "      <td>...</td>\n",
       "      <td>...</td>\n",
       "      <td>...</td>\n",
       "      <td>...</td>\n",
       "      <td>...</td>\n",
       "      <td>...</td>\n",
       "      <td>...</td>\n",
       "      <td>...</td>\n",
       "    </tr>\n",
       "    <tr>\n",
       "      <th>337089</th>\n",
       "      <td>4.0</td>\n",
       "      <td>0.0</td>\n",
       "      <td>2.0</td>\n",
       "      <td>0</td>\n",
       "      <td>1</td>\n",
       "      <td>0</td>\n",
       "      <td>43</td>\n",
       "      <td>2546.65</td>\n",
       "      <td>0.0</td>\n",
       "      <td>0.0</td>\n",
       "      <td>...</td>\n",
       "      <td>0.0</td>\n",
       "      <td>0.0</td>\n",
       "      <td>0.0</td>\n",
       "      <td>0.0</td>\n",
       "      <td>110.000000</td>\n",
       "      <td>190.525589</td>\n",
       "      <td>0.00</td>\n",
       "      <td>330.00</td>\n",
       "      <td>0.000000</td>\n",
       "      <td>0.000000</td>\n",
       "    </tr>\n",
       "    <tr>\n",
       "      <th>204561</th>\n",
       "      <td>1.0</td>\n",
       "      <td>0.0</td>\n",
       "      <td>0.0</td>\n",
       "      <td>0</td>\n",
       "      <td>1</td>\n",
       "      <td>0</td>\n",
       "      <td>84</td>\n",
       "      <td>45501.21</td>\n",
       "      <td>0.0</td>\n",
       "      <td>0.0</td>\n",
       "      <td>...</td>\n",
       "      <td>0.0</td>\n",
       "      <td>0.0</td>\n",
       "      <td>0.0</td>\n",
       "      <td>0.0</td>\n",
       "      <td>0.000000</td>\n",
       "      <td>0.000000</td>\n",
       "      <td>0.00</td>\n",
       "      <td>0.00</td>\n",
       "      <td>0.000000</td>\n",
       "      <td>0.000000</td>\n",
       "    </tr>\n",
       "    <tr>\n",
       "      <th>147299</th>\n",
       "      <td>4.0</td>\n",
       "      <td>0.0</td>\n",
       "      <td>1.0</td>\n",
       "      <td>0</td>\n",
       "      <td>0</td>\n",
       "      <td>0</td>\n",
       "      <td>35</td>\n",
       "      <td>10956.00</td>\n",
       "      <td>0.0</td>\n",
       "      <td>0.0</td>\n",
       "      <td>...</td>\n",
       "      <td>0.0</td>\n",
       "      <td>0.0</td>\n",
       "      <td>0.0</td>\n",
       "      <td>0.0</td>\n",
       "      <td>5363.033333</td>\n",
       "      <td>4197.616224</td>\n",
       "      <td>2005.29</td>\n",
       "      <td>10069.14</td>\n",
       "      <td>5.021289</td>\n",
       "      <td>2.508087</td>\n",
       "    </tr>\n",
       "    <tr>\n",
       "      <th>458875</th>\n",
       "      <td>5.0</td>\n",
       "      <td>0.0</td>\n",
       "      <td>3.0</td>\n",
       "      <td>1</td>\n",
       "      <td>1</td>\n",
       "      <td>0</td>\n",
       "      <td>80</td>\n",
       "      <td>118883.90</td>\n",
       "      <td>0.0</td>\n",
       "      <td>0.0</td>\n",
       "      <td>...</td>\n",
       "      <td>0.0</td>\n",
       "      <td>0.0</td>\n",
       "      <td>0.0</td>\n",
       "      <td>0.0</td>\n",
       "      <td>0.000000</td>\n",
       "      <td>0.000000</td>\n",
       "      <td>0.00</td>\n",
       "      <td>0.00</td>\n",
       "      <td>0.000000</td>\n",
       "      <td>0.000000</td>\n",
       "    </tr>\n",
       "    <tr>\n",
       "      <th>386796</th>\n",
       "      <td>4.0</td>\n",
       "      <td>0.0</td>\n",
       "      <td>2.0</td>\n",
       "      <td>0</td>\n",
       "      <td>1</td>\n",
       "      <td>0</td>\n",
       "      <td>35</td>\n",
       "      <td>3520.65</td>\n",
       "      <td>0.0</td>\n",
       "      <td>0.0</td>\n",
       "      <td>...</td>\n",
       "      <td>0.0</td>\n",
       "      <td>0.0</td>\n",
       "      <td>0.0</td>\n",
       "      <td>0.0</td>\n",
       "      <td>14095.740000</td>\n",
       "      <td>8331.768104</td>\n",
       "      <td>8037.32</td>\n",
       "      <td>23597.20</td>\n",
       "      <td>1.325404</td>\n",
       "      <td>0.451439</td>\n",
       "    </tr>\n",
       "  </tbody>\n",
       "</table>\n",
       "<p>308134 rows × 80 columns</p>\n",
       "</div>"
      ],
      "text/plain": [
       "        cant_productos  cant_PF  cant_TC  cant_PP  cant_seguros  \\\n",
       "200526             1.0      0.0      0.0        0             0   \n",
       "372284             2.0      0.0      1.0        0             0   \n",
       "116398             3.0      0.0      1.0        0             0   \n",
       "97787              2.0      0.0      1.0        0             0   \n",
       "399059             2.0      0.0      2.0        0             0   \n",
       "...                ...      ...      ...      ...           ...   \n",
       "337089             4.0      0.0      2.0        0             1   \n",
       "204561             1.0      0.0      0.0        0             1   \n",
       "147299             4.0      0.0      1.0        0             0   \n",
       "458875             5.0      0.0      3.0        1             1   \n",
       "386796             4.0      0.0      2.0        0             1   \n",
       "\n",
       "        importe_consumos  Edad  SaldoPromedioCAPesos  SaldoPromedioCADolares  \\\n",
       "200526                 0    22              28566.12                     0.0   \n",
       "372284                 0    37               3749.12                     0.0   \n",
       "116398                 0    40               1122.42                     0.0   \n",
       "97787                  0    44                241.75                     0.0   \n",
       "399059                 0    32                  0.00                     0.0   \n",
       "...                  ...   ...                   ...                     ...   \n",
       "337089                 0    43               2546.65                     0.0   \n",
       "204561                 0    84              45501.21                     0.0   \n",
       "147299                 0    35              10956.00                     0.0   \n",
       "458875                 0    80             118883.90                     0.0   \n",
       "386796                 0    35               3520.65                     0.0   \n",
       "\n",
       "        SaldoPromedioCCAcreedor  ...  SaldoPromedioCCAcreedor_min  \\\n",
       "200526                      0.0  ...                          0.0   \n",
       "372284                      0.0  ...                          0.0   \n",
       "116398                      0.0  ...                          0.0   \n",
       "97787                       0.0  ...                          0.0   \n",
       "399059                      0.0  ...                          0.0   \n",
       "...                         ...  ...                          ...   \n",
       "337089                      0.0  ...                          0.0   \n",
       "204561                      0.0  ...                          0.0   \n",
       "147299                      0.0  ...                          0.0   \n",
       "458875                      0.0  ...                          0.0   \n",
       "386796                      0.0  ...                          0.0   \n",
       "\n",
       "        SaldoPromedioCCAcreedor_max  SaldoPromedioCCAcreedor_TasaNew  \\\n",
       "200526                          0.0                              0.0   \n",
       "372284                          0.0                              0.0   \n",
       "116398                          0.0                              0.0   \n",
       "97787                           0.0                              0.0   \n",
       "399059                          0.0                              0.0   \n",
       "...                             ...                              ...   \n",
       "337089                          0.0                              0.0   \n",
       "204561                          0.0                              0.0   \n",
       "147299                          0.0                              0.0   \n",
       "458875                          0.0                              0.0   \n",
       "386796                          0.0                              0.0   \n",
       "\n",
       "        SaldoPromedioCCAcreedor_TasaOld  TotalConsumoTD_mean  \\\n",
       "200526                              0.0         17007.500000   \n",
       "372284                              0.0          1584.753333   \n",
       "116398                              0.0             0.000000   \n",
       "97787                               0.0             0.000000   \n",
       "399059                              0.0             0.000000   \n",
       "...                                 ...                  ...   \n",
       "337089                              0.0           110.000000   \n",
       "204561                              0.0             0.000000   \n",
       "147299                              0.0          5363.033333   \n",
       "458875                              0.0             0.000000   \n",
       "386796                              0.0         14095.740000   \n",
       "\n",
       "        TotalConsumoTD_std  TotalConsumoTD_min  TotalConsumoTD_max  \\\n",
       "200526         5993.762166            10089.00            20627.85   \n",
       "372284         1716.786312              520.00             3565.26   \n",
       "116398            0.000000                0.00                0.00   \n",
       "97787             0.000000                0.00                0.00   \n",
       "399059            0.000000                0.00                0.00   \n",
       "...                    ...                 ...                 ...   \n",
       "337089          190.525589                0.00              330.00   \n",
       "204561            0.000000                0.00                0.00   \n",
       "147299         4197.616224             2005.29            10069.14   \n",
       "458875            0.000000                0.00                0.00   \n",
       "386796         8331.768104             8037.32            23597.20   \n",
       "\n",
       "        TotalConsumoTD_TasaNew  TotalConsumoTD_TasaOld  \n",
       "200526                0.984380                2.012652  \n",
       "372284                1.286538                0.187644  \n",
       "116398                0.000000                0.000000  \n",
       "97787                 0.000000                0.000000  \n",
       "399059                0.000000                0.000000  \n",
       "...                        ...                     ...  \n",
       "337089                0.000000                0.000000  \n",
       "204561                0.000000                0.000000  \n",
       "147299                5.021289                2.508087  \n",
       "458875                0.000000                0.000000  \n",
       "386796                1.325404                0.451439  \n",
       "\n",
       "[308134 rows x 80 columns]"
      ]
     },
     "execution_count": 124,
     "metadata": {},
     "output_type": "execute_result"
    }
   ],
   "source": [
    "X_train"
   ]
  },
  {
   "cell_type": "code",
   "execution_count": 125,
   "metadata": {},
   "outputs": [
    {
     "data": {
      "text/html": [
       "<div>\n",
       "<style scoped>\n",
       "    .dataframe tbody tr th:only-of-type {\n",
       "        vertical-align: middle;\n",
       "    }\n",
       "\n",
       "    .dataframe tbody tr th {\n",
       "        vertical-align: top;\n",
       "    }\n",
       "\n",
       "    .dataframe thead th {\n",
       "        text-align: right;\n",
       "    }\n",
       "</style>\n",
       "<table border=\"1\" class=\"dataframe\">\n",
       "  <thead>\n",
       "    <tr style=\"text-align: right;\">\n",
       "      <th></th>\n",
       "      <th>cant_productos</th>\n",
       "      <th>cant_PF</th>\n",
       "      <th>cant_TC</th>\n",
       "      <th>cant_PP</th>\n",
       "      <th>cant_seguros</th>\n",
       "      <th>importe_consumos</th>\n",
       "      <th>Edad</th>\n",
       "      <th>SaldoPromedioCAPesos</th>\n",
       "      <th>SaldoPromedioCADolares</th>\n",
       "      <th>SaldoPromedioCCAcreedor</th>\n",
       "      <th>...</th>\n",
       "      <th>SaldoPromedioCCAcreedor_min</th>\n",
       "      <th>SaldoPromedioCCAcreedor_max</th>\n",
       "      <th>SaldoPromedioCCAcreedor_TasaNew</th>\n",
       "      <th>SaldoPromedioCCAcreedor_TasaOld</th>\n",
       "      <th>TotalConsumoTD_mean</th>\n",
       "      <th>TotalConsumoTD_std</th>\n",
       "      <th>TotalConsumoTD_min</th>\n",
       "      <th>TotalConsumoTD_max</th>\n",
       "      <th>TotalConsumoTD_TasaNew</th>\n",
       "      <th>TotalConsumoTD_TasaOld</th>\n",
       "    </tr>\n",
       "  </thead>\n",
       "  <tbody>\n",
       "    <tr>\n",
       "      <th>478232</th>\n",
       "      <td>4.0</td>\n",
       "      <td>0.0</td>\n",
       "      <td>2.0</td>\n",
       "      <td>0</td>\n",
       "      <td>0</td>\n",
       "      <td>0</td>\n",
       "      <td>38</td>\n",
       "      <td>6905.84</td>\n",
       "      <td>1.68</td>\n",
       "      <td>0.0</td>\n",
       "      <td>...</td>\n",
       "      <td>0.0</td>\n",
       "      <td>0.0</td>\n",
       "      <td>0.0</td>\n",
       "      <td>0.0</td>\n",
       "      <td>0.000000</td>\n",
       "      <td>0.000000</td>\n",
       "      <td>0.00</td>\n",
       "      <td>0.00</td>\n",
       "      <td>0.000000</td>\n",
       "      <td>0.000000</td>\n",
       "    </tr>\n",
       "    <tr>\n",
       "      <th>209255</th>\n",
       "      <td>2.0</td>\n",
       "      <td>0.0</td>\n",
       "      <td>0.0</td>\n",
       "      <td>0</td>\n",
       "      <td>0</td>\n",
       "      <td>0</td>\n",
       "      <td>75</td>\n",
       "      <td>62937.10</td>\n",
       "      <td>74.49</td>\n",
       "      <td>0.0</td>\n",
       "      <td>...</td>\n",
       "      <td>0.0</td>\n",
       "      <td>0.0</td>\n",
       "      <td>0.0</td>\n",
       "      <td>0.0</td>\n",
       "      <td>6915.633333</td>\n",
       "      <td>2399.003090</td>\n",
       "      <td>4183.86</td>\n",
       "      <td>8679.36</td>\n",
       "      <td>2.074486</td>\n",
       "      <td>1.100927</td>\n",
       "    </tr>\n",
       "    <tr>\n",
       "      <th>319552</th>\n",
       "      <td>5.0</td>\n",
       "      <td>0.0</td>\n",
       "      <td>4.0</td>\n",
       "      <td>0</td>\n",
       "      <td>0</td>\n",
       "      <td>0</td>\n",
       "      <td>48</td>\n",
       "      <td>27663.63</td>\n",
       "      <td>0.00</td>\n",
       "      <td>0.0</td>\n",
       "      <td>...</td>\n",
       "      <td>0.0</td>\n",
       "      <td>0.0</td>\n",
       "      <td>0.0</td>\n",
       "      <td>0.0</td>\n",
       "      <td>10333.396667</td>\n",
       "      <td>1122.843812</td>\n",
       "      <td>9170.56</td>\n",
       "      <td>11411.44</td>\n",
       "      <td>1.244356</td>\n",
       "      <td>1.095338</td>\n",
       "    </tr>\n",
       "    <tr>\n",
       "      <th>152910</th>\n",
       "      <td>3.0</td>\n",
       "      <td>0.0</td>\n",
       "      <td>1.0</td>\n",
       "      <td>1</td>\n",
       "      <td>0</td>\n",
       "      <td>0</td>\n",
       "      <td>34</td>\n",
       "      <td>8836.43</td>\n",
       "      <td>0.00</td>\n",
       "      <td>0.0</td>\n",
       "      <td>...</td>\n",
       "      <td>0.0</td>\n",
       "      <td>0.0</td>\n",
       "      <td>0.0</td>\n",
       "      <td>0.0</td>\n",
       "      <td>33462.646667</td>\n",
       "      <td>14872.569651</td>\n",
       "      <td>17467.33</td>\n",
       "      <td>46873.78</td>\n",
       "      <td>0.484573</td>\n",
       "      <td>0.372646</td>\n",
       "    </tr>\n",
       "    <tr>\n",
       "      <th>18614</th>\n",
       "      <td>3.0</td>\n",
       "      <td>0.0</td>\n",
       "      <td>1.0</td>\n",
       "      <td>0</td>\n",
       "      <td>0</td>\n",
       "      <td>0</td>\n",
       "      <td>63</td>\n",
       "      <td>22271.57</td>\n",
       "      <td>0.00</td>\n",
       "      <td>0.0</td>\n",
       "      <td>...</td>\n",
       "      <td>0.0</td>\n",
       "      <td>0.0</td>\n",
       "      <td>0.0</td>\n",
       "      <td>0.0</td>\n",
       "      <td>22492.570000</td>\n",
       "      <td>11472.876336</td>\n",
       "      <td>9293.51</td>\n",
       "      <td>30074.70</td>\n",
       "      <td>1.069912</td>\n",
       "      <td>3.236097</td>\n",
       "    </tr>\n",
       "    <tr>\n",
       "      <th>...</th>\n",
       "      <td>...</td>\n",
       "      <td>...</td>\n",
       "      <td>...</td>\n",
       "      <td>...</td>\n",
       "      <td>...</td>\n",
       "      <td>...</td>\n",
       "      <td>...</td>\n",
       "      <td>...</td>\n",
       "      <td>...</td>\n",
       "      <td>...</td>\n",
       "      <td>...</td>\n",
       "      <td>...</td>\n",
       "      <td>...</td>\n",
       "      <td>...</td>\n",
       "      <td>...</td>\n",
       "      <td>...</td>\n",
       "      <td>...</td>\n",
       "      <td>...</td>\n",
       "      <td>...</td>\n",
       "      <td>...</td>\n",
       "      <td>...</td>\n",
       "    </tr>\n",
       "    <tr>\n",
       "      <th>44767</th>\n",
       "      <td>3.0</td>\n",
       "      <td>0.0</td>\n",
       "      <td>2.0</td>\n",
       "      <td>0</td>\n",
       "      <td>1</td>\n",
       "      <td>0</td>\n",
       "      <td>54</td>\n",
       "      <td>6042.09</td>\n",
       "      <td>0.00</td>\n",
       "      <td>0.0</td>\n",
       "      <td>...</td>\n",
       "      <td>0.0</td>\n",
       "      <td>0.0</td>\n",
       "      <td>0.0</td>\n",
       "      <td>0.0</td>\n",
       "      <td>0.000000</td>\n",
       "      <td>0.000000</td>\n",
       "      <td>0.00</td>\n",
       "      <td>0.00</td>\n",
       "      <td>0.000000</td>\n",
       "      <td>0.000000</td>\n",
       "    </tr>\n",
       "    <tr>\n",
       "      <th>89142</th>\n",
       "      <td>7.0</td>\n",
       "      <td>0.0</td>\n",
       "      <td>2.0</td>\n",
       "      <td>3</td>\n",
       "      <td>1</td>\n",
       "      <td>0</td>\n",
       "      <td>45</td>\n",
       "      <td>3527.49</td>\n",
       "      <td>0.00</td>\n",
       "      <td>0.0</td>\n",
       "      <td>...</td>\n",
       "      <td>0.0</td>\n",
       "      <td>0.0</td>\n",
       "      <td>0.0</td>\n",
       "      <td>0.0</td>\n",
       "      <td>0.000000</td>\n",
       "      <td>0.000000</td>\n",
       "      <td>0.00</td>\n",
       "      <td>0.00</td>\n",
       "      <td>0.000000</td>\n",
       "      <td>0.000000</td>\n",
       "    </tr>\n",
       "    <tr>\n",
       "      <th>192028</th>\n",
       "      <td>2.0</td>\n",
       "      <td>0.0</td>\n",
       "      <td>1.0</td>\n",
       "      <td>0</td>\n",
       "      <td>0</td>\n",
       "      <td>0</td>\n",
       "      <td>26</td>\n",
       "      <td>5605.73</td>\n",
       "      <td>0.00</td>\n",
       "      <td>0.0</td>\n",
       "      <td>...</td>\n",
       "      <td>0.0</td>\n",
       "      <td>0.0</td>\n",
       "      <td>0.0</td>\n",
       "      <td>0.0</td>\n",
       "      <td>4688.860000</td>\n",
       "      <td>1897.093923</td>\n",
       "      <td>2590.00</td>\n",
       "      <td>6281.48</td>\n",
       "      <td>0.498547</td>\n",
       "      <td>0.412323</td>\n",
       "    </tr>\n",
       "    <tr>\n",
       "      <th>25667</th>\n",
       "      <td>1.0</td>\n",
       "      <td>0.0</td>\n",
       "      <td>0.0</td>\n",
       "      <td>0</td>\n",
       "      <td>1</td>\n",
       "      <td>0</td>\n",
       "      <td>60</td>\n",
       "      <td>6393.15</td>\n",
       "      <td>0.00</td>\n",
       "      <td>0.0</td>\n",
       "      <td>...</td>\n",
       "      <td>0.0</td>\n",
       "      <td>0.0</td>\n",
       "      <td>0.0</td>\n",
       "      <td>0.0</td>\n",
       "      <td>1216.883333</td>\n",
       "      <td>615.146886</td>\n",
       "      <td>766.00</td>\n",
       "      <td>1917.65</td>\n",
       "      <td>1.262402</td>\n",
       "      <td>0.504263</td>\n",
       "    </tr>\n",
       "    <tr>\n",
       "      <th>273508</th>\n",
       "      <td>3.0</td>\n",
       "      <td>0.0</td>\n",
       "      <td>2.0</td>\n",
       "      <td>0</td>\n",
       "      <td>0</td>\n",
       "      <td>0</td>\n",
       "      <td>60</td>\n",
       "      <td>130.04</td>\n",
       "      <td>0.00</td>\n",
       "      <td>0.0</td>\n",
       "      <td>...</td>\n",
       "      <td>0.0</td>\n",
       "      <td>0.0</td>\n",
       "      <td>0.0</td>\n",
       "      <td>0.0</td>\n",
       "      <td>0.000000</td>\n",
       "      <td>0.000000</td>\n",
       "      <td>0.00</td>\n",
       "      <td>0.00</td>\n",
       "      <td>0.000000</td>\n",
       "      <td>0.000000</td>\n",
       "    </tr>\n",
       "  </tbody>\n",
       "</table>\n",
       "<p>102712 rows × 80 columns</p>\n",
       "</div>"
      ],
      "text/plain": [
       "        cant_productos  cant_PF  cant_TC  cant_PP  cant_seguros  \\\n",
       "478232             4.0      0.0      2.0        0             0   \n",
       "209255             2.0      0.0      0.0        0             0   \n",
       "319552             5.0      0.0      4.0        0             0   \n",
       "152910             3.0      0.0      1.0        1             0   \n",
       "18614              3.0      0.0      1.0        0             0   \n",
       "...                ...      ...      ...      ...           ...   \n",
       "44767              3.0      0.0      2.0        0             1   \n",
       "89142              7.0      0.0      2.0        3             1   \n",
       "192028             2.0      0.0      1.0        0             0   \n",
       "25667              1.0      0.0      0.0        0             1   \n",
       "273508             3.0      0.0      2.0        0             0   \n",
       "\n",
       "        importe_consumos  Edad  SaldoPromedioCAPesos  SaldoPromedioCADolares  \\\n",
       "478232                 0    38               6905.84                    1.68   \n",
       "209255                 0    75              62937.10                   74.49   \n",
       "319552                 0    48              27663.63                    0.00   \n",
       "152910                 0    34               8836.43                    0.00   \n",
       "18614                  0    63              22271.57                    0.00   \n",
       "...                  ...   ...                   ...                     ...   \n",
       "44767                  0    54               6042.09                    0.00   \n",
       "89142                  0    45               3527.49                    0.00   \n",
       "192028                 0    26               5605.73                    0.00   \n",
       "25667                  0    60               6393.15                    0.00   \n",
       "273508                 0    60                130.04                    0.00   \n",
       "\n",
       "        SaldoPromedioCCAcreedor  ...  SaldoPromedioCCAcreedor_min  \\\n",
       "478232                      0.0  ...                          0.0   \n",
       "209255                      0.0  ...                          0.0   \n",
       "319552                      0.0  ...                          0.0   \n",
       "152910                      0.0  ...                          0.0   \n",
       "18614                       0.0  ...                          0.0   \n",
       "...                         ...  ...                          ...   \n",
       "44767                       0.0  ...                          0.0   \n",
       "89142                       0.0  ...                          0.0   \n",
       "192028                      0.0  ...                          0.0   \n",
       "25667                       0.0  ...                          0.0   \n",
       "273508                      0.0  ...                          0.0   \n",
       "\n",
       "        SaldoPromedioCCAcreedor_max  SaldoPromedioCCAcreedor_TasaNew  \\\n",
       "478232                          0.0                              0.0   \n",
       "209255                          0.0                              0.0   \n",
       "319552                          0.0                              0.0   \n",
       "152910                          0.0                              0.0   \n",
       "18614                           0.0                              0.0   \n",
       "...                             ...                              ...   \n",
       "44767                           0.0                              0.0   \n",
       "89142                           0.0                              0.0   \n",
       "192028                          0.0                              0.0   \n",
       "25667                           0.0                              0.0   \n",
       "273508                          0.0                              0.0   \n",
       "\n",
       "        SaldoPromedioCCAcreedor_TasaOld  TotalConsumoTD_mean  \\\n",
       "478232                              0.0             0.000000   \n",
       "209255                              0.0          6915.633333   \n",
       "319552                              0.0         10333.396667   \n",
       "152910                              0.0         33462.646667   \n",
       "18614                               0.0         22492.570000   \n",
       "...                                 ...                  ...   \n",
       "44767                               0.0             0.000000   \n",
       "89142                               0.0             0.000000   \n",
       "192028                              0.0          4688.860000   \n",
       "25667                               0.0          1216.883333   \n",
       "273508                              0.0             0.000000   \n",
       "\n",
       "        TotalConsumoTD_std  TotalConsumoTD_min  TotalConsumoTD_max  \\\n",
       "478232            0.000000                0.00                0.00   \n",
       "209255         2399.003090             4183.86             8679.36   \n",
       "319552         1122.843812             9170.56            11411.44   \n",
       "152910        14872.569651            17467.33            46873.78   \n",
       "18614         11472.876336             9293.51            30074.70   \n",
       "...                    ...                 ...                 ...   \n",
       "44767             0.000000                0.00                0.00   \n",
       "89142             0.000000                0.00                0.00   \n",
       "192028         1897.093923             2590.00             6281.48   \n",
       "25667           615.146886              766.00             1917.65   \n",
       "273508            0.000000                0.00                0.00   \n",
       "\n",
       "        TotalConsumoTD_TasaNew  TotalConsumoTD_TasaOld  \n",
       "478232                0.000000                0.000000  \n",
       "209255                2.074486                1.100927  \n",
       "319552                1.244356                1.095338  \n",
       "152910                0.484573                0.372646  \n",
       "18614                 1.069912                3.236097  \n",
       "...                        ...                     ...  \n",
       "44767                 0.000000                0.000000  \n",
       "89142                 0.000000                0.000000  \n",
       "192028                0.498547                0.412323  \n",
       "25667                 1.262402                0.504263  \n",
       "273508                0.000000                0.000000  \n",
       "\n",
       "[102712 rows x 80 columns]"
      ]
     },
     "execution_count": 125,
     "metadata": {},
     "output_type": "execute_result"
    }
   ],
   "source": [
    "X_test"
   ]
  },
  {
   "cell_type": "markdown",
   "metadata": {},
   "source": [
    "Podemos observar que como separamos la variable X en train y test, la suma de registros de X_train y X_test \n",
    "dara la cantidad de registros de X. En el caso de la variable y ocurriria exactamente igual.\n",
    "\n",
    "A su vez, X_train tendra la misma cantidad de registros o filas que y_train, y X_test la misma que y_test."
   ]
  },
  {
   "cell_type": "markdown",
   "metadata": {},
   "source": [
    "### MODELO XGBOOST"
   ]
  },
  {
   "cell_type": "code",
   "execution_count": 126,
   "metadata": {},
   "outputs": [
    {
     "name": "stdout",
     "output_type": "stream",
     "text": [
      "Requirement already satisfied: xgboost in c:\\programdata\\anaconda3\\lib\\site-packages (1.0.2)\n",
      "Requirement already satisfied: numpy in c:\\programdata\\anaconda3\\lib\\site-packages (from xgboost) (1.18.1)\n",
      "Requirement already satisfied: scipy in c:\\programdata\\anaconda3\\lib\\site-packages (from xgboost) (1.4.1)\n"
     ]
    }
   ],
   "source": [
    "#utilizaremos xgboost como modelo predictivo\n",
    "!pip install xgboost"
   ]
  },
  {
   "cell_type": "code",
   "execution_count": 127,
   "metadata": {},
   "outputs": [],
   "source": [
    "#### Imports para entrenamiento, predicción y evaluación del modelo ####\n",
    "#### NO QUITAR ####\n",
    "import xgboost as xgb\n",
    "from sklearn.metrics import classification_report, confusion_matrix\n",
    "#estas herramientas nos permiten calcular metricas del modelo "
   ]
  },
  {
   "cell_type": "code",
   "execution_count": 128,
   "metadata": {},
   "outputs": [],
   "source": [
    "#ahora nos quedamos con los valores de cada variable\n",
    "#values pasa de serie a array\n",
    "y = y.values\n",
    "X = X.values"
   ]
  },
  {
   "cell_type": "code",
   "execution_count": 129,
   "metadata": {},
   "outputs": [],
   "source": [
    "def train(X_train,y_train):\n",
    "    \"\"\"\n",
    "    Función para entrenar el modelo.\n",
    "    \n",
    "    Parameters\n",
    "    -----------\n",
    "    \n",
    "    X_train: pd.DataFrame\n",
    "        Dataset de Train, listo para entrenar y sin tag\n",
    "        \n",
    "    y_train: pd.DataFrame\n",
    "        Dataset de tag, es el tag correspondiente al dataset de train.\n",
    "        \n",
    "    Return\n",
    "    ----------\n",
    "    Modelo Entrenado.\n",
    "    \n",
    "    \"\"\"\n",
    "    xgb_model = xgb.XGBClassifier()\n",
    "    #instanciamos el clasificador xgb\n",
    "    \n",
    "    print(\"Comienza entrenamiento del modelo XGBoost\")\n",
    "\n",
    "    xgb_model.fit(X_train, y_train)\n",
    "    #el metodo fit llama al modelo matematico que entrenara el modelo \n",
    "    #xgb model ahora va a ser un modelo entrenado\n",
    "    \n",
    "    print(\"Entrenamiento finalizado\\n\")\n",
    "\n",
    "    print(\"Haciendo las predicciones\\n\\n\")\n",
    "\n",
    "    #con este modelo ya entrenado llamo al metodo predict\n",
    "    XGB_preds = xgb_model.predict(X_test)\n",
    "    #comparo mis predicciones con el valor real que tengo guardo en y_test \n",
    "    print(classification_report(y_test, XGB_preds))\n",
    "    print(confusion_matrix(y_test, XGB_preds))\n",
    "    return xgb_model"
   ]
  },
  {
   "cell_type": "code",
   "execution_count": 130,
   "metadata": {},
   "outputs": [],
   "source": [
    "def predict(data_to_predict, xgb_model):\n",
    "    \"\"\"Funcion para hacer el entrenamiento del modelo y guardarlo en un archivo .pkl\n",
    "\n",
    "    Parameters\n",
    "    -----------\n",
    "\n",
    "    data_to_predict : pd.DataFrame\n",
    "        DataFrame listo para predecir, con las mismas transformaciones que el de entrenamiento.\n",
    "        \n",
    "    xgb_model : xgb.XGBClassifier\n",
    "        Modelo entrenado de XGBoost\n",
    "\n",
    "    Return\n",
    "    -----------\n",
    "    Dataframe de 3 columnas, la identificacion del cliente, la prediccion de la clase y la probabilidad de que el cliente\n",
    "    permanezca en el servicio.\n",
    "\n",
    "\n",
    "    \"\"\"\n",
    "    print(\"\\n\\n-------------------------\")\n",
    "    print(\"Ingreso a la funcion de prediccion\\n\")\n",
    "\n",
    "    XGB_preds = xgb_model.predict_proba(X)\n",
    "    #si en vez de un predict proba hacemos un predict nos daria como resultado 0 y 1 directamente, redondeando\n",
    "    \n",
    "    return XGB_preds"
   ]
  },
  {
   "cell_type": "code",
   "execution_count": 131,
   "metadata": {},
   "outputs": [
    {
     "name": "stdout",
     "output_type": "stream",
     "text": [
      "Comienza entrenamiento del modelo XGBoost\n",
      "Entrenamiento finalizado\n",
      "\n",
      "Haciendo las predicciones\n",
      "\n",
      "\n",
      "              precision    recall  f1-score   support\n",
      "\n",
      "         0.0       0.67      0.94      0.78     66823\n",
      "         1.0       0.52      0.12      0.19     35889\n",
      "\n",
      "    accuracy                           0.65    102712\n",
      "   macro avg       0.59      0.53      0.49    102712\n",
      "weighted avg       0.62      0.65      0.57    102712\n",
      "\n",
      "[[62940  3883]\n",
      " [31649  4240]]\n"
     ]
    }
   ],
   "source": [
    "modelo = train(X_train, y_train)"
   ]
  },
  {
   "cell_type": "code",
   "execution_count": 123,
   "metadata": {},
   "outputs": [],
   "source": [
    "#vemos que la prediccion de este modelo es muy mala, muy baja, por lo cual procederemos a trabajar con otros modelos"
   ]
  },
  {
   "cell_type": "code",
   "execution_count": 132,
   "metadata": {},
   "outputs": [
    {
     "data": {
      "text/plain": [
       "<matplotlib.axes._subplots.AxesSubplot at 0x2130bab33c8>"
      ]
     },
     "execution_count": 132,
     "metadata": {},
     "output_type": "execute_result"
    },
    {
     "data": {
      "image/png": "[encoded data removed]",
      "text/plain": [
       "<Figure size 432x288 with 1 Axes>"
      ]
     },
     "metadata": {
      "needs_background": "light"
     },
     "output_type": "display_data"
    }
   ],
   "source": [
    "from xgboost import plot_importance\n",
    "plot_importance(modelo, )"
   ]
  },
  {
   "cell_type": "markdown",
   "metadata": {},
   "source": [
    "### Entrenamos el modelo  - MODELO DecisionTree"
   ]
  },
  {
   "cell_type": "code",
   "execution_count": 138,
   "metadata": {},
   "outputs": [],
   "source": [
    "#Nuestro tag estara dado por la columna target2, al que llamaremos y \n",
    "y = data['target2']"
   ]
  },
  {
   "cell_type": "code",
   "execution_count": 139,
   "metadata": {},
   "outputs": [],
   "source": [
    "#tendremos en cuenta solo las columnas numericas\n",
    "data = data.select_dtypes(include=['int64','float64'])"
   ]
  },
  {
   "cell_type": "code",
   "execution_count": 140,
   "metadata": {},
   "outputs": [
    {
     "data": {
      "text/plain": [
       "['cant_productos',\n",
       " 'cant_PF',\n",
       " 'cant_TC',\n",
       " 'cant_PP',\n",
       " 'cant_seguros',\n",
       " 'importe_consumos',\n",
       " 'Edad',\n",
       " 'SaldoPromedioCAPesos',\n",
       " 'SaldoPromedioCADolares',\n",
       " 'SaldoPromedioCCAcreedor',\n",
       " 'TotalConsumoTD',\n",
       " 'cuotas_faltantes_1',\n",
       " 'cant_PF_ant_1',\n",
       " 'cant_TC_ant_1',\n",
       " 'cant_PP_ant_1',\n",
       " 'SaldoPromedioCAPesos_ant_1',\n",
       " 'SaldoPromedioCADolares_ant_1',\n",
       " 'SaldoPromedioCCAcreedor_ant_1',\n",
       " 'importe_consumos_ant_1',\n",
       " 'TotalConsumoTD_ant_1',\n",
       " 'cuotas_faltantes',\n",
       " 'cant_PF_ant_2',\n",
       " 'cant_TC_ant_2',\n",
       " 'cant_PP_ant_2',\n",
       " 'SaldoPromedioCAPesos_ant_2',\n",
       " 'SaldoPromedioCADolares_ant_2',\n",
       " 'SaldoPromedioCCAcreedor_ant_2',\n",
       " 'importe_consumos_ant_2',\n",
       " 'TotalConsumoTD_ant_2',\n",
       " 'cuotas_faltantes_2',\n",
       " 'score_deuda',\n",
       " 'antiguedad',\n",
       " 'cant_PF_mean',\n",
       " 'cant_PF_std',\n",
       " 'cant_PF_min',\n",
       " 'cant_PF_max',\n",
       " 'cant_PF_TasaNew',\n",
       " 'cant_PF_TasaOld',\n",
       " 'cant_TC_mean',\n",
       " 'cant_TC_std',\n",
       " 'cant_TC_min',\n",
       " 'cant_TC_max',\n",
       " 'cant_TC_TasaNew',\n",
       " 'cant_TC_TasaOld',\n",
       " 'cant_PP_mean',\n",
       " 'cant_PP_std',\n",
       " 'cant_PP_min',\n",
       " 'cant_PP_max',\n",
       " 'cant_PP_TasaNew',\n",
       " 'cant_PP_TasaOld',\n",
       " 'importe_consumos_mean',\n",
       " 'importe_consumos_std',\n",
       " 'importe_consumos_min',\n",
       " 'importe_consumos_max',\n",
       " 'importe_consumos_TasaNew',\n",
       " 'importe_consumos_TasaOld',\n",
       " 'SaldoPromedioCAPesos_mean',\n",
       " 'SaldoPromedioCAPesos_std',\n",
       " 'SaldoPromedioCAPesos_min',\n",
       " 'SaldoPromedioCAPesos_max',\n",
       " 'SaldoPromedioCAPesos_TasaNew',\n",
       " 'SaldoPromedioCAPesos_TasaOld',\n",
       " 'SaldoPromedioCADolares_mean',\n",
       " 'SaldoPromedioCADolares_std',\n",
       " 'SaldoPromedioCADolares_min',\n",
       " 'SaldoPromedioCADolares_max',\n",
       " 'SaldoPromedioCADolares_TasaNew',\n",
       " 'SaldoPromedioCADolares_TasaOld',\n",
       " 'SaldoPromedioCCAcreedor_mean',\n",
       " 'SaldoPromedioCCAcreedor_std',\n",
       " 'SaldoPromedioCCAcreedor_min',\n",
       " 'SaldoPromedioCCAcreedor_max',\n",
       " 'SaldoPromedioCCAcreedor_TasaNew',\n",
       " 'SaldoPromedioCCAcreedor_TasaOld',\n",
       " 'TotalConsumoTD_mean',\n",
       " 'TotalConsumoTD_std',\n",
       " 'TotalConsumoTD_min',\n",
       " 'TotalConsumoTD_max',\n",
       " 'TotalConsumoTD_TasaNew',\n",
       " 'TotalConsumoTD_TasaOld']"
      ]
     },
     "execution_count": 140,
     "metadata": {},
     "output_type": "execute_result"
    }
   ],
   "source": [
    "columns = [col for col in data.columns if col not in ['target2']]\n",
    "columns"
   ]
  },
  {
   "cell_type": "code",
   "execution_count": 141,
   "metadata": {},
   "outputs": [],
   "source": [
    "X = data[columns]"
   ]
  },
  {
   "cell_type": "code",
   "execution_count": 142,
   "metadata": {},
   "outputs": [],
   "source": [
    "X_train,X_test,y_train,y_test = train_test_split(X,y)"
   ]
  },
  {
   "cell_type": "code",
   "execution_count": 143,
   "metadata": {},
   "outputs": [
    {
     "data": {
      "text/plain": [
       "(308134, 80)"
      ]
     },
     "execution_count": 143,
     "metadata": {},
     "output_type": "execute_result"
    }
   ],
   "source": [
    "X_train.shape"
   ]
  },
  {
   "cell_type": "code",
   "execution_count": 144,
   "metadata": {},
   "outputs": [
    {
     "data": {
      "text/plain": [
       "(308134,)"
      ]
     },
     "execution_count": 144,
     "metadata": {},
     "output_type": "execute_result"
    }
   ],
   "source": [
    "y_train.shape"
   ]
  },
  {
   "cell_type": "code",
   "execution_count": 145,
   "metadata": {},
   "outputs": [
    {
     "data": {
      "text/plain": [
       "(102712, 80)"
      ]
     },
     "execution_count": 145,
     "metadata": {},
     "output_type": "execute_result"
    }
   ],
   "source": [
    "X_test.shape"
   ]
  },
  {
   "cell_type": "code",
   "execution_count": 146,
   "metadata": {},
   "outputs": [
    {
     "data": {
      "text/plain": [
       "(102712,)"
      ]
     },
     "execution_count": 146,
     "metadata": {},
     "output_type": "execute_result"
    }
   ],
   "source": [
    "y_test.shape"
   ]
  },
  {
   "cell_type": "code",
   "execution_count": 147,
   "metadata": {},
   "outputs": [],
   "source": [
    "from sklearn.utils import resample"
   ]
  },
  {
   "cell_type": "code",
   "execution_count": 148,
   "metadata": {},
   "outputs": [
    {
     "data": {
      "text/plain": [
       "1.0    200739\n",
       "0.0    200739\n",
       "Name: target2, dtype: int64"
      ]
     },
     "execution_count": 148,
     "metadata": {},
     "output_type": "execute_result"
    }
   ],
   "source": [
    "#combine them back for resampling - upsampled\n",
    "train_data = pd.concat([X_train, y_train], axis=1)# separate minority and majority classes\n",
    "negative = train_data[train_data.target2==0]\n",
    "positive = train_data[train_data.target2==1]# upsample minority\n",
    "pos_upsampled = resample(positive,\n",
    "     replace=True, # sample with replacement\n",
    "     n_samples=len(negative), # match number in majority class\n",
    "     random_state=27) # reproducible results# combine majority and upsampled minority\n",
    "upsampled = pd.concat([negative, pos_upsampled])# check new class counts\n",
    "upsampled.target2.value_counts()"
   ]
  },
  {
   "cell_type": "code",
   "execution_count": 149,
   "metadata": {},
   "outputs": [],
   "source": [
    "X_train = upsampled.drop(columns='target2')"
   ]
  },
  {
   "cell_type": "code",
   "execution_count": 150,
   "metadata": {},
   "outputs": [],
   "source": [
    "y_train = upsampled['target2']"
   ]
  },
  {
   "cell_type": "code",
   "execution_count": 151,
   "metadata": {},
   "outputs": [],
   "source": [
    "from sklearn.model_selection import train_test_split\n",
    "from sklearn.model_selection import cross_val_score\n",
    "from sklearn.model_selection import GridSearchCV\n",
    "from sklearn.tree import DecisionTreeClassifier\n",
    "from sklearn.ensemble import RandomForestClassifier\n",
    "from sklearn.metrics import accuracy_score, precision_score, recall_score, f1_score, confusion_matrix, classification_report"
   ]
  },
  {
   "cell_type": "code",
   "execution_count": 152,
   "metadata": {},
   "outputs": [],
   "source": [
    "tree = DecisionTreeClassifier()\n"
   ]
  },
  {
   "cell_type": "code",
   "execution_count": 153,
   "metadata": {},
   "outputs": [
    {
     "data": {
      "text/plain": [
       "DecisionTreeClassifier(ccp_alpha=0.0, class_weight=None, criterion='gini',\n",
       "                       max_depth=None, max_features=None, max_leaf_nodes=None,\n",
       "                       min_impurity_decrease=0.0, min_impurity_split=None,\n",
       "                       min_samples_leaf=1, min_samples_split=2,\n",
       "                       min_weight_fraction_leaf=0.0, presort='deprecated',\n",
       "                       random_state=None, splitter='best')"
      ]
     },
     "execution_count": 153,
     "metadata": {},
     "output_type": "execute_result"
    }
   ],
   "source": [
    "tree.fit(X_train,y_train)"
   ]
  },
  {
   "cell_type": "code",
   "execution_count": 154,
   "metadata": {},
   "outputs": [],
   "source": [
    "preds = tree.predict(X_test)"
   ]
  },
  {
   "cell_type": "code",
   "execution_count": 155,
   "metadata": {},
   "outputs": [
    {
     "name": "stdout",
     "output_type": "stream",
     "text": [
      "              precision    recall  f1-score   support\n",
      "\n",
      "         0.0       0.68      0.70      0.69     66661\n",
      "         1.0       0.41      0.38      0.39     36051\n",
      "\n",
      "    accuracy                           0.59    102712\n",
      "   macro avg       0.54      0.54      0.54    102712\n",
      "weighted avg       0.58      0.59      0.59    102712\n",
      "\n"
     ]
    }
   ],
   "source": [
    "print(classification_report(y_test,preds))"
   ]
  },
  {
   "cell_type": "markdown",
   "metadata": {},
   "source": [
    "### MODELO RandomForest - modificando parametros"
   ]
  },
  {
   "cell_type": "code",
   "execution_count": 156,
   "metadata": {},
   "outputs": [],
   "source": [
    "rfc=RandomForestClassifier(n_estimators=100, max_depth=4, random_state=42)"
   ]
  },
  {
   "cell_type": "code",
   "execution_count": 157,
   "metadata": {},
   "outputs": [
    {
     "data": {
      "text/plain": [
       "RandomForestClassifier(bootstrap=True, ccp_alpha=0.0, class_weight=None,\n",
       "                       criterion='gini', max_depth=4, max_features='auto',\n",
       "                       max_leaf_nodes=None, max_samples=None,\n",
       "                       min_impurity_decrease=0.0, min_impurity_split=None,\n",
       "                       min_samples_leaf=1, min_samples_split=2,\n",
       "                       min_weight_fraction_leaf=0.0, n_estimators=100,\n",
       "                       n_jobs=None, oob_score=False, random_state=42, verbose=0,\n",
       "                       warm_start=False)"
      ]
     },
     "execution_count": 157,
     "metadata": {},
     "output_type": "execute_result"
    }
   ],
   "source": [
    "rfc.fit(X_train, y_train)"
   ]
  },
  {
   "cell_type": "code",
   "execution_count": 158,
   "metadata": {},
   "outputs": [],
   "source": [
    "preds=rfc.predict(X_test)"
   ]
  },
  {
   "cell_type": "code",
   "execution_count": 159,
   "metadata": {},
   "outputs": [
    {
     "name": "stdout",
     "output_type": "stream",
     "text": [
      "              precision    recall  f1-score   support\n",
      "\n",
      "         0.0       0.69      0.66      0.67     66661\n",
      "         1.0       0.42      0.45      0.43     36051\n",
      "\n",
      "    accuracy                           0.59    102712\n",
      "   macro avg       0.55      0.56      0.55    102712\n",
      "weighted avg       0.59      0.59      0.59    102712\n",
      "\n"
     ]
    }
   ],
   "source": [
    "print(classification_report(y_test,preds))"
   ]
  },
  {
   "cell_type": "markdown",
   "metadata": {},
   "source": [
    "### MODELO RandomForest - modificando parametros"
   ]
  },
  {
   "cell_type": "code",
   "execution_count": 160,
   "metadata": {},
   "outputs": [
    {
     "data": {
      "text/plain": [
       "RandomForestClassifier(bootstrap=True, ccp_alpha=0.0, class_weight=None,\n",
       "                       criterion='gini', max_depth=6, max_features='auto',\n",
       "                       max_leaf_nodes=None, max_samples=None,\n",
       "                       min_impurity_decrease=0.0, min_impurity_split=None,\n",
       "                       min_samples_leaf=1, min_samples_split=2,\n",
       "                       min_weight_fraction_leaf=0.0, n_estimators=10,\n",
       "                       n_jobs=None, oob_score=False, random_state=42, verbose=0,\n",
       "                       warm_start=False)"
      ]
     },
     "execution_count": 160,
     "metadata": {},
     "output_type": "execute_result"
    }
   ],
   "source": [
    "rfc=RandomForestClassifier(n_estimators=10, max_depth=6, random_state=42)\n",
    "rfc.fit(X_train, y_train)"
   ]
  },
  {
   "cell_type": "code",
   "execution_count": 161,
   "metadata": {},
   "outputs": [],
   "source": [
    "preds=rfc.predict(X_test)"
   ]
  },
  {
   "cell_type": "code",
   "execution_count": 162,
   "metadata": {},
   "outputs": [
    {
     "name": "stdout",
     "output_type": "stream",
     "text": [
      "              precision    recall  f1-score   support\n",
      "\n",
      "         0.0       0.70      0.62      0.66     66661\n",
      "         1.0       0.42      0.51      0.46     36051\n",
      "\n",
      "    accuracy                           0.58    102712\n",
      "   macro avg       0.56      0.57      0.56    102712\n",
      "weighted avg       0.60      0.58      0.59    102712\n",
      "\n"
     ]
    }
   ],
   "source": [
    "print(classification_report(y_test,preds))"
   ]
  },
  {
   "cell_type": "markdown",
   "metadata": {},
   "source": [
    "### MODELO XGBClassifier y XGBRFClassifier"
   ]
  },
  {
   "cell_type": "code",
   "execution_count": 163,
   "metadata": {},
   "outputs": [],
   "source": [
    "xgb_model = xgb.XGBClassifier()\n",
    "xgbrf_model = xgb.XGBRFClassifier()"
   ]
  },
  {
   "cell_type": "code",
   "execution_count": 164,
   "metadata": {},
   "outputs": [
    {
     "data": {
      "text/plain": [
       "XGBClassifier(base_score=0.5, booster=None, colsample_bylevel=1,\n",
       "              colsample_bynode=1, colsample_bytree=1, gamma=0, gpu_id=-1,\n",
       "              importance_type='gain', interaction_constraints=None,\n",
       "              learning_rate=0.300000012, max_delta_step=0, max_depth=6,\n",
       "              min_child_weight=1, missing=nan, monotone_constraints=None,\n",
       "              n_estimators=100, n_jobs=0, num_parallel_tree=1,\n",
       "              objective='binary:logistic', random_state=0, reg_alpha=0,\n",
       "              reg_lambda=1, scale_pos_weight=1, subsample=1, tree_method=None,\n",
       "              validate_parameters=False, verbosity=None)"
      ]
     },
     "execution_count": 164,
     "metadata": {},
     "output_type": "execute_result"
    }
   ],
   "source": [
    "xgb_model.fit(X_train,y_train)"
   ]
  },
  {
   "cell_type": "code",
   "execution_count": 165,
   "metadata": {},
   "outputs": [
    {
     "data": {
      "text/plain": [
       "XGBRFClassifier(base_score=0.5, booster=None, colsample_bylevel=1,\n",
       "                colsample_bynode=0.8, colsample_bytree=1, gamma=0, gpu_id=-1,\n",
       "                importance_type='gain', interaction_constraints=None,\n",
       "                learning_rate=1, max_delta_step=0, max_depth=6,\n",
       "                min_child_weight=1, missing=nan, monotone_constraints=None,\n",
       "                n_estimators=100, n_jobs=0, num_parallel_tree=100,\n",
       "                objective='binary:logistic', random_state=0, reg_alpha=0,\n",
       "                reg_lambda=1e-05, scale_pos_weight=1, subsample=0.8,\n",
       "                tree_method=None, validate_parameters=False, verbosity=None)"
      ]
     },
     "execution_count": 165,
     "metadata": {},
     "output_type": "execute_result"
    }
   ],
   "source": [
    "xgbrf_model.fit(X_train,y_train)"
   ]
  },
  {
   "cell_type": "code",
   "execution_count": 166,
   "metadata": {},
   "outputs": [],
   "source": [
    "preds = xgb_model.predict(X_test)"
   ]
  },
  {
   "cell_type": "code",
   "execution_count": 167,
   "metadata": {},
   "outputs": [
    {
     "name": "stdout",
     "output_type": "stream",
     "text": [
      "              precision    recall  f1-score   support\n",
      "\n",
      "         0.0       0.72      0.59      0.65     66661\n",
      "         1.0       0.43      0.56      0.49     36051\n",
      "\n",
      "    accuracy                           0.58    102712\n",
      "   macro avg       0.57      0.58      0.57    102712\n",
      "weighted avg       0.61      0.58      0.59    102712\n",
      "\n"
     ]
    }
   ],
   "source": [
    "print(classification_report(y_test,preds))"
   ]
  },
  {
   "cell_type": "code",
   "execution_count": 168,
   "metadata": {},
   "outputs": [],
   "source": [
    "preds = xgbrf_model.predict(X_test)"
   ]
  },
  {
   "cell_type": "code",
   "execution_count": 169,
   "metadata": {},
   "outputs": [
    {
     "name": "stdout",
     "output_type": "stream",
     "text": [
      "              precision    recall  f1-score   support\n",
      "\n",
      "         0.0       0.72      0.54      0.61     66661\n",
      "         1.0       0.42      0.61      0.49     36051\n",
      "\n",
      "    accuracy                           0.56    102712\n",
      "   macro avg       0.57      0.57      0.55    102712\n",
      "weighted avg       0.61      0.56      0.57    102712\n",
      "\n"
     ]
    }
   ],
   "source": [
    "print(classification_report(y_test,preds))"
   ]
  },
  {
   "cell_type": "markdown",
   "metadata": {},
   "source": [
    "### MODELO KNN"
   ]
  },
  {
   "cell_type": "code",
   "execution_count": 170,
   "metadata": {},
   "outputs": [],
   "source": [
    "from sklearn.neighbors import KNeighborsClassifier\n",
    "from sklearn.model_selection import train_test_split"
   ]
  },
  {
   "cell_type": "code",
   "execution_count": 171,
   "metadata": {},
   "outputs": [],
   "source": [
    "#split dataset into train and test data\n",
    "#X_train, X_test, y_train, y_test = train_test_split(X, y, test_size=0.2, random_state=1, stratify=y)\n"
   ]
  },
  {
   "cell_type": "code",
   "execution_count": 172,
   "metadata": {},
   "outputs": [
    {
     "data": {
      "text/plain": [
       "(401478, 80)"
      ]
     },
     "execution_count": 172,
     "metadata": {},
     "output_type": "execute_result"
    }
   ],
   "source": [
    "X_train.shape"
   ]
  },
  {
   "cell_type": "code",
   "execution_count": 173,
   "metadata": {},
   "outputs": [
    {
     "data": {
      "text/plain": [
       "(102712, 80)"
      ]
     },
     "execution_count": 173,
     "metadata": {},
     "output_type": "execute_result"
    }
   ],
   "source": [
    "X_test.shape"
   ]
  },
  {
   "cell_type": "code",
   "execution_count": 174,
   "metadata": {},
   "outputs": [
    {
     "data": {
      "text/plain": [
       "(401478,)"
      ]
     },
     "execution_count": 174,
     "metadata": {},
     "output_type": "execute_result"
    }
   ],
   "source": [
    "y_train.shape"
   ]
  },
  {
   "cell_type": "code",
   "execution_count": 175,
   "metadata": {},
   "outputs": [
    {
     "data": {
      "text/plain": [
       "(102712,)"
      ]
     },
     "execution_count": 175,
     "metadata": {},
     "output_type": "execute_result"
    }
   ],
   "source": [
    "y_test.shape"
   ]
  },
  {
   "cell_type": "code",
   "execution_count": 176,
   "metadata": {},
   "outputs": [],
   "source": [
    "knn = KNeighborsClassifier(n_neighbors=30)"
   ]
  },
  {
   "cell_type": "code",
   "execution_count": 177,
   "metadata": {},
   "outputs": [
    {
     "data": {
      "text/plain": [
       "KNeighborsClassifier(algorithm='auto', leaf_size=30, metric='minkowski',\n",
       "                     metric_params=None, n_jobs=None, n_neighbors=30, p=2,\n",
       "                     weights='uniform')"
      ]
     },
     "execution_count": 177,
     "metadata": {},
     "output_type": "execute_result"
    }
   ],
   "source": [
    "# Fit the classifier to the data\n",
    "knn.fit(X_train,y_train)"
   ]
  },
  {
   "cell_type": "code",
   "execution_count": 178,
   "metadata": {},
   "outputs": [],
   "source": [
    "preds = knn.predict(X_test)"
   ]
  },
  {
   "cell_type": "code",
   "execution_count": 179,
   "metadata": {},
   "outputs": [
    {
     "name": "stdout",
     "output_type": "stream",
     "text": [
      "              precision    recall  f1-score   support\n",
      "\n",
      "         0.0       0.67      0.60      0.63     66661\n",
      "         1.0       0.38      0.45      0.41     36051\n",
      "\n",
      "    accuracy                           0.55    102712\n",
      "   macro avg       0.52      0.52      0.52    102712\n",
      "weighted avg       0.56      0.55      0.55    102712\n",
      "\n"
     ]
    }
   ],
   "source": [
    "print(classification_report(y_test,preds))"
   ]
  },
  {
   "cell_type": "markdown",
   "metadata": {},
   "source": [
    "### Hago todo lo mismo pero con downsampling\n"
   ]
  },
  {
   "cell_type": "code",
   "execution_count": 180,
   "metadata": {},
   "outputs": [],
   "source": [
    "#Nuestro tag estara dado por la columna target2, al que llamaremos y \n",
    "y = data['target2']"
   ]
  },
  {
   "cell_type": "code",
   "execution_count": 181,
   "metadata": {},
   "outputs": [],
   "source": [
    "#tendremos en cuenta solo las columnas numericas\n",
    "data = data.select_dtypes(include=['int64','float64'])"
   ]
  },
  {
   "cell_type": "code",
   "execution_count": 182,
   "metadata": {},
   "outputs": [
    {
     "data": {
      "text/plain": [
       "['cant_productos',\n",
       " 'cant_PF',\n",
       " 'cant_TC',\n",
       " 'cant_PP',\n",
       " 'cant_seguros',\n",
       " 'importe_consumos',\n",
       " 'Edad',\n",
       " 'SaldoPromedioCAPesos',\n",
       " 'SaldoPromedioCADolares',\n",
       " 'SaldoPromedioCCAcreedor',\n",
       " 'TotalConsumoTD',\n",
       " 'cuotas_faltantes_1',\n",
       " 'cant_PF_ant_1',\n",
       " 'cant_TC_ant_1',\n",
       " 'cant_PP_ant_1',\n",
       " 'SaldoPromedioCAPesos_ant_1',\n",
       " 'SaldoPromedioCADolares_ant_1',\n",
       " 'SaldoPromedioCCAcreedor_ant_1',\n",
       " 'importe_consumos_ant_1',\n",
       " 'TotalConsumoTD_ant_1',\n",
       " 'cuotas_faltantes',\n",
       " 'cant_PF_ant_2',\n",
       " 'cant_TC_ant_2',\n",
       " 'cant_PP_ant_2',\n",
       " 'SaldoPromedioCAPesos_ant_2',\n",
       " 'SaldoPromedioCADolares_ant_2',\n",
       " 'SaldoPromedioCCAcreedor_ant_2',\n",
       " 'importe_consumos_ant_2',\n",
       " 'TotalConsumoTD_ant_2',\n",
       " 'cuotas_faltantes_2',\n",
       " 'score_deuda',\n",
       " 'antiguedad',\n",
       " 'cant_PF_mean',\n",
       " 'cant_PF_std',\n",
       " 'cant_PF_min',\n",
       " 'cant_PF_max',\n",
       " 'cant_PF_TasaNew',\n",
       " 'cant_PF_TasaOld',\n",
       " 'cant_TC_mean',\n",
       " 'cant_TC_std',\n",
       " 'cant_TC_min',\n",
       " 'cant_TC_max',\n",
       " 'cant_TC_TasaNew',\n",
       " 'cant_TC_TasaOld',\n",
       " 'cant_PP_mean',\n",
       " 'cant_PP_std',\n",
       " 'cant_PP_min',\n",
       " 'cant_PP_max',\n",
       " 'cant_PP_TasaNew',\n",
       " 'cant_PP_TasaOld',\n",
       " 'importe_consumos_mean',\n",
       " 'importe_consumos_std',\n",
       " 'importe_consumos_min',\n",
       " 'importe_consumos_max',\n",
       " 'importe_consumos_TasaNew',\n",
       " 'importe_consumos_TasaOld',\n",
       " 'SaldoPromedioCAPesos_mean',\n",
       " 'SaldoPromedioCAPesos_std',\n",
       " 'SaldoPromedioCAPesos_min',\n",
       " 'SaldoPromedioCAPesos_max',\n",
       " 'SaldoPromedioCAPesos_TasaNew',\n",
       " 'SaldoPromedioCAPesos_TasaOld',\n",
       " 'SaldoPromedioCADolares_mean',\n",
       " 'SaldoPromedioCADolares_std',\n",
       " 'SaldoPromedioCADolares_min',\n",
       " 'SaldoPromedioCADolares_max',\n",
       " 'SaldoPromedioCADolares_TasaNew',\n",
       " 'SaldoPromedioCADolares_TasaOld',\n",
       " 'SaldoPromedioCCAcreedor_mean',\n",
       " 'SaldoPromedioCCAcreedor_std',\n",
       " 'SaldoPromedioCCAcreedor_min',\n",
       " 'SaldoPromedioCCAcreedor_max',\n",
       " 'SaldoPromedioCCAcreedor_TasaNew',\n",
       " 'SaldoPromedioCCAcreedor_TasaOld',\n",
       " 'TotalConsumoTD_mean',\n",
       " 'TotalConsumoTD_std',\n",
       " 'TotalConsumoTD_min',\n",
       " 'TotalConsumoTD_max',\n",
       " 'TotalConsumoTD_TasaNew',\n",
       " 'TotalConsumoTD_TasaOld']"
      ]
     },
     "execution_count": 182,
     "metadata": {},
     "output_type": "execute_result"
    }
   ],
   "source": [
    "columns = [col for col in data.columns if col not in ['target2']]\n",
    "columns"
   ]
  },
  {
   "cell_type": "code",
   "execution_count": 183,
   "metadata": {},
   "outputs": [],
   "source": [
    "X = data[columns]"
   ]
  },
  {
   "cell_type": "code",
   "execution_count": 184,
   "metadata": {},
   "outputs": [],
   "source": [
    "X_train,X_test,y_train,y_test = train_test_split(X,y)"
   ]
  },
  {
   "cell_type": "code",
   "execution_count": 185,
   "metadata": {},
   "outputs": [
    {
     "data": {
      "text/plain": [
       "(308134, 80)"
      ]
     },
     "execution_count": 185,
     "metadata": {},
     "output_type": "execute_result"
    }
   ],
   "source": [
    "X_train.shape"
   ]
  },
  {
   "cell_type": "code",
   "execution_count": 186,
   "metadata": {},
   "outputs": [
    {
     "data": {
      "text/plain": [
       "(308134,)"
      ]
     },
     "execution_count": 186,
     "metadata": {},
     "output_type": "execute_result"
    }
   ],
   "source": [
    "y_train.shape"
   ]
  },
  {
   "cell_type": "code",
   "execution_count": 187,
   "metadata": {},
   "outputs": [
    {
     "data": {
      "text/plain": [
       "(102712, 80)"
      ]
     },
     "execution_count": 187,
     "metadata": {},
     "output_type": "execute_result"
    }
   ],
   "source": [
    "X_test.shape"
   ]
  },
  {
   "cell_type": "code",
   "execution_count": 188,
   "metadata": {},
   "outputs": [
    {
     "data": {
      "text/plain": [
       "(102712,)"
      ]
     },
     "execution_count": 188,
     "metadata": {},
     "output_type": "execute_result"
    }
   ],
   "source": [
    "y_test.shape"
   ]
  },
  {
   "cell_type": "code",
   "execution_count": 189,
   "metadata": {},
   "outputs": [],
   "source": [
    "from sklearn.utils import resample"
   ]
  },
  {
   "cell_type": "code",
   "execution_count": 190,
   "metadata": {},
   "outputs": [
    {
     "data": {
      "text/plain": [
       "1.0    107470\n",
       "0.0    107470\n",
       "Name: target2, dtype: int64"
      ]
     },
     "execution_count": 190,
     "metadata": {},
     "output_type": "execute_result"
    }
   ],
   "source": [
    "#ahora lo hago con downsampling --CHEQUEAR PORQUE UPSAMPLLING Y DOWNSAMPLING DAN IGUAL? ANDREA \n",
    "train_data = pd.concat([X_train, y_train], axis=1)# separate minority and majority classes\n",
    "train_data.target2.value_counts()\n",
    "negative = train_data[train_data.target2==0]\n",
    "positive = train_data[train_data.target2==1]# upsample minority\n",
    "pos_downsampled = resample(negative,\n",
    "     replace=False, # sample without replacement\n",
    "     n_samples=len(positive), # match number in majority class\n",
    "     random_state=27) # reproducible results# combine majority and upsampled minority\n",
    "downsampled = pd.concat([pos_downsampled, positive])# check new class counts\n",
    "downsampled.target2.value_counts()\n"
   ]
  },
  {
   "cell_type": "code",
   "execution_count": 191,
   "metadata": {},
   "outputs": [],
   "source": [
    "X_train = downsampled.drop(columns='target2')"
   ]
  },
  {
   "cell_type": "code",
   "execution_count": 192,
   "metadata": {},
   "outputs": [],
   "source": [
    "y_train = downsampled['target2']"
   ]
  },
  {
   "cell_type": "code",
   "execution_count": 193,
   "metadata": {},
   "outputs": [],
   "source": [
    "from sklearn.model_selection import train_test_split\n",
    "from sklearn.model_selection import cross_val_score\n",
    "from sklearn.model_selection import GridSearchCV\n",
    "from sklearn.tree import DecisionTreeClassifier\n",
    "from sklearn.ensemble import RandomForestClassifier\n",
    "from sklearn.metrics import accuracy_score, precision_score, recall_score, f1_score, confusion_matrix, classification_report"
   ]
  },
  {
   "cell_type": "code",
   "execution_count": 194,
   "metadata": {},
   "outputs": [],
   "source": [
    "tree = DecisionTreeClassifier()\n"
   ]
  },
  {
   "cell_type": "code",
   "execution_count": 195,
   "metadata": {},
   "outputs": [
    {
     "data": {
      "text/plain": [
       "DecisionTreeClassifier(ccp_alpha=0.0, class_weight=None, criterion='gini',\n",
       "                       max_depth=None, max_features=None, max_leaf_nodes=None,\n",
       "                       min_impurity_decrease=0.0, min_impurity_split=None,\n",
       "                       min_samples_leaf=1, min_samples_split=2,\n",
       "                       min_weight_fraction_leaf=0.0, presort='deprecated',\n",
       "                       random_state=None, splitter='best')"
      ]
     },
     "execution_count": 195,
     "metadata": {},
     "output_type": "execute_result"
    }
   ],
   "source": [
    "tree.fit(X_train,y_train)"
   ]
  },
  {
   "cell_type": "code",
   "execution_count": 196,
   "metadata": {},
   "outputs": [],
   "source": [
    "preds = tree.predict(X_test)"
   ]
  },
  {
   "cell_type": "code",
   "execution_count": 197,
   "metadata": {},
   "outputs": [
    {
     "name": "stdout",
     "output_type": "stream",
     "text": [
      "              precision    recall  f1-score   support\n",
      "\n",
      "         0.0       0.69      0.54      0.61     66736\n",
      "         1.0       0.39      0.54      0.45     35976\n",
      "\n",
      "    accuracy                           0.54    102712\n",
      "   macro avg       0.54      0.54      0.53    102712\n",
      "weighted avg       0.58      0.54      0.55    102712\n",
      "\n"
     ]
    }
   ],
   "source": [
    "print(classification_report(y_test,preds))"
   ]
  },
  {
   "cell_type": "markdown",
   "metadata": {},
   "source": [
    "### MODELO RandomForest - modificando parametros"
   ]
  },
  {
   "cell_type": "code",
   "execution_count": 198,
   "metadata": {},
   "outputs": [],
   "source": [
    "rfc=RandomForestClassifier(n_estimators=100, max_depth=4, random_state=42)"
   ]
  },
  {
   "cell_type": "code",
   "execution_count": 199,
   "metadata": {},
   "outputs": [
    {
     "data": {
      "text/plain": [
       "RandomForestClassifier(bootstrap=True, ccp_alpha=0.0, class_weight=None,\n",
       "                       criterion='gini', max_depth=4, max_features='auto',\n",
       "                       max_leaf_nodes=None, max_samples=None,\n",
       "                       min_impurity_decrease=0.0, min_impurity_split=None,\n",
       "                       min_samples_leaf=1, min_samples_split=2,\n",
       "                       min_weight_fraction_leaf=0.0, n_estimators=100,\n",
       "                       n_jobs=None, oob_score=False, random_state=42, verbose=0,\n",
       "                       warm_start=False)"
      ]
     },
     "execution_count": 199,
     "metadata": {},
     "output_type": "execute_result"
    }
   ],
   "source": [
    "rfc.fit(X_train, y_train)"
   ]
  },
  {
   "cell_type": "code",
   "execution_count": 200,
   "metadata": {},
   "outputs": [],
   "source": [
    "preds=rfc.predict(X_test)"
   ]
  },
  {
   "cell_type": "code",
   "execution_count": 201,
   "metadata": {},
   "outputs": [
    {
     "name": "stdout",
     "output_type": "stream",
     "text": [
      "              precision    recall  f1-score   support\n",
      "\n",
      "         0.0       0.69      0.66      0.68     66736\n",
      "         1.0       0.42      0.45      0.43     35976\n",
      "\n",
      "    accuracy                           0.59    102712\n",
      "   macro avg       0.55      0.55      0.55    102712\n",
      "weighted avg       0.59      0.59      0.59    102712\n",
      "\n"
     ]
    }
   ],
   "source": [
    "print(classification_report(y_test,preds))"
   ]
  },
  {
   "cell_type": "markdown",
   "metadata": {},
   "source": [
    "### MODELO RandomForest - modificando parametros"
   ]
  },
  {
   "cell_type": "code",
   "execution_count": 202,
   "metadata": {},
   "outputs": [
    {
     "data": {
      "text/plain": [
       "RandomForestClassifier(bootstrap=True, ccp_alpha=0.0, class_weight=None,\n",
       "                       criterion='gini', max_depth=6, max_features='auto',\n",
       "                       max_leaf_nodes=None, max_samples=None,\n",
       "                       min_impurity_decrease=0.0, min_impurity_split=None,\n",
       "                       min_samples_leaf=1, min_samples_split=2,\n",
       "                       min_weight_fraction_leaf=0.0, n_estimators=10,\n",
       "                       n_jobs=None, oob_score=False, random_state=42, verbose=0,\n",
       "                       warm_start=False)"
      ]
     },
     "execution_count": 202,
     "metadata": {},
     "output_type": "execute_result"
    }
   ],
   "source": [
    "rfc=RandomForestClassifier(n_estimators=10, max_depth=6, random_state=42)\n",
    "rfc.fit(X_train, y_train)"
   ]
  },
  {
   "cell_type": "code",
   "execution_count": 203,
   "metadata": {},
   "outputs": [],
   "source": [
    "preds=rfc.predict(X_test)"
   ]
  },
  {
   "cell_type": "code",
   "execution_count": 204,
   "metadata": {},
   "outputs": [
    {
     "name": "stdout",
     "output_type": "stream",
     "text": [
      "              precision    recall  f1-score   support\n",
      "\n",
      "         0.0       0.70      0.63      0.66     66736\n",
      "         1.0       0.42      0.51      0.46     35976\n",
      "\n",
      "    accuracy                           0.59    102712\n",
      "   macro avg       0.56      0.57      0.56    102712\n",
      "weighted avg       0.61      0.59      0.59    102712\n",
      "\n"
     ]
    }
   ],
   "source": [
    "print(classification_report(y_test,preds))"
   ]
  },
  {
   "cell_type": "markdown",
   "metadata": {},
   "source": [
    "### MODELO XGBClassifier y XGBRFClassifier"
   ]
  },
  {
   "cell_type": "code",
   "execution_count": 205,
   "metadata": {},
   "outputs": [],
   "source": [
    "xgb_model = xgb.XGBClassifier()\n",
    "xgbrf_model = xgb.XGBRFClassifier()"
   ]
  },
  {
   "cell_type": "code",
   "execution_count": 206,
   "metadata": {},
   "outputs": [
    {
     "data": {
      "text/plain": [
       "XGBClassifier(base_score=0.5, booster=None, colsample_bylevel=1,\n",
       "              colsample_bynode=1, colsample_bytree=1, gamma=0, gpu_id=-1,\n",
       "              importance_type='gain', interaction_constraints=None,\n",
       "              learning_rate=0.300000012, max_delta_step=0, max_depth=6,\n",
       "              min_child_weight=1, missing=nan, monotone_constraints=None,\n",
       "              n_estimators=100, n_jobs=0, num_parallel_tree=1,\n",
       "              objective='binary:logistic', random_state=0, reg_alpha=0,\n",
       "              reg_lambda=1, scale_pos_weight=1, subsample=1, tree_method=None,\n",
       "              validate_parameters=False, verbosity=None)"
      ]
     },
     "execution_count": 206,
     "metadata": {},
     "output_type": "execute_result"
    }
   ],
   "source": [
    "xgb_model.fit(X_train,y_train)"
   ]
  },
  {
   "cell_type": "code",
   "execution_count": 207,
   "metadata": {},
   "outputs": [
    {
     "data": {
      "text/plain": [
       "XGBRFClassifier(base_score=0.5, booster=None, colsample_bylevel=1,\n",
       "                colsample_bynode=0.8, colsample_bytree=1, gamma=0, gpu_id=-1,\n",
       "                importance_type='gain', interaction_constraints=None,\n",
       "                learning_rate=1, max_delta_step=0, max_depth=6,\n",
       "                min_child_weight=1, missing=nan, monotone_constraints=None,\n",
       "                n_estimators=100, n_jobs=0, num_parallel_tree=100,\n",
       "                objective='binary:logistic', random_state=0, reg_alpha=0,\n",
       "                reg_lambda=1e-05, scale_pos_weight=1, subsample=0.8,\n",
       "                tree_method=None, validate_parameters=False, verbosity=None)"
      ]
     },
     "execution_count": 207,
     "metadata": {},
     "output_type": "execute_result"
    }
   ],
   "source": [
    "xgbrf_model.fit(X_train,y_train)"
   ]
  },
  {
   "cell_type": "code",
   "execution_count": 208,
   "metadata": {},
   "outputs": [],
   "source": [
    "preds = xgb_model.predict(X_test)"
   ]
  },
  {
   "cell_type": "code",
   "execution_count": 209,
   "metadata": {},
   "outputs": [
    {
     "name": "stdout",
     "output_type": "stream",
     "text": [
      "              precision    recall  f1-score   support\n",
      "\n",
      "         0.0       0.72      0.57      0.64     66736\n",
      "         1.0       0.43      0.59      0.49     35976\n",
      "\n",
      "    accuracy                           0.58    102712\n",
      "   macro avg       0.57      0.58      0.57    102712\n",
      "weighted avg       0.62      0.58      0.59    102712\n",
      "\n"
     ]
    }
   ],
   "source": [
    "print(classification_report(y_test,preds))"
   ]
  },
  {
   "cell_type": "code",
   "execution_count": 210,
   "metadata": {},
   "outputs": [],
   "source": [
    "preds = xgbrf_model.predict(X_test)"
   ]
  },
  {
   "cell_type": "code",
   "execution_count": 211,
   "metadata": {},
   "outputs": [
    {
     "name": "stdout",
     "output_type": "stream",
     "text": [
      "              precision    recall  f1-score   support\n",
      "\n",
      "         0.0       0.71      0.62      0.66     66736\n",
      "         1.0       0.43      0.53      0.48     35976\n",
      "\n",
      "    accuracy                           0.59    102712\n",
      "   macro avg       0.57      0.58      0.57    102712\n",
      "weighted avg       0.61      0.59      0.60    102712\n",
      "\n"
     ]
    }
   ],
   "source": [
    "print(classification_report(y_test,preds))"
   ]
  },
  {
   "cell_type": "markdown",
   "metadata": {},
   "source": [
    "### MODELO KNN"
   ]
  },
  {
   "cell_type": "code",
   "execution_count": 212,
   "metadata": {},
   "outputs": [],
   "source": [
    "from sklearn.neighbors import KNeighborsClassifier\n",
    "from sklearn.model_selection import train_test_split"
   ]
  },
  {
   "cell_type": "code",
   "execution_count": 213,
   "metadata": {},
   "outputs": [],
   "source": [
    "knn = KNeighborsClassifier(n_neighbors=30)"
   ]
  },
  {
   "cell_type": "code",
   "execution_count": 214,
   "metadata": {
    "scrolled": true
   },
   "outputs": [
    {
     "data": {
      "text/plain": [
       "KNeighborsClassifier(algorithm='auto', leaf_size=30, metric='minkowski',\n",
       "                     metric_params=None, n_jobs=None, n_neighbors=30, p=2,\n",
       "                     weights='uniform')"
      ]
     },
     "execution_count": 214,
     "metadata": {},
     "output_type": "execute_result"
    }
   ],
   "source": [
    "# Fit the classifier to the data\n",
    "knn.fit(X_train,y_train)"
   ]
  },
  {
   "cell_type": "code",
   "execution_count": 215,
   "metadata": {},
   "outputs": [],
   "source": [
    "preds = knn.predict(X_test)"
   ]
  },
  {
   "cell_type": "code",
   "execution_count": 216,
   "metadata": {},
   "outputs": [
    {
     "name": "stdout",
     "output_type": "stream",
     "text": [
      "              precision    recall  f1-score   support\n",
      "\n",
      "         0.0       0.67      0.59      0.63     66736\n",
      "         1.0       0.38      0.46      0.42     35976\n",
      "\n",
      "    accuracy                           0.55    102712\n",
      "   macro avg       0.53      0.53      0.52    102712\n",
      "weighted avg       0.57      0.55      0.56    102712\n",
      "\n"
     ]
    }
   ],
   "source": [
    "print(classification_report(y_test,preds))"
   ]
  },
  {
   "cell_type": "markdown",
   "metadata": {},
   "source": [
    "### Hago todo lo mismo pero con SMOTE\n"
   ]
  },
  {
   "cell_type": "code",
   "execution_count": 217,
   "metadata": {},
   "outputs": [],
   "source": [
    "#Nuestro tag estara dado por la columna target2, al que llamaremos y \n",
    "y = data['target2']"
   ]
  },
  {
   "cell_type": "code",
   "execution_count": 218,
   "metadata": {},
   "outputs": [],
   "source": [
    "#tendremos en cuenta solo las columnas numericas\n",
    "data = data.select_dtypes(include=['int64','float64'])"
   ]
  },
  {
   "cell_type": "code",
   "execution_count": 219,
   "metadata": {},
   "outputs": [
    {
     "data": {
      "text/plain": [
       "['cant_productos',\n",
       " 'cant_PF',\n",
       " 'cant_TC',\n",
       " 'cant_PP',\n",
       " 'cant_seguros',\n",
       " 'importe_consumos',\n",
       " 'Edad',\n",
       " 'SaldoPromedioCAPesos',\n",
       " 'SaldoPromedioCADolares',\n",
       " 'SaldoPromedioCCAcreedor',\n",
       " 'TotalConsumoTD',\n",
       " 'cuotas_faltantes_1',\n",
       " 'cant_PF_ant_1',\n",
       " 'cant_TC_ant_1',\n",
       " 'cant_PP_ant_1',\n",
       " 'SaldoPromedioCAPesos_ant_1',\n",
       " 'SaldoPromedioCADolares_ant_1',\n",
       " 'SaldoPromedioCCAcreedor_ant_1',\n",
       " 'importe_consumos_ant_1',\n",
       " 'TotalConsumoTD_ant_1',\n",
       " 'cuotas_faltantes',\n",
       " 'cant_PF_ant_2',\n",
       " 'cant_TC_ant_2',\n",
       " 'cant_PP_ant_2',\n",
       " 'SaldoPromedioCAPesos_ant_2',\n",
       " 'SaldoPromedioCADolares_ant_2',\n",
       " 'SaldoPromedioCCAcreedor_ant_2',\n",
       " 'importe_consumos_ant_2',\n",
       " 'TotalConsumoTD_ant_2',\n",
       " 'cuotas_faltantes_2',\n",
       " 'score_deuda',\n",
       " 'antiguedad',\n",
       " 'cant_PF_mean',\n",
       " 'cant_PF_std',\n",
       " 'cant_PF_min',\n",
       " 'cant_PF_max',\n",
       " 'cant_PF_TasaNew',\n",
       " 'cant_PF_TasaOld',\n",
       " 'cant_TC_mean',\n",
       " 'cant_TC_std',\n",
       " 'cant_TC_min',\n",
       " 'cant_TC_max',\n",
       " 'cant_TC_TasaNew',\n",
       " 'cant_TC_TasaOld',\n",
       " 'cant_PP_mean',\n",
       " 'cant_PP_std',\n",
       " 'cant_PP_min',\n",
       " 'cant_PP_max',\n",
       " 'cant_PP_TasaNew',\n",
       " 'cant_PP_TasaOld',\n",
       " 'importe_consumos_mean',\n",
       " 'importe_consumos_std',\n",
       " 'importe_consumos_min',\n",
       " 'importe_consumos_max',\n",
       " 'importe_consumos_TasaNew',\n",
       " 'importe_consumos_TasaOld',\n",
       " 'SaldoPromedioCAPesos_mean',\n",
       " 'SaldoPromedioCAPesos_std',\n",
       " 'SaldoPromedioCAPesos_min',\n",
       " 'SaldoPromedioCAPesos_max',\n",
       " 'SaldoPromedioCAPesos_TasaNew',\n",
       " 'SaldoPromedioCAPesos_TasaOld',\n",
       " 'SaldoPromedioCADolares_mean',\n",
       " 'SaldoPromedioCADolares_std',\n",
       " 'SaldoPromedioCADolares_min',\n",
       " 'SaldoPromedioCADolares_max',\n",
       " 'SaldoPromedioCADolares_TasaNew',\n",
       " 'SaldoPromedioCADolares_TasaOld',\n",
       " 'SaldoPromedioCCAcreedor_mean',\n",
       " 'SaldoPromedioCCAcreedor_std',\n",
       " 'SaldoPromedioCCAcreedor_min',\n",
       " 'SaldoPromedioCCAcreedor_max',\n",
       " 'SaldoPromedioCCAcreedor_TasaNew',\n",
       " 'SaldoPromedioCCAcreedor_TasaOld',\n",
       " 'TotalConsumoTD_mean',\n",
       " 'TotalConsumoTD_std',\n",
       " 'TotalConsumoTD_min',\n",
       " 'TotalConsumoTD_max',\n",
       " 'TotalConsumoTD_TasaNew',\n",
       " 'TotalConsumoTD_TasaOld']"
      ]
     },
     "execution_count": 219,
     "metadata": {},
     "output_type": "execute_result"
    }
   ],
   "source": [
    "columns = [col for col in data.columns if col not in ['target2']]\n",
    "columns"
   ]
  },
  {
   "cell_type": "code",
   "execution_count": 220,
   "metadata": {},
   "outputs": [],
   "source": [
    "X = data[columns]"
   ]
  },
  {
   "cell_type": "code",
   "execution_count": 221,
   "metadata": {},
   "outputs": [],
   "source": [
    "X_train,X_test,y_train,y_test = train_test_split(X,y)"
   ]
  },
  {
   "cell_type": "code",
   "execution_count": 222,
   "metadata": {},
   "outputs": [
    {
     "data": {
      "text/plain": [
       "(308134, 80)"
      ]
     },
     "execution_count": 222,
     "metadata": {},
     "output_type": "execute_result"
    }
   ],
   "source": [
    "X_train.shape"
   ]
  },
  {
   "cell_type": "code",
   "execution_count": 223,
   "metadata": {},
   "outputs": [
    {
     "data": {
      "text/plain": [
       "(308134,)"
      ]
     },
     "execution_count": 223,
     "metadata": {},
     "output_type": "execute_result"
    }
   ],
   "source": [
    "y_train.shape"
   ]
  },
  {
   "cell_type": "code",
   "execution_count": 224,
   "metadata": {},
   "outputs": [
    {
     "data": {
      "text/plain": [
       "(102712, 80)"
      ]
     },
     "execution_count": 224,
     "metadata": {},
     "output_type": "execute_result"
    }
   ],
   "source": [
    "X_test.shape"
   ]
  },
  {
   "cell_type": "code",
   "execution_count": 225,
   "metadata": {},
   "outputs": [
    {
     "data": {
      "text/plain": [
       "(102712,)"
      ]
     },
     "execution_count": 225,
     "metadata": {},
     "output_type": "execute_result"
    }
   ],
   "source": [
    "y_test.shape"
   ]
  },
  {
   "cell_type": "code",
   "execution_count": 226,
   "metadata": {},
   "outputs": [
    {
     "name": "stdout",
     "output_type": "stream",
     "text": [
      "Collecting imblearn\n",
      "  Downloading imblearn-0.0-py2.py3-none-any.whl (1.9 kB)\n",
      "Collecting imbalanced-learn\n",
      "  Downloading imbalanced_learn-0.7.0-py3-none-any.whl (167 kB)\n",
      "Requirement already satisfied: scipy>=0.19.1 in c:\\programdata\\anaconda3\\lib\\site-packages (from imbalanced-learn->imblearn) (1.4.1)\n",
      "Requirement already satisfied: numpy>=1.13.3 in c:\\programdata\\anaconda3\\lib\\site-packages (from imbalanced-learn->imblearn) (1.18.1)\n",
      "Collecting scikit-learn>=0.23\n",
      "  Downloading scikit_learn-0.23.1-cp37-cp37m-win_amd64.whl (6.8 MB)\n",
      "Requirement already satisfied: joblib>=0.11 in c:\\programdata\\anaconda3\\lib\\site-packages (from imbalanced-learn->imblearn) (0.14.1)\n",
      "Collecting threadpoolctl>=2.0.0\n",
      "  Downloading threadpoolctl-2.1.0-py3-none-any.whl (12 kB)\n",
      "Installing collected packages: threadpoolctl, scikit-learn, imbalanced-learn, imblearn\n",
      "  Attempting uninstall: scikit-learn\n",
      "    Found existing installation: scikit-learn 0.22.1\n",
      "    Uninstalling scikit-learn-0.22.1:\n"
     ]
    },
    {
     "name": "stderr",
     "output_type": "stream",
     "text": [
      "ERROR: Could not install packages due to an EnvironmentError: [WinError 5] Acceso denegado: 'c:\\\\programdata\\\\anaconda3\\\\lib\\\\site-packages\\\\scikit_learn-0.22.1.dist-info\\\\COPYING'\n",
      "Consider using the `--user` option or check the permissions.\n",
      "\n"
     ]
    }
   ],
   "source": [
    "#!pip install imblearn"
   ]
  },
  {
   "cell_type": "code",
   "execution_count": 428,
   "metadata": {},
   "outputs": [],
   "source": [
    "#from imblearn.over_sampling import SMOTE"
   ]
  },
  {
   "cell_type": "code",
   "execution_count": 429,
   "metadata": {},
   "outputs": [
    {
     "ename": "AttributeError",
     "evalue": "'SMOTE' object has no attribute '_validate_data'",
     "output_type": "error",
     "traceback": [
      "\u001b[0;31m---------------------------------------------------------------------------\u001b[0m",
      "\u001b[0;31mAttributeError\u001b[0m                            Traceback (most recent call last)",
      "\u001b[0;32m<ipython-input-429-551b8d8b1e46>\u001b[0m in \u001b[0;36m<module>\u001b[0;34m\u001b[0m\n\u001b[1;32m      5\u001b[0m \u001b[0;34m\u001b[0m\u001b[0m\n\u001b[1;32m      6\u001b[0m \u001b[0moversample\u001b[0m \u001b[0;34m=\u001b[0m \u001b[0mSMOTE\u001b[0m\u001b[0;34m(\u001b[0m\u001b[0;34m)\u001b[0m\u001b[0;34m\u001b[0m\u001b[0;34m\u001b[0m\u001b[0m\n\u001b[0;32m----> 7\u001b[0;31m \u001b[0mX\u001b[0m\u001b[0;34m,\u001b[0m \u001b[0my\u001b[0m \u001b[0;34m=\u001b[0m \u001b[0moversample\u001b[0m\u001b[0;34m.\u001b[0m\u001b[0mfit_resample\u001b[0m\u001b[0;34m(\u001b[0m\u001b[0mX\u001b[0m\u001b[0;34m,\u001b[0m \u001b[0my\u001b[0m\u001b[0;34m)\u001b[0m\u001b[0;34m\u001b[0m\u001b[0;34m\u001b[0m\u001b[0m\n\u001b[0m",
      "\u001b[0;32m~/anaconda3/lib/python3.7/site-packages/imblearn/base.py\u001b[0m in \u001b[0;36mfit_resample\u001b[0;34m(self, X, y)\u001b[0m\n\u001b[1;32m     75\u001b[0m         \u001b[0mcheck_classification_targets\u001b[0m\u001b[0;34m(\u001b[0m\u001b[0my\u001b[0m\u001b[0;34m)\u001b[0m\u001b[0;34m\u001b[0m\u001b[0;34m\u001b[0m\u001b[0m\n\u001b[1;32m     76\u001b[0m         \u001b[0marrays_transformer\u001b[0m \u001b[0;34m=\u001b[0m \u001b[0mArraysTransformer\u001b[0m\u001b[0;34m(\u001b[0m\u001b[0mX\u001b[0m\u001b[0;34m,\u001b[0m \u001b[0my\u001b[0m\u001b[0;34m)\u001b[0m\u001b[0;34m\u001b[0m\u001b[0;34m\u001b[0m\u001b[0m\n\u001b[0;32m---> 77\u001b[0;31m         \u001b[0mX\u001b[0m\u001b[0;34m,\u001b[0m \u001b[0my\u001b[0m\u001b[0;34m,\u001b[0m \u001b[0mbinarize_y\u001b[0m \u001b[0;34m=\u001b[0m \u001b[0mself\u001b[0m\u001b[0;34m.\u001b[0m\u001b[0m_check_X_y\u001b[0m\u001b[0;34m(\u001b[0m\u001b[0mX\u001b[0m\u001b[0;34m,\u001b[0m \u001b[0my\u001b[0m\u001b[0;34m)\u001b[0m\u001b[0;34m\u001b[0m\u001b[0;34m\u001b[0m\u001b[0m\n\u001b[0m\u001b[1;32m     78\u001b[0m \u001b[0;34m\u001b[0m\u001b[0m\n\u001b[1;32m     79\u001b[0m         self.sampling_strategy_ = check_sampling_strategy(\n",
      "\u001b[0;32m~/anaconda3/lib/python3.7/site-packages/imblearn/base.py\u001b[0m in \u001b[0;36m_check_X_y\u001b[0;34m(self, X, y, accept_sparse)\u001b[0m\n\u001b[1;32m    132\u001b[0m             \u001b[0maccept_sparse\u001b[0m \u001b[0;34m=\u001b[0m \u001b[0;34m[\u001b[0m\u001b[0;34m\"csr\"\u001b[0m\u001b[0;34m,\u001b[0m \u001b[0;34m\"csc\"\u001b[0m\u001b[0;34m]\u001b[0m\u001b[0;34m\u001b[0m\u001b[0;34m\u001b[0m\u001b[0m\n\u001b[1;32m    133\u001b[0m         \u001b[0my\u001b[0m\u001b[0;34m,\u001b[0m \u001b[0mbinarize_y\u001b[0m \u001b[0;34m=\u001b[0m \u001b[0mcheck_target_type\u001b[0m\u001b[0;34m(\u001b[0m\u001b[0my\u001b[0m\u001b[0;34m,\u001b[0m \u001b[0mindicate_one_vs_all\u001b[0m\u001b[0;34m=\u001b[0m\u001b[0;32mTrue\u001b[0m\u001b[0;34m)\u001b[0m\u001b[0;34m\u001b[0m\u001b[0;34m\u001b[0m\u001b[0m\n\u001b[0;32m--> 134\u001b[0;31m         X, y = self._validate_data(\n\u001b[0m\u001b[1;32m    135\u001b[0m             \u001b[0mX\u001b[0m\u001b[0;34m,\u001b[0m \u001b[0my\u001b[0m\u001b[0;34m,\u001b[0m \u001b[0mreset\u001b[0m\u001b[0;34m=\u001b[0m\u001b[0;32mTrue\u001b[0m\u001b[0;34m,\u001b[0m \u001b[0maccept_sparse\u001b[0m\u001b[0;34m=\u001b[0m\u001b[0maccept_sparse\u001b[0m\u001b[0;34m\u001b[0m\u001b[0;34m\u001b[0m\u001b[0m\n\u001b[1;32m    136\u001b[0m         )\n",
      "\u001b[0;31mAttributeError\u001b[0m: 'SMOTE' object has no attribute '_validate_data'"
     ]
    }
   ],
   "source": [
    "#smt = SMOTE(random_state=0)\n",
    "#X_train_SMOTE, y_train_SMOTE = smt.fit_sample(X_train, y_train)\n",
    "#smt.fit_sample(X_train, y_train)\n",
    "\n",
    "#TODO: Error \n",
    "#oversample = SMOTE()\n",
    "#X, y = oversample.fit_resample(X, y)"
   ]
  },
  {
   "cell_type": "code",
   "execution_count": null,
   "metadata": {},
   "outputs": [],
   "source": [
    "print(imblearn.version)\n",
    "X_res, y_res = sm.fit_sample(X, y)\n",
    "#smotesample = pd.concat([X_res, y_res], axis=1)\n"
   ]
  },
  {
   "cell_type": "code",
   "execution_count": 353,
   "metadata": {},
   "outputs": [],
   "source": [
    "X_train = downsampled.drop(columns='target2')"
   ]
  },
  {
   "cell_type": "code",
   "execution_count": 354,
   "metadata": {},
   "outputs": [],
   "source": [
    "y_train = downsampled['target2']"
   ]
  },
  {
   "cell_type": "code",
   "execution_count": 355,
   "metadata": {},
   "outputs": [],
   "source": [
    "from sklearn.model_selection import train_test_split\n",
    "from sklearn.model_selection import cross_val_score\n",
    "from sklearn.model_selection import GridSearchCV\n",
    "from sklearn.tree import DecisionTreeClassifier\n",
    "from sklearn.ensemble import RandomForestClassifier\n",
    "from sklearn.metrics import accuracy_score, precision_score, recall_score, f1_score, confusion_matrix, classification_report"
   ]
  },
  {
   "cell_type": "code",
   "execution_count": 356,
   "metadata": {},
   "outputs": [],
   "source": [
    "tree = DecisionTreeClassifier()\n"
   ]
  },
  {
   "cell_type": "code",
   "execution_count": 357,
   "metadata": {},
   "outputs": [
    {
     "data": {
      "text/plain": [
       "DecisionTreeClassifier(ccp_alpha=0.0, class_weight=None, criterion='gini',\n",
       "                       max_depth=None, max_features=None, max_leaf_nodes=None,\n",
       "                       min_impurity_decrease=0.0, min_impurity_split=None,\n",
       "                       min_samples_leaf=1, min_samples_split=2,\n",
       "                       min_weight_fraction_leaf=0.0, presort='deprecated',\n",
       "                       random_state=None, splitter='best')"
      ]
     },
     "execution_count": 357,
     "metadata": {},
     "output_type": "execute_result"
    }
   ],
   "source": [
    "tree.fit(X_train,y_train)"
   ]
  },
  {
   "cell_type": "code",
   "execution_count": 358,
   "metadata": {},
   "outputs": [],
   "source": [
    "preds = tree.predict(X_test)"
   ]
  },
  {
   "cell_type": "code",
   "execution_count": 359,
   "metadata": {},
   "outputs": [
    {
     "name": "stdout",
     "output_type": "stream",
     "text": [
      "              precision    recall  f1-score   support\n",
      "\n",
      "         0.0       0.69      0.54      0.60     53909\n",
      "         1.0       0.37      0.53      0.44     27511\n",
      "\n",
      "    accuracy                           0.54     81420\n",
      "   macro avg       0.53      0.54      0.52     81420\n",
      "weighted avg       0.58      0.54      0.55     81420\n",
      "\n"
     ]
    }
   ],
   "source": [
    "print(classification_report(y_test,preds))"
   ]
  },
  {
   "cell_type": "markdown",
   "metadata": {},
   "source": [
    "### MODELO RandomForest - modificando parametros"
   ]
  },
  {
   "cell_type": "code",
   "execution_count": 360,
   "metadata": {},
   "outputs": [],
   "source": [
    "rfc=RandomForestClassifier(n_estimators=100, max_depth=4, random_state=42)"
   ]
  },
  {
   "cell_type": "code",
   "execution_count": 361,
   "metadata": {},
   "outputs": [
    {
     "data": {
      "text/plain": [
       "RandomForestClassifier(bootstrap=True, ccp_alpha=0.0, class_weight=None,\n",
       "                       criterion='gini', max_depth=4, max_features='auto',\n",
       "                       max_leaf_nodes=None, max_samples=None,\n",
       "                       min_impurity_decrease=0.0, min_impurity_split=None,\n",
       "                       min_samples_leaf=1, min_samples_split=2,\n",
       "                       min_weight_fraction_leaf=0.0, n_estimators=100,\n",
       "                       n_jobs=None, oob_score=False, random_state=42, verbose=0,\n",
       "                       warm_start=False)"
      ]
     },
     "execution_count": 361,
     "metadata": {},
     "output_type": "execute_result"
    }
   ],
   "source": [
    "rfc.fit(X_train, y_train)"
   ]
  },
  {
   "cell_type": "code",
   "execution_count": 364,
   "metadata": {},
   "outputs": [],
   "source": [
    "preds=rfc.predict(X_test)"
   ]
  },
  {
   "cell_type": "code",
   "execution_count": 365,
   "metadata": {},
   "outputs": [
    {
     "name": "stdout",
     "output_type": "stream",
     "text": [
      "              precision    recall  f1-score   support\n",
      "\n",
      "         0.0       0.70      0.65      0.68     53909\n",
      "         1.0       0.40      0.47      0.43     27511\n",
      "\n",
      "    accuracy                           0.59     81420\n",
      "   macro avg       0.55      0.56      0.55     81420\n",
      "weighted avg       0.60      0.59      0.59     81420\n",
      "\n"
     ]
    }
   ],
   "source": [
    "print(classification_report(y_test,preds))"
   ]
  },
  {
   "cell_type": "markdown",
   "metadata": {},
   "source": [
    "### MODELO RandomForest - modificando parametros"
   ]
  },
  {
   "cell_type": "code",
   "execution_count": 366,
   "metadata": {},
   "outputs": [
    {
     "data": {
      "text/plain": [
       "RandomForestClassifier(bootstrap=True, ccp_alpha=0.0, class_weight=None,\n",
       "                       criterion='gini', max_depth=6, max_features='auto',\n",
       "                       max_leaf_nodes=None, max_samples=None,\n",
       "                       min_impurity_decrease=0.0, min_impurity_split=None,\n",
       "                       min_samples_leaf=1, min_samples_split=2,\n",
       "                       min_weight_fraction_leaf=0.0, n_estimators=10,\n",
       "                       n_jobs=None, oob_score=False, random_state=42, verbose=0,\n",
       "                       warm_start=False)"
      ]
     },
     "execution_count": 366,
     "metadata": {},
     "output_type": "execute_result"
    }
   ],
   "source": [
    "rfc=RandomForestClassifier(n_estimators=10, max_depth=6, random_state=42)\n",
    "rfc.fit(X_train, y_train)"
   ]
  },
  {
   "cell_type": "code",
   "execution_count": 367,
   "metadata": {},
   "outputs": [],
   "source": [
    "preds=rfc.predict(X_test)"
   ]
  },
  {
   "cell_type": "code",
   "execution_count": 368,
   "metadata": {},
   "outputs": [
    {
     "name": "stdout",
     "output_type": "stream",
     "text": [
      "              precision    recall  f1-score   support\n",
      "\n",
      "         0.0       0.72      0.58      0.64     53909\n",
      "         1.0       0.40      0.55      0.46     27511\n",
      "\n",
      "    accuracy                           0.57     81420\n",
      "   macro avg       0.56      0.56      0.55     81420\n",
      "weighted avg       0.61      0.57      0.58     81420\n",
      "\n"
     ]
    }
   ],
   "source": [
    "print(classification_report(y_test,preds))"
   ]
  },
  {
   "cell_type": "markdown",
   "metadata": {},
   "source": [
    "### MODELO XGBClassifier y XGBRFClassifier"
   ]
  },
  {
   "cell_type": "code",
   "execution_count": 369,
   "metadata": {},
   "outputs": [],
   "source": [
    "xgb_model = xgb.XGBClassifier()\n",
    "xgbrf_model = xgb.XGBRFClassifier()"
   ]
  },
  {
   "cell_type": "code",
   "execution_count": 370,
   "metadata": {},
   "outputs": [
    {
     "data": {
      "text/plain": [
       "XGBClassifier(base_score=0.5, booster=None, colsample_bylevel=1,\n",
       "              colsample_bynode=1, colsample_bytree=1, gamma=0, gpu_id=-1,\n",
       "              importance_type='gain', interaction_constraints=None,\n",
       "              learning_rate=0.300000012, max_delta_step=0, max_depth=6,\n",
       "              min_child_weight=1, missing=nan, monotone_constraints=None,\n",
       "              n_estimators=100, n_jobs=0, num_parallel_tree=1,\n",
       "              objective='binary:logistic', random_state=0, reg_alpha=0,\n",
       "              reg_lambda=1, scale_pos_weight=1, subsample=1, tree_method=None,\n",
       "              validate_parameters=False, verbosity=None)"
      ]
     },
     "execution_count": 370,
     "metadata": {},
     "output_type": "execute_result"
    }
   ],
   "source": [
    "xgb_model.fit(X_train,y_train)"
   ]
  },
  {
   "cell_type": "code",
   "execution_count": 371,
   "metadata": {},
   "outputs": [
    {
     "data": {
      "text/plain": [
       "XGBRFClassifier(base_score=0.5, booster=None, colsample_bylevel=1,\n",
       "                colsample_bynode=0.8, colsample_bytree=1, gamma=0, gpu_id=-1,\n",
       "                importance_type='gain', interaction_constraints=None,\n",
       "                learning_rate=1, max_delta_step=0, max_depth=6,\n",
       "                min_child_weight=1, missing=nan, monotone_constraints=None,\n",
       "                n_estimators=100, n_jobs=0, num_parallel_tree=100,\n",
       "                objective='binary:logistic', random_state=0, reg_alpha=0,\n",
       "                reg_lambda=1e-05, scale_pos_weight=1, subsample=0.8,\n",
       "                tree_method=None, validate_parameters=False, verbosity=None)"
      ]
     },
     "execution_count": 371,
     "metadata": {},
     "output_type": "execute_result"
    }
   ],
   "source": [
    "xgbrf_model.fit(X_train,y_train)"
   ]
  },
  {
   "cell_type": "code",
   "execution_count": 372,
   "metadata": {},
   "outputs": [],
   "source": [
    "preds = xgb_model.predict(X_test)"
   ]
  },
  {
   "cell_type": "code",
   "execution_count": 373,
   "metadata": {},
   "outputs": [
    {
     "name": "stdout",
     "output_type": "stream",
     "text": [
      "              precision    recall  f1-score   support\n",
      "\n",
      "         0.0       0.73      0.56      0.63     53909\n",
      "         1.0       0.41      0.59      0.48     27511\n",
      "\n",
      "    accuracy                           0.57     81420\n",
      "   macro avg       0.57      0.57      0.56     81420\n",
      "weighted avg       0.62      0.57      0.58     81420\n",
      "\n"
     ]
    }
   ],
   "source": [
    "print(classification_report(y_test,preds))"
   ]
  },
  {
   "cell_type": "code",
   "execution_count": 374,
   "metadata": {},
   "outputs": [],
   "source": [
    "preds = xgbrf_model.predict(X_test)"
   ]
  },
  {
   "cell_type": "code",
   "execution_count": 375,
   "metadata": {},
   "outputs": [
    {
     "name": "stdout",
     "output_type": "stream",
     "text": [
      "              precision    recall  f1-score   support\n",
      "\n",
      "         0.0       0.72      0.56      0.63     53909\n",
      "         1.0       0.40      0.57      0.47     27511\n",
      "\n",
      "    accuracy                           0.57     81420\n",
      "   macro avg       0.56      0.57      0.55     81420\n",
      "weighted avg       0.61      0.57      0.58     81420\n",
      "\n"
     ]
    }
   ],
   "source": [
    "print(classification_report(y_test,preds))"
   ]
  },
  {
   "cell_type": "markdown",
   "metadata": {},
   "source": [
    "### MODELO KNN"
   ]
  },
  {
   "cell_type": "code",
   "execution_count": 377,
   "metadata": {},
   "outputs": [],
   "source": [
    "from sklearn.neighbors import KNeighborsClassifier\n",
    "from sklearn.model_selection import train_test_split"
   ]
  },
  {
   "cell_type": "code",
   "execution_count": 378,
   "metadata": {},
   "outputs": [],
   "source": [
    "knn = KNeighborsClassifier(n_neighbors=30)"
   ]
  },
  {
   "cell_type": "code",
   "execution_count": 379,
   "metadata": {
    "scrolled": true
   },
   "outputs": [
    {
     "data": {
      "text/plain": [
       "KNeighborsClassifier(algorithm='auto', leaf_size=30, metric='minkowski',\n",
       "                     metric_params=None, n_jobs=None, n_neighbors=30, p=2,\n",
       "                     weights='uniform')"
      ]
     },
     "execution_count": 379,
     "metadata": {},
     "output_type": "execute_result"
    }
   ],
   "source": [
    "# Fit the classifier to the data\n",
    "knn.fit(X_train,y_train)"
   ]
  },
  {
   "cell_type": "code",
   "execution_count": 380,
   "metadata": {},
   "outputs": [],
   "source": [
    "preds = knn.predict(X_test)"
   ]
  },
  {
   "cell_type": "code",
   "execution_count": 381,
   "metadata": {},
   "outputs": [
    {
     "name": "stdout",
     "output_type": "stream",
     "text": [
      "              precision    recall  f1-score   support\n",
      "\n",
      "         0.0       0.68      0.59      0.63     53909\n",
      "         1.0       0.36      0.45      0.40     27511\n",
      "\n",
      "    accuracy                           0.54     81420\n",
      "   macro avg       0.52      0.52      0.52     81420\n",
      "weighted avg       0.57      0.54      0.55     81420\n",
      "\n"
     ]
    }
   ],
   "source": [
    "print(classification_report(y_test,preds))"
   ]
  }
 ],
 "metadata": {
  "celltoolbar": "Raw Cell Format",
  "kernelspec": {
   "display_name": "Python 3",
   "language": "python",
   "name": "python3"
  },
  "language_info": {
   "codemirror_mode": {
    "name": "ipython",
    "version": 3
   },
   "file_extension": ".py",
   "mimetype": "text/x-python",
   "name": "python",
   "nbconvert_exporter": "python",
   "pygments_lexer": "ipython3",
   "version": "3.7.6"
  }
 },
 "nbformat": 4,
 "nbformat_minor": 2
}
