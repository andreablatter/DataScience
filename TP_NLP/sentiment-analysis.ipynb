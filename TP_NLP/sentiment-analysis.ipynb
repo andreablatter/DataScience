{
 "cells": [
  {
   "cell_type": "markdown",
   "metadata": {},
   "source": [
    "# ****============ SENTIMENT ANALYSIS =============****\n",
    "\n",
    "A través de este trabajo se busca poder integrar nociones y conocimientos sobre NLP vistas\n",
    "en el módulo, así como en los previos para generar un modelo de machine learning.\n",
    "El objetivo que van a tener es construir un clasificador el cual pueda predecir si una revisión\n",
    "realizada por un usuario es positiva o negativa (buena o mala).\n",
    "Para ello, utilizaremos un conjunto de datos que pertenece a la plataforma Yelp. Esta,\n",
    "posee una red de usuarios, los cuales realizan opiniones sobre lugares nocturnos, espacios\n",
    "culturales, locales comerciales, entre otros.\n",
    "El dataset a trabajar se encuentra en el siguiente link. Deberán realizar un análisis de\n",
    "features, así como su preparación necesaria antes de iniciar el desarrollo del modelo.\n",
    "Objetivos\n",
    "Deberán generar un modelo de machine learning el cual pueda clasificar review en inglés\n",
    "para la plataforma Yelp. Es decir, nuestro modelo recibirá una review de un usuario, y\n",
    "deberá ser capaz de determinar si esta es positiva o negativa.\n",
    "Dataset\n",
    "Las features que contiene este dataset son las siguientes:\n",
    "● business_id: identificador del negocio al que se está realizando la review.\n",
    "● cool: cantidad de votos por haber sido una review “cool”.\n",
    "● date: fecha de realización de la revisión\n",
    "● funny: cantidad de votos para una revisión “divertida”.\n",
    "● review_id: identificador único de revisión (ofuscado).\n",
    "● stars: cantidad de estrellas otorgadas por el usuario en referencia a la review.\n",
    "● text: revisión realizada por el usuario sobre un determinado negocio.\n",
    "● useful: cantidad de votos recibido por los usuarios a los cuales le resultó útil la\n",
    "revisión.\n",
    "● user_id: id del usuario en la plataforma (ofuscado)\n",
    "Cuento con los datos del business (negocio) sobre el que se realizó la review por si\n",
    "consideran que es necesario para sumar features, datos, etc.\n",
    "Consideraciones\n",
    "● No contamos con una variable target como pasa en problemas de la vida real. Por\n",
    "ello, un desafío extra que se presenta es cómo definir un target, basado en las\n",
    "features del dataset.\n",
    "● Muchas veces cuando importamos un dataset pandas infiere que valor podría ser,\n",
    "de no encontrar un valor conocido pone uno por defecto.Validar que los tipos de\n",
    "datos de las features después de importarse correspondan con su valor intrínseco es\n",
    "una buena práctica.\n",
    "Diplomatura en Data Science Aplicada 2020\n",
    "● Haga una rápida exploración de valores atípicos (outliers) del conjunto de datos.\n",
    "Realice los gráficos que considere pertinente para entender la naturaleza del\n",
    "problema.\n",
    "● Como aplicación opcional, sería interesante investigar, y evaluar si sobre nuestro\n",
    "problema sirve implementar Recursive Feature Elimination, y como y donde lo\n",
    "harían"
   ]
  },
  {
   "cell_type": "code",
   "execution_count": 1,
   "metadata": {
    "_cell_guid": "79c7e3d0-c299-4dcb-8224-4455121ee9b0",
    "_uuid": "d629ff2d2480ee46fbb7e2d37f6b5fab8052498a"
   },
   "outputs": [
    {
     "name": "stderr",
     "output_type": "stream",
     "text": [
      "/home/fer/snap/jupyter/common/lib/python3.7/site-packages/joblib/_multiprocessing_helpers.py:45: UserWarning: [Errno 13] Permission denied.  joblib will operate in serial mode\n",
      "  warnings.warn('%s.  joblib will operate in serial mode' % (e,))\n"
     ]
    }
   ],
   "source": [
    "#Importando librerias\n",
    "#Librerias basicas\n",
    "import pandas as pd\n",
    "import numpy as np\n",
    "import matplotlib.pyplot as plt\n",
    "import seaborn as sns\n",
    "from scipy import stats\n",
    "\n",
    "#Seleccion de features\n",
    "from sklearn.preprocessing import StandardScaler\n",
    "from sklearn.preprocessing import MinMaxScaler\n",
    "#Algoritmo de modelado\n",
    "from sklearn.cluster import KMeans\n",
    "\n",
    "#Evaluacion del modelo\n",
    "#from yellowbrick.cluster import SilhouetteVisualizer\n",
    "\n",
    "import warnings\n",
    "warnings.filterwarnings(action=\"ignore\")\n",
    "\n",
    "#Funcion de preprocesameinto de datos\n",
    "#import func_prepro as pre"
   ]
  },
  {
   "cell_type": "code",
   "execution_count": 2,
   "metadata": {},
   "outputs": [],
   "source": [
    "#Cargamos todos los archivos csv\n",
    "df = pd.read_csv('data/reviews_yelp_nn.csv',sep='\\t',header=0)"
   ]
  },
  {
   "cell_type": "code",
   "execution_count": 3,
   "metadata": {},
   "outputs": [
    {
     "data": {
      "text/plain": [
       "(3342958, 9)"
      ]
     },
     "execution_count": 3,
     "metadata": {},
     "output_type": "execute_result"
    }
   ],
   "source": [
    "#tamaño del dataset\n",
    "df.shape"
   ]
  },
  {
   "cell_type": "code",
   "execution_count": 4,
   "metadata": {},
   "outputs": [
    {
     "data": {
      "text/html": [
       "<div>\n",
       "<style scoped>\n",
       "    .dataframe tbody tr th:only-of-type {\n",
       "        vertical-align: middle;\n",
       "    }\n",
       "\n",
       "    .dataframe tbody tr th {\n",
       "        vertical-align: top;\n",
       "    }\n",
       "\n",
       "    .dataframe thead th {\n",
       "        text-align: right;\n",
       "    }\n",
       "</style>\n",
       "<table border=\"1\" class=\"dataframe\">\n",
       "  <thead>\n",
       "    <tr style=\"text-align: right;\">\n",
       "      <th></th>\n",
       "      <th>business_id</th>\n",
       "      <th>cool</th>\n",
       "      <th>date</th>\n",
       "      <th>funny</th>\n",
       "      <th>review_id</th>\n",
       "      <th>stars</th>\n",
       "      <th>text</th>\n",
       "      <th>useful</th>\n",
       "      <th>user_id</th>\n",
       "    </tr>\n",
       "  </thead>\n",
       "  <tbody>\n",
       "    <tr>\n",
       "      <th>0</th>\n",
       "      <td>EhGPj8iJDIdaHnWg9d5BgA</td>\n",
       "      <td>0</td>\n",
       "      <td>2016-04-20 14:30:53</td>\n",
       "      <td>0.0</td>\n",
       "      <td>uJRdHLz4XNmDK5pOkWbZNA</td>\n",
       "      <td>5.0</td>\n",
       "      <td>Best Dim Sum in the city, their cart service i...</td>\n",
       "      <td>0.0</td>\n",
       "      <td>POETn3fQcZ8ngLAARCATSg</td>\n",
       "    </tr>\n",
       "    <tr>\n",
       "      <th>1</th>\n",
       "      <td>VPcFNI-6HICR5SJM--KjNA</td>\n",
       "      <td>5</td>\n",
       "      <td>2013-05-14 03:08:12</td>\n",
       "      <td>2.0</td>\n",
       "      <td>TlPh8jy8bt_TSGfjEw-pvA</td>\n",
       "      <td>5.0</td>\n",
       "      <td>How... HOW did I not head down here sooner? Fo...</td>\n",
       "      <td>7.0</td>\n",
       "      <td>oUK6Xs5dPPnP4whFeZExGg</td>\n",
       "    </tr>\n",
       "    <tr>\n",
       "      <th>2</th>\n",
       "      <td>ugdUuApH3pYXggW5qpbALg</td>\n",
       "      <td>0</td>\n",
       "      <td>2016-08-26 16:51:37</td>\n",
       "      <td>0.0</td>\n",
       "      <td>GmoBAVE1pTo0kjmeKrXmLQ</td>\n",
       "      <td>4.0</td>\n",
       "      <td>Carnitas were wonderful. First time there and ...</td>\n",
       "      <td>0.0</td>\n",
       "      <td>SiaSUNlKQK7f57WBPmyyNw</td>\n",
       "    </tr>\n",
       "    <tr>\n",
       "      <th>3</th>\n",
       "      <td>3fCxmmg8nHGaE5upJWQUrw</td>\n",
       "      <td>0</td>\n",
       "      <td>2016-03-24 17:23:19</td>\n",
       "      <td>0.0</td>\n",
       "      <td>ZHuM9P81zfuNuFZ5ThXNRg</td>\n",
       "      <td>5.0</td>\n",
       "      <td>Great staff who are always willing to help. I ...</td>\n",
       "      <td>0.0</td>\n",
       "      <td>PsH5Qi8R69WAlhNv8mXWRA</td>\n",
       "    </tr>\n",
       "    <tr>\n",
       "      <th>4</th>\n",
       "      <td>LAqbIi2TDn8BDvPB0nLVhQ</td>\n",
       "      <td>1</td>\n",
       "      <td>2012-10-25 15:02:48</td>\n",
       "      <td>0.0</td>\n",
       "      <td>-2Ce00mfWYP20yt7k6kARg</td>\n",
       "      <td>3.0</td>\n",
       "      <td>This place is bigger, brighter, new so it's cl...</td>\n",
       "      <td>3.0</td>\n",
       "      <td>r-zUIQPaHzvIyL93wQaoiQ</td>\n",
       "    </tr>\n",
       "  </tbody>\n",
       "</table>\n",
       "</div>"
      ],
      "text/plain": [
       "              business_id cool                 date  funny  \\\n",
       "0  EhGPj8iJDIdaHnWg9d5BgA    0  2016-04-20 14:30:53    0.0   \n",
       "1  VPcFNI-6HICR5SJM--KjNA    5  2013-05-14 03:08:12    2.0   \n",
       "2  ugdUuApH3pYXggW5qpbALg    0  2016-08-26 16:51:37    0.0   \n",
       "3  3fCxmmg8nHGaE5upJWQUrw    0  2016-03-24 17:23:19    0.0   \n",
       "4  LAqbIi2TDn8BDvPB0nLVhQ    1  2012-10-25 15:02:48    0.0   \n",
       "\n",
       "                review_id  stars  \\\n",
       "0  uJRdHLz4XNmDK5pOkWbZNA    5.0   \n",
       "1  TlPh8jy8bt_TSGfjEw-pvA    5.0   \n",
       "2  GmoBAVE1pTo0kjmeKrXmLQ    4.0   \n",
       "3  ZHuM9P81zfuNuFZ5ThXNRg    5.0   \n",
       "4  -2Ce00mfWYP20yt7k6kARg    3.0   \n",
       "\n",
       "                                                text  useful  \\\n",
       "0  Best Dim Sum in the city, their cart service i...     0.0   \n",
       "1  How... HOW did I not head down here sooner? Fo...     7.0   \n",
       "2  Carnitas were wonderful. First time there and ...     0.0   \n",
       "3  Great staff who are always willing to help. I ...     0.0   \n",
       "4  This place is bigger, brighter, new so it's cl...     3.0   \n",
       "\n",
       "                  user_id  \n",
       "0  POETn3fQcZ8ngLAARCATSg  \n",
       "1  oUK6Xs5dPPnP4whFeZExGg  \n",
       "2  SiaSUNlKQK7f57WBPmyyNw  \n",
       "3  PsH5Qi8R69WAlhNv8mXWRA  \n",
       "4  r-zUIQPaHzvIyL93wQaoiQ  "
      ]
     },
     "execution_count": 4,
     "metadata": {},
     "output_type": "execute_result"
    }
   ],
   "source": [
    "df.head()"
   ]
  },
  {
   "cell_type": "markdown",
   "metadata": {},
   "source": [
    "### Distribucion de los datos por review"
   ]
  },
  {
   "cell_type": "code",
   "execution_count": 6,
   "metadata": {},
   "outputs": [
    {
     "data": {
      "image/png": "[encoded data removed]",
      "text/plain": [
       "<Figure size 432x288 with 1 Axes>"
      ]
     },
     "metadata": {
      "needs_background": "light"
     },
     "output_type": "display_data"
    }
   ],
   "source": [
    "ratings = df['stars']\n",
    "fig = plt.figure(figsize = (6, 4))\n",
    "\n",
    "title = fig.suptitle('Stars distribution', fontsize = 14)\n",
    "\n",
    "fig.subplots_adjust(top = 0.85, wspace = 0.3)\n",
    "\n",
    "ax = fig.add_subplot(1, 1, 1)\n",
    "ax.set_xlabel(\"Rating\")\n",
    "ax.set_ylabel(\"Proportion\")\n",
    "w_q = ratings.value_counts(normalize = True)\n",
    "w_q = (list(w_q.index), list(w_q.values))\n",
    "ax.tick_params(axis = 'both', which = 'major', labelsize = 0.5)\n",
    "bar = ax.bar(w_q[0], w_q[1], color = 'steelblue')"
   ]
  },
  {
   "cell_type": "markdown",
   "metadata": {},
   "source": [
    "### Creamos la variable target"
   ]
  },
  {
   "cell_type": "code",
   "execution_count": 7,
   "metadata": {},
   "outputs": [],
   "source": [
    "#definimos que las review con 4 o 5 estrellas seran positivas, y las que posean menos seran negativas\n",
    "def get_target(star):\n",
    "    return 'positive' if star> 3 else 'negative'\n"
   ]
  },
  {
   "cell_type": "code",
   "execution_count": 8,
   "metadata": {},
   "outputs": [],
   "source": [
    "df['target']= df['stars'].apply(lambda x: get_target(x))"
   ]
  },
  {
   "cell_type": "code",
   "execution_count": 9,
   "metadata": {},
   "outputs": [
    {
     "data": {
      "text/html": [
       "<div>\n",
       "<style scoped>\n",
       "    .dataframe tbody tr th:only-of-type {\n",
       "        vertical-align: middle;\n",
       "    }\n",
       "\n",
       "    .dataframe tbody tr th {\n",
       "        vertical-align: top;\n",
       "    }\n",
       "\n",
       "    .dataframe thead th {\n",
       "        text-align: right;\n",
       "    }\n",
       "</style>\n",
       "<table border=\"1\" class=\"dataframe\">\n",
       "  <thead>\n",
       "    <tr style=\"text-align: right;\">\n",
       "      <th></th>\n",
       "      <th>business_id</th>\n",
       "      <th>cool</th>\n",
       "      <th>date</th>\n",
       "      <th>funny</th>\n",
       "      <th>review_id</th>\n",
       "      <th>stars</th>\n",
       "      <th>text</th>\n",
       "      <th>useful</th>\n",
       "      <th>user_id</th>\n",
       "      <th>target</th>\n",
       "    </tr>\n",
       "  </thead>\n",
       "  <tbody>\n",
       "    <tr>\n",
       "      <th>3342953</th>\n",
       "      <td>oryS4vX0xkKC4tOekgowDQ</td>\n",
       "      <td>0</td>\n",
       "      <td>2016-07-17 21:32:48</td>\n",
       "      <td>0.0</td>\n",
       "      <td>pBNcMg-KVzZG-xDu9cgLww</td>\n",
       "      <td>2.0</td>\n",
       "      <td>Slow service to seat and then to serve. Left w...</td>\n",
       "      <td>0.0</td>\n",
       "      <td>srjcYNoIOXJ57VP8z7gwmQ</td>\n",
       "      <td>negative</td>\n",
       "    </tr>\n",
       "    <tr>\n",
       "      <th>3342954</th>\n",
       "      <td>na4Th5DrNauOv-c43QQFvA</td>\n",
       "      <td>4</td>\n",
       "      <td>2017-11-28 22:43:05</td>\n",
       "      <td>2.0</td>\n",
       "      <td>xNG2SzEHJi7w7LbJDF7Oog</td>\n",
       "      <td>4.0</td>\n",
       "      <td>I stayed at the Bellagio for 3 nights this mon...</td>\n",
       "      <td>12.0</td>\n",
       "      <td>uCNgCZCuo07ew0sWPB1z7g</td>\n",
       "      <td>positive</td>\n",
       "    </tr>\n",
       "    <tr>\n",
       "      <th>3342955</th>\n",
       "      <td>Lg238Ittk3KO3lqHyBAcYA</td>\n",
       "      <td>1</td>\n",
       "      <td>2016-10-07 06:05:29</td>\n",
       "      <td>1.0</td>\n",
       "      <td>RCNXjfRdRZ2exHihiy-oqw</td>\n",
       "      <td>5.0</td>\n",
       "      <td>1: book an appointment!  You get to walk past ...</td>\n",
       "      <td>1.0</td>\n",
       "      <td>v1w2A6kHRiI1OD4DyXOiDQ</td>\n",
       "      <td>positive</td>\n",
       "    </tr>\n",
       "    <tr>\n",
       "      <th>3342956</th>\n",
       "      <td>NxeEdKkvbZmuuBar_1NFrg</td>\n",
       "      <td>1</td>\n",
       "      <td>2014-10-19 18:02:56</td>\n",
       "      <td>2.0</td>\n",
       "      <td>g0mcjOV3o3-dPzpKiRecDg</td>\n",
       "      <td>1.0</td>\n",
       "      <td>This review is based on quality of pricing, no...</td>\n",
       "      <td>13.0</td>\n",
       "      <td>j-i6_zboeko9mkR9UIFKMw</td>\n",
       "      <td>negative</td>\n",
       "    </tr>\n",
       "    <tr>\n",
       "      <th>3342957</th>\n",
       "      <td>yvtxKjAySVvpPKt0VLWscQ</td>\n",
       "      <td>0</td>\n",
       "      <td>2018-07-02 20:38:51</td>\n",
       "      <td>0.0</td>\n",
       "      <td>rH76Hu3UG1HcfeDS3zJS-A</td>\n",
       "      <td>2.0</td>\n",
       "      <td>I posted and review earlier that was removed. ...</td>\n",
       "      <td>0.0</td>\n",
       "      <td>yWFFDVEoY_g3aCtMWf7odQ</td>\n",
       "      <td>negative</td>\n",
       "    </tr>\n",
       "  </tbody>\n",
       "</table>\n",
       "</div>"
      ],
      "text/plain": [
       "                    business_id cool                 date  funny  \\\n",
       "3342953  oryS4vX0xkKC4tOekgowDQ    0  2016-07-17 21:32:48    0.0   \n",
       "3342954  na4Th5DrNauOv-c43QQFvA    4  2017-11-28 22:43:05    2.0   \n",
       "3342955  Lg238Ittk3KO3lqHyBAcYA    1  2016-10-07 06:05:29    1.0   \n",
       "3342956  NxeEdKkvbZmuuBar_1NFrg    1  2014-10-19 18:02:56    2.0   \n",
       "3342957  yvtxKjAySVvpPKt0VLWscQ    0  2018-07-02 20:38:51    0.0   \n",
       "\n",
       "                      review_id  stars  \\\n",
       "3342953  pBNcMg-KVzZG-xDu9cgLww    2.0   \n",
       "3342954  xNG2SzEHJi7w7LbJDF7Oog    4.0   \n",
       "3342955  RCNXjfRdRZ2exHihiy-oqw    5.0   \n",
       "3342956  g0mcjOV3o3-dPzpKiRecDg    1.0   \n",
       "3342957  rH76Hu3UG1HcfeDS3zJS-A    2.0   \n",
       "\n",
       "                                                      text  useful  \\\n",
       "3342953  Slow service to seat and then to serve. Left w...     0.0   \n",
       "3342954  I stayed at the Bellagio for 3 nights this mon...    12.0   \n",
       "3342955  1: book an appointment!  You get to walk past ...     1.0   \n",
       "3342956  This review is based on quality of pricing, no...    13.0   \n",
       "3342957  I posted and review earlier that was removed. ...     0.0   \n",
       "\n",
       "                        user_id    target  \n",
       "3342953  srjcYNoIOXJ57VP8z7gwmQ  negative  \n",
       "3342954  uCNgCZCuo07ew0sWPB1z7g  positive  \n",
       "3342955  v1w2A6kHRiI1OD4DyXOiDQ  positive  \n",
       "3342956  j-i6_zboeko9mkR9UIFKMw  negative  \n",
       "3342957  yWFFDVEoY_g3aCtMWf7odQ  negative  "
      ]
     },
     "execution_count": 9,
     "metadata": {},
     "output_type": "execute_result"
    }
   ],
   "source": [
    "df.tail()"
   ]
  },
  {
   "cell_type": "markdown",
   "metadata": {},
   "source": [
    "# ** 1. Exploración de datos **\n",
    "\n",
    "En esta etapa se lleva a cabo la exploración de datos para obtener información que puede ser útil para la empresa."
   ]
  },
  {
   "cell_type": "code",
   "execution_count": 10,
   "metadata": {},
   "outputs": [
    {
     "data": {
      "text/plain": [
       "business_id     186747\n",
       "cool               248\n",
       "date           3309298\n",
       "funny              187\n",
       "review_id      3342949\n",
       "stars                5\n",
       "text           3338493\n",
       "useful             232\n",
       "user_id        1114848\n",
       "target               2\n",
       "dtype: int64"
      ]
     },
     "execution_count": 10,
     "metadata": {},
     "output_type": "execute_result"
    }
   ],
   "source": [
    "#vemos si existe alguna columna que repita el mismo valor para todos los registros \n",
    "df.nunique()"
   ]
  },
  {
   "cell_type": "code",
   "execution_count": 11,
   "metadata": {},
   "outputs": [
    {
     "data": {
      "text/plain": [
       "False"
      ]
     },
     "execution_count": 11,
     "metadata": {},
     "output_type": "execute_result"
    }
   ],
   "source": [
    "df.duplicated().any() # no hay duplicados de registros "
   ]
  },
  {
   "cell_type": "markdown",
   "metadata": {},
   "source": [
    "### Chequeamos si existen valores nulos"
   ]
  },
  {
   "cell_type": "code",
   "execution_count": 12,
   "metadata": {},
   "outputs": [
    {
     "data": {
      "text/plain": [
       "<AxesSubplot:>"
      ]
     },
     "execution_count": 12,
     "metadata": {},
     "output_type": "execute_result"
    },
    {
     "data": {
      "image/png": "[encoded data removed]",
      "text/plain": [
       "<Figure size 432x288 with 1 Axes>"
      ]
     },
     "metadata": {
      "needs_background": "light"
     },
     "output_type": "display_data"
    }
   ],
   "source": [
    "sns.heatmap(df[df.columns[0:20]].isnull(), cbar=False)"
   ]
  },
  {
   "cell_type": "markdown",
   "metadata": {},
   "source": [
    "#### Podemos observar que no hay nulos"
   ]
  },
  {
   "cell_type": "markdown",
   "metadata": {},
   "source": [
    "### Analizamos outliers"
   ]
  },
  {
   "cell_type": "code",
   "execution_count": 13,
   "metadata": {},
   "outputs": [
    {
     "data": {
      "text/plain": [
       "<AxesSubplot:>"
      ]
     },
     "execution_count": 13,
     "metadata": {},
     "output_type": "execute_result"
    },
    {
     "data": {
      "image/png": "[encoded data removed]",
      "text/plain": [
       "<Figure size 432x288 with 1 Axes>"
      ]
     },
     "metadata": {
      "needs_background": "light"
     },
     "output_type": "display_data"
    }
   ],
   "source": [
    "#valores outliers \n",
    "df.boxplot()"
   ]
  },
  {
   "cell_type": "code",
   "execution_count": 14,
   "metadata": {},
   "outputs": [],
   "source": [
    "#vemos que tenemos valores outliers en funny y useful entonces los trataremos \n",
    "df.loc[df['funny']>df['funny'].quantile(0.99),'funny'] = df['funny'].quantile(0.99)\n",
    "df.loc[df['useful']>df['useful'].quantile(0.99),'useful'] = df['useful'].quantile(0.99)"
   ]
  },
  {
   "cell_type": "code",
   "execution_count": 15,
   "metadata": {},
   "outputs": [
    {
     "data": {
      "text/plain": [
       "<AxesSubplot:>"
      ]
     },
     "execution_count": 15,
     "metadata": {},
     "output_type": "execute_result"
    },
    {
     "data": {
      "image/png": "[encoded data removed]",
      "text/plain": [
       "<Figure size 432x288 with 1 Axes>"
      ]
     },
     "metadata": {
      "needs_background": "light"
     },
     "output_type": "display_data"
    }
   ],
   "source": [
    "#vemos como nos quedo el dataset luego de la eliminacion de outliers\n",
    "df.boxplot()"
   ]
  },
  {
   "cell_type": "code",
   "execution_count": 16,
   "metadata": {},
   "outputs": [
    {
     "data": {
      "text/plain": [
       "(3342958, 10)"
      ]
     },
     "execution_count": 16,
     "metadata": {},
     "output_type": "execute_result"
    }
   ],
   "source": [
    "#tamaño del dataset luego de la eliminacion de outliers \n",
    "df.shape"
   ]
  },
  {
   "cell_type": "markdown",
   "metadata": {},
   "source": [
    "### Mapa de correlación"
   ]
  },
  {
   "cell_type": "code",
   "execution_count": 17,
   "metadata": {
    "scrolled": true
   },
   "outputs": [
    {
     "data": {
      "text/plain": [
       "Text(0.5, 1, 'Mapa de correlación')"
      ]
     },
     "execution_count": 17,
     "metadata": {},
     "output_type": "execute_result"
    },
    {
     "data": {
      "image/png": "[encoded data removed]",
      "text/plain": [
       "<Figure size 720x432 with 2 Axes>"
      ]
     },
     "metadata": {
      "needs_background": "light"
     },
     "output_type": "display_data"
    }
   ],
   "source": [
    "#mapa de correlacion\n",
    "f,ax = plt.subplots(figsize=(10, 6))\n",
    "g = sns.heatmap(df.corr(),\n",
    "            annot=True, linewidths=.5, fmt= '.1f', ax=ax)\n",
    "plt.suptitle(\"Mapa de correlación\",\n",
    "               fontsize=16, weight=\"bold\", y=1)"
   ]
  },
  {
   "cell_type": "markdown",
   "metadata": {},
   "source": [
    "#### Podemos observar que las variables que presentan mayor correlacion son useful con funny"
   ]
  },
  {
   "cell_type": "markdown",
   "metadata": {},
   "source": [
    "### Sampleo de los datos"
   ]
  },
  {
   "cell_type": "code",
   "execution_count": 18,
   "metadata": {},
   "outputs": [
    {
     "data": {
      "text/plain": [
       "stars\n",
       "1.0    0.149914\n",
       "2.0    0.081144\n",
       "3.0    0.110502\n",
       "4.0    0.219540\n",
       "5.0    0.438900\n",
       "Name: stars, dtype: float64"
      ]
     },
     "execution_count": 18,
     "metadata": {},
     "output_type": "execute_result"
    }
   ],
   "source": [
    "# proporcion porcada tipo de estrella --ANDRE esto es lo qeu hizo el profe de la proporcion para luego hacer el sampling\n",
    "stars=df.groupby(['stars'])['stars'].count()/df['stars'].count().sum()\n",
    "stars\n"
   ]
  },
  {
   "cell_type": "code",
   "execution_count": 19,
   "metadata": {},
   "outputs": [],
   "source": [
    "weights = [\n",
    "    {'id': 1,'weight': 0.149914},\n",
    "    {'id': 2,'weight': 0.081144},\n",
    "    {'id': 3,'weight': 0.110502},\n",
    "    {'id': 4,'weight': 0.219540},\n",
    "    {'id': 5,'weight': 0.438900}\n",
    "]\n",
    "\n",
    "def getWeight(rate):\n",
    "    for x in weights:\n",
    "        if rate == x['id']:\n",
    "            return x['weight']\n",
    "        \n",
    "df['weights'] = df['stars'].apply( lambda x: getWeight(x) )"
   ]
  },
  {
   "cell_type": "code",
   "execution_count": 20,
   "metadata": {},
   "outputs": [
    {
     "data": {
      "text/html": [
       "<div>\n",
       "<style scoped>\n",
       "    .dataframe tbody tr th:only-of-type {\n",
       "        vertical-align: middle;\n",
       "    }\n",
       "\n",
       "    .dataframe tbody tr th {\n",
       "        vertical-align: top;\n",
       "    }\n",
       "\n",
       "    .dataframe thead th {\n",
       "        text-align: right;\n",
       "    }\n",
       "</style>\n",
       "<table border=\"1\" class=\"dataframe\">\n",
       "  <thead>\n",
       "    <tr style=\"text-align: right;\">\n",
       "      <th></th>\n",
       "      <th>business_id</th>\n",
       "      <th>cool</th>\n",
       "      <th>date</th>\n",
       "      <th>funny</th>\n",
       "      <th>review_id</th>\n",
       "      <th>stars</th>\n",
       "      <th>text</th>\n",
       "      <th>useful</th>\n",
       "      <th>user_id</th>\n",
       "      <th>target</th>\n",
       "      <th>weights</th>\n",
       "    </tr>\n",
       "  </thead>\n",
       "  <tbody>\n",
       "    <tr>\n",
       "      <th>0</th>\n",
       "      <td>EhGPj8iJDIdaHnWg9d5BgA</td>\n",
       "      <td>0</td>\n",
       "      <td>2016-04-20 14:30:53</td>\n",
       "      <td>0.0</td>\n",
       "      <td>uJRdHLz4XNmDK5pOkWbZNA</td>\n",
       "      <td>5.0</td>\n",
       "      <td>Best Dim Sum in the city, their cart service i...</td>\n",
       "      <td>0.0</td>\n",
       "      <td>POETn3fQcZ8ngLAARCATSg</td>\n",
       "      <td>positive</td>\n",
       "      <td>0.438900</td>\n",
       "    </tr>\n",
       "    <tr>\n",
       "      <th>1</th>\n",
       "      <td>VPcFNI-6HICR5SJM--KjNA</td>\n",
       "      <td>5</td>\n",
       "      <td>2013-05-14 03:08:12</td>\n",
       "      <td>2.0</td>\n",
       "      <td>TlPh8jy8bt_TSGfjEw-pvA</td>\n",
       "      <td>5.0</td>\n",
       "      <td>How... HOW did I not head down here sooner? Fo...</td>\n",
       "      <td>7.0</td>\n",
       "      <td>oUK6Xs5dPPnP4whFeZExGg</td>\n",
       "      <td>positive</td>\n",
       "      <td>0.438900</td>\n",
       "    </tr>\n",
       "    <tr>\n",
       "      <th>2</th>\n",
       "      <td>ugdUuApH3pYXggW5qpbALg</td>\n",
       "      <td>0</td>\n",
       "      <td>2016-08-26 16:51:37</td>\n",
       "      <td>0.0</td>\n",
       "      <td>GmoBAVE1pTo0kjmeKrXmLQ</td>\n",
       "      <td>4.0</td>\n",
       "      <td>Carnitas were wonderful. First time there and ...</td>\n",
       "      <td>0.0</td>\n",
       "      <td>SiaSUNlKQK7f57WBPmyyNw</td>\n",
       "      <td>positive</td>\n",
       "      <td>0.219540</td>\n",
       "    </tr>\n",
       "    <tr>\n",
       "      <th>3</th>\n",
       "      <td>3fCxmmg8nHGaE5upJWQUrw</td>\n",
       "      <td>0</td>\n",
       "      <td>2016-03-24 17:23:19</td>\n",
       "      <td>0.0</td>\n",
       "      <td>ZHuM9P81zfuNuFZ5ThXNRg</td>\n",
       "      <td>5.0</td>\n",
       "      <td>Great staff who are always willing to help. I ...</td>\n",
       "      <td>0.0</td>\n",
       "      <td>PsH5Qi8R69WAlhNv8mXWRA</td>\n",
       "      <td>positive</td>\n",
       "      <td>0.438900</td>\n",
       "    </tr>\n",
       "    <tr>\n",
       "      <th>4</th>\n",
       "      <td>LAqbIi2TDn8BDvPB0nLVhQ</td>\n",
       "      <td>1</td>\n",
       "      <td>2012-10-25 15:02:48</td>\n",
       "      <td>0.0</td>\n",
       "      <td>-2Ce00mfWYP20yt7k6kARg</td>\n",
       "      <td>3.0</td>\n",
       "      <td>This place is bigger, brighter, new so it's cl...</td>\n",
       "      <td>3.0</td>\n",
       "      <td>r-zUIQPaHzvIyL93wQaoiQ</td>\n",
       "      <td>negative</td>\n",
       "      <td>0.110502</td>\n",
       "    </tr>\n",
       "  </tbody>\n",
       "</table>\n",
       "</div>"
      ],
      "text/plain": [
       "              business_id cool                 date  funny  \\\n",
       "0  EhGPj8iJDIdaHnWg9d5BgA    0  2016-04-20 14:30:53    0.0   \n",
       "1  VPcFNI-6HICR5SJM--KjNA    5  2013-05-14 03:08:12    2.0   \n",
       "2  ugdUuApH3pYXggW5qpbALg    0  2016-08-26 16:51:37    0.0   \n",
       "3  3fCxmmg8nHGaE5upJWQUrw    0  2016-03-24 17:23:19    0.0   \n",
       "4  LAqbIi2TDn8BDvPB0nLVhQ    1  2012-10-25 15:02:48    0.0   \n",
       "\n",
       "                review_id  stars  \\\n",
       "0  uJRdHLz4XNmDK5pOkWbZNA    5.0   \n",
       "1  TlPh8jy8bt_TSGfjEw-pvA    5.0   \n",
       "2  GmoBAVE1pTo0kjmeKrXmLQ    4.0   \n",
       "3  ZHuM9P81zfuNuFZ5ThXNRg    5.0   \n",
       "4  -2Ce00mfWYP20yt7k6kARg    3.0   \n",
       "\n",
       "                                                text  useful  \\\n",
       "0  Best Dim Sum in the city, their cart service i...     0.0   \n",
       "1  How... HOW did I not head down here sooner? Fo...     7.0   \n",
       "2  Carnitas were wonderful. First time there and ...     0.0   \n",
       "3  Great staff who are always willing to help. I ...     0.0   \n",
       "4  This place is bigger, brighter, new so it's cl...     3.0   \n",
       "\n",
       "                  user_id    target   weights  \n",
       "0  POETn3fQcZ8ngLAARCATSg  positive  0.438900  \n",
       "1  oUK6Xs5dPPnP4whFeZExGg  positive  0.438900  \n",
       "2  SiaSUNlKQK7f57WBPmyyNw  positive  0.219540  \n",
       "3  PsH5Qi8R69WAlhNv8mXWRA  positive  0.438900  \n",
       "4  r-zUIQPaHzvIyL93wQaoiQ  negative  0.110502  "
      ]
     },
     "execution_count": 20,
     "metadata": {},
     "output_type": "execute_result"
    }
   ],
   "source": [
    "df.head()"
   ]
  },
  {
   "cell_type": "markdown",
   "metadata": {},
   "source": [
    "### Haremos un sample basado en los pesos de distribucion"
   ]
  },
  {
   "cell_type": "code",
   "execution_count": 21,
   "metadata": {},
   "outputs": [
    {
     "data": {
      "text/html": [
       "<div>\n",
       "<style scoped>\n",
       "    .dataframe tbody tr th:only-of-type {\n",
       "        vertical-align: middle;\n",
       "    }\n",
       "\n",
       "    .dataframe tbody tr th {\n",
       "        vertical-align: top;\n",
       "    }\n",
       "\n",
       "    .dataframe thead th {\n",
       "        text-align: right;\n",
       "    }\n",
       "</style>\n",
       "<table border=\"1\" class=\"dataframe\">\n",
       "  <thead>\n",
       "    <tr style=\"text-align: right;\">\n",
       "      <th></th>\n",
       "      <th>business_id</th>\n",
       "      <th>cool</th>\n",
       "      <th>date</th>\n",
       "      <th>funny</th>\n",
       "      <th>review_id</th>\n",
       "      <th>stars</th>\n",
       "      <th>text</th>\n",
       "      <th>useful</th>\n",
       "      <th>user_id</th>\n",
       "      <th>target</th>\n",
       "      <th>weights</th>\n",
       "    </tr>\n",
       "  </thead>\n",
       "  <tbody>\n",
       "    <tr>\n",
       "      <th>1393861</th>\n",
       "      <td>oHeiAs-mnDJU1_4BD8_5Dg</td>\n",
       "      <td>0</td>\n",
       "      <td>2014-03-23 00:18:23</td>\n",
       "      <td>1.0</td>\n",
       "      <td>7h2PQpdxX3mu1Tj2yrapEQ</td>\n",
       "      <td>4.0</td>\n",
       "      <td>Excited that there's a new place to eat around...</td>\n",
       "      <td>11.0</td>\n",
       "      <td>h7a4TrmV9rBrBIcJgD54CQ</td>\n",
       "      <td>positive</td>\n",
       "      <td>0.21954</td>\n",
       "    </tr>\n",
       "    <tr>\n",
       "      <th>2407437</th>\n",
       "      <td>RC676YqyW2DCf9HhF1dPOQ</td>\n",
       "      <td>0</td>\n",
       "      <td>2015-03-26 17:26:05</td>\n",
       "      <td>0.0</td>\n",
       "      <td>Ntt4zSXcNM1p9HoI2usVag</td>\n",
       "      <td>5.0</td>\n",
       "      <td>I found this studio when I received a spa find...</td>\n",
       "      <td>1.0</td>\n",
       "      <td>dIHe5qoehkggNLcExPw_VQ</td>\n",
       "      <td>positive</td>\n",
       "      <td>0.43890</td>\n",
       "    </tr>\n",
       "    <tr>\n",
       "      <th>396</th>\n",
       "      <td>5QNXZcclknB2PkfeN7FJWQ</td>\n",
       "      <td>2</td>\n",
       "      <td>2011-04-04 00:57:05</td>\n",
       "      <td>2.0</td>\n",
       "      <td>Tc_BpEyOIN1OMJMoyXqugw</td>\n",
       "      <td>4.0</td>\n",
       "      <td>Rating this place is almost unfair. First off....</td>\n",
       "      <td>3.0</td>\n",
       "      <td>2DECrukmumziXTBI20idTA</td>\n",
       "      <td>positive</td>\n",
       "      <td>0.21954</td>\n",
       "    </tr>\n",
       "    <tr>\n",
       "      <th>1011074</th>\n",
       "      <td>K-SsrPH0nFExdpLrTo1X1w</td>\n",
       "      <td>0</td>\n",
       "      <td>2015-12-09 00:25:39</td>\n",
       "      <td>0.0</td>\n",
       "      <td>BX-1VF4f5PvwYbbwFysE2A</td>\n",
       "      <td>4.0</td>\n",
       "      <td>Burgatory is a great place to \"get your carniv...</td>\n",
       "      <td>0.0</td>\n",
       "      <td>cz8H43bKsrhv_KHRgk07QQ</td>\n",
       "      <td>positive</td>\n",
       "      <td>0.21954</td>\n",
       "    </tr>\n",
       "    <tr>\n",
       "      <th>490528</th>\n",
       "      <td>Ac-DbrST8bF9Cpge5D9_Cg</td>\n",
       "      <td>0</td>\n",
       "      <td>2015-09-06 05:18:36</td>\n",
       "      <td>0.0</td>\n",
       "      <td>4FpiAh_Y3gvFU_uygV1U7Q</td>\n",
       "      <td>4.0</td>\n",
       "      <td>The best Pho and dumplings I've had in Pittsbu...</td>\n",
       "      <td>0.0</td>\n",
       "      <td>icmG-ZBRNSScSUJ-Nj1lhQ</td>\n",
       "      <td>positive</td>\n",
       "      <td>0.21954</td>\n",
       "    </tr>\n",
       "  </tbody>\n",
       "</table>\n",
       "</div>"
      ],
      "text/plain": [
       "                    business_id cool                 date  funny  \\\n",
       "1393861  oHeiAs-mnDJU1_4BD8_5Dg    0  2014-03-23 00:18:23    1.0   \n",
       "2407437  RC676YqyW2DCf9HhF1dPOQ    0  2015-03-26 17:26:05    0.0   \n",
       "396      5QNXZcclknB2PkfeN7FJWQ    2  2011-04-04 00:57:05    2.0   \n",
       "1011074  K-SsrPH0nFExdpLrTo1X1w    0  2015-12-09 00:25:39    0.0   \n",
       "490528   Ac-DbrST8bF9Cpge5D9_Cg    0  2015-09-06 05:18:36    0.0   \n",
       "\n",
       "                      review_id  stars  \\\n",
       "1393861  7h2PQpdxX3mu1Tj2yrapEQ    4.0   \n",
       "2407437  Ntt4zSXcNM1p9HoI2usVag    5.0   \n",
       "396      Tc_BpEyOIN1OMJMoyXqugw    4.0   \n",
       "1011074  BX-1VF4f5PvwYbbwFysE2A    4.0   \n",
       "490528   4FpiAh_Y3gvFU_uygV1U7Q    4.0   \n",
       "\n",
       "                                                      text  useful  \\\n",
       "1393861  Excited that there's a new place to eat around...    11.0   \n",
       "2407437  I found this studio when I received a spa find...     1.0   \n",
       "396      Rating this place is almost unfair. First off....     3.0   \n",
       "1011074  Burgatory is a great place to \"get your carniv...     0.0   \n",
       "490528   The best Pho and dumplings I've had in Pittsbu...     0.0   \n",
       "\n",
       "                        user_id    target  weights  \n",
       "1393861  h7a4TrmV9rBrBIcJgD54CQ  positive  0.21954  \n",
       "2407437  dIHe5qoehkggNLcExPw_VQ  positive  0.43890  \n",
       "396      2DECrukmumziXTBI20idTA  positive  0.21954  \n",
       "1011074  cz8H43bKsrhv_KHRgk07QQ  positive  0.21954  \n",
       "490528   icmG-ZBRNSScSUJ-Nj1lhQ  positive  0.21954  "
      ]
     },
     "execution_count": 21,
     "metadata": {},
     "output_type": "execute_result"
    }
   ],
   "source": [
    "#mantenemos los pesos, el objetivo es que el sampleo no pierda la distribucion de esos pesos\n",
    "sample = df.sample(n=1000, weights='weights', random_state=1)\n",
    "sample.head()"
   ]
  },
  {
   "cell_type": "code",
   "execution_count": 22,
   "metadata": {},
   "outputs": [
    {
     "data": {
      "image/png": "[encoded data removed]",
      "text/plain": [
       "<Figure size 432x288 with 1 Axes>"
      ]
     },
     "metadata": {
      "needs_background": "light"
     },
     "output_type": "display_data"
    }
   ],
   "source": [
    "#Veremos si la distribucion de los datos luego del sampleo es similar a la previa\n",
    "ratings = sample['stars']\n",
    "fig = plt.figure(figsize = (6, 4))\n",
    "\n",
    "title = fig.suptitle('Stars distribution for the sample', fontsize = 14)\n",
    "\n",
    "fig.subplots_adjust(top = 0.85, wspace = 0.3)\n",
    "\n",
    "ax = fig.add_subplot(1, 1, 1)\n",
    "ax.set_xlabel(\"Rating\")\n",
    "ax.set_ylabel(\"Proportion\")\n",
    "w_q = ratings.value_counts(normalize = True)\n",
    "w_q = (list(w_q.index), list(w_q.values))\n",
    "ax.tick_params(axis = 'both', which = 'major', labelsize = 0.5)\n",
    "bar = ax.bar(w_q[0], w_q[1], color = 'steelblue')"
   ]
  },
  {
   "cell_type": "code",
   "execution_count": 23,
   "metadata": {},
   "outputs": [
    {
     "data": {
      "text/plain": [
       "(1000, 11)"
      ]
     },
     "execution_count": 23,
     "metadata": {},
     "output_type": "execute_result"
    }
   ],
   "source": [
    "sample.shape"
   ]
  },
  {
   "cell_type": "code",
   "execution_count": 7,
   "metadata": {},
   "outputs": [
    {
     "data": {
      "text/plain": [
       "user_id\n",
       "KqKirfrjzVukVC91EF_tAw    zzzqdnN5WatsvzwyxJE33wLpQ4-HPBBSYR6MMvgxwkYQv_...\n",
       "Mo3L-LcQBiFO2Ohhj51XHQ    zzzblSSTZhw51XZ2swYvBgej7GbQV71A3engI2HYfcogcO...\n",
       "sw0QzFDaWsxCs9NcGytVEA                               zzzJmOMxynKml1OL0eD1hA\n",
       "XDQw8_kaTaovGLYT5DgwBQ    zzymH5hqrPD80Mj-U86dEQW136AvKH1YdXh3srP3TQTQhb...\n",
       "8DAyqTs-Bv7G7VWWSv6u1g         zzyhZImTk0RoLZIB8aleeQrlQMDJf6jWjeKE2NpaBykw\n",
       "Name: review_id, dtype: object"
      ]
     },
     "execution_count": 7,
     "metadata": {},
     "output_type": "execute_result"
    }
   ],
   "source": [
    "#review by user \n",
    "top_20_review_by_user = df['review_id'].groupby(df['user_id']).sum().sort_values(ascending=False)[:20]\n",
    "top_20_review_by_user.head()\n",
    "# ¿Qué ciudad compra más?\n",
    "#fig=plt.figure(figsize=(16,9))\n",
    "#sns.barplot(y=top_20_review_by_user.index,x=top_20_review_by_user.values)\n",
    "#plt.title('Top 20 Ciudades que más compran',fontsize=20)\n",
    "#plt.xlabel('Total de productos',fontsize=17)\n",
    "#plt.ylabel('Ciudad',fontsize=17)"
   ]
  },
  {
   "cell_type": "markdown",
   "metadata": {},
   "source": [
    "# ** 3. Modelado **\n",
    "\n",
    "En esta etapa, el modelado se llevará a cabo utilizando un algoritmo de agrupamiento denominado K-Means basado en el análisis RFM (Recency, Frequency, and Monetary) para la segmentación de clientes."
   ]
  },
  {
   "cell_type": "markdown",
   "metadata": {},
   "source": [
    "## ** 3.1 Análisis RFM **\n",
    "\n",
    "El análisis RFM es un método utilizado para ver patrones en los clientes en función de sus hábitos de compra:\n",
    "\n",
    "1. Recency = ¿Cuándo fue la última vez que el cliente realizó una transacción?\n",
    " \n",
    "2. Frecuencia = ¿Con qué frecuencia el cliente realiza una compra?\n",
    "\n",
    "3. Monetario = cuánto gastan los clientes"
   ]
  },
  {
   "cell_type": "code",
   "execution_count": null,
   "metadata": {},
   "outputs": [],
   "source": [
    "#ver las fechas de compra e inicio\n",
    "print('Min : {}, Max : {}'.format(min(all_data.order_purchase_timestamp), max(all_data.order_purchase_timestamp)))"
   ]
  },
  {
   "cell_type": "code",
   "execution_count": null,
   "metadata": {},
   "outputs": [],
   "source": [
    "#Calcular RFM\n",
    "import datetime as dt\n",
    "pin_date = max(all_data.order_purchase_timestamp) + dt.timedelta(1)\n",
    "\n",
    "#Creo un dataframe para RFM\n",
    "rfm = all_data.groupby('customer_unique_id').agg({\n",
    "    'order_purchase_timestamp' : lambda x: (pin_date - x.max()).days,\n",
    "    'order_item_id' : 'count', \n",
    "    'payment_value' : 'sum'})\n",
    "#este dataframe va a contener hace cuantos dias hicieron la ultima compra, cuantos productos compraron en el periodo\n",
    "#bajo estudio y cuanto gastaron en esos productos, en el mismo periodo\n",
    "\n",
    "rfm.rename(columns = {'order_purchase_timestamp' : 'Recency', \n",
    "                      'order_item_id' : 'Frequency', \n",
    "                      'payment_value' : 'Monetary'}, inplace = True)\n",
    "\n",
    "rfm.head()"
   ]
  },
  {
   "cell_type": "markdown",
   "metadata": {},
   "source": [
    "## ** 3.2 Manejo de valores atípicos **\n",
    "\n",
    "En esta etapa, limpiaremos los datos de las entradas que pueden ser incorrectas o las anomalías de los datos que tenemos."
   ]
  },
  {
   "cell_type": "code",
   "execution_count": null,
   "metadata": {},
   "outputs": [],
   "source": [
    "#Usamos Rangos intercuartilicos\n",
    "def limit(i):\n",
    "    Q1 = rfm[i].quantile(0.5)\n",
    "    Q3 = rfm[i].quantile(0.95)\n",
    "    IQR = Q3 - Q1\n",
    "    \n",
    "    \n",
    "    lower_limit = rfm[i].quantile(0.5) - (IQR * 1.5)\n",
    "    lower_limit_extreme = rfm[i].quantile(0.5) - (IQR * 3)\n",
    "    upper_limit = rfm[i].quantile(0.95) + (IQR * 1.5)\n",
    "    upper_limit_extreme = rfm[i].quantile(0.5) + (IQR * 3)\n",
    "    print('Lower Limit:', lower_limit)\n",
    "    print('Lower Limit Extreme:', lower_limit_extreme)\n",
    "    print('Upper Limit:', upper_limit)\n",
    "    print('Upper Limit Extreme:', upper_limit_extreme)\n",
    "\n",
    "def percent_outliers(i):\n",
    "    Q1 = rfm[i].quantile(0.5)\n",
    "    Q3 = rfm[i].quantile(0.95)\n",
    "    IQR = Q3 - Q1\n",
    "    \n",
    "    lower_limit = rfm[i].quantile(0.5) - (IQR * 1.5)\n",
    "    lower_limit_extreme = rfm[i].quantile(0.5) - (IQR * 3)\n",
    "    upper_limit = rfm[i].quantile(0.95) + (IQR * 1.5)\n",
    "    upper_limit_extreme = rfm[i].quantile(0.95) + (IQR * 3)\n",
    "    print('Lower Limit: {} %'.format(rfm[(rfm[i] >= lower_limit)].shape[0]/ rfm.shape[0]*100))\n",
    "    print('Lower Limit Extereme: {} %'.format(rfm[(rfm[i] >= lower_limit_extreme)].shape[0]/rfm.shape[0]*100))\n",
    "    print('Upper Limit: {} %'.format(rfm[(rfm[i] >= upper_limit)].shape[0]/ rfm.shape[0]*100))\n",
    "    print('Upper Limit Extereme: {} %'.format(rfm[(rfm[i] >= upper_limit_extreme)].shape[0]/rfm.shape[0]*100))"
   ]
  },
  {
   "cell_type": "code",
   "execution_count": null,
   "metadata": {},
   "outputs": [],
   "source": [
    "sns.boxplot(x=rfm[\"Recency\"])"
   ]
  },
  {
   "cell_type": "code",
   "execution_count": null,
   "metadata": {},
   "outputs": [],
   "source": [
    "sns.boxplot(x=rfm[\"Frequency\"])"
   ]
  },
  {
   "cell_type": "markdown",
   "metadata": {},
   "source": [
    "La columna Frecuencia no elimina los valores atípicos porque los valores atípicos aquí son de hecho la posibilidad de que los clientes realicen muchas transacciones porque estos datos se toman de 2017-2018"
   ]
  },
  {
   "cell_type": "code",
   "execution_count": null,
   "metadata": {},
   "outputs": [],
   "source": [
    "sns.boxplot(x=rfm[\"Monetary\"])"
   ]
  },
  {
   "cell_type": "code",
   "execution_count": null,
   "metadata": {},
   "outputs": [],
   "source": [
    "print(limit('Monetary'))\n",
    "print('-'*50)\n",
    "print(percent_outliers('Monetary'))"
   ]
  },
  {
   "cell_type": "code",
   "execution_count": null,
   "metadata": {},
   "outputs": [],
   "source": [
    "#se eliminan los valores outliers de aquellos que hayan gastado mas de 1500 \n",
    "outliers1_drop = rfm[(rfm['Monetary'] > 1500)].index\n",
    "rfm.drop(outliers1_drop, inplace=True)"
   ]
  },
  {
   "cell_type": "markdown",
   "metadata": {},
   "source": [
    "## ** 3.3 Percentil RFM **\n",
    "\n",
    "En esta etapa, se crearán grupos de clientes basados ​​en Recency, Frequency y Monetary dividiéndolos en grupos de 3 **** en cada uno."
   ]
  },
  {
   "cell_type": "code",
   "execution_count": null,
   "metadata": {},
   "outputs": [],
   "source": [
    "# Crear grupos de clientes basados en Recency, Frequency y Monetary\n",
    "#Porque en Recency cuantos menos días pasaron desde la ultima compra mejor\n",
    "r_labels = range(3, 0, -1)\n",
    "r_groups = pd.qcut(rfm.Recency, q = 3, labels = r_labels).astype('int')\n",
    "\n",
    "# Debido a que en la frecuencia vemos muchos valores igual a 1, entonces no puede usar qcut,\n",
    "#porque el valor se apoyará más\n",
    "f_groups = pd.qcut(rfm.Frequency.rank(method='first'), 3).astype('str')\n",
    "#rfm['F'] = np.where((rfm['Frequency'] != 1) & (rfm['Frequency'] != 2), 3, rfm.Frequency)\n",
    "\n",
    "m_labels = range(1, 4)\n",
    "m_groups = pd.qcut(rfm.Monetary, q = 3, labels = m_labels).astype('int')"
   ]
  },
  {
   "cell_type": "code",
   "execution_count": null,
   "metadata": {},
   "outputs": [],
   "source": [
    "rfm['R'] = r_groups.values\n",
    "rfm['F'] = f_groups.values\n",
    "rfm['M'] = m_groups.values"
   ]
  },
  {
   "cell_type": "code",
   "execution_count": null,
   "metadata": {},
   "outputs": [],
   "source": [
    "rfm['F'].value_counts()"
   ]
  },
  {
   "cell_type": "code",
   "execution_count": null,
   "metadata": {},
   "outputs": [],
   "source": [
    "rfm['F'] = rfm['F'].replace({'(0.999, 30871.333]' : 1,\n",
    "                             '(30871.333, 61741.667]' : 2,\n",
    "                             '(61741.667, 92612.0]' : 3}).astype('int')"
   ]
  },
  {
   "cell_type": "code",
   "execution_count": null,
   "metadata": {},
   "outputs": [],
   "source": [
    "rfm['RFM_Segment'] = rfm.apply(lambda x: str(x['R']) + str(x['F']) + str(x['M']), axis = 1)\n",
    "rfm['RFM_Score'] = rfm[['R', 'F', 'M']].sum(axis = 1)\n",
    "rfm.head()"
   ]
  },
  {
   "cell_type": "code",
   "execution_count": null,
   "metadata": {},
   "outputs": [],
   "source": [
    "score_labels = ['Bronze', 'Silver', 'Gold']\n",
    "score_groups = pd.qcut(rfm.RFM_Score, q=3, labels = score_labels)\n",
    "rfm['RFM_Level'] = score_groups.values\n",
    "rfm.head()"
   ]
  },
  {
   "cell_type": "markdown",
   "metadata": {},
   "source": [
    "## ** 3.4 Manejo de la inclinación y el escalado **\n",
    "\n",
    "Para los datos que ingresarán al algoritmo K-Means, la distribución es normal porque facilitará la formación de grupos, luego no olvides igualar la escala de cada columna porque se medirá en función de la distancia entre cada entrada."
   ]
  },
  {
   "cell_type": "code",
   "execution_count": null,
   "metadata": {},
   "outputs": [],
   "source": [
    "fig, ax = plt.subplots(figsize=(16, 9))\n",
    "plt.subplot(3, 1, 1); sns.distplot(rfm.Recency, label = 'Recency')\n",
    "plt.subplot(3, 1, 2); sns.distplot(rfm['Frequency'], kde_kws={'bw': 0.1}, label='Frequency')\n",
    "plt.subplot(3, 1, 3); sns.distplot(rfm.Monetary, label = 'Monetary')\n",
    "\n",
    "plt.tight_layout()\n",
    "plt.show()"
   ]
  },
  {
   "cell_type": "code",
   "execution_count": null,
   "metadata": {},
   "outputs": [],
   "source": [
    "from scipy import stats\n",
    "\n",
    "rfm_log = rfm[['Recency', 'Monetary']].apply(np.log, axis = 1).round(3)\n",
    "rfm_log['Frequency'] = stats.boxcox(rfm['Frequency'])[0]\n",
    "rfm_log.head()"
   ]
  },
  {
   "cell_type": "code",
   "execution_count": null,
   "metadata": {},
   "outputs": [],
   "source": [
    "scaler = StandardScaler()\n",
    "minmax = MinMaxScaler()\n",
    "rfm_scaled = scaler.fit_transform(rfm_log)"
   ]
  },
  {
   "cell_type": "code",
   "execution_count": null,
   "metadata": {},
   "outputs": [],
   "source": [
    "rfm_scaled = pd.DataFrame(rfm_scaled, index = rfm.index, columns = rfm_log.columns)\n",
    "rfm_scaled.head()"
   ]
  },
  {
   "cell_type": "code",
   "execution_count": null,
   "metadata": {},
   "outputs": [],
   "source": [
    "fig, ax = plt.subplots(figsize=(16, 9))\n",
    "plt.subplot(3, 1, 1); sns.distplot(rfm_scaled.Recency, label = 'Recency')\n",
    "plt.subplot(3, 1, 2); sns.distplot(rfm_scaled.Frequency, kde_kws={'bw': 0.1}, label='Frequency')\n",
    "plt.subplot(3, 1, 3); sns.distplot(rfm_scaled.Monetary, label = 'Monetary')\n",
    "\n",
    "plt.tight_layout()\n",
    "plt.show()"
   ]
  },
  {
   "cell_type": "markdown",
   "metadata": {},
   "source": [
    "## ** 3.5 Agrupamiento de K-Means **\n",
    "\n",
    "Aquí la agrupación se realizará utilizando el algoritmo K-Means para obtener el grupo óptimo de datos RFM"
   ]
  },
  {
   "cell_type": "code",
   "execution_count": null,
   "metadata": {},
   "outputs": [],
   "source": [
    "wcss = {}\n",
    "\n",
    "for i in range(1, 11):\n",
    "    kmeans = KMeans(n_clusters= i, init= 'k-means++', max_iter= 300)\n",
    "    kmeans.fit(rfm_scaled)\n",
    "    wcss[i] = kmeans.inertia_\n",
    "    \n",
    "fig, ax = plt.subplots(figsize=(16, 9))\n",
    "sns.pointplot(x = list(wcss.keys()), y = list(wcss.values()))\n",
    "plt.title('Método del codo')\n",
    "plt.xlabel('Números de K')\n",
    "plt.ylabel('WCSS')\n",
    "plt.show()"
   ]
  },
  {
   "cell_type": "markdown",
   "metadata": {},
   "source": [
    "Podemos observar en el grafico que la clusterizacion optima se encuentra entre 3 y 5 por lo que realizaremos la evaluacion y \n",
    "visualizacion con 3, 4 y 5 clusters para luego elegir aquellos que mejores resultados den."
   ]
  },
  {
   "cell_type": "markdown",
   "metadata": {},
   "source": [
    "## Clusterización con k=3"
   ]
  },
  {
   "cell_type": "code",
   "execution_count": null,
   "metadata": {},
   "outputs": [],
   "source": [
    "clus = KMeans(n_clusters= 3, n_init=10, init= 'k-means++', max_iter= 300)\n",
    "clus.fit(rfm_scaled)"
   ]
  },
  {
   "cell_type": "code",
   "execution_count": null,
   "metadata": {},
   "outputs": [],
   "source": [
    "rfm['K_Cluster'] = clus.labels_\n",
    "rfm.head()"
   ]
  },
  {
   "cell_type": "markdown",
   "metadata": {},
   "source": [
    "## ** 3.6 Evaluación **\n",
    "\n",
    "Después de crear un modelo usando KMeans, ahora evaluaremos el modelo si los grupos que forma son realmente diferentes de cada grupo usando el Análisis de Silhouuette. Cuanto más se acerca al número 1, la diferencia que tiene con otras computadoras es cada vez más clara, si el valor está cerca de 0, entonces se parece cada vez más a un grupo cercano y, si -1, hizo un grupo incorrecto."
   ]
  },
  {
   "cell_type": "code",
   "execution_count": null,
   "metadata": {},
   "outputs": [],
   "source": [
    "visualizer = SilhouetteVisualizer(clus)\n",
    "\n",
    "visualizer.fit(rfm_scaled) \n",
    "visualizer.poof() "
   ]
  },
  {
   "cell_type": "markdown",
   "metadata": {},
   "source": [
    "## ** 3.7 Visualización **\n",
    "\n",
    "Visualizaremos para que sea más fácil ver el clúster que creamos con el clúster del algoritmo KMeans. Usaremos 'Snake Plot' en el mundo del marketing para ver qué categorías se incluyen en un clúster.\n",
    "\n"
   ]
  },
  {
   "cell_type": "code",
   "execution_count": null,
   "metadata": {},
   "outputs": [],
   "source": [
    "rfm_scaled['K_Cluster'] = clus.labels_\n",
    "rfm_scaled['RFM_Level'] = rfm.RFM_Level\n",
    "rfm_scaled.reset_index(inplace = True)\n",
    "rfm_scaled.head()"
   ]
  },
  {
   "cell_type": "code",
   "execution_count": null,
   "metadata": {},
   "outputs": [],
   "source": [
    "rfm_melted = pd.melt(frame= rfm_scaled, id_vars= ['customer_unique_id', 'RFM_Level', 'K_Cluster'], \n",
    "                     var_name = 'Metrics', value_name = 'Value')\n",
    "rfm_melted.head()"
   ]
  },
  {
   "cell_type": "code",
   "execution_count": null,
   "metadata": {},
   "outputs": [],
   "source": [
    "fig, ax = plt.subplots(figsize=(16, 9))\n",
    "sns.lineplot(x = 'Metrics', y = 'Value', hue = 'RFM_Level', data = rfm_melted)\n",
    "plt.title('Snake Plot of RFM')\n",
    "plt.legend(loc = 'upper right')"
   ]
  },
  {
   "cell_type": "code",
   "execution_count": null,
   "metadata": {},
   "outputs": [],
   "source": [
    "fig, ax = plt.subplots(figsize=(16, 9))\n",
    "sns.lineplot(x = 'Metrics', y = 'Value', hue = 'K_Cluster', data = rfm_melted)\n",
    "plt.title('Snake Plot of K_cluster')\n",
    "plt.legend(loc = 'upper right')"
   ]
  },
  {
   "cell_type": "markdown",
   "metadata": {},
   "source": [
    "Como podemos ver en los dos gráficos anteriores, podemos concluir con base en grupos:\n",
    "1. Bronce (1 y 0): la frecuencia no es demasiado alta en comparación con la transacción nominal, pero la última vez que realizó una transacción rápida\n",
    "2. Plata (2): la frecuencia es bastante alta y la transacción nominal es bastante alta, pero la última vez que realizó una transacción fue bastante larga\n",
    "3. Oro (3): la frecuencia de gasto es alta y la cantidad gastada también es alta, pero el tiempo de transacción es largo"
   ]
  },
  {
   "cell_type": "code",
   "execution_count": null,
   "metadata": {},
   "outputs": [],
   "source": [
    "# ¿Cuántos clientes hay según su categoría?\n",
    "rfm_cus_level = rfm_scaled.groupby('RFM_Level')['customer_unique_id'].nunique().reset_index()\n",
    "\n",
    "\n",
    "fig=plt.figure(figsize=(16,9))\n",
    "sns.barplot(y=rfm_cus_level['customer_unique_id'], x=rfm_cus_level['RFM_Level'])\n",
    "plt.title('Clientes basados en su nivel RFM',fontsize=20)\n",
    "plt.xlabel('Nivel RFM',fontsize=17)\n",
    "plt.ylabel('Cantidad de clientes',fontsize=17)"
   ]
  },
  {
   "cell_type": "markdown",
   "metadata": {},
   "source": [
    "## Clusterización con k=5"
   ]
  },
  {
   "cell_type": "code",
   "execution_count": null,
   "metadata": {},
   "outputs": [],
   "source": [
    "#Por ultimo realizaremos el mismo analisis pero para 5 clusters \n",
    "\n",
    "#Crearemos grupos teniendo en cuenta recency, frecuency y monetary diviendolos en grupos de 5\n",
    "\n",
    "# Crear grupos de clientes basados en Recency, Frequency y Monetary\n",
    "#En Recency cuantos menos días pasaron desde la ultima compra mejor es\n",
    "r_labels = range(5, 0, -1)\n",
    "r_groups = pd.qcut(rfm.Recency, q = 5, labels = r_labels).astype('int')\n",
    "\n",
    "f_groups = pd.qcut(rfm.Frequency.rank(method='first'), 5).astype('str')\n",
    "\n",
    "m_labels = range(1, 6)\n",
    "m_groups = pd.qcut(rfm.Monetary, q = 5, labels = m_labels).astype('int')"
   ]
  },
  {
   "cell_type": "code",
   "execution_count": null,
   "metadata": {},
   "outputs": [],
   "source": [
    "rfm['R'] = r_groups.values\n",
    "rfm['F'] = f_groups.values\n",
    "rfm['M'] = m_groups.values"
   ]
  },
  {
   "cell_type": "code",
   "execution_count": null,
   "metadata": {},
   "outputs": [],
   "source": [
    "rfm['F'].value_counts()"
   ]
  },
  {
   "cell_type": "code",
   "execution_count": null,
   "metadata": {},
   "outputs": [],
   "source": [
    "#reemplazaremos los rangos por los valores 1, 2, 3, 4 y 5\n",
    "rfm['F'] = rfm['F'].replace({'(0.999, 18523.2]' : 1,\n",
    "                             '(74089.8, 92612.0]' : 2,\n",
    "                             '(37045.4, 55567.6]' : 3,\n",
    "                             '(55567.6, 74089.8]' : 4,\n",
    "                             '(18523.2, 37045.4]' : 5}).astype('int')"
   ]
  },
  {
   "cell_type": "code",
   "execution_count": null,
   "metadata": {},
   "outputs": [],
   "source": [
    "rfm['RFM_Segment'] = rfm.apply(lambda x: str(x['R']) + str(x['F']) + str(x['M']), axis = 1)\n",
    "rfm['RFM_Score'] = rfm[['R', 'F', 'M']].sum(axis = 1)\n",
    "rfm.head()"
   ]
  },
  {
   "cell_type": "code",
   "execution_count": null,
   "metadata": {},
   "outputs": [],
   "source": [
    "#le pondremos nombre a nuestras 5 categorias que representaran los grupos de clientes \n",
    "score_labels = ['Bronze', 'Silver', 'Gold', 'Platinum', 'Diamond']\n",
    "score_groups = pd.qcut(rfm.RFM_Score, q=5, labels = score_labels)\n",
    "rfm['RFM_Level'] = score_groups.values\n",
    "rfm.head()"
   ]
  },
  {
   "cell_type": "code",
   "execution_count": null,
   "metadata": {},
   "outputs": [],
   "source": [
    "#Inclinacion y escalonado \n",
    "\n",
    "rfm_log = rfm[['Recency', 'Monetary']].apply(np.log, axis = 1).round(4)\n",
    "rfm_log['Frequency'] = stats.boxcox(rfm['Frequency'])[0]\n",
    "rfm_log.head()"
   ]
  },
  {
   "cell_type": "code",
   "execution_count": null,
   "metadata": {},
   "outputs": [],
   "source": [
    "scaler = StandardScaler()\n",
    "minmax = MinMaxScaler()\n",
    "rfm_scaled = scaler.fit_transform(rfm_log)\n",
    "rfm_scaled = pd.DataFrame(rfm_scaled, index = rfm.index, columns = rfm_log.columns)\n",
    "rfm_scaled.head()"
   ]
  },
  {
   "cell_type": "code",
   "execution_count": null,
   "metadata": {},
   "outputs": [],
   "source": [
    "#Agrupamiento de clusters \n",
    "clus = KMeans(n_clusters= 5, n_init=10, init= 'k-means++', max_iter= 300)\n",
    "clus.fit(rfm_scaled)"
   ]
  },
  {
   "cell_type": "code",
   "execution_count": null,
   "metadata": {},
   "outputs": [],
   "source": [
    "rfm['K_Cluster'] = clus.labels_\n",
    "rfm.head()"
   ]
  },
  {
   "cell_type": "markdown",
   "metadata": {},
   "source": [
    "### Evaluación"
   ]
  },
  {
   "cell_type": "code",
   "execution_count": null,
   "metadata": {},
   "outputs": [],
   "source": [
    "#Evaluaremos el modelo utilizando el metodo de la silueta \n",
    "\n",
    "visualizer = SilhouetteVisualizer(clus)\n",
    "\n",
    "visualizer.fit(rfm_scaled) \n",
    "visualizer.poof() "
   ]
  },
  {
   "cell_type": "markdown",
   "metadata": {},
   "source": [
    "Podemos observar que con esta nueva distribucion la nueva agrupacion no es tan buena como las anteriores\n",
    "\n",
    "El score del metodo de silueta nos esta dando menos de 0.4 y los grupos estan siendo muy diferentes entre si "
   ]
  },
  {
   "cell_type": "markdown",
   "metadata": {},
   "source": [
    "### Visualización"
   ]
  },
  {
   "cell_type": "code",
   "execution_count": null,
   "metadata": {},
   "outputs": [],
   "source": [
    "##Visualizacion de los clusters\n",
    "\n",
    "rfm_scaled['K_Cluster'] = clus.labels_\n",
    "rfm_scaled['RFM_Level'] = rfm.RFM_Level\n",
    "rfm_scaled.reset_index(inplace = True)\n",
    "rfm_scaled.head()"
   ]
  },
  {
   "cell_type": "code",
   "execution_count": null,
   "metadata": {},
   "outputs": [],
   "source": [
    "rfm_melted = pd.melt(frame= rfm_scaled, id_vars= ['customer_unique_id', 'RFM_Level', 'K_Cluster'], \n",
    "                     var_name = 'Metrics', value_name = 'Value')\n",
    "rfm_melted.head()"
   ]
  },
  {
   "cell_type": "code",
   "execution_count": null,
   "metadata": {},
   "outputs": [],
   "source": [
    "fig, ax = plt.subplots(figsize=(16, 9))\n",
    "sns.lineplot(x = 'Metrics', y = 'Value', hue = 'RFM_Level', data = rfm_melted)\n",
    "plt.title('Snake Plot of RFM')\n",
    "plt.legend(loc = 'upper right')"
   ]
  },
  {
   "cell_type": "code",
   "execution_count": null,
   "metadata": {},
   "outputs": [],
   "source": [
    "fig, ax = plt.subplots(figsize=(16, 9))\n",
    "sns.lineplot(x = 'Metrics', y = 'Value', hue = 'K_Cluster', data = rfm_melted)\n",
    "plt.title('Snake Plot of K_cluster')\n",
    "plt.legend(loc = 'upper right')"
   ]
  },
  {
   "cell_type": "markdown",
   "metadata": {},
   "source": [
    "Observandolos graficos anteriores podemos observar como se comportan los 5 grupos \n",
    "1. Diamond: frecuencia de compra muy alta, valor monetario de gasto alto, y compro por ultima vez hace muy poco\n",
    "2. Platinum: frecuencia de compra muy alta, valor monetario de gasto alto, y compro por ultima vez hace poco\n",
    "3. Gold: frecuencia de compra media, valor monetario de gasto medio, y compro por ultima vez ni hace mucho ni hace muy poco\n",
    "4. Silver: frecuencia de compra media, valor monetario de gasto medio bajo, y compro por ultima vez hace mucho\n",
    "5. Bronze: frecuencia de compra muy bajo, valor monetario de gasto muy bajo, y compro por ultima vez hace muchisimo "
   ]
  },
  {
   "cell_type": "code",
   "execution_count": null,
   "metadata": {},
   "outputs": [],
   "source": [
    "# ¿Cuántos clientes hay según su categoría?\n",
    "rfm_cus_level = rfm_scaled.groupby('RFM_Level')['customer_unique_id'].nunique().reset_index()\n",
    "\n",
    "\n",
    "fig=plt.figure(figsize=(16,9))\n",
    "sns.barplot(y=rfm_cus_level['customer_unique_id'], x=rfm_cus_level['RFM_Level'])\n",
    "plt.title('Clientes basados en su nivel RFM',fontsize=20)\n",
    "plt.xlabel('Nivel RFM',fontsize=17)\n",
    "plt.ylabel('Cantidad de clientes',fontsize=17)"
   ]
  },
  {
   "cell_type": "markdown",
   "metadata": {},
   "source": [
    "## Clusterización con k=4"
   ]
  },
  {
   "cell_type": "code",
   "execution_count": null,
   "metadata": {},
   "outputs": [],
   "source": [
    "#Crearemos grupos teniendo en cuenta recency, frecuency y monetary diviendolos en grupos de 4 \n",
    "\n",
    "# Crear grupos de clientes basados en Recency, Frequency y Monetary\n",
    "#En Recency cuantos menos días pasaron desde la ultima compra mejor es\n",
    "r_labels = range(4, 0, -1)\n",
    "r_groups = pd.qcut(rfm.Recency, q = 4, labels = r_labels).astype('int')\n",
    "\n",
    "f_groups = pd.qcut(rfm.Frequency.rank(method='first'), 4).astype('str')\n",
    "\n",
    "m_labels = range(1, 5)\n",
    "m_groups = pd.qcut(rfm.Monetary, q = 4, labels = m_labels).astype('int')"
   ]
  },
  {
   "cell_type": "code",
   "execution_count": null,
   "metadata": {},
   "outputs": [],
   "source": [
    "rfm['R'] = r_groups.values\n",
    "rfm['F'] = f_groups.values\n",
    "rfm['M'] = m_groups.values"
   ]
  },
  {
   "cell_type": "code",
   "execution_count": null,
   "metadata": {},
   "outputs": [],
   "source": [
    "rfm['F'].value_counts()"
   ]
  },
  {
   "cell_type": "code",
   "execution_count": null,
   "metadata": {},
   "outputs": [],
   "source": [
    "#reemplazaremos los rangos por los valores 1, 2, 3 y 4 \n",
    "rfm['F'] = rfm['F'].replace({'(0.999, 23153.75]' : 1,\n",
    "                             '(69459.25, 92612.0]' : 2,\n",
    "                             '(23153.75, 46306.5]' : 3,\n",
    "                             '(46306.5, 69459.25]' : 4}).astype('int')"
   ]
  },
  {
   "cell_type": "code",
   "execution_count": null,
   "metadata": {},
   "outputs": [],
   "source": [
    "rfm['RFM_Segment'] = rfm.apply(lambda x: str(x['R']) + str(x['F']) + str(x['M']), axis = 1)\n",
    "rfm['RFM_Score'] = rfm[['R', 'F', 'M']].sum(axis = 1)\n",
    "rfm.head()"
   ]
  },
  {
   "cell_type": "code",
   "execution_count": null,
   "metadata": {},
   "outputs": [],
   "source": [
    "#Asignaremos los nuevos labels para estos 4 grupos \n",
    "score_labels = ['Frizados', 'Imperdibles', 'Prometedores', 'Campeones']\n",
    "score_groups = pd.qcut(rfm.RFM_Score, q=4, labels = score_labels)\n",
    "rfm['RFM_Level'] = score_groups.values\n",
    "rfm.head()"
   ]
  },
  {
   "cell_type": "code",
   "execution_count": null,
   "metadata": {},
   "outputs": [],
   "source": [
    "#Inclinacion y escalonado \n",
    "\n",
    "rfm_log = rfm[['Recency', 'Monetary']].apply(np.log, axis = 1).round(4)\n",
    "rfm_log['Frequency'] = stats.boxcox(rfm['Frequency'])[0]\n",
    "rfm_log.head()"
   ]
  },
  {
   "cell_type": "code",
   "execution_count": null,
   "metadata": {},
   "outputs": [],
   "source": [
    "scaler = StandardScaler()\n",
    "minmax = MinMaxScaler()\n",
    "rfm_scaled = scaler.fit_transform(rfm_log)\n",
    "rfm_scaled = pd.DataFrame(rfm_scaled, index = rfm.index, columns = rfm_log.columns)\n",
    "rfm_scaled.head()"
   ]
  },
  {
   "cell_type": "code",
   "execution_count": null,
   "metadata": {},
   "outputs": [],
   "source": [
    "#Agrupamiento de clusters \n",
    "clus = KMeans(n_clusters= 4, n_init=10, init= 'k-means++', max_iter= 300)\n",
    "clus.fit(rfm_scaled)"
   ]
  },
  {
   "cell_type": "code",
   "execution_count": null,
   "metadata": {},
   "outputs": [],
   "source": [
    "rfm['K_Cluster'] = clus.labels_\n",
    "rfm.head()"
   ]
  },
  {
   "cell_type": "markdown",
   "metadata": {},
   "source": [
    "### Evaluación"
   ]
  },
  {
   "cell_type": "code",
   "execution_count": null,
   "metadata": {},
   "outputs": [],
   "source": [
    "#Evaluaremos el modelo utilizando el metodo de la silueta \n",
    "\n",
    "visualizer = SilhouetteVisualizer(clus)\n",
    "\n",
    "visualizer.fit(rfm_scaled) \n",
    "visualizer.poof() "
   ]
  },
  {
   "cell_type": "markdown",
   "metadata": {},
   "source": [
    "### Visualización"
   ]
  },
  {
   "cell_type": "code",
   "execution_count": null,
   "metadata": {},
   "outputs": [],
   "source": [
    "##Visualizacion de los clusters\n",
    "\n",
    "rfm_scaled['K_Cluster'] = clus.labels_\n",
    "rfm_scaled['RFM_Level'] = rfm.RFM_Level\n",
    "rfm_scaled.reset_index(inplace = True)\n",
    "rfm_scaled.head()"
   ]
  },
  {
   "cell_type": "code",
   "execution_count": null,
   "metadata": {},
   "outputs": [],
   "source": [
    "rfm_melted = pd.melt(frame= rfm_scaled, id_vars= ['customer_unique_id', 'RFM_Level', 'K_Cluster'], \n",
    "                     var_name = 'Metrics', value_name = 'Value')\n",
    "rfm_melted.head()"
   ]
  },
  {
   "cell_type": "code",
   "execution_count": null,
   "metadata": {},
   "outputs": [],
   "source": [
    "fig, ax = plt.subplots(figsize=(16, 9))\n",
    "sns.lineplot(x = 'Metrics', y = 'Value', hue = 'RFM_Level', data = rfm_melted)\n",
    "plt.title('Snake Plot of RFM')\n",
    "plt.legend(loc = 'upper right')"
   ]
  },
  {
   "cell_type": "code",
   "execution_count": null,
   "metadata": {},
   "outputs": [],
   "source": [
    "fig, ax = plt.subplots(figsize=(16, 9))\n",
    "sns.lineplot(x = 'Metrics', y = 'Value', hue = 'K_Cluster', data = rfm_melted)\n",
    "plt.title('Snake Plot of K_cluster')\n",
    "plt.legend(loc = 'upper right')"
   ]
  },
  {
   "cell_type": "markdown",
   "metadata": {},
   "source": [
    "Conclusion de lo observado en los graficos anteriores \n",
    "1. Grupo Campeones: podemos observar que la frecuencia de compra es media alta, pero el valor monetario es muy alto y la ultima vez que compro fue hace muy poco \n",
    "2. Grupo Prometedores: la frecuencia en que compra es alta, el valor monetario gastado es medio alto (menor al grupo platinum) y compro hace medianamente poco por ultima vez \n",
    "3. Grupo Imperdibles: compra con una frecuencia media baja, tiene gastos medios tambien y la ultima compro la realizo hace mucho \n",
    "4. Grupo Frizados: la frecuencia con que compran y el valor monetario son muy bajos, y hace mucho mas tiempo que cualquier otro grupo que realizo la ultima compra "
   ]
  },
  {
   "cell_type": "markdown",
   "metadata": {},
   "source": [
    "#### ¿Cuántos clientes hay según su categoría?"
   ]
  },
  {
   "cell_type": "code",
   "execution_count": null,
   "metadata": {},
   "outputs": [],
   "source": [
    "rfm_cus_level['customer_unique_id']"
   ]
  },
  {
   "cell_type": "code",
   "execution_count": null,
   "metadata": {},
   "outputs": [],
   "source": [
    "rfm_cus_level = rfm_scaled.groupby('RFM_Level')['customer_unique_id'].nunique().reset_index()\n",
    "\n",
    "\n",
    "fig=plt.figure(figsize=(16,9))\n",
    "sns.barplot(y=rfm_cus_level['customer_unique_id'], x=rfm_cus_level['RFM_Level'])\n",
    "plt.title('Clientes basados en su nivel RFM',fontsize=20)\n",
    "plt.xlabel('Nivel RFM',fontsize=17)\n",
    "plt.ylabel('Cantidad de clientes',fontsize=17)"
   ]
  },
  {
   "cell_type": "markdown",
   "metadata": {},
   "source": [
    "## 4. CONCLUSIÓN\n",
    "Luego del analisis realizado para clusterizacion de 3, 4 y 5 grupos, elegimos proceder con la clusterizacion en 4 grupos, ya que para 4 grupos la media se encuentra cerca de 0,4 y la distribucion entre los grupos es mas homogenea que para k=3, para el casop de k=5 la media ya nos da por debajo de 0,4 y los grupos son muy distintos entre sí.\n",
    "\n",
    "A continuación describiremos cada uno de los grupos y la accion a realizar para los mismos. \n",
    "\n",
    "En cuanto a los objetivos de este proyecto, que es facilitar que el departamento de marketing lleve a cabo campañas o promociones basadas en la segmentación de clientes, estas son las conclusiones:\n",
    "\n",
    "* Frizados: son clientes que no realizan compras con demasiada frecuencia, el valor nominal de sus transacciones es muy bajo, y la ultima vez que realizaron una compra fue hace mucho tiempo. Hay 27868 clientes de este tipo. \n",
    "\n",
    "** Acción de campaña: posiblemente sean clientes perdidos. En este caso hay que evaluar si vale la pena invertir recursos para recuperarlos. \n",
    "\n",
    "* Imperdibles: la frecuencia con que compran es media alta, pero el valor nominal es medio bajo, y la ultima vez que compraron fue hace mucho tiempo. Hay 35792 clientes de este tipo. \n",
    "\n",
    "** Acción de campaña: hay peligro de perder estos clientes, hay que analizar sus preferencias para armar productos o combos a su medida. Hay que ofrecerles descuentos u ofertas economicas para que vuelvan a comprar porque es la categoría con mayor cantidad de clientes. \n",
    "\n",
    "* Prometedores: son aquellos clientes que compran con mayor frecuencia y el valor monetario gastado es medio alto, la ultima vez que realizaron una compra fue hace medianamente poco. Hay 14763 clientes de este tipo.\n",
    "\n",
    "** Acción de campaña: son clientes potenciales que realizan muchas compras y podrian convertirse en campeones, hay que buscar convertirlos en campeones a través de ofrecerles beneficios y promociones, por ejemplo, luego de cada compra que realicen. \n",
    "\n",
    "* Campeones: si bien la frecuencia de compra no es la mas alta de todas, son los clientes que mayor dinero gastan en sus transacciones y ademas, la ultima vez que compraron fue hace muy poco. Hay 14189 clientes de este tipo.\n",
    "\n",
    "** Acción de campaña: hay que premiarlos y hacerlos sentir bien para que sigan manteniendo su fidelidad. "
   ]
  },
  {
   "cell_type": "markdown",
   "metadata": {},
   "source": [
    "## A continuación determinaremos acciones concretas a realizar para los segmentos más críticos: Imperdibles y Frizados. Para ello compararemos diferencias en las preferencias de compras de cada uno de estos dos segmentos con respecto al conjunto total de compradores."
   ]
  },
  {
   "cell_type": "code",
   "execution_count": null,
   "metadata": {},
   "outputs": [],
   "source": [
    "#Primero unimos la tabla de RFM con ALL_DATA\n",
    "all_data_rfm= all_data.merge(rfm_scaled, on='customer_unique_id')"
   ]
  },
  {
   "cell_type": "code",
   "execution_count": null,
   "metadata": {},
   "outputs": [],
   "source": [
    "# ¿Qué categoría de productos tienen más demanda para el segmento IMPERDIBLES??\n",
    "top_20_product_best_seller = all_data_rfm.loc[all_data_rfm['RFM_Level']=='Imperdibles','order_item_id'].groupby(all_data['product_category_name_english']).sum().sort_values(ascending=False)[:20]\n",
    "#print(top_20_product_best_seller)\n",
    "\n",
    "# Lo trazamos para visualización\n",
    "fig=plt.figure(figsize=(16,9))\n",
    "sns.barplot(y=top_20_product_best_seller.index,x=top_20_product_best_seller.values)\n",
    "plt.title('Top 20 Categorías más vendidas para Imperdibles',fontsize=20)\n",
    "plt.xlabel('Total de productos vendidos',fontsize=17)\n",
    "plt.ylabel('Categoría de producto',fontsize=17)"
   ]
  },
  {
   "cell_type": "markdown",
   "metadata": {},
   "source": [
    "### Acción: Observamos que para este segmento  la categoría de \"sport leisure\" y \"housewares\" tienen mayor aceptación que para el conjunto completo de los clientes. Por lo tanto nos enfocaremos en esas categorías para ofrecer promociones especiales mediante una campaña de e-mails masivos."
   ]
  },
  {
   "cell_type": "code",
   "execution_count": null,
   "metadata": {},
   "outputs": [],
   "source": [
    "# ¿Qué productos tienen más demanda para el segmento IMPERDIBLES?\n",
    "top_10_product_best_seller = all_data_rfm.loc[all_data_rfm['RFM_Level']=='Imperdibles','order_item_id'].groupby(all_data_rfm['product_id']).sum().sort_values(ascending=False)[:10]\n",
    "\n",
    "# Lo trazamos para visualización\n",
    "fig=plt.figure(figsize=(16,9))\n",
    "sns.barplot(y=top_10_product_best_seller.index,x=top_10_product_best_seller.values)\n",
    "plt.title('Top  Productos más vendidos para los Imperdibles',fontsize=20)\n",
    "plt.xlabel('Total de productos vendidos',fontsize=17)\n",
    "plt.ylabel('ID de producto',fontsize=17)"
   ]
  },
  {
   "cell_type": "markdown",
   "metadata": {},
   "source": [
    "### Acción: A partir de conocer cuales son los 10 productos mas demandados por el segmento Imperdibles ofreceremos el beneficio de envío gratuito si el carrito de compras contine al menos 2 de esos productos."
   ]
  },
  {
   "cell_type": "code",
   "execution_count": null,
   "metadata": {},
   "outputs": [],
   "source": [
    "# ¿Cuál es el tiempo de entrega promedio Para el segmento Imperdibles?\n",
    "delivery_time_by_month = all_data_rfm.loc[all_data_rfm['RFM_Level']=='Imperdibles','order_delivery_time'].groupby(all_data_rfm['Month_order']).median(numeric_only=False) #masukan argumen numeric_only untuk menghitung timedelta\n",
    "\n",
    "\n",
    "fig=plt.figure(figsize=(16,9))\n",
    "plt.plot(delivery_time_by_month.index, delivery_time_by_month.values / 86400, marker='o')\n",
    "plt.title('Tiempo promedio de entrega por mes para el segmento Imperdibles',fontsize=20)\n",
    "plt.xlabel('Mes',fontsize=17)\n",
    "plt.xticks(#[1, 2, 3, 4, 5, 6, 7, 8, 9, 10, 11, 12],\n",
    "          rotation=90)\n",
    "plt.ylabel('Tiempo (Día)',fontsize=17)"
   ]
  },
  {
   "cell_type": "markdown",
   "metadata": {},
   "source": [
    "### Conclusión: Para el segmento imperdibles no observamos diferencia en los tiempos de entrega con respecto al promedio de todos los clientes. Las curvas son prácticamente iguales. Por lo tanto no tomaremos una acción a partir de este dato."
   ]
  },
  {
   "cell_type": "markdown",
   "metadata": {},
   "source": [
    "### Ahora analizaremos el segmento de Frizados, para averiguar sus particularidades e intentar atraerlos nuevamente"
   ]
  },
  {
   "cell_type": "code",
   "execution_count": null,
   "metadata": {},
   "outputs": [],
   "source": [
    "# ¿Qué categoría de productos tienen más demanda para el segmento Frizados??\n",
    "top_20_product_best_seller = all_data_rfm.loc[all_data_rfm['RFM_Level']=='Frizados','order_item_id'].groupby(all_data['product_category_name_english']).sum().sort_values(ascending=False)[:20]\n",
    "#print(top_20_product_best_seller)\n",
    "\n",
    "# Lo trazamos para visualización\n",
    "fig=plt.figure(figsize=(16,9))\n",
    "sns.barplot(y=top_20_product_best_seller.index,x=top_20_product_best_seller.values)\n",
    "plt.title('Top 20 Categorías más vendidas para Frizados',fontsize=20)\n",
    "plt.xlabel('Total de productos vendidos',fontsize=17)\n",
    "plt.ylabel('Categoría de producto',fontsize=17)"
   ]
  },
  {
   "cell_type": "markdown",
   "metadata": {},
   "source": [
    "### Conclusión: Vemos que este segmento valora más las categorías de productos de \"health_beauty\" y \"computer_accesories\" con respecto al promedio de clientes, por lo tanto nos enfocaremos en analizar los productos de estas dos categorías antes de tomar una acción."
   ]
  },
  {
   "cell_type": "code",
   "execution_count": null,
   "metadata": {},
   "outputs": [],
   "source": [
    "# ¿Qué productos de la categoría \"health_beauty\" tienen más demanda para el segmento Frizados?\n",
    "top_10_product_best_seller = all_data_rfm.loc[(all_data_rfm['RFM_Level']=='Frizados') & (all_data_rfm['product_category_name_english']=='health_beauty'),'order_item_id'].groupby(all_data_rfm['product_id']).sum().sort_values(ascending=False)[:10]\n",
    "\n",
    "# Lo trazamos para visualización\n",
    "fig=plt.figure(figsize=(16,9))\n",
    "sns.barplot(y=top_10_product_best_seller.index,x=top_10_product_best_seller.values)\n",
    "plt.title('Top 10 Productos de categoría health_beauty más vendidos para los Frizados',fontsize=20)\n",
    "plt.xlabel('Total de productos vendidos',fontsize=17)\n",
    "plt.ylabel('ID de producto',fontsize=17)"
   ]
  },
  {
   "cell_type": "code",
   "execution_count": null,
   "metadata": {},
   "outputs": [],
   "source": [
    "# ¿Qué productos de la categoría \"computers_accessories\" tienen más demanda para el segmento Frizados?\n",
    "top_10_product_best_seller = all_data_rfm.loc[(all_data_rfm['RFM_Level']=='Frizados') & (all_data_rfm['product_category_name_english']=='computers_accessories'),'order_item_id'].groupby(all_data_rfm['product_id']).sum().sort_values(ascending=False)[:10]\n",
    "\n",
    "# Lo trazamos para visualización\n",
    "fig=plt.figure(figsize=(16,9))\n",
    "sns.barplot(y=top_10_product_best_seller.index,x=top_10_product_best_seller.values)\n",
    "plt.title('Top 10 Productos de categoría computers_accessories más vendidos para los Frizados',fontsize=20)\n",
    "plt.xlabel('Total de productos vendidos',fontsize=17)\n",
    "plt.ylabel('ID de producto',fontsize=17)"
   ]
  },
  {
   "cell_type": "markdown",
   "metadata": {},
   "source": [
    "### Acción: Tras analizar las categorías preferidas del segmento Frizados y observar cuales son los 10 productos más consumidos dentro de esas categorías tomaremos la acción de hacer una campaña de promoción masiva por e-mail ofreciendo dichos productos."
   ]
  },
  {
   "cell_type": "code",
   "execution_count": null,
   "metadata": {},
   "outputs": [],
   "source": []
  }
 ],
 "metadata": {
  "kernelspec": {
   "display_name": "Python 3",
   "language": "python",
   "name": "python3"
  },
  "language_info": {
   "codemirror_mode": {
    "name": "ipython",
    "version": 3
   },
   "file_extension": ".py",
   "mimetype": "text/x-python",
   "name": "python",
   "nbconvert_exporter": "python",
   "pygments_lexer": "ipython3",
   "version": "3.7.3"
  }
 },
 "nbformat": 4,
 "nbformat_minor": 4
}
