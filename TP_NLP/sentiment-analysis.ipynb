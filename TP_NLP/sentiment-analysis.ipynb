{
 "cells": [
  {
   "cell_type": "markdown",
   "metadata": {},
   "source": [
    "# ****============ SENTIMENT ANALYSIS =============****\n",
    "\n",
    "A través de este trabajo se busca poder integrar nociones y conocimientos sobre NLP vistas\n",
    "en el módulo, así como en los previos para generar un modelo de machine learning.\n",
    "El objetivo que van a tener es construir un clasificador el cual pueda predecir si una revisión\n",
    "realizada por un usuario es positiva o negativa (buena o mala).\n",
    "Para ello, utilizaremos un conjunto de datos que pertenece a la plataforma Yelp. Esta,\n",
    "posee una red de usuarios, los cuales realizan opiniones sobre lugares nocturnos, espacios\n",
    "culturales, locales comerciales, entre otros.\n",
    "El dataset a trabajar se encuentra en el siguiente link. Deberán realizar un análisis de\n",
    "features, así como su preparación necesaria antes de iniciar el desarrollo del modelo.\n",
    "Objetivos\n",
    "Deberán generar un modelo de machine learning el cual pueda clasificar review en inglés\n",
    "para la plataforma Yelp. Es decir, nuestro modelo recibirá una review de un usuario, y\n",
    "deberá ser capaz de determinar si esta es positiva o negativa.\n",
    "Dataset\n",
    "Las features que contiene este dataset son las siguientes:\n",
    "● business_id: identificador del negocio al que se está realizando la review.\n",
    "● cool: cantidad de votos por haber sido una review “cool”.\n",
    "● date: fecha de realización de la revisión\n",
    "● funny: cantidad de votos para una revisión “divertida”.\n",
    "● review_id: identificador único de revisión (ofuscado).\n",
    "● stars: cantidad de estrellas otorgadas por el usuario en referencia a la review.\n",
    "● text: revisión realizada por el usuario sobre un determinado negocio.\n",
    "● useful: cantidad de votos recibido por los usuarios a los cuales le resultó útil la\n",
    "revisión.\n",
    "● user_id: id del usuario en la plataforma (ofuscado)\n",
    "Cuento con los datos del business (negocio) sobre el que se realizó la review por si\n",
    "consideran que es necesario para sumar features, datos, etc.\n",
    "Consideraciones\n",
    "● No contamos con una variable target como pasa en problemas de la vida real. Por\n",
    "ello, un desafío extra que se presenta es cómo definir un target, basado en las\n",
    "features del dataset.\n",
    "● Muchas veces cuando importamos un dataset pandas infiere que valor podría ser,\n",
    "de no encontrar un valor conocido pone uno por defecto.Validar que los tipos de\n",
    "datos de las features después de importarse correspondan con su valor intrínseco es\n",
    "una buena práctica.\n",
    "Diplomatura en Data Science Aplicada 2020\n",
    "● Haga una rápida exploración de valores atípicos (outliers) del conjunto de datos.\n",
    "Realice los gráficos que considere pertinente para entender la naturaleza del\n",
    "problema.\n",
    "● Como aplicación opcional, sería interesante investigar, y evaluar si sobre nuestro\n",
    "problema sirve implementar Recursive Feature Elimination, y como y donde lo\n",
    "harían"
   ]
  },
  {
   "cell_type": "code",
   "execution_count": null,
   "metadata": {
    "_cell_guid": "79c7e3d0-c299-4dcb-8224-4455121ee9b0",
    "_uuid": "d629ff2d2480ee46fbb7e2d37f6b5fab8052498a"
   },
   "outputs": [],
   "source": [
    "#Importando librerias\n",
    "#Librerias basicas\n",
    "import pandas as pd\n",
    "import numpy as np\n",
    "import matplotlib.pyplot as plt\n",
    "import seaborn as sns\n",
    "from scipy import stats\n",
    "\n",
    "#Seleccion de features\n",
    "from sklearn.preprocessing import StandardScaler\n",
    "from sklearn.preprocessing import MinMaxScaler\n",
    "#Algoritmo de modelado\n",
    "from sklearn.cluster import KMeans\n",
    "\n",
    "#Evaluacion del modelo\n",
    "#from yellowbrick.cluster import SilhouetteVisualizer\n",
    "\n",
    "import warnings\n",
    "warnings.filterwarnings(action=\"ignore\")\n",
    "\n",
    "#Funcion de preprocesameinto de datos\n",
    "#import func_prepro as pre"
   ]
  },
  {
   "cell_type": "code",
   "execution_count": 2,
   "metadata": {},
   "outputs": [],
   "source": [
    "#Cargamos todos los archivos csv\n",
    "df = pd.read_csv('data/reviews_yelp_nn.csv',sep='\\t')"
   ]
  },
  {
   "cell_type": "code",
   "execution_count": 3,
   "metadata": {},
   "outputs": [
    {
     "data": {
      "text/plain": [
       "(3342958, 9)"
      ]
     },
     "execution_count": 3,
     "metadata": {},
     "output_type": "execute_result"
    }
   ],
   "source": [
    "df.shape"
   ]
  },
  {
   "cell_type": "code",
   "execution_count": 4,
   "metadata": {},
   "outputs": [
    {
     "data": {
      "text/html": [
       "<div>\n",
       "<style scoped>\n",
       "    .dataframe tbody tr th:only-of-type {\n",
       "        vertical-align: middle;\n",
       "    }\n",
       "\n",
       "    .dataframe tbody tr th {\n",
       "        vertical-align: top;\n",
       "    }\n",
       "\n",
       "    .dataframe thead th {\n",
       "        text-align: right;\n",
       "    }\n",
       "</style>\n",
       "<table border=\"1\" class=\"dataframe\">\n",
       "  <thead>\n",
       "    <tr style=\"text-align: right;\">\n",
       "      <th></th>\n",
       "      <th>business_id</th>\n",
       "      <th>cool</th>\n",
       "      <th>date</th>\n",
       "      <th>funny</th>\n",
       "      <th>review_id</th>\n",
       "      <th>stars</th>\n",
       "      <th>text</th>\n",
       "      <th>useful</th>\n",
       "      <th>user_id</th>\n",
       "    </tr>\n",
       "  </thead>\n",
       "  <tbody>\n",
       "    <tr>\n",
       "      <th>0</th>\n",
       "      <td>EhGPj8iJDIdaHnWg9d5BgA</td>\n",
       "      <td>0</td>\n",
       "      <td>2016-04-20 14:30:53</td>\n",
       "      <td>0.0</td>\n",
       "      <td>uJRdHLz4XNmDK5pOkWbZNA</td>\n",
       "      <td>5.0</td>\n",
       "      <td>Best Dim Sum in the city, their cart service i...</td>\n",
       "      <td>0.0</td>\n",
       "      <td>POETn3fQcZ8ngLAARCATSg</td>\n",
       "    </tr>\n",
       "    <tr>\n",
       "      <th>1</th>\n",
       "      <td>VPcFNI-6HICR5SJM--KjNA</td>\n",
       "      <td>5</td>\n",
       "      <td>2013-05-14 03:08:12</td>\n",
       "      <td>2.0</td>\n",
       "      <td>TlPh8jy8bt_TSGfjEw-pvA</td>\n",
       "      <td>5.0</td>\n",
       "      <td>How... HOW did I not head down here sooner? Fo...</td>\n",
       "      <td>7.0</td>\n",
       "      <td>oUK6Xs5dPPnP4whFeZExGg</td>\n",
       "    </tr>\n",
       "    <tr>\n",
       "      <th>2</th>\n",
       "      <td>ugdUuApH3pYXggW5qpbALg</td>\n",
       "      <td>0</td>\n",
       "      <td>2016-08-26 16:51:37</td>\n",
       "      <td>0.0</td>\n",
       "      <td>GmoBAVE1pTo0kjmeKrXmLQ</td>\n",
       "      <td>4.0</td>\n",
       "      <td>Carnitas were wonderful. First time there and ...</td>\n",
       "      <td>0.0</td>\n",
       "      <td>SiaSUNlKQK7f57WBPmyyNw</td>\n",
       "    </tr>\n",
       "    <tr>\n",
       "      <th>3</th>\n",
       "      <td>3fCxmmg8nHGaE5upJWQUrw</td>\n",
       "      <td>0</td>\n",
       "      <td>2016-03-24 17:23:19</td>\n",
       "      <td>0.0</td>\n",
       "      <td>ZHuM9P81zfuNuFZ5ThXNRg</td>\n",
       "      <td>5.0</td>\n",
       "      <td>Great staff who are always willing to help. I ...</td>\n",
       "      <td>0.0</td>\n",
       "      <td>PsH5Qi8R69WAlhNv8mXWRA</td>\n",
       "    </tr>\n",
       "    <tr>\n",
       "      <th>4</th>\n",
       "      <td>LAqbIi2TDn8BDvPB0nLVhQ</td>\n",
       "      <td>1</td>\n",
       "      <td>2012-10-25 15:02:48</td>\n",
       "      <td>0.0</td>\n",
       "      <td>-2Ce00mfWYP20yt7k6kARg</td>\n",
       "      <td>3.0</td>\n",
       "      <td>This place is bigger, brighter, new so it's cl...</td>\n",
       "      <td>3.0</td>\n",
       "      <td>r-zUIQPaHzvIyL93wQaoiQ</td>\n",
       "    </tr>\n",
       "  </tbody>\n",
       "</table>\n",
       "</div>"
      ],
      "text/plain": [
       "              business_id cool                 date  funny  \\\n",
       "0  EhGPj8iJDIdaHnWg9d5BgA    0  2016-04-20 14:30:53    0.0   \n",
       "1  VPcFNI-6HICR5SJM--KjNA    5  2013-05-14 03:08:12    2.0   \n",
       "2  ugdUuApH3pYXggW5qpbALg    0  2016-08-26 16:51:37    0.0   \n",
       "3  3fCxmmg8nHGaE5upJWQUrw    0  2016-03-24 17:23:19    0.0   \n",
       "4  LAqbIi2TDn8BDvPB0nLVhQ    1  2012-10-25 15:02:48    0.0   \n",
       "\n",
       "                review_id  stars  \\\n",
       "0  uJRdHLz4XNmDK5pOkWbZNA    5.0   \n",
       "1  TlPh8jy8bt_TSGfjEw-pvA    5.0   \n",
       "2  GmoBAVE1pTo0kjmeKrXmLQ    4.0   \n",
       "3  ZHuM9P81zfuNuFZ5ThXNRg    5.0   \n",
       "4  -2Ce00mfWYP20yt7k6kARg    3.0   \n",
       "\n",
       "                                                text  useful  \\\n",
       "0  Best Dim Sum in the city, their cart service i...     0.0   \n",
       "1  How... HOW did I not head down here sooner? Fo...     7.0   \n",
       "2  Carnitas were wonderful. First time there and ...     0.0   \n",
       "3  Great staff who are always willing to help. I ...     0.0   \n",
       "4  This place is bigger, brighter, new so it's cl...     3.0   \n",
       "\n",
       "                  user_id  \n",
       "0  POETn3fQcZ8ngLAARCATSg  \n",
       "1  oUK6Xs5dPPnP4whFeZExGg  \n",
       "2  SiaSUNlKQK7f57WBPmyyNw  \n",
       "3  PsH5Qi8R69WAlhNv8mXWRA  \n",
       "4  r-zUIQPaHzvIyL93wQaoiQ  "
      ]
     },
     "execution_count": 4,
     "metadata": {},
     "output_type": "execute_result"
    }
   ],
   "source": [
    "df.head()"
   ]
  },
  {
   "cell_type": "markdown",
   "metadata": {},
   "source": [
    "# ** 1. Exploración de datos **\n",
    "\n",
    "En esta etapa se lleva a cabo la exploración de datos para obtener información que puede ser útil para la empresa."
   ]
  },
  {
   "cell_type": "code",
   "execution_count": null,
   "metadata": {},
   "outputs": [],
   "source": [
    "# group by cool top 20\n",
    "by_cool=df['business_id'].groupby(df['cool']).sum().sort_values(ascending=False)[:20]\n",
    "\n",
    "\n",
    "# Lo trazamos para visualización\n",
    "#fig=plt.figure(figsize=(16,9))\n",
    "#sns.barplot(y=by_cool.index,x=by_cool.values)\n",
    "#plt.title('Top 20 Productos más vendidos',fontsize=20)\n",
    "#plt.xlabel('Total de productos vendidos',fontsize=17)\n",
    "#plt.ylabel('Categoría de producto',fontsize=17)"
   ]
  },
  {
   "cell_type": "code",
   "execution_count": 7,
   "metadata": {},
   "outputs": [
    {
     "data": {
      "text/plain": [
       "user_id\n",
       "KqKirfrjzVukVC91EF_tAw    zzzqdnN5WatsvzwyxJE33wLpQ4-HPBBSYR6MMvgxwkYQv_...\n",
       "Mo3L-LcQBiFO2Ohhj51XHQ    zzzblSSTZhw51XZ2swYvBgej7GbQV71A3engI2HYfcogcO...\n",
       "sw0QzFDaWsxCs9NcGytVEA                               zzzJmOMxynKml1OL0eD1hA\n",
       "XDQw8_kaTaovGLYT5DgwBQ    zzymH5hqrPD80Mj-U86dEQW136AvKH1YdXh3srP3TQTQhb...\n",
       "8DAyqTs-Bv7G7VWWSv6u1g         zzyhZImTk0RoLZIB8aleeQrlQMDJf6jWjeKE2NpaBykw\n",
       "Name: review_id, dtype: object"
      ]
     },
     "execution_count": 7,
     "metadata": {},
     "output_type": "execute_result"
    }
   ],
   "source": [
    "#review by user \n",
    "top_20_review_by_user = df['review_id'].groupby(df['user_id']).sum().sort_values(ascending=False)[:20]\n",
    "top_20_review_by_user.head()\n",
    "# ¿Qué ciudad compra más?\n",
    "#fig=plt.figure(figsize=(16,9))\n",
    "#sns.barplot(y=top_20_review_by_user.index,x=top_20_review_by_user.values)\n",
    "#plt.title('Top 20 Ciudades que más compran',fontsize=20)\n",
    "#plt.xlabel('Total de productos',fontsize=17)\n",
    "#plt.ylabel('Ciudad',fontsize=17)"
   ]
  },
  {
   "cell_type": "markdown",
   "metadata": {},
   "source": [
    "# ** 3. Modelado **\n",
    "\n",
    "En esta etapa, el modelado se llevará a cabo utilizando un algoritmo de agrupamiento denominado K-Means basado en el análisis RFM (Recency, Frequency, and Monetary) para la segmentación de clientes."
   ]
  },
  {
   "cell_type": "markdown",
   "metadata": {},
   "source": [
    "## ** 3.1 Análisis RFM **\n",
    "\n",
    "El análisis RFM es un método utilizado para ver patrones en los clientes en función de sus hábitos de compra:\n",
    "\n",
    "1. Recency = ¿Cuándo fue la última vez que el cliente realizó una transacción?\n",
    " \n",
    "2. Frecuencia = ¿Con qué frecuencia el cliente realiza una compra?\n",
    "\n",
    "3. Monetario = cuánto gastan los clientes"
   ]
  },
  {
   "cell_type": "code",
   "execution_count": null,
   "metadata": {},
   "outputs": [],
   "source": [
    "#ver las fechas de compra e inicio\n",
    "print('Min : {}, Max : {}'.format(min(all_data.order_purchase_timestamp), max(all_data.order_purchase_timestamp)))"
   ]
  },
  {
   "cell_type": "code",
   "execution_count": null,
   "metadata": {},
   "outputs": [],
   "source": [
    "#Calcular RFM\n",
    "import datetime as dt\n",
    "pin_date = max(all_data.order_purchase_timestamp) + dt.timedelta(1)\n",
    "\n",
    "#Creo un dataframe para RFM\n",
    "rfm = all_data.groupby('customer_unique_id').agg({\n",
    "    'order_purchase_timestamp' : lambda x: (pin_date - x.max()).days,\n",
    "    'order_item_id' : 'count', \n",
    "    'payment_value' : 'sum'})\n",
    "#este dataframe va a contener hace cuantos dias hicieron la ultima compra, cuantos productos compraron en el periodo\n",
    "#bajo estudio y cuanto gastaron en esos productos, en el mismo periodo\n",
    "\n",
    "rfm.rename(columns = {'order_purchase_timestamp' : 'Recency', \n",
    "                      'order_item_id' : 'Frequency', \n",
    "                      'payment_value' : 'Monetary'}, inplace = True)\n",
    "\n",
    "rfm.head()"
   ]
  },
  {
   "cell_type": "markdown",
   "metadata": {},
   "source": [
    "## ** 3.2 Manejo de valores atípicos **\n",
    "\n",
    "En esta etapa, limpiaremos los datos de las entradas que pueden ser incorrectas o las anomalías de los datos que tenemos."
   ]
  },
  {
   "cell_type": "code",
   "execution_count": null,
   "metadata": {},
   "outputs": [],
   "source": [
    "#Usamos Rangos intercuartilicos\n",
    "def limit(i):\n",
    "    Q1 = rfm[i].quantile(0.5)\n",
    "    Q3 = rfm[i].quantile(0.95)\n",
    "    IQR = Q3 - Q1\n",
    "    \n",
    "    \n",
    "    lower_limit = rfm[i].quantile(0.5) - (IQR * 1.5)\n",
    "    lower_limit_extreme = rfm[i].quantile(0.5) - (IQR * 3)\n",
    "    upper_limit = rfm[i].quantile(0.95) + (IQR * 1.5)\n",
    "    upper_limit_extreme = rfm[i].quantile(0.5) + (IQR * 3)\n",
    "    print('Lower Limit:', lower_limit)\n",
    "    print('Lower Limit Extreme:', lower_limit_extreme)\n",
    "    print('Upper Limit:', upper_limit)\n",
    "    print('Upper Limit Extreme:', upper_limit_extreme)\n",
    "\n",
    "def percent_outliers(i):\n",
    "    Q1 = rfm[i].quantile(0.5)\n",
    "    Q3 = rfm[i].quantile(0.95)\n",
    "    IQR = Q3 - Q1\n",
    "    \n",
    "    lower_limit = rfm[i].quantile(0.5) - (IQR * 1.5)\n",
    "    lower_limit_extreme = rfm[i].quantile(0.5) - (IQR * 3)\n",
    "    upper_limit = rfm[i].quantile(0.95) + (IQR * 1.5)\n",
    "    upper_limit_extreme = rfm[i].quantile(0.95) + (IQR * 3)\n",
    "    print('Lower Limit: {} %'.format(rfm[(rfm[i] >= lower_limit)].shape[0]/ rfm.shape[0]*100))\n",
    "    print('Lower Limit Extereme: {} %'.format(rfm[(rfm[i] >= lower_limit_extreme)].shape[0]/rfm.shape[0]*100))\n",
    "    print('Upper Limit: {} %'.format(rfm[(rfm[i] >= upper_limit)].shape[0]/ rfm.shape[0]*100))\n",
    "    print('Upper Limit Extereme: {} %'.format(rfm[(rfm[i] >= upper_limit_extreme)].shape[0]/rfm.shape[0]*100))"
   ]
  },
  {
   "cell_type": "code",
   "execution_count": null,
   "metadata": {},
   "outputs": [],
   "source": [
    "sns.boxplot(x=rfm[\"Recency\"])"
   ]
  },
  {
   "cell_type": "code",
   "execution_count": null,
   "metadata": {},
   "outputs": [],
   "source": [
    "sns.boxplot(x=rfm[\"Frequency\"])"
   ]
  },
  {
   "cell_type": "markdown",
   "metadata": {},
   "source": [
    "La columna Frecuencia no elimina los valores atípicos porque los valores atípicos aquí son de hecho la posibilidad de que los clientes realicen muchas transacciones porque estos datos se toman de 2017-2018"
   ]
  },
  {
   "cell_type": "code",
   "execution_count": null,
   "metadata": {},
   "outputs": [],
   "source": [
    "sns.boxplot(x=rfm[\"Monetary\"])"
   ]
  },
  {
   "cell_type": "code",
   "execution_count": null,
   "metadata": {},
   "outputs": [],
   "source": [
    "print(limit('Monetary'))\n",
    "print('-'*50)\n",
    "print(percent_outliers('Monetary'))"
   ]
  },
  {
   "cell_type": "code",
   "execution_count": null,
   "metadata": {},
   "outputs": [],
   "source": [
    "#se eliminan los valores outliers de aquellos que hayan gastado mas de 1500 \n",
    "outliers1_drop = rfm[(rfm['Monetary'] > 1500)].index\n",
    "rfm.drop(outliers1_drop, inplace=True)"
   ]
  },
  {
   "cell_type": "markdown",
   "metadata": {},
   "source": [
    "## ** 3.3 Percentil RFM **\n",
    "\n",
    "En esta etapa, se crearán grupos de clientes basados ​​en Recency, Frequency y Monetary dividiéndolos en grupos de 3 **** en cada uno."
   ]
  },
  {
   "cell_type": "code",
   "execution_count": null,
   "metadata": {},
   "outputs": [],
   "source": [
    "# Crear grupos de clientes basados en Recency, Frequency y Monetary\n",
    "#Porque en Recency cuantos menos días pasaron desde la ultima compra mejor\n",
    "r_labels = range(3, 0, -1)\n",
    "r_groups = pd.qcut(rfm.Recency, q = 3, labels = r_labels).astype('int')\n",
    "\n",
    "# Debido a que en la frecuencia vemos muchos valores igual a 1, entonces no puede usar qcut,\n",
    "#porque el valor se apoyará más\n",
    "f_groups = pd.qcut(rfm.Frequency.rank(method='first'), 3).astype('str')\n",
    "#rfm['F'] = np.where((rfm['Frequency'] != 1) & (rfm['Frequency'] != 2), 3, rfm.Frequency)\n",
    "\n",
    "m_labels = range(1, 4)\n",
    "m_groups = pd.qcut(rfm.Monetary, q = 3, labels = m_labels).astype('int')"
   ]
  },
  {
   "cell_type": "code",
   "execution_count": null,
   "metadata": {},
   "outputs": [],
   "source": [
    "rfm['R'] = r_groups.values\n",
    "rfm['F'] = f_groups.values\n",
    "rfm['M'] = m_groups.values"
   ]
  },
  {
   "cell_type": "code",
   "execution_count": null,
   "metadata": {},
   "outputs": [],
   "source": [
    "rfm['F'].value_counts()"
   ]
  },
  {
   "cell_type": "code",
   "execution_count": null,
   "metadata": {},
   "outputs": [],
   "source": [
    "rfm['F'] = rfm['F'].replace({'(0.999, 30871.333]' : 1,\n",
    "                             '(30871.333, 61741.667]' : 2,\n",
    "                             '(61741.667, 92612.0]' : 3}).astype('int')"
   ]
  },
  {
   "cell_type": "code",
   "execution_count": null,
   "metadata": {},
   "outputs": [],
   "source": [
    "rfm['RFM_Segment'] = rfm.apply(lambda x: str(x['R']) + str(x['F']) + str(x['M']), axis = 1)\n",
    "rfm['RFM_Score'] = rfm[['R', 'F', 'M']].sum(axis = 1)\n",
    "rfm.head()"
   ]
  },
  {
   "cell_type": "code",
   "execution_count": null,
   "metadata": {},
   "outputs": [],
   "source": [
    "score_labels = ['Bronze', 'Silver', 'Gold']\n",
    "score_groups = pd.qcut(rfm.RFM_Score, q=3, labels = score_labels)\n",
    "rfm['RFM_Level'] = score_groups.values\n",
    "rfm.head()"
   ]
  },
  {
   "cell_type": "markdown",
   "metadata": {},
   "source": [
    "## ** 3.4 Manejo de la inclinación y el escalado **\n",
    "\n",
    "Para los datos que ingresarán al algoritmo K-Means, la distribución es normal porque facilitará la formación de grupos, luego no olvides igualar la escala de cada columna porque se medirá en función de la distancia entre cada entrada."
   ]
  },
  {
   "cell_type": "code",
   "execution_count": null,
   "metadata": {},
   "outputs": [],
   "source": [
    "fig, ax = plt.subplots(figsize=(16, 9))\n",
    "plt.subplot(3, 1, 1); sns.distplot(rfm.Recency, label = 'Recency')\n",
    "plt.subplot(3, 1, 2); sns.distplot(rfm['Frequency'], kde_kws={'bw': 0.1}, label='Frequency')\n",
    "plt.subplot(3, 1, 3); sns.distplot(rfm.Monetary, label = 'Monetary')\n",
    "\n",
    "plt.tight_layout()\n",
    "plt.show()"
   ]
  },
  {
   "cell_type": "code",
   "execution_count": null,
   "metadata": {},
   "outputs": [],
   "source": [
    "from scipy import stats\n",
    "\n",
    "rfm_log = rfm[['Recency', 'Monetary']].apply(np.log, axis = 1).round(3)\n",
    "rfm_log['Frequency'] = stats.boxcox(rfm['Frequency'])[0]\n",
    "rfm_log.head()"
   ]
  },
  {
   "cell_type": "code",
   "execution_count": null,
   "metadata": {},
   "outputs": [],
   "source": [
    "scaler = StandardScaler()\n",
    "minmax = MinMaxScaler()\n",
    "rfm_scaled = scaler.fit_transform(rfm_log)"
   ]
  },
  {
   "cell_type": "code",
   "execution_count": null,
   "metadata": {},
   "outputs": [],
   "source": [
    "rfm_scaled = pd.DataFrame(rfm_scaled, index = rfm.index, columns = rfm_log.columns)\n",
    "rfm_scaled.head()"
   ]
  },
  {
   "cell_type": "code",
   "execution_count": null,
   "metadata": {},
   "outputs": [],
   "source": [
    "fig, ax = plt.subplots(figsize=(16, 9))\n",
    "plt.subplot(3, 1, 1); sns.distplot(rfm_scaled.Recency, label = 'Recency')\n",
    "plt.subplot(3, 1, 2); sns.distplot(rfm_scaled.Frequency, kde_kws={'bw': 0.1}, label='Frequency')\n",
    "plt.subplot(3, 1, 3); sns.distplot(rfm_scaled.Monetary, label = 'Monetary')\n",
    "\n",
    "plt.tight_layout()\n",
    "plt.show()"
   ]
  },
  {
   "cell_type": "markdown",
   "metadata": {},
   "source": [
    "## ** 3.5 Agrupamiento de K-Means **\n",
    "\n",
    "Aquí la agrupación se realizará utilizando el algoritmo K-Means para obtener el grupo óptimo de datos RFM"
   ]
  },
  {
   "cell_type": "code",
   "execution_count": null,
   "metadata": {},
   "outputs": [],
   "source": [
    "wcss = {}\n",
    "\n",
    "for i in range(1, 11):\n",
    "    kmeans = KMeans(n_clusters= i, init= 'k-means++', max_iter= 300)\n",
    "    kmeans.fit(rfm_scaled)\n",
    "    wcss[i] = kmeans.inertia_\n",
    "    \n",
    "fig, ax = plt.subplots(figsize=(16, 9))\n",
    "sns.pointplot(x = list(wcss.keys()), y = list(wcss.values()))\n",
    "plt.title('Método del codo')\n",
    "plt.xlabel('Números de K')\n",
    "plt.ylabel('WCSS')\n",
    "plt.show()"
   ]
  },
  {
   "cell_type": "markdown",
   "metadata": {},
   "source": [
    "Podemos observar en el grafico que la clusterizacion optima se encuentra entre 3 y 5 por lo que realizaremos la evaluacion y \n",
    "visualizacion con 3, 4 y 5 clusters para luego elegir aquellos que mejores resultados den."
   ]
  },
  {
   "cell_type": "markdown",
   "metadata": {},
   "source": [
    "## Clusterización con k=3"
   ]
  },
  {
   "cell_type": "code",
   "execution_count": null,
   "metadata": {},
   "outputs": [],
   "source": [
    "clus = KMeans(n_clusters= 3, n_init=10, init= 'k-means++', max_iter= 300)\n",
    "clus.fit(rfm_scaled)"
   ]
  },
  {
   "cell_type": "code",
   "execution_count": null,
   "metadata": {},
   "outputs": [],
   "source": [
    "rfm['K_Cluster'] = clus.labels_\n",
    "rfm.head()"
   ]
  },
  {
   "cell_type": "markdown",
   "metadata": {},
   "source": [
    "## ** 3.6 Evaluación **\n",
    "\n",
    "Después de crear un modelo usando KMeans, ahora evaluaremos el modelo si los grupos que forma son realmente diferentes de cada grupo usando el Análisis de Silhouuette. Cuanto más se acerca al número 1, la diferencia que tiene con otras computadoras es cada vez más clara, si el valor está cerca de 0, entonces se parece cada vez más a un grupo cercano y, si -1, hizo un grupo incorrecto."
   ]
  },
  {
   "cell_type": "code",
   "execution_count": null,
   "metadata": {},
   "outputs": [],
   "source": [
    "visualizer = SilhouetteVisualizer(clus)\n",
    "\n",
    "visualizer.fit(rfm_scaled) \n",
    "visualizer.poof() "
   ]
  },
  {
   "cell_type": "markdown",
   "metadata": {},
   "source": [
    "## ** 3.7 Visualización **\n",
    "\n",
    "Visualizaremos para que sea más fácil ver el clúster que creamos con el clúster del algoritmo KMeans. Usaremos 'Snake Plot' en el mundo del marketing para ver qué categorías se incluyen en un clúster.\n",
    "\n"
   ]
  },
  {
   "cell_type": "code",
   "execution_count": null,
   "metadata": {},
   "outputs": [],
   "source": [
    "rfm_scaled['K_Cluster'] = clus.labels_\n",
    "rfm_scaled['RFM_Level'] = rfm.RFM_Level\n",
    "rfm_scaled.reset_index(inplace = True)\n",
    "rfm_scaled.head()"
   ]
  },
  {
   "cell_type": "code",
   "execution_count": null,
   "metadata": {},
   "outputs": [],
   "source": [
    "rfm_melted = pd.melt(frame= rfm_scaled, id_vars= ['customer_unique_id', 'RFM_Level', 'K_Cluster'], \n",
    "                     var_name = 'Metrics', value_name = 'Value')\n",
    "rfm_melted.head()"
   ]
  },
  {
   "cell_type": "code",
   "execution_count": null,
   "metadata": {},
   "outputs": [],
   "source": [
    "fig, ax = plt.subplots(figsize=(16, 9))\n",
    "sns.lineplot(x = 'Metrics', y = 'Value', hue = 'RFM_Level', data = rfm_melted)\n",
    "plt.title('Snake Plot of RFM')\n",
    "plt.legend(loc = 'upper right')"
   ]
  },
  {
   "cell_type": "code",
   "execution_count": null,
   "metadata": {},
   "outputs": [],
   "source": [
    "fig, ax = plt.subplots(figsize=(16, 9))\n",
    "sns.lineplot(x = 'Metrics', y = 'Value', hue = 'K_Cluster', data = rfm_melted)\n",
    "plt.title('Snake Plot of K_cluster')\n",
    "plt.legend(loc = 'upper right')"
   ]
  },
  {
   "cell_type": "markdown",
   "metadata": {},
   "source": [
    "Como podemos ver en los dos gráficos anteriores, podemos concluir con base en grupos:\n",
    "1. Bronce (1 y 0): la frecuencia no es demasiado alta en comparación con la transacción nominal, pero la última vez que realizó una transacción rápida\n",
    "2. Plata (2): la frecuencia es bastante alta y la transacción nominal es bastante alta, pero la última vez que realizó una transacción fue bastante larga\n",
    "3. Oro (3): la frecuencia de gasto es alta y la cantidad gastada también es alta, pero el tiempo de transacción es largo"
   ]
  },
  {
   "cell_type": "code",
   "execution_count": null,
   "metadata": {},
   "outputs": [],
   "source": [
    "# ¿Cuántos clientes hay según su categoría?\n",
    "rfm_cus_level = rfm_scaled.groupby('RFM_Level')['customer_unique_id'].nunique().reset_index()\n",
    "\n",
    "\n",
    "fig=plt.figure(figsize=(16,9))\n",
    "sns.barplot(y=rfm_cus_level['customer_unique_id'], x=rfm_cus_level['RFM_Level'])\n",
    "plt.title('Clientes basados en su nivel RFM',fontsize=20)\n",
    "plt.xlabel('Nivel RFM',fontsize=17)\n",
    "plt.ylabel('Cantidad de clientes',fontsize=17)"
   ]
  },
  {
   "cell_type": "markdown",
   "metadata": {},
   "source": [
    "## Clusterización con k=5"
   ]
  },
  {
   "cell_type": "code",
   "execution_count": null,
   "metadata": {},
   "outputs": [],
   "source": [
    "#Por ultimo realizaremos el mismo analisis pero para 5 clusters \n",
    "\n",
    "#Crearemos grupos teniendo en cuenta recency, frecuency y monetary diviendolos en grupos de 5\n",
    "\n",
    "# Crear grupos de clientes basados en Recency, Frequency y Monetary\n",
    "#En Recency cuantos menos días pasaron desde la ultima compra mejor es\n",
    "r_labels = range(5, 0, -1)\n",
    "r_groups = pd.qcut(rfm.Recency, q = 5, labels = r_labels).astype('int')\n",
    "\n",
    "f_groups = pd.qcut(rfm.Frequency.rank(method='first'), 5).astype('str')\n",
    "\n",
    "m_labels = range(1, 6)\n",
    "m_groups = pd.qcut(rfm.Monetary, q = 5, labels = m_labels).astype('int')"
   ]
  },
  {
   "cell_type": "code",
   "execution_count": null,
   "metadata": {},
   "outputs": [],
   "source": [
    "rfm['R'] = r_groups.values\n",
    "rfm['F'] = f_groups.values\n",
    "rfm['M'] = m_groups.values"
   ]
  },
  {
   "cell_type": "code",
   "execution_count": null,
   "metadata": {},
   "outputs": [],
   "source": [
    "rfm['F'].value_counts()"
   ]
  },
  {
   "cell_type": "code",
   "execution_count": null,
   "metadata": {},
   "outputs": [],
   "source": [
    "#reemplazaremos los rangos por los valores 1, 2, 3, 4 y 5\n",
    "rfm['F'] = rfm['F'].replace({'(0.999, 18523.2]' : 1,\n",
    "                             '(74089.8, 92612.0]' : 2,\n",
    "                             '(37045.4, 55567.6]' : 3,\n",
    "                             '(55567.6, 74089.8]' : 4,\n",
    "                             '(18523.2, 37045.4]' : 5}).astype('int')"
   ]
  },
  {
   "cell_type": "code",
   "execution_count": null,
   "metadata": {},
   "outputs": [],
   "source": [
    "rfm['RFM_Segment'] = rfm.apply(lambda x: str(x['R']) + str(x['F']) + str(x['M']), axis = 1)\n",
    "rfm['RFM_Score'] = rfm[['R', 'F', 'M']].sum(axis = 1)\n",
    "rfm.head()"
   ]
  },
  {
   "cell_type": "code",
   "execution_count": null,
   "metadata": {},
   "outputs": [],
   "source": [
    "#le pondremos nombre a nuestras 5 categorias que representaran los grupos de clientes \n",
    "score_labels = ['Bronze', 'Silver', 'Gold', 'Platinum', 'Diamond']\n",
    "score_groups = pd.qcut(rfm.RFM_Score, q=5, labels = score_labels)\n",
    "rfm['RFM_Level'] = score_groups.values\n",
    "rfm.head()"
   ]
  },
  {
   "cell_type": "code",
   "execution_count": null,
   "metadata": {},
   "outputs": [],
   "source": [
    "#Inclinacion y escalonado \n",
    "\n",
    "rfm_log = rfm[['Recency', 'Monetary']].apply(np.log, axis = 1).round(4)\n",
    "rfm_log['Frequency'] = stats.boxcox(rfm['Frequency'])[0]\n",
    "rfm_log.head()"
   ]
  },
  {
   "cell_type": "code",
   "execution_count": null,
   "metadata": {},
   "outputs": [],
   "source": [
    "scaler = StandardScaler()\n",
    "minmax = MinMaxScaler()\n",
    "rfm_scaled = scaler.fit_transform(rfm_log)\n",
    "rfm_scaled = pd.DataFrame(rfm_scaled, index = rfm.index, columns = rfm_log.columns)\n",
    "rfm_scaled.head()"
   ]
  },
  {
   "cell_type": "code",
   "execution_count": null,
   "metadata": {},
   "outputs": [],
   "source": [
    "#Agrupamiento de clusters \n",
    "clus = KMeans(n_clusters= 5, n_init=10, init= 'k-means++', max_iter= 300)\n",
    "clus.fit(rfm_scaled)"
   ]
  },
  {
   "cell_type": "code",
   "execution_count": null,
   "metadata": {},
   "outputs": [],
   "source": [
    "rfm['K_Cluster'] = clus.labels_\n",
    "rfm.head()"
   ]
  },
  {
   "cell_type": "markdown",
   "metadata": {},
   "source": [
    "### Evaluación"
   ]
  },
  {
   "cell_type": "code",
   "execution_count": null,
   "metadata": {},
   "outputs": [],
   "source": [
    "#Evaluaremos el modelo utilizando el metodo de la silueta \n",
    "\n",
    "visualizer = SilhouetteVisualizer(clus)\n",
    "\n",
    "visualizer.fit(rfm_scaled) \n",
    "visualizer.poof() "
   ]
  },
  {
   "cell_type": "markdown",
   "metadata": {},
   "source": [
    "Podemos observar que con esta nueva distribucion la nueva agrupacion no es tan buena como las anteriores\n",
    "\n",
    "El score del metodo de silueta nos esta dando menos de 0.4 y los grupos estan siendo muy diferentes entre si "
   ]
  },
  {
   "cell_type": "markdown",
   "metadata": {},
   "source": [
    "### Visualización"
   ]
  },
  {
   "cell_type": "code",
   "execution_count": null,
   "metadata": {},
   "outputs": [],
   "source": [
    "##Visualizacion de los clusters\n",
    "\n",
    "rfm_scaled['K_Cluster'] = clus.labels_\n",
    "rfm_scaled['RFM_Level'] = rfm.RFM_Level\n",
    "rfm_scaled.reset_index(inplace = True)\n",
    "rfm_scaled.head()"
   ]
  },
  {
   "cell_type": "code",
   "execution_count": null,
   "metadata": {},
   "outputs": [],
   "source": [
    "rfm_melted = pd.melt(frame= rfm_scaled, id_vars= ['customer_unique_id', 'RFM_Level', 'K_Cluster'], \n",
    "                     var_name = 'Metrics', value_name = 'Value')\n",
    "rfm_melted.head()"
   ]
  },
  {
   "cell_type": "code",
   "execution_count": null,
   "metadata": {},
   "outputs": [],
   "source": [
    "fig, ax = plt.subplots(figsize=(16, 9))\n",
    "sns.lineplot(x = 'Metrics', y = 'Value', hue = 'RFM_Level', data = rfm_melted)\n",
    "plt.title('Snake Plot of RFM')\n",
    "plt.legend(loc = 'upper right')"
   ]
  },
  {
   "cell_type": "code",
   "execution_count": null,
   "metadata": {},
   "outputs": [],
   "source": [
    "fig, ax = plt.subplots(figsize=(16, 9))\n",
    "sns.lineplot(x = 'Metrics', y = 'Value', hue = 'K_Cluster', data = rfm_melted)\n",
    "plt.title('Snake Plot of K_cluster')\n",
    "plt.legend(loc = 'upper right')"
   ]
  },
  {
   "cell_type": "markdown",
   "metadata": {},
   "source": [
    "Observandolos graficos anteriores podemos observar como se comportan los 5 grupos \n",
    "1. Diamond: frecuencia de compra muy alta, valor monetario de gasto alto, y compro por ultima vez hace muy poco\n",
    "2. Platinum: frecuencia de compra muy alta, valor monetario de gasto alto, y compro por ultima vez hace poco\n",
    "3. Gold: frecuencia de compra media, valor monetario de gasto medio, y compro por ultima vez ni hace mucho ni hace muy poco\n",
    "4. Silver: frecuencia de compra media, valor monetario de gasto medio bajo, y compro por ultima vez hace mucho\n",
    "5. Bronze: frecuencia de compra muy bajo, valor monetario de gasto muy bajo, y compro por ultima vez hace muchisimo "
   ]
  },
  {
   "cell_type": "code",
   "execution_count": null,
   "metadata": {},
   "outputs": [],
   "source": [
    "# ¿Cuántos clientes hay según su categoría?\n",
    "rfm_cus_level = rfm_scaled.groupby('RFM_Level')['customer_unique_id'].nunique().reset_index()\n",
    "\n",
    "\n",
    "fig=plt.figure(figsize=(16,9))\n",
    "sns.barplot(y=rfm_cus_level['customer_unique_id'], x=rfm_cus_level['RFM_Level'])\n",
    "plt.title('Clientes basados en su nivel RFM',fontsize=20)\n",
    "plt.xlabel('Nivel RFM',fontsize=17)\n",
    "plt.ylabel('Cantidad de clientes',fontsize=17)"
   ]
  },
  {
   "cell_type": "markdown",
   "metadata": {},
   "source": [
    "## Clusterización con k=4"
   ]
  },
  {
   "cell_type": "code",
   "execution_count": null,
   "metadata": {},
   "outputs": [],
   "source": [
    "#Crearemos grupos teniendo en cuenta recency, frecuency y monetary diviendolos en grupos de 4 \n",
    "\n",
    "# Crear grupos de clientes basados en Recency, Frequency y Monetary\n",
    "#En Recency cuantos menos días pasaron desde la ultima compra mejor es\n",
    "r_labels = range(4, 0, -1)\n",
    "r_groups = pd.qcut(rfm.Recency, q = 4, labels = r_labels).astype('int')\n",
    "\n",
    "f_groups = pd.qcut(rfm.Frequency.rank(method='first'), 4).astype('str')\n",
    "\n",
    "m_labels = range(1, 5)\n",
    "m_groups = pd.qcut(rfm.Monetary, q = 4, labels = m_labels).astype('int')"
   ]
  },
  {
   "cell_type": "code",
   "execution_count": null,
   "metadata": {},
   "outputs": [],
   "source": [
    "rfm['R'] = r_groups.values\n",
    "rfm['F'] = f_groups.values\n",
    "rfm['M'] = m_groups.values"
   ]
  },
  {
   "cell_type": "code",
   "execution_count": null,
   "metadata": {},
   "outputs": [],
   "source": [
    "rfm['F'].value_counts()"
   ]
  },
  {
   "cell_type": "code",
   "execution_count": null,
   "metadata": {},
   "outputs": [],
   "source": [
    "#reemplazaremos los rangos por los valores 1, 2, 3 y 4 \n",
    "rfm['F'] = rfm['F'].replace({'(0.999, 23153.75]' : 1,\n",
    "                             '(69459.25, 92612.0]' : 2,\n",
    "                             '(23153.75, 46306.5]' : 3,\n",
    "                             '(46306.5, 69459.25]' : 4}).astype('int')"
   ]
  },
  {
   "cell_type": "code",
   "execution_count": null,
   "metadata": {},
   "outputs": [],
   "source": [
    "rfm['RFM_Segment'] = rfm.apply(lambda x: str(x['R']) + str(x['F']) + str(x['M']), axis = 1)\n",
    "rfm['RFM_Score'] = rfm[['R', 'F', 'M']].sum(axis = 1)\n",
    "rfm.head()"
   ]
  },
  {
   "cell_type": "code",
   "execution_count": null,
   "metadata": {},
   "outputs": [],
   "source": [
    "#Asignaremos los nuevos labels para estos 4 grupos \n",
    "score_labels = ['Frizados', 'Imperdibles', 'Prometedores', 'Campeones']\n",
    "score_groups = pd.qcut(rfm.RFM_Score, q=4, labels = score_labels)\n",
    "rfm['RFM_Level'] = score_groups.values\n",
    "rfm.head()"
   ]
  },
  {
   "cell_type": "code",
   "execution_count": null,
   "metadata": {},
   "outputs": [],
   "source": [
    "#Inclinacion y escalonado \n",
    "\n",
    "rfm_log = rfm[['Recency', 'Monetary']].apply(np.log, axis = 1).round(4)\n",
    "rfm_log['Frequency'] = stats.boxcox(rfm['Frequency'])[0]\n",
    "rfm_log.head()"
   ]
  },
  {
   "cell_type": "code",
   "execution_count": null,
   "metadata": {},
   "outputs": [],
   "source": [
    "scaler = StandardScaler()\n",
    "minmax = MinMaxScaler()\n",
    "rfm_scaled = scaler.fit_transform(rfm_log)\n",
    "rfm_scaled = pd.DataFrame(rfm_scaled, index = rfm.index, columns = rfm_log.columns)\n",
    "rfm_scaled.head()"
   ]
  },
  {
   "cell_type": "code",
   "execution_count": null,
   "metadata": {},
   "outputs": [],
   "source": [
    "#Agrupamiento de clusters \n",
    "clus = KMeans(n_clusters= 4, n_init=10, init= 'k-means++', max_iter= 300)\n",
    "clus.fit(rfm_scaled)"
   ]
  },
  {
   "cell_type": "code",
   "execution_count": null,
   "metadata": {},
   "outputs": [],
   "source": [
    "rfm['K_Cluster'] = clus.labels_\n",
    "rfm.head()"
   ]
  },
  {
   "cell_type": "markdown",
   "metadata": {},
   "source": [
    "### Evaluación"
   ]
  },
  {
   "cell_type": "code",
   "execution_count": null,
   "metadata": {},
   "outputs": [],
   "source": [
    "#Evaluaremos el modelo utilizando el metodo de la silueta \n",
    "\n",
    "visualizer = SilhouetteVisualizer(clus)\n",
    "\n",
    "visualizer.fit(rfm_scaled) \n",
    "visualizer.poof() "
   ]
  },
  {
   "cell_type": "markdown",
   "metadata": {},
   "source": [
    "### Visualización"
   ]
  },
  {
   "cell_type": "code",
   "execution_count": null,
   "metadata": {},
   "outputs": [],
   "source": [
    "##Visualizacion de los clusters\n",
    "\n",
    "rfm_scaled['K_Cluster'] = clus.labels_\n",
    "rfm_scaled['RFM_Level'] = rfm.RFM_Level\n",
    "rfm_scaled.reset_index(inplace = True)\n",
    "rfm_scaled.head()"
   ]
  },
  {
   "cell_type": "code",
   "execution_count": null,
   "metadata": {},
   "outputs": [],
   "source": [
    "rfm_melted = pd.melt(frame= rfm_scaled, id_vars= ['customer_unique_id', 'RFM_Level', 'K_Cluster'], \n",
    "                     var_name = 'Metrics', value_name = 'Value')\n",
    "rfm_melted.head()"
   ]
  },
  {
   "cell_type": "code",
   "execution_count": null,
   "metadata": {},
   "outputs": [],
   "source": [
    "fig, ax = plt.subplots(figsize=(16, 9))\n",
    "sns.lineplot(x = 'Metrics', y = 'Value', hue = 'RFM_Level', data = rfm_melted)\n",
    "plt.title('Snake Plot of RFM')\n",
    "plt.legend(loc = 'upper right')"
   ]
  },
  {
   "cell_type": "code",
   "execution_count": null,
   "metadata": {},
   "outputs": [],
   "source": [
    "fig, ax = plt.subplots(figsize=(16, 9))\n",
    "sns.lineplot(x = 'Metrics', y = 'Value', hue = 'K_Cluster', data = rfm_melted)\n",
    "plt.title('Snake Plot of K_cluster')\n",
    "plt.legend(loc = 'upper right')"
   ]
  },
  {
   "cell_type": "markdown",
   "metadata": {},
   "source": [
    "Conclusion de lo observado en los graficos anteriores \n",
    "1. Grupo Campeones: podemos observar que la frecuencia de compra es media alta, pero el valor monetario es muy alto y la ultima vez que compro fue hace muy poco \n",
    "2. Grupo Prometedores: la frecuencia en que compra es alta, el valor monetario gastado es medio alto (menor al grupo platinum) y compro hace medianamente poco por ultima vez \n",
    "3. Grupo Imperdibles: compra con una frecuencia media baja, tiene gastos medios tambien y la ultima compro la realizo hace mucho \n",
    "4. Grupo Frizados: la frecuencia con que compran y el valor monetario son muy bajos, y hace mucho mas tiempo que cualquier otro grupo que realizo la ultima compra "
   ]
  },
  {
   "cell_type": "markdown",
   "metadata": {},
   "source": [
    "#### ¿Cuántos clientes hay según su categoría?"
   ]
  },
  {
   "cell_type": "code",
   "execution_count": null,
   "metadata": {},
   "outputs": [],
   "source": [
    "rfm_cus_level['customer_unique_id']"
   ]
  },
  {
   "cell_type": "code",
   "execution_count": null,
   "metadata": {},
   "outputs": [],
   "source": [
    "rfm_cus_level = rfm_scaled.groupby('RFM_Level')['customer_unique_id'].nunique().reset_index()\n",
    "\n",
    "\n",
    "fig=plt.figure(figsize=(16,9))\n",
    "sns.barplot(y=rfm_cus_level['customer_unique_id'], x=rfm_cus_level['RFM_Level'])\n",
    "plt.title('Clientes basados en su nivel RFM',fontsize=20)\n",
    "plt.xlabel('Nivel RFM',fontsize=17)\n",
    "plt.ylabel('Cantidad de clientes',fontsize=17)"
   ]
  },
  {
   "cell_type": "markdown",
   "metadata": {},
   "source": [
    "## 4. CONCLUSIÓN\n",
    "Luego del analisis realizado para clusterizacion de 3, 4 y 5 grupos, elegimos proceder con la clusterizacion en 4 grupos, ya que para 4 grupos la media se encuentra cerca de 0,4 y la distribucion entre los grupos es mas homogenea que para k=3, para el casop de k=5 la media ya nos da por debajo de 0,4 y los grupos son muy distintos entre sí.\n",
    "\n",
    "A continuación describiremos cada uno de los grupos y la accion a realizar para los mismos. \n",
    "\n",
    "En cuanto a los objetivos de este proyecto, que es facilitar que el departamento de marketing lleve a cabo campañas o promociones basadas en la segmentación de clientes, estas son las conclusiones:\n",
    "\n",
    "* Frizados: son clientes que no realizan compras con demasiada frecuencia, el valor nominal de sus transacciones es muy bajo, y la ultima vez que realizaron una compra fue hace mucho tiempo. Hay 27868 clientes de este tipo. \n",
    "\n",
    "** Acción de campaña: posiblemente sean clientes perdidos. En este caso hay que evaluar si vale la pena invertir recursos para recuperarlos. \n",
    "\n",
    "* Imperdibles: la frecuencia con que compran es media alta, pero el valor nominal es medio bajo, y la ultima vez que compraron fue hace mucho tiempo. Hay 35792 clientes de este tipo. \n",
    "\n",
    "** Acción de campaña: hay peligro de perder estos clientes, hay que analizar sus preferencias para armar productos o combos a su medida. Hay que ofrecerles descuentos u ofertas economicas para que vuelvan a comprar porque es la categoría con mayor cantidad de clientes. \n",
    "\n",
    "* Prometedores: son aquellos clientes que compran con mayor frecuencia y el valor monetario gastado es medio alto, la ultima vez que realizaron una compra fue hace medianamente poco. Hay 14763 clientes de este tipo.\n",
    "\n",
    "** Acción de campaña: son clientes potenciales que realizan muchas compras y podrian convertirse en campeones, hay que buscar convertirlos en campeones a través de ofrecerles beneficios y promociones, por ejemplo, luego de cada compra que realicen. \n",
    "\n",
    "* Campeones: si bien la frecuencia de compra no es la mas alta de todas, son los clientes que mayor dinero gastan en sus transacciones y ademas, la ultima vez que compraron fue hace muy poco. Hay 14189 clientes de este tipo.\n",
    "\n",
    "** Acción de campaña: hay que premiarlos y hacerlos sentir bien para que sigan manteniendo su fidelidad. "
   ]
  },
  {
   "cell_type": "markdown",
   "metadata": {},
   "source": [
    "## A continuación determinaremos acciones concretas a realizar para los segmentos más críticos: Imperdibles y Frizados. Para ello compararemos diferencias en las preferencias de compras de cada uno de estos dos segmentos con respecto al conjunto total de compradores."
   ]
  },
  {
   "cell_type": "code",
   "execution_count": null,
   "metadata": {},
   "outputs": [],
   "source": [
    "#Primero unimos la tabla de RFM con ALL_DATA\n",
    "all_data_rfm= all_data.merge(rfm_scaled, on='customer_unique_id')"
   ]
  },
  {
   "cell_type": "code",
   "execution_count": null,
   "metadata": {},
   "outputs": [],
   "source": [
    "# ¿Qué categoría de productos tienen más demanda para el segmento IMPERDIBLES??\n",
    "top_20_product_best_seller = all_data_rfm.loc[all_data_rfm['RFM_Level']=='Imperdibles','order_item_id'].groupby(all_data['product_category_name_english']).sum().sort_values(ascending=False)[:20]\n",
    "#print(top_20_product_best_seller)\n",
    "\n",
    "# Lo trazamos para visualización\n",
    "fig=plt.figure(figsize=(16,9))\n",
    "sns.barplot(y=top_20_product_best_seller.index,x=top_20_product_best_seller.values)\n",
    "plt.title('Top 20 Categorías más vendidas para Imperdibles',fontsize=20)\n",
    "plt.xlabel('Total de productos vendidos',fontsize=17)\n",
    "plt.ylabel('Categoría de producto',fontsize=17)"
   ]
  },
  {
   "cell_type": "markdown",
   "metadata": {},
   "source": [
    "### Acción: Observamos que para este segmento  la categoría de \"sport leisure\" y \"housewares\" tienen mayor aceptación que para el conjunto completo de los clientes. Por lo tanto nos enfocaremos en esas categorías para ofrecer promociones especiales mediante una campaña de e-mails masivos."
   ]
  },
  {
   "cell_type": "code",
   "execution_count": null,
   "metadata": {},
   "outputs": [],
   "source": [
    "# ¿Qué productos tienen más demanda para el segmento IMPERDIBLES?\n",
    "top_10_product_best_seller = all_data_rfm.loc[all_data_rfm['RFM_Level']=='Imperdibles','order_item_id'].groupby(all_data_rfm['product_id']).sum().sort_values(ascending=False)[:10]\n",
    "\n",
    "# Lo trazamos para visualización\n",
    "fig=plt.figure(figsize=(16,9))\n",
    "sns.barplot(y=top_10_product_best_seller.index,x=top_10_product_best_seller.values)\n",
    "plt.title('Top  Productos más vendidos para los Imperdibles',fontsize=20)\n",
    "plt.xlabel('Total de productos vendidos',fontsize=17)\n",
    "plt.ylabel('ID de producto',fontsize=17)"
   ]
  },
  {
   "cell_type": "markdown",
   "metadata": {},
   "source": [
    "### Acción: A partir de conocer cuales son los 10 productos mas demandados por el segmento Imperdibles ofreceremos el beneficio de envío gratuito si el carrito de compras contine al menos 2 de esos productos."
   ]
  },
  {
   "cell_type": "code",
   "execution_count": null,
   "metadata": {},
   "outputs": [],
   "source": [
    "# ¿Cuál es el tiempo de entrega promedio Para el segmento Imperdibles?\n",
    "delivery_time_by_month = all_data_rfm.loc[all_data_rfm['RFM_Level']=='Imperdibles','order_delivery_time'].groupby(all_data_rfm['Month_order']).median(numeric_only=False) #masukan argumen numeric_only untuk menghitung timedelta\n",
    "\n",
    "\n",
    "fig=plt.figure(figsize=(16,9))\n",
    "plt.plot(delivery_time_by_month.index, delivery_time_by_month.values / 86400, marker='o')\n",
    "plt.title('Tiempo promedio de entrega por mes para el segmento Imperdibles',fontsize=20)\n",
    "plt.xlabel('Mes',fontsize=17)\n",
    "plt.xticks(#[1, 2, 3, 4, 5, 6, 7, 8, 9, 10, 11, 12],\n",
    "          rotation=90)\n",
    "plt.ylabel('Tiempo (Día)',fontsize=17)"
   ]
  },
  {
   "cell_type": "markdown",
   "metadata": {},
   "source": [
    "### Conclusión: Para el segmento imperdibles no observamos diferencia en los tiempos de entrega con respecto al promedio de todos los clientes. Las curvas son prácticamente iguales. Por lo tanto no tomaremos una acción a partir de este dato."
   ]
  },
  {
   "cell_type": "markdown",
   "metadata": {},
   "source": [
    "### Ahora analizaremos el segmento de Frizados, para averiguar sus particularidades e intentar atraerlos nuevamente"
   ]
  },
  {
   "cell_type": "code",
   "execution_count": null,
   "metadata": {},
   "outputs": [],
   "source": [
    "# ¿Qué categoría de productos tienen más demanda para el segmento Frizados??\n",
    "top_20_product_best_seller = all_data_rfm.loc[all_data_rfm['RFM_Level']=='Frizados','order_item_id'].groupby(all_data['product_category_name_english']).sum().sort_values(ascending=False)[:20]\n",
    "#print(top_20_product_best_seller)\n",
    "\n",
    "# Lo trazamos para visualización\n",
    "fig=plt.figure(figsize=(16,9))\n",
    "sns.barplot(y=top_20_product_best_seller.index,x=top_20_product_best_seller.values)\n",
    "plt.title('Top 20 Categorías más vendidas para Frizados',fontsize=20)\n",
    "plt.xlabel('Total de productos vendidos',fontsize=17)\n",
    "plt.ylabel('Categoría de producto',fontsize=17)"
   ]
  },
  {
   "cell_type": "markdown",
   "metadata": {},
   "source": [
    "### Conclusión: Vemos que este segmento valora más las categorías de productos de \"health_beauty\" y \"computer_accesories\" con respecto al promedio de clientes, por lo tanto nos enfocaremos en analizar los productos de estas dos categorías antes de tomar una acción."
   ]
  },
  {
   "cell_type": "code",
   "execution_count": null,
   "metadata": {},
   "outputs": [],
   "source": [
    "# ¿Qué productos de la categoría \"health_beauty\" tienen más demanda para el segmento Frizados?\n",
    "top_10_product_best_seller = all_data_rfm.loc[(all_data_rfm['RFM_Level']=='Frizados') & (all_data_rfm['product_category_name_english']=='health_beauty'),'order_item_id'].groupby(all_data_rfm['product_id']).sum().sort_values(ascending=False)[:10]\n",
    "\n",
    "# Lo trazamos para visualización\n",
    "fig=plt.figure(figsize=(16,9))\n",
    "sns.barplot(y=top_10_product_best_seller.index,x=top_10_product_best_seller.values)\n",
    "plt.title('Top 10 Productos de categoría health_beauty más vendidos para los Frizados',fontsize=20)\n",
    "plt.xlabel('Total de productos vendidos',fontsize=17)\n",
    "plt.ylabel('ID de producto',fontsize=17)"
   ]
  },
  {
   "cell_type": "code",
   "execution_count": null,
   "metadata": {},
   "outputs": [],
   "source": [
    "# ¿Qué productos de la categoría \"computers_accessories\" tienen más demanda para el segmento Frizados?\n",
    "top_10_product_best_seller = all_data_rfm.loc[(all_data_rfm['RFM_Level']=='Frizados') & (all_data_rfm['product_category_name_english']=='computers_accessories'),'order_item_id'].groupby(all_data_rfm['product_id']).sum().sort_values(ascending=False)[:10]\n",
    "\n",
    "# Lo trazamos para visualización\n",
    "fig=plt.figure(figsize=(16,9))\n",
    "sns.barplot(y=top_10_product_best_seller.index,x=top_10_product_best_seller.values)\n",
    "plt.title('Top 10 Productos de categoría computers_accessories más vendidos para los Frizados',fontsize=20)\n",
    "plt.xlabel('Total de productos vendidos',fontsize=17)\n",
    "plt.ylabel('ID de producto',fontsize=17)"
   ]
  },
  {
   "cell_type": "markdown",
   "metadata": {},
   "source": [
    "### Acción: Tras analizar las categorías preferidas del segmento Frizados y observar cuales son los 10 productos más consumidos dentro de esas categorías tomaremos la acción de hacer una campaña de promoción masiva por e-mail ofreciendo dichos productos."
   ]
  },
  {
   "cell_type": "code",
   "execution_count": null,
   "metadata": {},
   "outputs": [],
   "source": []
  }
 ],
 "metadata": {
  "kernelspec": {
   "display_name": "Python 2",
   "language": "python",
   "name": "python2"
  },
  "language_info": {
   "codemirror_mode": {
    "name": "ipython",
    "version": 2
   },
   "file_extension": ".py",
   "mimetype": "text/x-python",
   "name": "python",
   "nbconvert_exporter": "python",
   "pygments_lexer": "ipython2",
   "version": "2.7.16"
  }
 },
 "nbformat": 4,
 "nbformat_minor": 4
}
